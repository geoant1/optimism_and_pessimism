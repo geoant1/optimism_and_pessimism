{
 "cells": [
  {
   "cell_type": "code",
   "execution_count": 1,
   "id": "pregnant-transaction",
   "metadata": {
    "ExecuteTime": {
     "end_time": "2021-04-11T17:29:37.099948Z",
     "start_time": "2021-04-11T17:29:36.144704Z"
    }
   },
   "outputs": [],
   "source": [
    "import numpy as np\n",
    "import sys, os, glob\n",
    "from scipy.io import loadmat\n",
    "import matplotlib.pyplot as plt\n",
    "\n",
    "code_path = '/Users/GA/Documents/Dayan_lab/Optimism_And_Pessimism_In_Optimised_Replay/Code/Task'\n",
    "\n",
    "sys.path.append(code_path)\n",
    "from misc_analysis import get_Q_true, get_optimal_move, permutation_test, policy_improve, get_entropy, get_sorted_files\n",
    "from misc import policy_choose, get_a_opp, compute_gain"
   ]
  },
  {
   "cell_type": "code",
   "execution_count": 2,
   "id": "positive-resource",
   "metadata": {
    "ExecuteTime": {
     "end_time": "2021-04-11T17:29:37.152707Z",
     "start_time": "2021-04-11T17:29:37.138006Z"
    }
   },
   "outputs": [],
   "source": [
    "root_path = '/Users/GA/Documents/Dayan_lab/Optimism_And_Pessimism_In_Optimised_Replay'\n",
    "\n",
    "# Worlds & idcs\n",
    "world1 = np.load(os.path.join(root_path, 'Data/world1.npy'))\n",
    "world2 = np.load(os.path.join(root_path, 'Data/world2.npy'))\n",
    "idcs1  = np.load(os.path.join(root_path, 'Data/idcs1.npy'))\n",
    "idcs2  = np.load(os.path.join(root_path, 'Data/idcs2.npy'))"
   ]
  },
  {
   "cell_type": "code",
   "execution_count": 3,
   "id": "consistent-dollar",
   "metadata": {
    "ExecuteTime": {
     "end_time": "2021-04-11T17:29:38.588897Z",
     "start_time": "2021-04-11T17:29:38.572541Z"
    }
   },
   "outputs": [],
   "source": [
    "def convert_move(a):\n",
    "    if np.isnan(a):\n",
    "        pass\n",
    "    elif a == 1:\n",
    "        a = 2\n",
    "    elif a == 2:\n",
    "        a = 3\n",
    "    elif a == 3:\n",
    "        a = 0\n",
    "    else:\n",
    "        a = 1\n",
    "    return a\n",
    "\n",
    "def check_for_replays(z):\n",
    "\n",
    "    move = z['move']\n",
    "    s = move[0]\n",
    "    a = move[1]\n",
    "    \n",
    "    check = False\n",
    "    \n",
    "    replay_backups  = np.atleast_2d(z['replay_backups'])\n",
    "    for rid in range(replay_backups.shape[0]):\n",
    "        this_replay = replay_backups[rid, :]\n",
    "        sr = int(this_replay[0])\n",
    "        ar = int(this_replay[1])\n",
    "\n",
    "        if sr != -200 and ar != -200:\n",
    "            if (sr == s) and (ar == a):\n",
    "                check = True\n",
    "    return check\n",
    "\n",
    "def check_for_replays_2moves(z):\n",
    "    \n",
    "    move = z['move']\n",
    "    s = move[1, 0]\n",
    "    a = move[1, 1]\n",
    "    \n",
    "    check = False\n",
    "    \n",
    "    replay_backups  = np.atleast_2d(z['replay_backups'])\n",
    "    for rid in range(replay_backups.shape[0]):\n",
    "        this_replay = replay_backups[rid, :]\n",
    "        sr = int(this_replay[0])\n",
    "        ar = int(this_replay[1])\n",
    "\n",
    "        pl = int(this_replay[4])\n",
    "        if sr != -200 and ar != -200 and pl == 1:\n",
    "            if (sr == s) and (ar == a):\n",
    "                check = True\n",
    "    return check"
   ]
  },
  {
   "cell_type": "markdown",
   "id": "according-transition",
   "metadata": {},
   "source": [
    "### Check subjects' params before choosing"
   ]
  },
  {
   "cell_type": "code",
   "execution_count": 4,
   "id": "great-platform",
   "metadata": {
    "ExecuteTime": {
     "end_time": "2021-04-11T17:29:40.435997Z",
     "start_time": "2021-04-11T17:29:40.421676Z"
    }
   },
   "outputs": [],
   "source": [
    "params_path     = os.path.join(root_path, 'Data/fits')\n",
    "subs_who_replay = np.load(os.path.join(root_path, 'Data/task/Analysis', 'subs_who_replay.npy'))"
   ]
  },
  {
   "cell_type": "code",
   "execution_count": 5,
   "id": "above-soldier",
   "metadata": {
    "ExecuteTime": {
     "end_time": "2021-04-11T17:29:41.236483Z",
     "start_time": "2021-04-11T17:29:41.186629Z"
    }
   },
   "outputs": [
    {
     "name": "stdout",
     "output_type": "stream",
     "text": [
      "subject: 0, phi^{MB}: 0.98, phi^{MF}: 0.97, xi: 2.4568E-04\n",
      "subject: 2, phi^{MB}: 1.00, phi^{MF}: 0.80, xi: 4.2340E-05\n",
      "subject: 3, phi^{MB}: 1.00, phi^{MF}: 0.62, xi: 8.9577E-03\n",
      "subject: 5, phi^{MB}: 0.20, phi^{MF}: 0.91, xi: 8.7073E-04\n",
      "subject: 6, phi^{MB}: 0.30, phi^{MF}: 0.95, xi: 1.0241E-03\n",
      "subject: 8, phi^{MB}: 1.00, phi^{MF}: 1.00, xi: 5.4587E-03\n",
      "subject: 14, phi^{MB}: 0.96, phi^{MF}: 0.93, xi: 1.0854E-03\n",
      "subject: 16, phi^{MB}: 0.99, phi^{MF}: 0.77, xi: 7.6422E-04\n",
      "subject: 17, phi^{MB}: 0.94, phi^{MF}: 0.93, xi: 9.4520E-04\n",
      "subject: 19, phi^{MB}: 1.00, phi^{MF}: 0.76, xi: 2.4715E-04\n",
      "subject: 21, phi^{MB}: 1.00, phi^{MF}: 0.79, xi: 2.6280E-05\n",
      "subject: 24, phi^{MB}: 0.57, phi^{MF}: 0.85, xi: 1.6915E-02\n",
      "subject: 26, phi^{MB}: 0.47, phi^{MF}: 0.87, xi: 1.9528E-03\n",
      "subject: 27, phi^{MB}: 0.69, phi^{MF}: 0.93, xi: 1.4400E-04\n",
      "subject: 28, phi^{MB}: 0.23, phi^{MF}: 0.89, xi: 2.7130E-03\n",
      "subject: 29, phi^{MB}: 0.92, phi^{MF}: 0.34, xi: 6.7067E-03\n",
      "subject: 32, phi^{MB}: 1.00, phi^{MF}: 0.65, xi: 9.2718E-04\n",
      "subject: 34, phi^{MB}: 0.33, phi^{MF}: 0.93, xi: 7.4460E-05\n",
      "subject: 35, phi^{MB}: 0.94, phi^{MF}: 0.97, xi: 2.5673E-04\n",
      "subject: 37, phi^{MB}: 0.98, phi^{MF}: 0.89, xi: 6.6762E-04\n",
      "subject: 38, phi^{MB}: 0.14, phi^{MF}: 0.97, xi: 1.8850E-03\n"
     ]
    }
   ],
   "source": [
    "for i in subs_who_replay:\n",
    "    p = np.load(os.path.join(params_path, 'save_params_%u'%i, 'params.npy'))[:18]\n",
    "    print('subject: %u, phi^{MB}: %.2f, phi^{MF}: %.2f, xi: %.4E'%(i, p[8], p[9], p[15]))"
   ]
  },
  {
   "cell_type": "markdown",
   "id": "arbitrary-bidder",
   "metadata": {},
   "source": [
    "### Get the moves to look at"
   ]
  },
  {
   "cell_type": "code",
   "execution_count": 6,
   "id": "alien-constant",
   "metadata": {
    "ExecuteTime": {
     "end_time": "2021-04-11T17:29:46.019528Z",
     "start_time": "2021-04-11T17:29:45.122532Z"
    }
   },
   "outputs": [
    {
     "name": "stdout",
     "output_type": "stream",
     "text": [
      "Block: 0, folder: 1, trial: 1 [[0 3 9 1]\n",
      " [1 1 2 5]]\n",
      "Block: 0, folder: 3, trial: 8 [[0 3 9 1]\n",
      " [1 0 2 5]]\n",
      "Block: 0, folder: 5, trial: 0 [[0 3 9 1]\n",
      " [1 1 2 5]]\n",
      "Block: 1, folder: 0, trial: 0 [5 3 1 6]\n",
      "Block: 1, folder: 3, trial: 0 [2 3 5 3]\n",
      "Block: 1, folder: 5, trial: 0 [2 3 5 3]\n",
      "Block: 2, folder: 2, trial: 1 [[2 3 9 3]\n",
      " [3 1 2 7]]\n",
      "Block: 2, folder: 4, trial: 0 [[2 3 9 3]\n",
      " [3 0 2 7]]\n",
      "Block: 3, folder: 6, trial: 6 [[2 3 9 3]\n",
      " [3 1 2 7]]\n",
      "Block: 4, folder: 3, trial: 0 [3 3 2 7]\n",
      "Block: 4, folder: 3, trial: 2 [2 3 8 6]\n",
      "Block: 4, folder: 5, trial: 4 [3 3 2 7]\n",
      "Block: 4, folder: 6, trial: 7 [[0 3 9 3]\n",
      " [3 0 0 2]]\n"
     ]
    }
   ],
   "source": [
    "data_path   = os.path.join(root_path, 'Data/Behavioral Data.mat')\n",
    "task_folder = os.path.join(root_path, 'Data/task/')\n",
    "\n",
    "sub = 16\n",
    "\n",
    "data      = loadmat(data_path)\n",
    "task_data = data['TSK'][0, sub]\n",
    "choices   = []\n",
    "\n",
    "# Convert squalid matlab into something humane\n",
    "for i in range(7, 12):\n",
    "    tmp = np.squeeze(task_data[0, i]['D']['choice'][0][0])\n",
    "    choices.append([i.tolist()[0] for i in tmp.tolist()])\n",
    "\n",
    "for i in range(len(choices)):\n",
    "    block = choices[i]\n",
    "    for j in range(len(block)):\n",
    "        move = block[j]\n",
    "        if len(move) == 1:\n",
    "            move[0] = convert_move(move[0])\n",
    "        else:\n",
    "            for j1 in range(len(move)):\n",
    "                move[j1] = convert_move(move[j1])\n",
    "        block[j] = move\n",
    "    choices[i] = block\n",
    "        \n",
    "            \n",
    "del data\n",
    "\n",
    "sub_task_folder = os.path.join(task_folder, str(sub))\n",
    "\n",
    "for i in range(5):\n",
    "    if i == 0:\n",
    "        this_range = 6\n",
    "    else:\n",
    "        this_range = 7\n",
    "    \n",
    "    if i in [0, 1]:\n",
    "        Q1_true, Q2_true = get_Q_true(world1, idcs1)\n",
    "    elif i in [2, 3]:\n",
    "        Q1_true, Q2_true = get_Q_true(world2, idcs1)\n",
    "    else:\n",
    "        Q1_true, Q2_true = get_Q_true(world2, idcs2)\n",
    "                \n",
    "    c = 0\n",
    "    for j in range(this_range):\n",
    "        # Prepare to load files\n",
    "        epoch_folder = os.path.join(sub_task_folder, str(i), str(j))\n",
    "        all_files_sorted = get_sorted_files(epoch_folder)\n",
    "\n",
    "        for f in range(len(all_files_sorted)):\n",
    "            \n",
    "            this_file = all_files_sorted[f]\n",
    "            data      = np.load(this_file, allow_pickle=True)\n",
    "            move      = data['move']\n",
    "            if len(move) == 2:\n",
    "#                 pass\n",
    "#                 act_move  = choices[i][c]\n",
    "#                 if np.isnan(act_move[0]):\n",
    "#                     pass\n",
    "#                 else:\n",
    "                s  = move[0, 0]\n",
    "                a  = move[0, 1]\n",
    "                s1 = move[1, 0]\n",
    "                a1 = move[1, 1]\n",
    "\n",
    "#                     if np.array_equal([act_move[0], act_move[1]], [a, a1]):\n",
    "                if a not in get_optimal_move(s, Q1_true) and a1 not in get_optimal_move(s, Q1_true, a=a):\n",
    "                    if check_for_replays_2moves(data):\n",
    "                        print('Block: %u, folder: %u, trial: %u'%(i,j,f), move)\n",
    "            else:\n",
    "                s = move[0]\n",
    "                a = move[1]\n",
    "#                 if act_move == choices[i][c]:\n",
    "                if a not in get_optimal_move(s, Q2_true):\n",
    "                    if check_for_replays(data):\n",
    "                        print('Block: %u, folder: %u, trial: %u'%(i,j,f), move)\n",
    "            c += 1"
   ]
  },
  {
   "cell_type": "markdown",
   "id": "corresponding-wales",
   "metadata": {},
   "source": [
    "### Choose the move"
   ]
  },
  {
   "cell_type": "code",
   "execution_count": 7,
   "id": "talented-russell",
   "metadata": {
    "ExecuteTime": {
     "end_time": "2021-04-11T17:29:48.817450Z",
     "start_time": "2021-04-11T17:29:48.783873Z"
    }
   },
   "outputs": [],
   "source": [
    "# Objective benefit\n",
    "# Same move as human\n",
    "# Sub 19\n",
    "# block    = 2\n",
    "# epoch    = 5\n",
    "# file     = 3\n",
    "\n",
    "# Sub 3\n",
    "# block    = 4\n",
    "# epoch    = 5\n",
    "# file     = 5\n",
    "\n",
    "# Sub 16\n",
    "block    = 2\n",
    "epoch    = 4\n",
    "file     = 0\n",
    "\n",
    "# Subjective benefit\n",
    "# Same move as human\n",
    "# Sub 38\n",
    "# block = 2\n",
    "# epoch = 5\n",
    "# file  = 1\n",
    "\n",
    "world = world2\n",
    "idcs  = idcs1\n",
    "\n",
    "data     = os.path.join(task_folder, '%u/%u/%u/move%u.npz'%(sub, block, epoch, file))\n",
    "\n",
    "if file == 0:\n",
    "    specs = (sub, block, epoch-1, 5)\n",
    "else:\n",
    "    specs = (sub, block, epoch, file-1)\n",
    "    \n",
    "data_pre = os.path.join(task_folder, '%u/%u/%u/move%u.npz'%specs)\n",
    "params   = os.path.join(root_path, 'Data/fits/save_params_%u/params.npy'%sub)\n",
    "p        = np.load(params)\n",
    "z        = np.load(data, allow_pickle=True)\n",
    "\n",
    "if len(z['move']) == 2:\n",
    "    num_moves = 2\n",
    "else:\n",
    "    num_moves = 1"
   ]
  },
  {
   "cell_type": "code",
   "execution_count": 8,
   "id": "duplicate-currency",
   "metadata": {
    "ExecuteTime": {
     "end_time": "2021-04-11T17:29:49.401981Z",
     "start_time": "2021-04-11T17:29:49.390803Z"
    }
   },
   "outputs": [
    {
     "name": "stdout",
     "output_type": "stream",
     "text": [
      "[[2 3 9 3]\n",
      " [3 0 2 7]]\n"
     ]
    }
   ],
   "source": [
    "print(z['move'])"
   ]
  },
  {
   "cell_type": "code",
   "execution_count": 17,
   "id": "coordinate-reader",
   "metadata": {
    "ExecuteTime": {
     "end_time": "2021-04-08T15:28:44.090929Z",
     "start_time": "2021-04-08T15:28:44.065293Z"
    },
    "scrolled": true
   },
   "outputs": [
    {
     "name": "stdout",
     "output_type": "stream",
     "text": [
      "3 : [3, 2, 1.4730465656985343, 2.0]\n",
      "4 : [3, 1, 2.7423484316895776, 7.0]\n",
      "7 : [7, 0, 7.719846570876669, 3.0]\n",
      "9 : [3, 1, 2.7423484316895776, 7.0]\n",
      "24 : [7, 0, 7.719846570876669, 3.0]\n",
      "25 : [1, 1, 7.486881515030013, 5.0]\n",
      "26 : [3, 1, 2.7423484316895776, 7.0]\n",
      "27 : [3, 2, 1.4730465656985343, 2.0]\n",
      "28 : [3, 0, 3.3153434454625996, 7.0]\n",
      "29 : [3, 0, 3.3153434454625996, 7.0]\n",
      "30 : [3, 0, 3.3153434454625996, 7.0]\n",
      "31 : [3, 0, 3.3153434454625996, 7.0]\n",
      "33 : [3, 1, 2.7423484316895776, 7.0]\n",
      "34 : [3, 0, 3.3153434454625996, 7.0]\n",
      "35 : [0, 2, 6.904617641159182, 3.0]\n",
      "39 : [5, 2, 4.647503047837824, 4.0]\n",
      "41 : [7, 0, 7.719846570876669, 3.0]\n",
      "44 : [1, 1, 7.486881515030013, 5.0]\n",
      "45 : [3, 2, 1.4730465656985343, 2.0]\n",
      "47 : [3, 0, 3.3153434454625996, 7.0]\n",
      "48 : [3, 1, 2.7423484316895776, 7.0]\n",
      "49 : [0, 2, 6.904617641159182, 3.0]\n",
      "52 : [5, 2, 4.647503047837824, 4.0]\n",
      "53 : [3, 0, 3.3153434454625996, 7.0]\n",
      "54 : [0, 2, 6.904617641159182, 3.0]\n",
      "56 : [7, 0, 7.719846570876669, 3.0]\n",
      "57 : [1, 1, 7.486881515030013, 5.0]\n",
      "60 : [3, 1, 2.7423484316895776, 7.0]\n",
      "61 : [0, 2, 6.904617641159182, 3.0]\n",
      "62 : [6, 2, 7.371317003774888, 5.0]\n",
      "63 : [3, 0, 3.3153434454625996, 7.0]\n",
      "67 : [5, 2, 4.647503047837824, 4.0]\n",
      "71 : [7, 0, 7.719846570876669, 3.0]\n",
      "72 : [1, 1, 7.486881515030013, 5.0]\n",
      "74 : [3, 2, 1.4730465656985343, 2.0]\n",
      "75 : [0, 2, 6.904617641159182, 3.0]\n",
      "77 : [3, 0, 3.3153434454625996, 7.0]\n",
      "78 : [3, 1, 2.7423484316895776, 7.0]\n",
      "80 : [5, 2, 4.647503047837824, 4.0]\n",
      "83 : [6, 2, 7.371317003774888, 5.0]\n",
      "84 : [5, 1, 2.960047756273949, 1.0]\n",
      "85 : [7, 0, 7.719846570876669, 3.0]\n",
      "86 : [1, 1, 7.486881515030013, 5.0]\n",
      "87 : [0, 2, 6.904617641159182, 3.0]\n",
      "88 : [4, 3, 8.113444308077668, 5.0]\n",
      "89 : [0, 0, 5.000000000000001, 4.0]\n",
      "90 : [0, 1, 5.0, 4.0]\n",
      "91 : [5, 0, 2.80452161765929, 1.0]\n",
      "92 : [3, 0, 3.3153434454625996, 7.0]\n",
      "93 : [5, 2, 4.647503047837824, 4.0]\n",
      "96 : [3, 1, 2.7423484316895776, 7.0]\n",
      "97 : [2, 3, 7.942241641214072, 3.0]\n",
      "99 : [7, 0, 7.719846570876669, 3.0]\n",
      "100 : [1, 1, 7.486881515030013, 5.0]\n"
     ]
    }
   ],
   "source": [
    "replays = np.zeros(32)\n",
    "replay_backups  = z['replay_backups']\n",
    "for rid in range(replay_backups.shape[0]):\n",
    "    this_replay = replay_backups[rid, :]\n",
    "    sr = int(this_replay[0])\n",
    "    ar = int(this_replay[1])\n",
    "    rr = this_replay[2]\n",
    "    s1r = this_replay[3]\n",
    "    \n",
    "    if num_moves == 2:\n",
    "        pl = int(this_replay[4])\n",
    "        if sr != -200 and ar != -200 and pl == 1:\n",
    "            print(rid, ':', [sr, ar, rr, s1r])\n",
    "            replays[sr*4 +ar] += 1\n",
    "    else:\n",
    "        if sr != -200 and ar != -200:\n",
    "            print(rid, ':', [sr, ar, rr, s1r])\n",
    "            replays[sr*4 +ar] += 1"
   ]
  },
  {
   "cell_type": "markdown",
   "id": "raised-amber",
   "metadata": {},
   "source": [
    "### Replays after that move"
   ]
  },
  {
   "cell_type": "code",
   "execution_count": 19,
   "id": "registered-following",
   "metadata": {
    "ExecuteTime": {
     "end_time": "2021-04-08T15:31:17.116973Z",
     "start_time": "2021-04-08T15:31:15.692174Z"
    }
   },
   "outputs": [
    {
     "data": {
      "image/png": "[encoded data removed]",
      "text/plain": [
       "<Figure size 216x288 with 1 Axes>"
      ]
     },
     "metadata": {
      "needs_background": "light"
     },
     "output_type": "display_data"
    },
    {
     "data": {
      "image/png": "[encoded data removed]",
      "text/plain": [
       "<Figure size 216x288 with 1 Axes>"
      ]
     },
     "metadata": {
      "needs_background": "light"
     },
     "output_type": "display_data"
    },
    {
     "data": {
      "image/png": "[encoded data removed]",
      "text/plain": [
       "<Figure size 216x288 with 1 Axes>"
      ]
     },
     "metadata": {
      "needs_background": "light"
     },
     "output_type": "display_data"
    },
    {
     "data": {
      "image/png": "[encoded data removed]",
      "text/plain": [
       "<Figure size 216x288 with 1 Axes>"
      ]
     },
     "metadata": {
      "needs_background": "light"
     },
     "output_type": "display_data"
    },
    {
     "data": {
      "image/png": "[encoded data removed]",
      "text/plain": [
       "<Figure size 216x288 with 1 Axes>"
      ]
     },
     "metadata": {
      "needs_background": "light"
     },
     "output_type": "display_data"
    },
    {
     "data": {
      "image/png": "[encoded data removed]",
      "text/plain": [
       "<Figure size 216x288 with 1 Axes>"
      ]
     },
     "metadata": {
      "needs_background": "light"
     },
     "output_type": "display_data"
    },
    {
     "data": {
      "image/png": "[encoded data removed]",
      "text/plain": [
       "<Figure size 216x288 with 1 Axes>"
      ]
     },
     "metadata": {
      "needs_background": "light"
     },
     "output_type": "display_data"
    },
    {
     "data": {
      "image/png": "[encoded data removed]",
      "text/plain": [
       "<Figure size 216x288 with 1 Axes>"
      ]
     },
     "metadata": {
      "needs_background": "light"
     },
     "output_type": "display_data"
    }
   ],
   "source": [
    "_, Q2_true = get_Q_true(world, idcs)\n",
    "for s in range(8):\n",
    "    fig = plt.figure(figsize=(3, 4))\n",
    "    for a in range(4):\n",
    "        if a in get_optimal_move(s, Q2_true):\n",
    "            plt.bar(s*4+a, replays[s*4+a], facecolor='orange', align='center', width=0.5)\n",
    "        else:\n",
    "            plt.bar(s*4+a, replays[s*4+a], facecolor='b', align='center', width=0.5)\n",
    "#     plt.savefig('/Users/GA/Documents/Dayan_lab/Paper/Figures_data/supp9/Replays/capture_%u_%u.svg'%(sub, s), transparent=True, format='svg')"
   ]
  },
  {
   "cell_type": "markdown",
   "id": "referenced-meditation",
   "metadata": {},
   "source": [
    "### Objective policy change due to those replays"
   ]
  },
  {
   "cell_type": "code",
   "execution_count": 20,
   "id": "experimental-gathering",
   "metadata": {
    "ExecuteTime": {
     "end_time": "2021-04-08T15:31:22.823927Z",
     "start_time": "2021-04-08T15:31:22.595411Z"
    }
   },
   "outputs": [
    {
     "name": "stdout",
     "output_type": "stream",
     "text": [
      "State 0, opt: 0.375\n",
      "State 1, opt: 0.297\n",
      "State 2, opt: 0.027\n",
      "State 3, opt: 0.405\n",
      "State 4, opt: 0.158\n",
      "State 5, opt: 0.290\n",
      "State 6, opt: 0.321\n",
      "State 7, opt: 0.179\n"
     ]
    },
    {
     "data": {
      "image/png": "[encoded data removed]",
      "text/plain": [
       "<Figure size 1008x216 with 1 Axes>"
      ]
     },
     "metadata": {
      "needs_background": "light"
     },
     "output_type": "display_data"
    }
   ],
   "source": [
    "if num_moves == 2:\n",
    "    Q = z['Q2_history']\n",
    "else:\n",
    "    Q = z['Q_history']\n",
    "Q_before = Q[0].reshape(8, -1)\n",
    "Q_after  = Q[-1].reshape(8, -1)\n",
    "\n",
    "_, Q2_true = get_Q_true(world, idcs)\n",
    "\n",
    "beta = p[0]\n",
    "a    = p[10]\n",
    "b    = p[11]\n",
    "d    = -(a+b)\n",
    "biases = np.array([a, b, 0, d])\n",
    "\n",
    "fig = plt.figure(figsize=(14, 3))\n",
    "for s in range(8):\n",
    "    opt = policy_improve(Q_before[s, :], Q_after[s, :], Q2_true, s, beta, biases, world, idcs, mode='value', benefit='objective')\n",
    "    print('State %u, opt: %.3f'%(s, opt))\n",
    "    plt.bar(s, opt, facecolor='orange', width = 0.4)\n",
    "# plt.savefig('/Users/GA/Documents/Dayan_lab/Paper/Figures_data/supp9/capture_%u_policy_objective.svg'%sub, transparent=True, format='svg')\n"
   ]
  },
  {
   "cell_type": "markdown",
   "id": "applicable-potato",
   "metadata": {},
   "source": [
    "### Action entropy values "
   ]
  },
  {
   "cell_type": "code",
   "execution_count": 21,
   "id": "jewish-wonder",
   "metadata": {
    "ExecuteTime": {
     "end_time": "2021-04-08T15:31:35.560505Z",
     "start_time": "2021-04-08T15:31:35.124056Z"
    },
    "scrolled": true
   },
   "outputs": [
    {
     "name": "stdout",
     "output_type": "stream",
     "text": [
      "0 0 alpha: 27.0\n",
      "0 1 alpha: 4.0\n",
      "0 2 alpha: 23.0\n",
      "0 3 alpha: 23.0\n",
      "1 0 alpha: 19.0\n",
      "1 1 alpha: 22.0\n",
      "1 2 alpha: 18.0\n",
      "1 3 alpha: 31.0\n",
      "2 0 alpha: 0.0\n",
      "2 1 alpha: 0.0\n",
      "2 2 alpha: 30.0\n",
      "2 3 alpha: 48.0\n",
      "3 0 alpha: 16.0\n",
      "3 1 alpha: 41.0\n",
      "3 2 alpha: 40.0\n",
      "3 3 alpha: 24.0\n",
      "4 0 alpha: 7.0\n",
      "4 1 alpha: 24.0\n",
      "4 2 alpha: 41.0\n",
      "4 3 alpha: 40.0\n",
      "5 0 alpha: 17.0\n",
      "5 1 alpha: 13.0\n",
      "5 2 alpha: 41.0\n",
      "5 3 alpha: 34.0\n",
      "6 0 alpha: 0.0\n",
      "6 1 alpha: 0.0\n",
      "6 2 alpha: 29.0\n",
      "6 3 alpha: 25.0\n",
      "7 0 alpha: 43.0\n",
      "7 1 alpha: 8.0\n",
      "7 2 alpha: 18.0\n",
      "7 3 alpha: 42.0\n"
     ]
    },
    {
     "data": {
      "image/png": "[encoded data removed]",
      "text/plain": [
       "<Figure size 1152x288 with 1 Axes>"
      ]
     },
     "metadata": {
      "needs_background": "light"
     },
     "output_type": "display_data"
    }
   ],
   "source": [
    "fig = plt.figure(figsize=(16, 4))\n",
    "max_ent = np.log2(7)\n",
    "\n",
    "T = z['T']\n",
    "for s in range(8):\n",
    "    for a in range(4):\n",
    "        ent = get_entropy(T, s, a)\n",
    "        alp = 1-(ent/max_ent)\n",
    "        if alp < 0:\n",
    "            alp = 0\n",
    "        plt.bar(s*4+a, ent, facecolor='k', width=0.5, alpha = alp)\n",
    "        print(s, a, 'alpha:', np.round(alp*100))\n",
    "# plt.savefig('/Users/GA/Documents/Dayan_lab/Paper/Figures_data/supp9/capture_%u_entropy.svg'%sub, transparent=True, format='svg')\n",
    "plt.xticks(range(32), range(32));"
   ]
  },
  {
   "cell_type": "markdown",
   "id": "actual-beauty",
   "metadata": {},
   "source": [
    "### Agent's state of knowledge"
   ]
  },
  {
   "cell_type": "code",
   "execution_count": 22,
   "id": "individual-single",
   "metadata": {
    "ExecuteTime": {
     "end_time": "2021-04-08T15:31:39.830251Z",
     "start_time": "2021-04-08T15:31:39.806858Z"
    }
   },
   "outputs": [],
   "source": [
    "_, Q2_true = get_Q_true(world, idcs)\n",
    "\n",
    "move  = z['move']\n",
    "alpha = p[3]\n",
    "T     = z['T']\n",
    "tau   = p[9]\n",
    "\n",
    "if num_moves == 2:\n",
    "    Q        = z['Q2_history'][0].reshape(8, 4)\n",
    "    rew_hist = z['rew_history'][1]\n",
    "    s = int(move[1][0])\n",
    "    a = int(move[1][1])\n",
    "    r = move[1][2]\n",
    "    \n",
    "    av_rew   = np.mean(rew_hist)\n",
    "\n",
    "    Q_pre    = (Q  - av_rew*(1-tau))/tau\n",
    "\n",
    "    Q_before = (Q_pre[s, a] - alpha*r)/(1-alpha)\n",
    "\n",
    "else:\n",
    "    Q        = z['Q_history'][0].reshape(8, 4)\n",
    "    rew_hist = z['rew_history']\n",
    "    s = int(move[0])\n",
    "    a = int(move[1])\n",
    "    r = move[2]\n",
    "    \n",
    "    Q_pre    = Q.copy()\n",
    "    Q_before = (Q_pre[s, a] - alpha*r)/(1-alpha)"
   ]
  },
  {
   "cell_type": "code",
   "execution_count": 23,
   "id": "legal-engineer",
   "metadata": {
    "ExecuteTime": {
     "end_time": "2021-04-08T15:31:45.403294Z",
     "start_time": "2021-04-08T15:31:43.924581Z"
    },
    "scrolled": true
   },
   "outputs": [
    {
     "name": "stdout",
     "output_type": "stream",
     "text": [
      "State 3, action 0\n",
      "Before on-line: 5.2971058019723545\n",
      "After on-line: 4.196070290461707\n"
     ]
    },
    {
     "data": {
      "image/png": "[encoded data removed]",
      "text/plain": [
       "<Figure size 216x288 with 1 Axes>"
      ]
     },
     "metadata": {
      "needs_background": "light"
     },
     "output_type": "display_data"
    },
    {
     "data": {
      "image/png": "[encoded data removed]",
      "text/plain": [
       "<Figure size 216x288 with 1 Axes>"
      ]
     },
     "metadata": {
      "needs_background": "light"
     },
     "output_type": "display_data"
    },
    {
     "data": {
      "image/png": "[encoded data removed]",
      "text/plain": [
       "<Figure size 216x288 with 1 Axes>"
      ]
     },
     "metadata": {
      "needs_background": "light"
     },
     "output_type": "display_data"
    },
    {
     "data": {
      "image/png": "[encoded data removed]",
      "text/plain": [
       "<Figure size 216x288 with 1 Axes>"
      ]
     },
     "metadata": {
      "needs_background": "light"
     },
     "output_type": "display_data"
    },
    {
     "data": {
      "image/png": "[encoded data removed]",
      "text/plain": [
       "<Figure size 216x288 with 1 Axes>"
      ]
     },
     "metadata": {
      "needs_background": "light"
     },
     "output_type": "display_data"
    },
    {
     "data": {
      "image/png": "[encoded data removed]",
      "text/plain": [
       "<Figure size 216x288 with 1 Axes>"
      ]
     },
     "metadata": {
      "needs_background": "light"
     },
     "output_type": "display_data"
    },
    {
     "data": {
      "image/png": "[encoded data removed]",
      "text/plain": [
       "<Figure size 216x288 with 1 Axes>"
      ]
     },
     "metadata": {
      "needs_background": "light"
     },
     "output_type": "display_data"
    },
    {
     "data": {
      "image/png": "[encoded data removed]",
      "text/plain": [
       "<Figure size 216x288 with 1 Axes>"
      ]
     },
     "metadata": {
      "needs_background": "light"
     },
     "output_type": "display_data"
    }
   ],
   "source": [
    "for si in range(8):\n",
    "    fig = plt.figure(figsize=(3, 4))\n",
    "    a_opt = get_optimal_move(si, Q2_true)\n",
    "    for ai in range(4):\n",
    "        this_action_probas = T[si, ai, :]\n",
    "        r = np.sum(world.ravel()*this_action_probas)\n",
    "        if ai in a_opt:\n",
    "            plt.bar(si*4+ai, Q_pre[si, ai], facecolor='orange', edgecolor='orange', align='center',width=0.3)\n",
    "            plt.bar(si*4+ai+0.35, r, facecolor='pink', width=0.3)\n",
    "        else:\n",
    "            if si == s and ai == a:\n",
    "#             if s == int(move[0]) and a == int(move[1]):\n",
    "                plt.bar(si*4+ai, Q_before, facecolor='green', edgecolor='green', align='center',width=0.3)\n",
    "                print('State %u, action %u'%(s, a))\n",
    "                print('Before on-line:', Q_before)\n",
    "                print('After on-line:', Q_pre[si, ai])\n",
    "            plt.bar(si*4+ai, Q_pre[si, ai], facecolor='b', edgecolor='b', align='center',width=0.3)\n",
    "            plt.bar(si*4+ai+0.35, r, facecolor='pink', width=0.3)\n",
    "        plt.hlines(Q2_true[si, ai], si*4+ai-0.13, si*4+ai+0.5)\n",
    "    plt.ylim(0, 11)\n",
    "#     plt.savefig('/Users/GA/Documents/Dayan_lab/Paper/Figures_data/supp9/Q/Q_before_%u.svg'%si, transparent=True, format='svg')\n"
   ]
  },
  {
   "cell_type": "code",
   "execution_count": null,
   "id": "widespread-lesson",
   "metadata": {},
   "outputs": [],
   "source": []
  }
 ],
 "metadata": {
  "kernelspec": {
   "display_name": "Python 3",
   "language": "python",
   "name": "python3"
  },
  "language_info": {
   "codemirror_mode": {
    "name": "ipython",
    "version": 3
   },
   "file_extension": ".py",
   "mimetype": "text/x-python",
   "name": "python",
   "nbconvert_exporter": "python",
   "pygments_lexer": "ipython3",
   "version": "3.7.6"
  },
  "varInspector": {
   "cols": {
    "lenName": 16,
    "lenType": 16,
    "lenVar": 40
   },
   "kernels_config": {
    "python": {
     "delete_cmd_postfix": "",
     "delete_cmd_prefix": "del ",
     "library": "var_list.py",
     "varRefreshCmd": "print(var_dic_list())"
    },
    "r": {
     "delete_cmd_postfix": ") ",
     "delete_cmd_prefix": "rm(",
     "library": "var_list.r",
     "varRefreshCmd": "cat(var_dic_list()) "
    }
   },
   "types_to_exclude": [
    "module",
    "function",
    "builtin_function_or_method",
    "instance",
    "_Feature"
   ],
   "window_display": false
  }
 },
 "nbformat": 4,
 "nbformat_minor": 5
}
