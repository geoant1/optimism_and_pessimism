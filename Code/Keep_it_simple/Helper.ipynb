{
 "cells": [
  {
   "cell_type": "code",
   "execution_count": 1,
   "metadata": {
    "ExecuteTime": {
     "end_time": "2021-04-07T11:40:14.130325Z",
     "start_time": "2021-04-07T11:40:10.569080Z"
    }
   },
   "outputs": [],
   "source": [
    "# Import everything maybe needed somewhere\n",
    "import matplotlib\n",
    "from scipy import stats\n",
    "import numpy as np\n",
    "import pandas as pd\n",
    "from scipy.io import loadmat\n",
    "import scipy\n",
    "from sklearn.linear_model import LinearRegression\n",
    "import matplotlib.pyplot as plt\n",
    "import seaborn as sns\n",
    "import random\n",
    "from scipy.interpolate import griddata\n",
    "import os, glob, csv, shutil, sys\n",
    "sns.set_style(\"white\")\n",
    "# %matplotlib inline\n",
    "\n",
    "sys.path.append('/Users/GA/Documents/Dayan_lab/Optimism_And_Pessimism_In_Optimised_Replay/Code/Eran_python/Fit_params')\n",
    "from misc import idcs2state, state2idcs, get_new_state, get_a_opp, policy_choose, policy_choose_moves\n",
    "from misc_analysis import get_optimal_move"
   ]
  },
  {
   "cell_type": "code",
   "execution_count": 3,
   "metadata": {
    "ExecuteTime": {
     "end_time": "2021-04-07T11:41:28.518738Z",
     "start_time": "2021-04-07T11:41:28.432258Z"
    },
    "code_folding": []
   },
   "outputs": [],
   "source": [
    "# World 1\n",
    "world1 = np.load('/Users/GA/Documents/Dayan_lab/Optimism_And_Pessimism_In_Optimised_Replay/Data/Eran/world1.npy')\n",
    "world2 = np.load('/Users/GA/Documents/Dayan_lab/Optimism_And_Pessimism_In_Optimised_Replay/Data/Eran/world2.npy')\n",
    "idcs1  = np.load('/Users/GA/Documents/Dayan_lab/Optimism_And_Pessimism_In_Optimised_Replay/Data/Eran/idcs1.npy')\n",
    "idcs2  = np.load('/Users/GA/Documents/Dayan_lab/Optimism_And_Pessimism_In_Optimised_Replay/Data/Eran/idcs2.npy')\n",
    "\n",
    "def idcs2state(idcs: list, states):\n",
    "    '''Convert state idcs to state id'''\n",
    "    si = idcs[0]\n",
    "    sj = idcs[1]\n",
    "    \n",
    "    return states[si, sj]\n",
    "\n",
    "def state2idcs(s: int, states):\n",
    "    '''Convert state id to state idcs'''\n",
    "    return np.argwhere(s == states)[0]\n",
    "\n",
    "def get_new_state(si, a, world, states):\n",
    "    '''Get new state from current state and action'''\n",
    "    i_coord = si[0]\n",
    "    j_coord = si[1]\n",
    "    s1i = []\n",
    "    \n",
    "    side_i = world.shape[0]\n",
    "    side_j = world.shape[1]\n",
    "        \n",
    "    cond1 = (i_coord == 0 and a == 0)          # top row, move up\n",
    "    cond2 = (i_coord == (side_i-1) and a == 1) # bottom row, move down\n",
    "    cond3 = (j_coord == 0 and a == 2)          # left column, move left\n",
    "    cond4 = (j_coord == (side_j-1) and a == 3) # right column, move right\n",
    "    \n",
    "    if cond1:\n",
    "        s1i = [side_i-1, j_coord]\n",
    "    elif cond2:\n",
    "        s1i = [0, j_coord]\n",
    "    elif cond3:\n",
    "        s1i = [i_coord, side_j-1]\n",
    "    elif cond4:\n",
    "        s1i = [i_coord, 0]\n",
    "    else:\n",
    "        if a == 0:   # up\n",
    "            s1i = [i_coord-1, j_coord]\n",
    "        elif a == 1: # down\n",
    "            s1i = [i_coord+1, j_coord]\n",
    "        elif a == 2: # left\n",
    "            s1i = [i_coord, j_coord-1]\n",
    "        else:        # right\n",
    "            s1i = [i_coord, j_coord+1]\n",
    "\n",
    "    s = idcs2state(s1i, states)\n",
    "    r = world.ravel()[s]\n",
    "    \n",
    "    return s1i, r\n",
    "\n",
    "def get_a_opp(a):\n",
    "    \n",
    "    if a == 0:\n",
    "        a_opp = 1\n",
    "    elif a == 1:\n",
    "        a_opp = 0\n",
    "    elif a == 2:\n",
    "        a_opp = 3\n",
    "    else:\n",
    "        a_opp = 2\n",
    "    \n",
    "    return a_opp\n",
    "\n",
    "def get_Q_true(world, state_arr):\n",
    "    \n",
    "    idcs = []\n",
    "    for ai in [0, 1]:\n",
    "        for aj in [0, 1]:\n",
    "            idcs.append(ai*4+aj)\n",
    "    for ai in [2, 3]:\n",
    "        for aj in [2, 3]:\n",
    "            ai_opp = get_a_opp(ai)\n",
    "            if aj == ai_opp:\n",
    "                idcs.append(ai*4+aj)\n",
    "                    \n",
    "    Q1_true = np.zeros((8,16))\n",
    "    Q2_true = np.zeros((8,4))\n",
    "    for s in range(8):\n",
    "        si = state2idcs(s, state_arr)\n",
    "        for a in range(4):\n",
    "            s1i, r = get_new_state(si, a, world, state_arr)\n",
    "            s1 = idcs2state(s1i, state_arr)\n",
    "            Q2_true[s, a] = r\n",
    "\n",
    "            for a2 in range(4):\n",
    "                s2i, r2 = get_new_state(s1i, a2, world, state_arr)\n",
    "                Q1_true[s, a*4+a2] = r + r2\n",
    "        Q1_true[:, idcs] = np.nan\n",
    "        \n",
    "    return Q1_true, Q2_true\n",
    "\n",
    "def policy_choose(q_values, temp, biases=None):\n",
    "    '''Choose an action'''\n",
    "    q_vals = q_values.copy()\n",
    "    \n",
    "    if biases is not None:\n",
    "        num = q_vals*temp + biases\n",
    "    else:\n",
    "        num = q_vals*temp\n",
    "    \n",
    "    num = np.exp(num - np.nanmax(num))\n",
    "    den = np.nansum(num)\n",
    "    pol_vals = num/den\n",
    "    \n",
    "    pol_vals[np.isnan(pol_vals)] = 0\n",
    "    \n",
    "    if pol_vals.sum() == 0:\n",
    "        return np.repeat(1/len(q_vals), len(q_vals))\n",
    "    \n",
    "    return pol_vals/pol_vals.sum()\n",
    "\n",
    "def policy_choose_moves(Q, temp, biases):\n",
    "    '''Choose an action'''\n",
    "    q_vals1 = Q[0].copy()\n",
    "    temp1   = temp[0]\n",
    "    \n",
    "    q_vals2 = Q[1].copy()\n",
    "    temp2   = temp[1]\n",
    "    \n",
    "    num = q_vals1*temp1 + q_vals2*temp2 + biases\n",
    "    \n",
    "    num = np.exp(num - np.nanmax(num))\n",
    "    den = np.nansum(num)\n",
    "    pol_vals = num/den\n",
    "    \n",
    "    pol_vals[np.isnan(pol_vals)] = 0\n",
    "    \n",
    "    if pol_vals.sum() == 0:\n",
    "        return np.repeat(1/len(q_vals2), len(q_vals2))\n",
    "    \n",
    "    return pol_vals/pol_vals.sum()\n",
    "\n",
    "def get_entropy(T, s, a):\n",
    "    \n",
    "    out = 0\n",
    "    for i in np.delete(range(8), s):\n",
    "        out -= T[s, a, i]*np.log2(T[s, a, i])\n",
    "    return out\n",
    "\n",
    "def get_joint_entropy(T, s1, a1, a2):\n",
    "    \n",
    "    out = 0\n",
    "    for i in np.delete(range(8), s1):\n",
    "        \n",
    "        probas = T[i, a2, :].copy()\n",
    "        probas[s1] = 0\n",
    "        probas = probas / np.sum(probas)\n",
    "        for j in np.delete(range(8), [s1, i]):\n",
    "            out -= T[s1, a1, i]*probas[j]*np.log2(T[s1, a1, i]*probas[j])\n",
    "            \n",
    "    return out\n",
    "            \n",
    "def policy_improve(q_before, q_after, Q_true, s, beta, biases, world, idcs, mode='value'):\n",
    "    \n",
    "    probs_before = policy_choose(q_before, beta, biases)\n",
    "    probs_after  = policy_choose(q_after, beta, biases)\n",
    "    \n",
    "    if mode != 'value':\n",
    "        a_opt = get_optimal_move(s, Q_true)\n",
    "\n",
    "        opt = 0\n",
    "        if len(a_opt) > 1:\n",
    "            for a in a_opt:\n",
    "                diff = probs_after[a] - probs_before[a]\n",
    "                opt += diff\n",
    "        else:\n",
    "            opt = probs_after[a_opt] - probs_before[a_opt]\n",
    "            \n",
    "        out = opt*100\n",
    "    \n",
    "    else:\n",
    "#         r = np.empty(0)\n",
    "#         si = state2idcs(s, idcs)\n",
    "#         for a in range(4):\n",
    "#             _, ri = get_new_state(si, a, world, idcs)\n",
    "#             r = np.append(r, ri)\n",
    "#         out = np.sum(r*probs_after) - np.sum(r*probs_before)\n",
    "        out = np.sum(q_after*probs_after) - np.sum(q_after*probs_before)\n",
    "    \n",
    "    return out\n",
    "\n",
    "def policy_improve_2moves(q1_before, q1_after, q2_before, q2_after, Q1_true, s, beta1, beta2, biases, world, idcs, mode='value'):\n",
    "    \n",
    "    q_vals1 = np.zeros(4)\n",
    "    for i in range(4):\n",
    "        tmp     = q1_before[(i*4):(i*4+4)].copy()\n",
    "        probs   = policy_choose(tmp, beta1, biases)\n",
    "        q_vals1[i] = np.nansum(tmp*probs)\n",
    "    q_vals2 = q2_before.copy()\n",
    "\n",
    "    probs_before = policy_choose_moves([q_vals1, q_vals2], [beta1, beta2], biases)\n",
    "    \n",
    "    q_vals1 = np.zeros(4)\n",
    "    for i in range(4):\n",
    "        tmp     = q1_after[(i*4):(i*4+4)].copy()\n",
    "        probs   = policy_choose(tmp, beta1, biases)\n",
    "        q_vals1[i] = np.nansum(tmp*probs)\n",
    "    q_vals2 = q2_after.copy()\n",
    "\n",
    "    probs_after = policy_choose_moves([q_vals1, q_vals2], [beta1, beta2], biases)\n",
    "    \n",
    "    if mode != 'value':\n",
    "        a_opt = get_optimal_move(s, Q1_true)//4\n",
    "\n",
    "        opt = 0\n",
    "        if len(a_opt) > 1:\n",
    "            for a in a_opt:\n",
    "                diff = probs_after[a] - probs_before[a]\n",
    "                opt += diff\n",
    "        else:\n",
    "            opt = probs_after[a_opt] - probs_before[a_opt]\n",
    "        \n",
    "        out = opt*100\n",
    "    \n",
    "    else:\n",
    "        r = np.empty(0)\n",
    "        si = state2idcs(s, idcs)\n",
    "        for a in range(4):\n",
    "            _, ri = get_new_state(si, a, world, idcs)\n",
    "            r = np.append(r, ri)\n",
    "        out = np.sum(r*probs_after) - np.sum(r*probs_before)\n",
    "    \n",
    "    return out\n",
    "\n",
    "def histogram(arr, bins=None):\n",
    "\n",
    "    arr  = np.array(arr)\n",
    "    arr  = arr[~np.isnan(arr)]\n",
    "    if bins is not None:\n",
    "        h, b = np.histogram(arr, bins=bins)\n",
    "    else:\n",
    "        h, b = np.histogram(arr, bins=range(0,int(np.max(arr)+2)))\n",
    "    h    = h/np.sum(h)\n",
    "    w    = b[1] - b[0]\n",
    "    \n",
    "    return h, b[:-1], w\n",
    "\n",
    "def run_permutation_test(pooled, nx, ny, rep=False):\n",
    "\n",
    "    shuffled = np.random.permutation(pooled)\n",
    "    shuffX   = np.random.choice(shuffled, size=nx, replace=rep)\n",
    "    shuffY   = np.random.choice(shuffled, size=ny, replace=rep)\n",
    "    \n",
    "    return np.mean(shuffX) - np.mean(shuffY)\n",
    "    \n",
    "def permutation_test(X, Y, num_perm, rep=False):\n",
    "    \n",
    "    X = np.array(X)\n",
    "    X = X[~np.isnan(X)]\n",
    "\n",
    "    Y = np.array(Y)\n",
    "    Y = Y[~np.isnan(Y)]\n",
    "\n",
    "    pooled = np.hstack([X,Y])\n",
    "    \n",
    "    delta  =  np.mean(X) - np.mean(Y)\n",
    "    \n",
    "    tests  = []\n",
    "    for i in range(num_perm):\n",
    "        tests += [run_permutation_test(pooled,len(X),len(Y), rep)]\n",
    "        \n",
    "    diff_count = len(np.where(tests >= delta)[0])\n",
    "    p_value    = 1.0 - (float(diff_count)/float(num_perm))\n",
    "    \n",
    "    return delta, p_value\n",
    "\n",
    "def get_sorted_files(path):\n",
    "    \n",
    "    os.chdir(path)\n",
    "    all_files = glob.glob('*.npz')\n",
    "    # Sort files by episode number\n",
    "    episodes = [int(''.join(c for c in f if c.isdigit())) for f in all_files]\n",
    "    idcs_ep  = [i[0] for i in sorted(enumerate(episodes), key=lambda x:x[1])]\n",
    "    all_files_sorted = [all_files[i] for i in idcs_ep] \n",
    "    \n",
    "    return all_files_sorted"
   ]
  },
  {
   "cell_type": "markdown",
   "metadata": {},
   "source": [
    "### Single subject fit"
   ]
  },
  {
   "cell_type": "code",
   "execution_count": 8,
   "metadata": {
    "ExecuteTime": {
     "end_time": "2021-04-07T13:02:43.599874Z",
     "start_time": "2021-04-07T13:02:43.581043Z"
    }
   },
   "outputs": [],
   "source": [
    "def plot_performance(perf_agent, perf_human):\n",
    "    \n",
    "    fig = plt.figure(figsize=(7, 4), dpi=200)\n",
    "    \n",
    "    for i in range(0, 15, 3):\n",
    "        if i == 12:\n",
    "            plt.scatter(np.arange(3)+i, perf_agent[i:i+3], c='b', label='Agent')\n",
    "            plt.scatter(np.arange(3)+i, perf_true[i:i+3], c='r', label='Human')\n",
    "        else:\n",
    "            plt.scatter(np.arange(3)+i, perf_agent[i:i+3], c='b')\n",
    "            plt.scatter(np.arange(3)+i, perf_true[i:i+3], c='r')\n",
    "\n",
    "    plt.axvline(2.5, linestyle='--')\n",
    "    plt.axvline(5.5, linestyle='--', color='g', label='Rearrangement')\n",
    "    plt.axvline(8.5, linestyle='--')\n",
    "    plt.axvline(11.5, linestyle='--', color='r', label='World change')\n",
    "\n",
    "    plt.legend(prop={'size': 6}, loc='best')\n",
    "    plt.grid(alpha=0.5)\n",
    "    plt.ylim([0, 1])\n",
    "    plt.ylabel('Prop of available reward collected')\n",
    "    plt.xlabel('Epochs')\n",
    "\n",
    "    err = np.sqrt(np.sum(np.power((np.array(perf_true) - np.array(perf_agent)), 2)))\n",
    "    plt.title('Performance, err = %.3f'%err)\n",
    "\n",
    "    return fig"
   ]
  },
  {
   "cell_type": "code",
   "execution_count": 9,
   "metadata": {
    "ExecuteTime": {
     "end_time": "2021-04-07T13:03:08.512557Z",
     "start_time": "2021-04-07T13:03:07.487871Z"
    }
   },
   "outputs": [
    {
     "data": {
      "image/png": "[encoded data removed]",
      "text/plain": [
       "<Figure size 1400x800 with 1 Axes>"
      ]
     },
     "metadata": {},
     "output_type": "display_data"
    }
   ],
   "source": [
    "path = os.path.join('/Users/GA/Documents/Dayan_lab/Optimism_And_Pessimism_In_Optimised_Replay/Data/Eran/subject_data')\n",
    "\n",
    "for sub in [0]:\n",
    "    \n",
    "    sub_path       = os.path.join(path, str(sub))\n",
    "    \n",
    "    blocks_max_rwd = np.load(os.path.join(sub_path, 'blocks_max_rwd.npy'), allow_pickle=True)[7:]\n",
    "    blocks_obt_rwd = np.load(os.path.join(sub_path, 'blocks_obt_rwd.npy'), allow_pickle=True)[7:]\n",
    "    blocks_loc     = np.load(os.path.join(sub_path, 'blocks_loc.npy'),     allow_pickle=True)[7:]\n",
    "\n",
    "    perf_agent = []\n",
    "    perf_true  = []\n",
    "    rwd_obt    = []\n",
    "\n",
    "    root_folder = '/Users/GA/Documents/Dayan_lab/Optimism_And_Pessimism_In_Optimised_Replay/Data/Eran/task_recov/%u'%sub\n",
    "    for i in range(5):\n",
    "        if i == 0:\n",
    "            this_range = 6\n",
    "        else:\n",
    "            this_range = 7\n",
    "        tmp = []\n",
    "        for j in range(this_range):\n",
    "            os.chdir(os.path.join(root_folder, str(i), str(j)))\n",
    "            all_files = glob.glob('*.npz')\n",
    "            # Sort files by episode number\n",
    "            episodes = [int(''.join(c for c in f if c.isdigit())) for f in all_files]\n",
    "            idcs     = [i[0] for i in sorted(enumerate(episodes), key=lambda x:x[1])]\n",
    "            all_files_sorted = [all_files[i] for i in idcs] \n",
    "            for f in range(len(all_files_sorted)):\n",
    "                this_file = all_files_sorted[f]\n",
    "                data      = np.load(this_file)\n",
    "                move = data['move']\n",
    "                if len(move) != 2:\n",
    "                    r = move[2]\n",
    "                    tmp.append(r)\n",
    "                else:\n",
    "                    move1 = move[0]\n",
    "                    move2 = move[1]\n",
    "                    tmp.append(move1[2]+move2[2])\n",
    "        rwd_obt.append(tmp)\n",
    "\n",
    "    for i in range(5):\n",
    "        for j in range(0, 54, 18):\n",
    "            perf_agent.append((np.sum(rwd_obt[i][j:j+18])/np.sum(blocks_max_rwd[i][j:j+18])))\n",
    "            perf_true.append((np.sum(blocks_obt_rwd[i][j:j+18])/np.sum(blocks_max_rwd[i][j:j+18])))\n",
    "    \n",
    "    fig = plot_performance(perf_agent, perf_true)\n",
    "\n",
    "#     plt.savefig(os.path.join(root_folder, 'performance.png'))\n",
    "#     plt.close()"
   ]
  },
  {
   "cell_type": "markdown",
   "metadata": {},
   "source": [
    "### Overall fit"
   ]
  },
  {
   "cell_type": "code",
   "execution_count": null,
   "metadata": {
    "ExecuteTime": {
     "end_time": "2021-01-23T10:16:31.704689Z",
     "start_time": "2021-01-23T10:16:24.607766Z"
    }
   },
   "outputs": [],
   "source": [
    "path        = '/Users/GA/Documents/Dayan_lab/Data/Eran/subject_data'\n",
    "task_folder = '/Users/GA/Documents/Dayan_lab/Data/Eran/task'\n",
    "\n",
    "nsubs = 40\n",
    "\n",
    "perf_agent  = np.zeros((nsubs, 15))\n",
    "perf_human  = np.zeros((nsubs, 15))\n",
    "\n",
    "for sub in range(nsubs):\n",
    "\n",
    "    sub_path       = os.path.join(path, str(sub))\n",
    "\n",
    "    blocks_max_rwd = np.load(os.path.join(sub_path, 'blocks_max_rwd.npy'), allow_pickle=True)[7:]\n",
    "    blocks_obt_rwd = np.load(os.path.join(sub_path, 'blocks_obt_rwd.npy'), allow_pickle=True)[7:]\n",
    "\n",
    "    rwd_obt    = []\n",
    "\n",
    "    sub_task_folder = os.path.join(task_folder, str(sub))\n",
    "    for i in range(5):\n",
    "        if i == 0:\n",
    "            this_range = 6\n",
    "        else:\n",
    "            this_range = 7\n",
    "        tmp = []\n",
    "        for j in range(this_range):\n",
    "            # Prepare to load files\n",
    "            epoch_folder = os.path.join(sub_task_folder, str(i), str(j))\n",
    "            all_files_sorted = get_sorted_files(epoch_folder)\n",
    "\n",
    "            for f in range(len(all_files_sorted)):\n",
    "                this_file      = all_files_sorted[f]\n",
    "                data      = np.load(os.path.join(epoch_folder, this_file), allow_pickle=True)\n",
    "                move = data['move']\n",
    "                if len(move) != 2:\n",
    "                    r = move[2]\n",
    "                    tmp.append(r)\n",
    "                else:\n",
    "                    move1 = move[0]\n",
    "                    move2 = move[1]\n",
    "                    tmp.append(move1[2]+move2[2])\n",
    "        rwd_obt.append(tmp)\n",
    "\n",
    "    count = 0\n",
    "    for i in range(5):\n",
    "        for j in range(0, 54, 18):\n",
    "            ag = np.sum(rwd_obt[i][j:j+18])/np.sum(blocks_max_rwd[i][j:j+18])\n",
    "            hm = np.sum(blocks_obt_rwd[i][j:j+18])/np.sum(blocks_max_rwd[i][j:j+18])\n",
    "\n",
    "            perf_agent[sub, count] = ag\n",
    "            perf_human[sub, count] = hm\n",
    "\n",
    "            count += 1"
   ]
  },
  {
   "cell_type": "code",
   "execution_count": null,
   "metadata": {
    "ExecuteTime": {
     "end_time": "2021-01-23T10:16:32.880122Z",
     "start_time": "2021-01-23T10:16:32.523207Z"
    }
   },
   "outputs": [],
   "source": [
    "fig = plt.figure(figsize=(14, 7))\n",
    "for i in range(1, 16, 3):\n",
    "    y_h = perf_human[:, i-1:i+2]\n",
    "    y_h_plot = np.mean(y_h, axis=0)\n",
    "    \n",
    "    y_a = perf_agent[:, i-1:i+2]\n",
    "    y_a_plot = np.mean(y_a, axis=0)\n",
    "    \n",
    "    x = np.arange(i,i+3)\n",
    "    \n",
    "    std_h = np.std(y_h, axis=0)\n",
    "    sem_h = std_h/np.sqrt(40)\n",
    "    \n",
    "    std_a = np.std(y_a, axis=0)\n",
    "    sem_a = std_a/np.sqrt(40)\n",
    "    \n",
    "    plt.plot(x, y_h_plot, c='k', linewidth=5)\n",
    "    plt.fill_between(x, (y_h_plot-sem_h), (y_h_plot+sem_h), color='k', alpha=.2)\n",
    "    \n",
    "    plt.plot(x, y_a_plot, c='#00D667', linewidth=2)\n",
    "    \n",
    "plt.scatter(range(1,16), np.mean(perf_human, axis=0), label='Humans', c='k', marker='h', s=300)\n",
    "plt.scatter(range(1,16), np.mean(perf_agent, axis=0), label='Agent', c='#00D667', marker='h', s=100)\n",
    "plt.ylim([.58,.82])\n",
    "plt.legend()\n",
    "\n",
    "# plt.savefig('/Users/GA/Documents/Dayan_lab/Paper/Figures_data/Figure1/overall_fit.svg', format='svg', transparent=True)"
   ]
  },
  {
   "cell_type": "code",
   "execution_count": null,
   "metadata": {
    "ExecuteTime": {
     "end_time": "2020-12-28T14:10:42.073221Z",
     "start_time": "2020-12-28T14:10:42.049858Z"
    },
    "scrolled": true
   },
   "outputs": [],
   "source": [
    "data_path = os.path.join('/Users/GA/Documents/Dayan_lab/Paper/Figures_data/Figure1', 'panel_3c.mat')\n",
    "data      = loadmat(data_path)"
   ]
  },
  {
   "cell_type": "code",
   "execution_count": null,
   "metadata": {
    "ExecuteTime": {
     "end_time": "2020-12-05T20:14:00.753017Z",
     "start_time": "2020-12-05T20:14:00.721859Z"
    }
   },
   "outputs": [],
   "source": [
    "high_seq = [data['first_of_two_moves_high_seq'], data['second_of_two_moves_high_seq'], data['one_move_high_seq']]\n",
    "low_seq = [data['first_of_two_moves_low_seq'], data['second_of_two_moves_low_seq'], data['one_move_low_seq']]"
   ]
  },
  {
   "cell_type": "code",
   "execution_count": null,
   "metadata": {
    "ExecuteTime": {
     "end_time": "2020-12-05T20:29:46.072841Z",
     "start_time": "2020-12-05T20:29:45.882816Z"
    }
   },
   "outputs": [],
   "source": [
    "fig = plt.figure(figsize=(5, 5))\n",
    "\n",
    "c = 0\n",
    "colours = ['k', 'r', 'b']\n",
    "labels  = ['first', 'second', 'one']\n",
    "for i in range(3):\n",
    "    y = low_seq[i]\n",
    "    plt.scatter(1+c, np.mean(y), marker='h', c=colours[i], s=150, label=labels[i])\n",
    "    std = np.std(y, axis=0)\n",
    "    sem = std/np.sqrt(len(y))\n",
    "    plt.plot([1+c, 1+c], [np.mean(y)-sem, np.mean(y)+sem], c=colours[i])\n",
    "    \n",
    "    y = high_seq[i]\n",
    "    plt.scatter(2+c, np.mean(y), marker='h', c=colours[i], s=150)\n",
    "    std = np.std(y, axis=0)\n",
    "    sem = std/np.sqrt(len(y))\n",
    "    plt.plot([2+c, 2+c], [np.mean(y)-sem, np.mean(y)+sem], c=colours[i])\n",
    "    c += 0.18\n",
    "\n",
    "plt.legend(prop={'size':13})\n",
    "plt.xlim(0.36, 3)\n",
    "plt.ylim(-0.06, 0.06)\n",
    "plt.yticks([-0.05, 0, 0.05], [-5, 0, 5], fontsize=16);\n",
    "plt.xticks([1.18, 2.18], ['low', 'high'], fontsize=16);\n",
    "\n",
    "plt.savefig('/Users/GA/Documents/Dayan_lab/Paper/Figures_data/Figure1/panel_3c.svg', format='svg', transparent=True)"
   ]
  },
  {
   "cell_type": "markdown",
   "metadata": {},
   "source": [
    "### Flexibility"
   ]
  },
  {
   "cell_type": "code",
   "execution_count": null,
   "metadata": {
    "ExecuteTime": {
     "end_time": "2021-01-14T12:01:51.359241Z",
     "start_time": "2021-01-14T12:01:28.234826Z"
    }
   },
   "outputs": [],
   "source": [
    "k = np.zeros((40, 4))\n",
    "\n",
    "for sub in range(40):\n",
    "\n",
    "    root_folder = '/Users/GA/Documents/Dayan_lab/Data/Eran/task/%u'%(sub)\n",
    "    \n",
    "    opt_moves11 = 0\n",
    "    opt_moves12 = 0\n",
    "    opt_moves21 = 0\n",
    "    opt_moves22 = 0\n",
    "    \n",
    "    # iterate over 5 blocks\n",
    "    for i in range(5):\n",
    "        if i == 0:\n",
    "            this_range = 6\n",
    "        else:\n",
    "            this_range = 7\n",
    "        tmp = []\n",
    "        \n",
    "        if i in [0, 1]:\n",
    "            Q1_true, Q2_true = get_Q_true(world1, idcs1)\n",
    "        elif i in [2, 3]:\n",
    "            Q1_true, Q2_true = get_Q_true(world2, idcs1)\n",
    "        else:\n",
    "            Q1_true, Q2_true = get_Q_true(world2, idcs2)\n",
    "        \n",
    "        for j in range(this_range):\n",
    "    \n",
    "            os.chdir(os.path.join(root_folder, str(i), str(j)))\n",
    "            all_files = glob.glob('*.npz')\n",
    "\n",
    "            # Sort files by episode number\n",
    "            episodes = [int(''.join(c for c in f if c.isdigit())) for f in all_files]\n",
    "            idcs     = [i[0] for i in sorted(enumerate(episodes), key=lambda x:x[1])]\n",
    "            all_files_sorted = [all_files[i] for i in idcs] \n",
    "            \n",
    "            for f in range(len(all_files_sorted)):\n",
    "                this_file = all_files_sorted[f]\n",
    "                data      = np.load(this_file)\n",
    "                move      = data['move']\n",
    "                \n",
    "                if len(move) != 2:\n",
    "                    s = move[0]\n",
    "                    a = move[1]\n",
    "                    if a in get_optimal_move(s, Q2_true):\n",
    "                        opt_moves11 += 1\n",
    "                    elif a in get_optimal_move(s, Q1_true)//4:\n",
    "                        opt_moves12 += 1\n",
    "\n",
    "                else:\n",
    "                    s = move[0][0]\n",
    "                    a = move[0][1]\n",
    "                    if a in get_optimal_move(s, Q2_true):\n",
    "                        opt_moves21 += 1\n",
    "                    elif a in get_optimal_move(s, Q1_true)//4:\n",
    "                        opt_moves22 += 1\n",
    "    \n",
    "    k[sub, :] = [opt_moves11/(18*5), opt_moves12/(18*5), opt_moves21/(36*5), opt_moves22/(36*5)]"
   ]
  },
  {
   "cell_type": "code",
   "execution_count": null,
   "metadata": {
    "ExecuteTime": {
     "end_time": "2021-01-14T12:03:10.204104Z",
     "start_time": "2021-01-14T12:03:08.938311Z"
    }
   },
   "outputs": [],
   "source": [
    "path = '/Users/GA/Documents/Dayan_lab/Data/Eran/PerformanceSummaries.mat'\n",
    "data = loadmat(path)\n",
    "\n",
    "figure = plt.figure(figsize=(14, 6))\n",
    "plt.subplot(1, 2, 1)\n",
    "\n",
    "flex_idcs_hums = []\n",
    "for i in range(40):\n",
    "    tmp = np.mean(data['Fig1d'][i, :, :], axis=1)\n",
    "    flex_idcs_hums.append(tmp[0]-tmp[1]+tmp[3]-tmp[2])\n",
    "    plt.scatter([1, 2, 3, 4], tmp)\n",
    "    plt.plot([1, 2], [tmp[0], tmp[1]])\n",
    "    plt.plot([3, 4], [tmp[2], tmp[3]])\n",
    "plt.axhline(0.33, c='k', linestyle='--')\n",
    "plt.ylim([0,1])\n",
    "plt.title('Humans', fontsize=14)\n",
    "del data\n",
    "\n",
    "plt.subplot(1, 2, 2)\n",
    "\n",
    "flex_idcs_ag = []\n",
    "for i in range(40):\n",
    "    flex_idcs_ag.append(k[i, 0]-k[i, 1]+k[i, 3]-k[i, 2])\n",
    "    plt.scatter([1, 2, 3, 4], k[i, :])\n",
    "    plt.plot([1, 2], [k[i, 0], k[i, 1]])\n",
    "    plt.plot([3, 4], [k[i, 2], k[i, 3]])\n",
    "plt.axhline(0.33, c='k', linestyle='--')\n",
    "plt.ylim([0,1])\n",
    "plt.title('Agent', fontsize=14)"
   ]
  },
  {
   "cell_type": "code",
   "execution_count": null,
   "metadata": {
    "ExecuteTime": {
     "end_time": "2021-01-14T12:03:17.897442Z",
     "start_time": "2021-01-14T12:03:17.263354Z"
    }
   },
   "outputs": [],
   "source": [
    "figure = plt.figure(figsize=(6, 6))\n",
    "\n",
    "reg = LinearRegression().fit(np.array(flex_idcs_hums).reshape(-1, 1), np.array(flex_idcs_ag).reshape(-1,1))\n",
    "\n",
    "x_pred = np.linspace(-0.15, 1.2, 20)\n",
    "y_pred = reg.predict(x_pred.reshape(-1, 1))\n",
    "r, p = scipy.stats.pearsonr(flex_idcs_hums, flex_idcs_ag)\n",
    "\n",
    "plt.scatter(flex_idcs_hums, flex_idcs_ag, c='k')\n",
    "plt.plot(x_pred, y_pred, c='r')\n",
    "plt.xlabel('Human IF', fontsize=14)\n",
    "plt.ylabel('Agent IF', fontsize=14)\n",
    "plt.title(r'$R^{2}=%.2f, p=%.3E$'%(r**2, p));"
   ]
  },
  {
   "cell_type": "markdown",
   "metadata": {},
   "source": [
    "### Save params"
   ]
  },
  {
   "cell_type": "code",
   "execution_count": 5,
   "metadata": {
    "ExecuteTime": {
     "end_time": "2021-04-07T11:42:13.684769Z",
     "start_time": "2021-04-07T11:42:13.679163Z"
    }
   },
   "outputs": [],
   "source": [
    "root = '/Users/GA/Documents/Dayan_lab/Optimism_And_Pessimism_In_Optimised_Replay/Data/Eran/fits_recov/'"
   ]
  },
  {
   "cell_type": "code",
   "execution_count": 6,
   "metadata": {
    "ExecuteTime": {
     "end_time": "2021-04-07T11:43:10.811941Z",
     "start_time": "2021-04-07T11:43:10.094427Z"
    }
   },
   "outputs": [
    {
     "name": "stdout",
     "output_type": "stream",
     "text": [
      "0\n",
      "1\n",
      "1\n",
      "2\n",
      "2\n",
      "2\n",
      "2\n",
      "3\n",
      "6\n",
      "14\n",
      "14\n",
      "14\n",
      "14\n",
      "14\n",
      "14\n",
      "14\n",
      "14\n",
      "14\n",
      "15\n",
      "15\n",
      "15\n",
      "15\n",
      "15\n",
      "15\n",
      "15\n",
      "15\n",
      "15\n",
      "15\n",
      "16\n",
      "16\n",
      "16\n",
      "16\n",
      "16\n",
      "16\n",
      "16\n",
      "16\n",
      "16\n",
      "16\n",
      "17\n",
      "17\n",
      "17\n",
      "17\n",
      "17\n",
      "17\n",
      "17\n",
      "17\n",
      "17\n",
      "17\n",
      "18\n",
      "18\n",
      "18\n",
      "18\n",
      "18\n",
      "18\n",
      "18\n",
      "18\n",
      "18\n",
      "18\n",
      "19\n",
      "19\n",
      "19\n",
      "19\n",
      "19\n",
      "19\n",
      "19\n",
      "19\n",
      "19\n",
      "19\n",
      "20\n",
      "20\n",
      "20\n",
      "20\n",
      "20\n",
      "20\n",
      "20\n",
      "20\n",
      "20\n",
      "20\n",
      "21\n",
      "21\n",
      "21\n",
      "21\n",
      "21\n",
      "21\n",
      "21\n",
      "21\n",
      "21\n",
      "21\n",
      "22\n",
      "22\n",
      "22\n",
      "22\n",
      "22\n",
      "22\n",
      "22\n",
      "22\n",
      "22\n",
      "22\n",
      "23\n",
      "23\n",
      "23\n",
      "23\n",
      "23\n",
      "23\n",
      "23\n",
      "23\n",
      "23\n",
      "23\n",
      "24\n",
      "24\n",
      "24\n",
      "24\n",
      "24\n",
      "24\n",
      "24\n",
      "24\n",
      "24\n",
      "24\n",
      "25\n",
      "25\n",
      "25\n",
      "25\n",
      "25\n",
      "25\n",
      "25\n",
      "25\n",
      "25\n",
      "25\n",
      "26\n",
      "26\n",
      "26\n",
      "26\n",
      "26\n",
      "26\n",
      "26\n",
      "26\n",
      "26\n",
      "26\n",
      "27\n",
      "27\n",
      "27\n",
      "27\n",
      "27\n",
      "27\n",
      "27\n",
      "27\n",
      "27\n",
      "27\n",
      "28\n",
      "28\n",
      "28\n",
      "28\n",
      "28\n",
      "28\n",
      "28\n",
      "28\n",
      "28\n",
      "28\n",
      "29\n",
      "29\n",
      "29\n",
      "29\n",
      "29\n",
      "29\n",
      "29\n",
      "29\n",
      "29\n",
      "29\n",
      "30\n",
      "30\n",
      "30\n",
      "30\n",
      "30\n",
      "30\n",
      "30\n",
      "30\n",
      "30\n",
      "30\n",
      "31\n",
      "31\n",
      "31\n",
      "31\n",
      "31\n",
      "31\n",
      "31\n",
      "31\n",
      "31\n",
      "31\n",
      "32\n",
      "32\n",
      "32\n",
      "32\n",
      "32\n",
      "32\n",
      "32\n",
      "32\n",
      "32\n",
      "32\n",
      "33\n",
      "33\n",
      "33\n",
      "33\n",
      "33\n",
      "33\n",
      "33\n",
      "33\n",
      "33\n",
      "33\n",
      "34\n",
      "34\n",
      "34\n",
      "34\n",
      "34\n",
      "34\n",
      "34\n",
      "34\n",
      "34\n",
      "34\n",
      "35\n",
      "35\n",
      "35\n",
      "35\n",
      "35\n",
      "35\n",
      "35\n",
      "35\n",
      "35\n",
      "35\n",
      "36\n",
      "36\n",
      "36\n",
      "36\n",
      "36\n",
      "36\n",
      "36\n",
      "36\n",
      "36\n",
      "36\n",
      "37\n",
      "37\n",
      "37\n",
      "37\n",
      "37\n",
      "37\n",
      "37\n",
      "37\n",
      "37\n",
      "37\n",
      "38\n",
      "38\n",
      "38\n",
      "38\n",
      "38\n",
      "38\n",
      "38\n",
      "38\n",
      "38\n",
      "38\n",
      "39\n",
      "39\n",
      "39\n",
      "39\n",
      "39\n",
      "39\n",
      "39\n",
      "39\n",
      "39\n",
      "39\n"
     ]
    }
   ],
   "source": [
    "e = []\n",
    "for i in range(40):\n",
    "    for j in range(10):\n",
    "        try:\n",
    "            df = pd.read_csv(os.path.join(root, 'save_params_%u'%i, str(j), 'backup.txt'), header=None, sep='\\t', index_col=False, skiprows=1)\n",
    "            np.save(os.path.join(root, 'save_params_%u'%i, str(j), 'params.npy'), df.iloc[-1].values[:18])\n",
    "            e.append(df.iloc[-1].values[18])\n",
    "        except:\n",
    "            print(i)"
   ]
  },
  {
   "cell_type": "code",
   "execution_count": 7,
   "metadata": {
    "ExecuteTime": {
     "end_time": "2021-04-07T11:43:15.410257Z",
     "start_time": "2021-04-07T11:43:15.050647Z"
    }
   },
   "outputs": [
    {
     "data": {
      "image/png": "[encoded data removed]",
      "text/plain": [
       "<Figure size 432x288 with 1 Axes>"
      ]
     },
     "metadata": {},
     "output_type": "display_data"
    }
   ],
   "source": [
    "plt.hist(e, bins=15);\n",
    "# plt.savefig(os.path.join(root, 'final_errors.svg'), transparent=True)"
   ]
  },
  {
   "cell_type": "markdown",
   "metadata": {},
   "source": [
    "### Analyse replays of just-taken transitions"
   ]
  },
  {
   "cell_type": "code",
   "execution_count": 37,
   "metadata": {
    "ExecuteTime": {
     "end_time": "2021-04-01T11:40:22.288596Z",
     "start_time": "2021-04-01T11:40:21.645261Z"
    },
    "scrolled": true
   },
   "outputs": [],
   "source": [
    "root_folder   = '/Users/GA/Documents/Dayan_lab/Data/Eran/task/'\n",
    "\n",
    "for sub in [16]:\n",
    "        \n",
    "    H_opt_single    = []\n",
    "    H_opt_paired    = []\n",
    "    H_subopt_single = []\n",
    "    H_subopt_paired = []\n",
    "    opt             = []\n",
    "    subopt          = []\n",
    "\n",
    "    sub_task_folder = os.path.join(root_folder, str(sub))\n",
    "\n",
    "    for i in range(5):\n",
    "        if i == 0:\n",
    "            this_range = 6\n",
    "        else:\n",
    "            this_range = 7\n",
    "\n",
    "        if i in [0, 1]:\n",
    "            Q1_true, Q2_true = get_Q_true(world1, idcs1)\n",
    "        elif i in [2, 3]:\n",
    "            Q1_true, Q2_true = get_Q_true(world2, idcs1)\n",
    "        else:\n",
    "            Q1_true, Q2_true = get_Q_true(world2, idcs2)\n",
    "\n",
    "        for j in range(this_range):\n",
    "            if i > 0 and j < 2:\n",
    "                pass\n",
    "            else:\n",
    "                # Prepare to load files\n",
    "                epoch_folder = os.path.join(sub_task_folder, str(i), str(j))\n",
    "                all_files_sorted = get_sorted_files(epoch_folder)\n",
    "\n",
    "                for f in range(len(all_files_sorted)):\n",
    "\n",
    "                    this_file = all_files_sorted[f]\n",
    "                    data      = np.load(os.path.join(epoch_folder, this_file), allow_pickle=True)\n",
    "                    move      = data['move']\n",
    "                    T         = data['T']\n",
    "                    replay_backups = np.atleast_2d(data['replay_backups'])\n",
    "\n",
    "                    if len(move) == 2:\n",
    "\n",
    "                        s1 = move[0][0]\n",
    "                        a1 = move[0][1]\n",
    "\n",
    "                        s2 = move[1][0]\n",
    "                        a2 = move[1][1]\n",
    "\n",
    "                        a  = a1*4 + a2\n",
    "\n",
    "                        paired_move_optimal        = a  in get_optimal_move(s1, Q1_true)\n",
    "                        second_single_move_optimal = a2 in get_optimal_move(s2, Q2_true)\n",
    "\n",
    "                        # up/down replays correspond to the same 'experience' – pool these together\n",
    "                        ja  = [a1*4 + a2]\n",
    "                        ja1 = [a1]\n",
    "                        ja2 = [a2]\n",
    "                        if a1 in [0, 1]:\n",
    "                            ja  = [a1*4 + a2, (1-a1)*4 + a2] # up (0) /down (1) + second move\n",
    "                            ja1 = [a1, (1-a1)]\n",
    "                        if a2 in [0, 1]:\n",
    "                            ja  = [a1*4 + a2, a1*4+ (1-a2)] # first move + up (0) /down (1)\n",
    "                            ja2 = [a2, (1-a2)] # up (0) /down (1) in the second move\n",
    "\n",
    "                        if replay_backups.shape[0] > 1:\n",
    "\n",
    "                            idcs_paired_similar = []\n",
    "                            idcs_single_similar = []\n",
    "\n",
    "                            # Find replays of the paired move\n",
    "                            s_cond      = replay_backups[:, 0] == s1\n",
    "                            a_cond      = (replay_backups[:, 1] == ja[0])\n",
    "                            p_cond      = (replay_backups[:, 4] == 0)\n",
    "                            idcs_paired = np.argwhere(s_cond & a_cond & p_cond).flatten()\n",
    "                            if len(ja) > 1:\n",
    "                                a_cond_similar      = (replay_backups[:, 1] == ja[1])\n",
    "                                idcs_paired_similar = np.argwhere(s_cond & a_cond_similar & p_cond).flatten()\n",
    "\n",
    "                            # Find replays of the second move\n",
    "                            # NB replays of the first move are not included since optimal first moves in \n",
    "                            # 2-move trials are usually not the same as optimal moves in 1-move trials\n",
    "                            s_cond = replay_backups[:, 0] == s2\n",
    "                            a_cond = (replay_backups[:, 1] == ja2[0])\n",
    "                            p_cond = (replay_backups[:, 4] == 1)\n",
    "                            idcs_single = np.argwhere(s_cond & a_cond & p_cond).flatten()\n",
    "                            if len(ja2) > 1:\n",
    "                                a_cond_similar      = (replay_backups[:, 1] == ja2[1])\n",
    "                                idcs_single_similar = np.argwhere(s_cond & a_cond_similar & p_cond).flatten()\n",
    "\n",
    "                            num_paired         = len(idcs_paired)\n",
    "                            num_paired_similar = len(idcs_paired_similar)\n",
    "                            num_single         = len(idcs_single)\n",
    "                            num_single_similar = len(idcs_single_similar)\n",
    "\n",
    "                            # If the sequence was optimal, then both the sequence and the \n",
    "                            # second move were optimal\n",
    "                            if paired_move_optimal:\n",
    "\n",
    "                                opt += [num_paired + num_single + num_paired_similar + num_single_similar]\n",
    "\n",
    "                                if num_paired > 0:\n",
    "                                    H_opt_paired += [get_joint_entropy(T, s1, ja[0]//4, ja[0]%4)]*num_paired\n",
    "                                if num_paired_similar > 0:\n",
    "                                    H_opt_paired += [get_joint_entropy(T, s1, ja[1]//4, ja[1]%4)]*num_paired_similar\n",
    "\n",
    "                                if num_single > 0:\n",
    "                                    H_opt_single += [get_entropy(T, s2, ja2[0])]*num_single\n",
    "                                if num_single_similar > 0:\n",
    "                                    H_opt_single += [get_entropy(T, s2, ja2[1])]*num_single_similar\n",
    "\n",
    "                            # If the sequence was sub-optimal that could be due to the \n",
    "                            # first move. The second move can still be optimal\n",
    "                            if second_single_move_optimal and not paired_move_optimal:\n",
    "\n",
    "                                # Second move thus optimal\n",
    "                                opt    += [num_single + num_single_similar]\n",
    "                                if num_single > 0:\n",
    "                                    H_opt_single += [get_entropy(T, s2, ja2[0])]*num_single\n",
    "                                if num_single_similar > 0:\n",
    "                                    H_opt_single += [get_entropy(T, s2, ja2[1])]*num_single_similar\n",
    "\n",
    "                                # Sequence sub-optimal\n",
    "                                subopt += [num_paired + num_paired_similar]\n",
    "                                if num_paired > 0:\n",
    "                                    H_subopt_paired += [get_joint_entropy(T, s1, ja[0]//4, ja[0]%4)]*num_paired\n",
    "                                if num_paired_similar > 0:\n",
    "                                    H_subopt_paired += [get_joint_entropy(T, s1, ja[1]//4, ja[1]%4)]*num_paired_similar\n",
    "\n",
    "                            # If the subject screwed up everything\n",
    "                            if not second_single_move_optimal and not paired_move_optimal:\n",
    "\n",
    "                                subopt += [num_paired + num_single + num_paired_similar + num_single_similar]\n",
    "\n",
    "                                if num_paired > 0:\n",
    "                                    H_subopt_paired += [get_joint_entropy(T, s1, ja[0]//4, ja[0]%4)]*num_paired\n",
    "                                if num_paired_similar > 0:\n",
    "                                    H_subopt_paired += [get_joint_entropy(T, s1, ja[1]//4, ja[1]%4)]*num_paired_similar\n",
    "\n",
    "                                if num_single > 0:\n",
    "                                    H_subopt_single += [get_entropy(T, s2, ja2[0])]*num_single\n",
    "                                if num_single_similar > 0:\n",
    "                                    H_subopt_single += [get_entropy(T, s2, ja2[1])]*num_single_similar\n",
    "\n",
    "                        else:\n",
    "                            if paired_move_optimal:\n",
    "                                opt    += [0]\n",
    "                            else:\n",
    "                                subopt += [0]\n",
    "\n",
    "                    else:\n",
    "                        s2 = move[0]\n",
    "                        a2 = move[1]\n",
    "                        single_move_optimal = a2 in get_optimal_move(s2, Q2_true)\n",
    "\n",
    "                        ja2 = [a2]\n",
    "                        if a2 in [0, 1]:\n",
    "                            ja2 = [a2, (1-a2)]\n",
    "\n",
    "                        if replay_backups.shape[0] > 1:\n",
    "\n",
    "                            idcs_single_similar = []\n",
    "\n",
    "                            s_cond      = replay_backups[:, 0] == s2\n",
    "                            a_cond      = replay_backups[:, 1] == ja2[0]\n",
    "                            idcs_single = np.argwhere(s_cond & a_cond).flatten()\n",
    "                            if len(ja2) > 1:\n",
    "                                a_cond_similar      = (replay_backups[:, 1] == ja2[1])\n",
    "                                idcs_single_similar = np.argwhere(s_cond & a_cond_similar).flatten()\n",
    "\n",
    "                            num_replays = len(idcs_single)\n",
    "                            num_replays_similar = len(idcs_single_similar)\n",
    "\n",
    "                            if single_move_optimal:\n",
    "\n",
    "                                opt   += [num_replays + num_replays_similar]\n",
    "                                if num_replays > 0:\n",
    "                                    H_opt_single += [get_entropy(T, s2, ja2[0])]*num_replays\n",
    "                                if num_replays_similar > 0:\n",
    "                                    H_opt_single += [get_entropy(T, s2, ja2[1])]*num_replays_similar\n",
    "\n",
    "                            else:\n",
    "                                subopt   += [num_replays + num_replays_similar]\n",
    "                                if num_replays > 0:\n",
    "                                    H_subopt_single += [get_entropy(T, s2, ja2[0])]*num_replays\n",
    "                                if num_replays_similar > 0:\n",
    "                                    H_subopt_single += [get_entropy(T, s2, ja2[1])]*num_replays_similar"
   ]
  },
  {
   "cell_type": "code",
   "execution_count": 35,
   "metadata": {
    "ExecuteTime": {
     "end_time": "2021-04-01T11:39:27.929566Z",
     "start_time": "2021-04-01T11:39:26.147713Z"
    },
    "scrolled": false
   },
   "outputs": [
    {
     "data": {
      "image/png": "[encoded data removed]",
      "text/plain": [
       "<Figure size 1008x288 with 2 Axes>"
      ]
     },
     "metadata": {},
     "output_type": "display_data"
    }
   ],
   "source": [
    "plt.figure(figsize=(14, 4))\n",
    "\n",
    "# Replays\n",
    "plt.subplot(1, 2, 1)\n",
    "bins = np.linspace(0, 100, 40)\n",
    "subopt_h, subopt_b, subopt_w = histogram(subopt, bins)\n",
    "plt.bar(subopt_b, subopt_h, width=subopt_w, facecolor='b')\n",
    "opt_h, opt_b, subopt_w = histogram(opt, bins)\n",
    "plt.bar(opt_b, opt_h, width=subopt_w, facecolor='orange', alpha=0.8)\n",
    "plt.xlabel('Number of replays per trial', fontsize=14)\n",
    "plt.xlim(0-subopt_w/2, 100)\n",
    "# plt.xticks(np.arange(0, 40, 5), np.arange(0, 40, 5), fontsize=10)\n",
    "t, p = scipy.stats.ranksums(opt, subopt)\n",
    "# t, p = permutation_test(opt, subopt, 100000)\n",
    "plt.title(r'$t=%.3E, p=%.3E$'%(t, p));\n",
    "\n",
    "# Single entropy\n",
    "plt.subplot(1, 2, 2)\n",
    "bins=np.linspace(0, np.log2(7)+np.log2(6), 40)\n",
    "H_subopt_h, H_subopt_b, H_subopt_w = histogram(H_subopt_single, bins)\n",
    "plt.bar(H_subopt_b, H_subopt_h, width=H_subopt_w, facecolor='b')\n",
    "H_opt_h, H_opt_b, _ = histogram(H_opt_single, bins)\n",
    "plt.bar(H_opt_b, H_opt_h, width=H_subopt_w, facecolor='orange', alpha=0.8)\n",
    "plt.xlim(0-H_subopt_w/2, np.log2(7)+np.log2(6)-H_subopt_w/2)\n",
    "\n",
    "# Paired entropy\n",
    "H_subopt_h, H_subopt_b, _ = histogram(H_subopt_paired, bins)\n",
    "plt.bar(H_subopt_b, -H_subopt_h, width=H_subopt_w, facecolor='b')\n",
    "H_opt_h, H_opt_b, _ = histogram(H_opt_paired, bins)\n",
    "plt.bar(H_opt_b, -H_opt_h, width=H_subopt_w, facecolor='orange', alpha=0.8)\n",
    "# plt.axvline(np.log2(7)+H_subopt_w/4)\n",
    "\n",
    "plt.ylim(-0.35, 0.35)\n",
    "plt.axhline(0, c='k')\n",
    "plt.xlabel('Action entropy', fontsize=14)\n",
    "ts, ps = scipy.stats.ranksums(H_opt_single, H_subopt_single)\n",
    "tp, pp = scipy.stats.ranksums(H_opt_paired, H_subopt_paired)\n",
    "# ts, ps = permutation_test(H_opt_single, H_subopt_single, 100000)\n",
    "# tp, pp = permutation_test(H_opt_paired, H_subopt_paired, 100000)\n",
    "plt.title(r'$tp=%.3E, pp=%.3E, ts=%.3E, ps=%.3E$'%(tp, pp, ts, ps));\n",
    "plt.tight_layout()\n",
    "# \n",
    "plt.savefig('/Users/GA/Documents/Dayan_lab/Paper/Figures_data/supp9/recent_replays.svg', format='svg', transparent=True)"
   ]
  },
  {
   "cell_type": "code",
   "execution_count": 38,
   "metadata": {
    "ExecuteTime": {
     "end_time": "2021-04-01T11:40:26.772396Z",
     "start_time": "2021-04-01T11:40:26.764596Z"
    }
   },
   "outputs": [],
   "source": [
    "H_opt_paired_exp    = H_opt_paired.copy()\n",
    "H_subopt_paired_exp = H_subopt_paired.copy()\n",
    "H_opt_single_exp    = H_opt_single.copy()\n",
    "H_subopt_single_exp = H_subopt_single.copy()\n",
    "\n",
    "opt_all_exp    = opt.copy()\n",
    "subopt_all_exp = subopt.copy()"
   ]
  },
  {
   "cell_type": "code",
   "execution_count": 6,
   "metadata": {
    "ExecuteTime": {
     "end_time": "2021-03-31T11:47:31.392056Z",
     "start_time": "2021-03-31T11:47:30.849424Z"
    }
   },
   "outputs": [
    {
     "name": "stdout",
     "output_type": "stream",
     "text": [
      "opt_single vs subopt_single: t=-5.463E+00, p=4.682E-08\n",
      "opt_paired vs subopt_paired: t=-3.176E+00, p=1.495E-03\n"
     ]
    },
    {
     "data": {
      "image/png": "[encoded data removed]",
      "text/plain": [
       "<Figure size 504x288 with 1 Axes>"
      ]
     },
     "metadata": {},
     "output_type": "display_data"
    }
   ],
   "source": [
    "plt.figure(figsize=(7, 4))\n",
    "\n",
    "bins=np.linspace(0, np.log2(7)+np.log2(6), 30)\n",
    "H_subopt_h, H_subopt_b, H_subopt_w = histogram(H_subopt_single_all, bins)\n",
    "plt.bar(H_subopt_b, H_subopt_h, width=H_subopt_w, facecolor='b')\n",
    "H_opt_h, H_opt_b, _ = histogram(H_opt_single_all, bins)\n",
    "plt.bar(H_opt_b, H_opt_h, width=H_subopt_w, facecolor='orange', alpha=0.8)\n",
    "\n",
    "# Paired entropy\n",
    "H_subopt_h, H_subopt_b, _ = histogram(H_subopt_paired_all, bins)\n",
    "plt.bar(H_subopt_b, -H_subopt_h, width=H_subopt_w, facecolor='b')\n",
    "H_opt_h, H_opt_b, _ = histogram(H_opt_paired_all, bins)\n",
    "plt.bar(H_opt_b, -H_opt_h, width=H_subopt_w, facecolor='orange', alpha=0.8)\n",
    "\n",
    "plt.axhline(0, c='k')\n",
    "plt.ylim(-0.7, 0.7)\n",
    "plt.xlim(0, np.log2(7) + np.log2(6))\n",
    "plt.xlabel('Action entropy', fontsize=14)\n",
    "ts, ps = scipy.stats.ranksums(H_opt_single_all, H_subopt_single_all)\n",
    "print('opt_single vs subopt_single: t=%.3E, p=%.3E'%(ts, ps))\n",
    "\n",
    "tp, pp = scipy.stats.ranksums(H_opt_paired_all, H_subopt_paired_all)\n",
    "print('opt_paired vs subopt_paired: t=%.3E, p=%.3E'%(tp, pp))\n",
    "plt.tight_layout()\n",
    "\n",
    "# plt.savefig('/Users/GA/Documents/Dayan_lab/Paper/Figures_data/Figure6/just_taken_entropy.svg', format='svg', transparent=True)"
   ]
  },
  {
   "cell_type": "code",
   "execution_count": null,
   "metadata": {
    "ExecuteTime": {
     "end_time": "2021-02-20T22:51:55.649338Z",
     "start_time": "2021-02-20T22:51:50.067487Z"
    }
   },
   "outputs": [],
   "source": [
    "plt.figure(figsize=(4, 4))\n",
    "\n",
    "plt.bar(1, np.mean(opt_all), facecolor='orange', alpha=0.6, align='center')\n",
    "plt.scatter([1]*len(opt_all), opt_all, c='orange')\n",
    "plt.bar(2, np.mean(subopt_all), facecolor='b', alpha=0.6, align='center')\n",
    "plt.scatter([2]*len(subopt_all), subopt_all, c='b')\n",
    "plt.axhline(0, c='k')\n",
    "\n",
    "t, p = permutation_test(opt_all, subopt_all, 100000)\n",
    "print('opt vs subopt: t=%.3E, p=%.3E'%(t, p))\n",
    "# plt.savefig('/Users/GA/Documents/Dayan_lab/Paper/Figures_data/Figure6/just_taken_replays.svg', format='svg', transparent=True)"
   ]
  },
  {
   "cell_type": "code",
   "execution_count": null,
   "metadata": {
    "ExecuteTime": {
     "end_time": "2020-12-07T14:41:08.151019Z",
     "start_time": "2020-12-07T14:41:08.141330Z"
    }
   },
   "outputs": [],
   "source": [
    "len(subs_who_replay)"
   ]
  },
  {
   "cell_type": "markdown",
   "metadata": {},
   "source": [
    "### Analyse replays of other transitions"
   ]
  },
  {
   "cell_type": "code",
   "execution_count": 39,
   "metadata": {
    "ExecuteTime": {
     "end_time": "2021-04-01T11:40:33.617707Z",
     "start_time": "2021-04-01T11:40:28.628372Z"
    }
   },
   "outputs": [],
   "source": [
    "root_folder   = '/Users/GA/Documents/Dayan_lab/Data/Eran/task/'\n",
    "\n",
    "for sub in [16]:\n",
    "        \n",
    "    H_opt_single    = []\n",
    "    H_opt_paired    = []\n",
    "    H_subopt_single = []\n",
    "    H_subopt_paired = []\n",
    "    opt             = []\n",
    "    subopt          = []\n",
    "\n",
    "    sub_task_folder = os.path.join(root_folder, str(sub))\n",
    "\n",
    "    for i in range(5):\n",
    "        if i == 0:\n",
    "            this_range = 6\n",
    "        else:\n",
    "            this_range = 7\n",
    "\n",
    "        if i in [0, 1]:\n",
    "            Q1_true, Q2_true = get_Q_true(world1, idcs1)\n",
    "        elif i in [2, 3]:\n",
    "            Q1_true, Q2_true = get_Q_true(world2, idcs1)\n",
    "        else:\n",
    "            Q1_true, Q2_true = get_Q_true(world2, idcs2)\n",
    "\n",
    "        for j in range(this_range):\n",
    "            if i > 0 and j < 2:\n",
    "                pass\n",
    "            else:\n",
    "                # Prepare to load files\n",
    "                epoch_folder = os.path.join(sub_task_folder, str(i), str(j))\n",
    "                all_files_sorted = get_sorted_files(epoch_folder)\n",
    "\n",
    "                for f in range(len(all_files_sorted)):\n",
    "\n",
    "                    tmp_opt = 0\n",
    "                    tmp_subopt = 0\n",
    "\n",
    "                    this_file = all_files_sorted[f]\n",
    "                    data      = np.load(os.path.join(epoch_folder, this_file), allow_pickle=True)\n",
    "                    move      = data['move']\n",
    "                    T         = data['T']\n",
    "\n",
    "                    replay_backups = np.atleast_2d(data['replay_backups'])\n",
    "                    if replay_backups.shape[0] > 1:\n",
    "\n",
    "                        if len(move) == 2:\n",
    "\n",
    "                            s1 = move[0][0]\n",
    "                            a1 = move[0][1]\n",
    "\n",
    "                            s2 = move[1][0]\n",
    "                            a2 = move[1][1]\n",
    "\n",
    "                            a  = a1*4 + a2\n",
    "\n",
    "                            # Ditto\n",
    "                            ja  = [a1*4 + a2]\n",
    "                            ja1 = [a1]\n",
    "                            ja2 = [a2]\n",
    "                            if a1 in [0, 1]:\n",
    "                                ja  = [a1*4 + a2, (1-a1)*4 + a2] # up (0) /down (1) + second move\n",
    "                                ja1 = [a1, (1-a1)]\n",
    "                            if a2 in [0, 1]:\n",
    "                                ja  = [a1*4 + a2, a1*4+ (1-a2)] # first move + up (0) /down (1)\n",
    "                                ja2 = [a2, (1-a2)] # up (0) /down (1) in the second move\n",
    "\n",
    "                            for rid in range(replay_backups.shape[0]):\n",
    "\n",
    "                                this_replay = replay_backups[rid, :]\n",
    "                                sr = int(this_replay[0])\n",
    "                                ar = int(this_replay[1])\n",
    "                                pl = int(this_replay[4])\n",
    "\n",
    "                                if sr != -200 and ar != -200:\n",
    "\n",
    "                                    if pl == 0:\n",
    "                                        if sr != s1 and ar not in ja:\n",
    "                                            paired_move_optimal = ar in get_optimal_move(sr, Q1_true)\n",
    "                                            if paired_move_optimal:\n",
    "                                                H_opt_paired += [get_joint_entropy(T, sr, ar//4, ar%4)]\n",
    "                                                tmp_opt += 1\n",
    "                                            else:\n",
    "                                                H_subopt_paired += [get_joint_entropy(T, sr, ar//4, ar%4)]\n",
    "                                                tmp_subopt += 1\n",
    "                                    else:\n",
    "                                        cond1 = sr != s1 and ar not in ja1\n",
    "                                        cond2 = sr != s2 and ar not in ja2\n",
    "                                        if cond1 and cond2:\n",
    "                                            second_single_move_optimal = ar in get_optimal_move(sr, Q2_true)\n",
    "                                            if second_single_move_optimal:\n",
    "                                                H_opt_single += [get_entropy(T, sr, ar)]\n",
    "                                                tmp_opt += 1\n",
    "                                            else:\n",
    "                                                H_subopt_single += [get_entropy(T, sr, ar)]\n",
    "                                                tmp_subopt += 1\n",
    "                        else:\n",
    "                            s2 = move[0]\n",
    "                            a2 = move[1]\n",
    "\n",
    "                            ja2 = [a2]\n",
    "                            if a2 in [0, 1]:\n",
    "                                ja2 = [a2, (1-a2)]\n",
    "\n",
    "                            replay_backups = np.atleast_2d(data['replay_backups'])\n",
    "                            if replay_backups.shape[0] > 1:\n",
    "\n",
    "                                for rid in range(replay_backups.shape[0]):\n",
    "                                    this_replay = replay_backups[rid, :]\n",
    "                                    sr = int(this_replay[0])\n",
    "                                    ar = int(this_replay[1])\n",
    "\n",
    "                                    if sr != -200 and ar != -200:\n",
    "\n",
    "                                        if sr != s2 and ar not in ja2:\n",
    "                                            single_move_optimal = ar in get_optimal_move(sr, Q2_true)\n",
    "\n",
    "                                            if single_move_optimal:\n",
    "                                                H_opt_single += [get_entropy(T, sr, ar)]\n",
    "                                                tmp_opt += 1\n",
    "                                            else:\n",
    "                                                H_subopt_single += [get_entropy(T, sr, ar)]\n",
    "                                                tmp_subopt += 1\n",
    "                    else:\n",
    "                        tmp_opt     = 0\n",
    "                        tmp_subopt  = 0\n",
    "\n",
    "                    opt    += [tmp_opt]\n",
    "                    subopt += [tmp_subopt]"
   ]
  },
  {
   "cell_type": "code",
   "execution_count": 33,
   "metadata": {
    "ExecuteTime": {
     "end_time": "2021-04-01T11:38:37.044108Z",
     "start_time": "2021-04-01T11:38:35.274707Z"
    }
   },
   "outputs": [
    {
     "data": {
      "image/png": "[encoded data removed]",
      "text/plain": [
       "<Figure size 1008x288 with 2 Axes>"
      ]
     },
     "metadata": {},
     "output_type": "display_data"
    }
   ],
   "source": [
    "plt.figure(figsize=(14, 4))\n",
    "\n",
    "plt.subplot(1, 2, 1)\n",
    "bins = np.linspace(0, 100, 40)\n",
    "subopt_h, subopt_b, subopt_w = histogram(subopt, bins)\n",
    "plt.bar(subopt_b, subopt_h, width=subopt_w, facecolor='b')\n",
    "opt_h, opt_b, subopt_w = histogram(opt, bins)\n",
    "plt.bar(opt_b, opt_h, width=subopt_w, facecolor='orange', alpha=0.8)\n",
    "plt.xlabel('Number of replays per trial', fontsize=14)\n",
    "plt.xlim(0-subopt_w/2, 100)\n",
    "# plt.xticks(np.arange(0, 40, 5), np.arange(0, 40, 5), fontsize=10)\n",
    "t, p = scipy.stats.ranksums(opt, subopt)\n",
    "# t, p = permutation_test(opt, subopt, 100000)\n",
    "plt.title(r'$t=%.3E, p=%.3E$'%(t, p));\n",
    "\n",
    "# Single entropy\n",
    "plt.subplot(1, 2, 2)\n",
    "bins=np.linspace(0, np.log2(7)+np.log2(6), 40)\n",
    "H_subopt_h, H_subopt_b, H_subopt_w = histogram(H_subopt_single, bins)\n",
    "plt.bar(H_subopt_b, H_subopt_h, width=H_subopt_w, facecolor='b')\n",
    "H_opt_h, H_opt_b, _ = histogram(H_opt_single, bins)\n",
    "plt.bar(H_opt_b, H_opt_h, width=H_subopt_w, facecolor='orange', alpha=0.8)\n",
    "plt.xlim(0-H_subopt_w/2, np.log2(7)+np.log2(6)+H_subopt_w/2)\n",
    "\n",
    "# Paired entropy\n",
    "H_subopt_h, H_subopt_b, _ = histogram(H_subopt_paired, bins)\n",
    "plt.bar(H_subopt_b, -H_subopt_h, width=H_subopt_w, facecolor='b')\n",
    "H_opt_h, H_opt_b, _ = histogram(H_opt_paired, bins)\n",
    "plt.bar(H_opt_b, -H_opt_h, width=H_subopt_w, facecolor='orange', alpha=0.8)\n",
    "\n",
    "plt.ylim(-0.35, 0.35)\n",
    "plt.axhline(0, c='k')\n",
    "plt.xlabel('Action entropy', fontsize=14)\n",
    "ts, ps = scipy.stats.ranksums(H_opt_single, H_subopt_single)\n",
    "tp, pp = scipy.stats.ranksums(H_opt_paired, H_subopt_paired)\n",
    "plt.title(r'$tp=%.3E, pp=%.3E, ts=%.3E, ps=%.3E$'%(tp, pp, ts, ps));\n",
    "plt.tight_layout()\n",
    "\n",
    "plt.xlim([0, np.log2(7)+np.log2(6)])\n",
    "\n",
    "plt.savefig('/Users/GA/Documents/Dayan_lab/Paper/Figures_data/supp9/other_replays.svg', format='svg', transparent=True)"
   ]
  },
  {
   "cell_type": "code",
   "execution_count": 40,
   "metadata": {
    "ExecuteTime": {
     "end_time": "2021-04-01T11:40:33.759548Z",
     "start_time": "2021-04-01T11:40:33.723722Z"
    }
   },
   "outputs": [
    {
     "name": "stdout",
     "output_type": "stream",
     "text": [
      "H_opt_paired_exp vs H_opt_paired:       t = -4.130E+00, p = 3.633E-05\n",
      "H_opt_single_exp vs H_opt_single:       t = -1.192E+01, p = 8.901E-33\n",
      "H_subopt_paired_exp vs H_subopt_paired: t = -1.512E+01, p = 1.123E-51\n",
      "H_subopt_single_exp vs H_subopt_single: t = -9.559E+00, p = 1.186E-21\n",
      "subopt_all_exp vs subopt_all: t = -1.412E+01, p = 2.990E-45\n",
      "opt_all_exp vs opt_all:       t = -1.619E+01, p = 5.827E-59\n"
     ]
    }
   ],
   "source": [
    "t, p_ent_opt = scipy.stats.ranksums(H_opt_paired_exp, H_opt_paired)\n",
    "print('H_opt_paired_exp vs H_opt_paired:       t = %.3E, p = %.3E'%(t, p_ent_opt))\n",
    "t, p_ent_opt = scipy.stats.ranksums(H_opt_single_exp, H_opt_single)\n",
    "print('H_opt_single_exp vs H_opt_single:       t = %.3E, p = %.3E'%(t, p_ent_opt))\n",
    "t, p_ent_subopt = scipy.stats.ranksums(H_subopt_paired_exp, H_subopt_paired)\n",
    "print('H_subopt_paired_exp vs H_subopt_paired: t = %.3E, p = %.3E'%(t, p_ent_subopt))\n",
    "t, p_ent_subopt = scipy.stats.ranksums(H_subopt_single_exp, H_subopt_single)\n",
    "print('H_subopt_single_exp vs H_subopt_single: t = %.3E, p = %.3E'%(t, p_ent_subopt))\n",
    "\n",
    "t, p_subopt = scipy.stats.ranksums(subopt_all_exp, subopt)\n",
    "print('subopt_all_exp vs subopt_all: t = %.3E, p = %.3E'%(t, p_subopt))\n",
    "\n",
    "t, p_opt = scipy.stats.ranksums(opt_all_exp, opt)\n",
    "print('opt_all_exp vs opt_all:       t = %.3E, p = %.3E'%(t, p_opt))"
   ]
  },
  {
   "cell_type": "code",
   "execution_count": null,
   "metadata": {
    "ExecuteTime": {
     "end_time": "2020-12-07T12:49:59.305397Z",
     "start_time": "2020-12-07T12:49:58.144382Z"
    }
   },
   "outputs": [],
   "source": [
    "plt.figure(figsize=(7, 4))\n",
    "\n",
    "bins=np.linspace(0, np.log2(7)+np.log2(6), 30)\n",
    "H_subopt_h, H_subopt_b, H_subopt_w = histogram(H_subopt_single, bins)\n",
    "plt.bar(H_subopt_b, H_subopt_h, width=H_subopt_w, facecolor='b', align='center')\n",
    "H_opt_h, H_opt_b, _ = histogram(H_opt_single, bins)\n",
    "plt.bar(H_opt_b, H_opt_h, width=H_subopt_w, facecolor='orange', alpha=0.8)\n",
    "\n",
    "# Paired entropy\n",
    "H_subopt_h, H_subopt_b, _ = histogram(H_subopt_paired, bins)\n",
    "plt.bar(H_subopt_b, -H_subopt_h, width=H_subopt_w, facecolor='b', align='center')\n",
    "H_opt_h, H_opt_b, _ = histogram(H_opt_paired, bins)\n",
    "plt.bar(H_opt_b, -H_opt_h, width=H_subopt_w, facecolor='orange', alpha=0.8)\n",
    "\n",
    "plt.axhline(0, c='k')\n",
    "plt.xlim(0, np.log2(7) + np.log2(6))\n",
    "plt.ylim(-0.7, 0.7)\n",
    "plt.xlabel('Action entropy', fontsize=14)\n",
    "ts, ps = scipy.stats.ranksums(H_opt_single, H_subopt_single)\n",
    "print('H_opt_single vs H_subopt_single: t=%.3E, p=%.3E'%(ts, ps))\n",
    "\n",
    "tp, pp = scipy.stats.ranksums(H_opt_paired, H_subopt_paired)\n",
    "print('H_opt_paired vs H_subopt_paired: t=%.3E, p=%.3E'%(tp, pp))\n",
    "plt.tight_layout()\n",
    "\n",
    "plt.savefig('/Users/GA/Documents/Dayan_lab/Paper/Figures_data/Figure6/all_entropy.svg', format='svg', transparent=True)"
   ]
  },
  {
   "cell_type": "code",
   "execution_count": null,
   "metadata": {
    "ExecuteTime": {
     "end_time": "2020-12-07T12:50:09.923332Z",
     "start_time": "2020-12-07T12:50:09.532808Z"
    }
   },
   "outputs": [],
   "source": [
    "plt.figure(figsize=(4, 4))\n",
    "\n",
    "plt.bar(1, np.mean(opt_all), facecolor='orange', alpha=0.6, align='center')\n",
    "plt.scatter([1]*len(opt_all), opt_all, c='orange')\n",
    "plt.bar(2, np.mean(subopt_all), facecolor='b', alpha=0.6, align='center')\n",
    "plt.scatter([2]*len(subopt_all), subopt_all, c='b')\n",
    "plt.axhline(0, c='k')\n",
    "\n",
    "t, p = scipy.stats.ranksums(opt_all, subopt_all)\n",
    "print('opt vs subopt: t=%.3E, p=%.3E'%(t, p))\n",
    "plt.savefig('/Users/GA/Documents/Dayan_lab/Paper/Figures_data/Figure6/all_replays.svg', format='svg', transparent=True)"
   ]
  },
  {
   "cell_type": "markdown",
   "metadata": {},
   "source": [
    "### Capture behaviour"
   ]
  },
  {
   "cell_type": "code",
   "execution_count": null,
   "metadata": {
    "ExecuteTime": {
     "end_time": "2021-02-20T16:13:04.194615Z",
     "start_time": "2021-02-20T16:13:04.087539Z"
    }
   },
   "outputs": [],
   "source": [
    "def convert_move(a):\n",
    "    if np.isnan(a):\n",
    "        pass\n",
    "    elif a == 1:\n",
    "        a = 2\n",
    "    elif a == 2:\n",
    "        a = 3\n",
    "    elif a == 3:\n",
    "        a = 0\n",
    "    else:\n",
    "        a = 1\n",
    "    return a"
   ]
  },
  {
   "cell_type": "code",
   "execution_count": null,
   "metadata": {
    "ExecuteTime": {
     "end_time": "2021-02-23T11:23:22.596422Z",
     "start_time": "2021-02-23T11:23:22.587336Z"
    }
   },
   "outputs": [],
   "source": [
    "Q1_true, Q2_true = get_Q_true(world1, idcs1)"
   ]
  },
  {
   "cell_type": "code",
   "execution_count": null,
   "metadata": {
    "ExecuteTime": {
     "end_time": "2021-02-23T11:27:36.895878Z",
     "start_time": "2021-02-23T11:27:36.365960Z"
    },
    "scrolled": true
   },
   "outputs": [],
   "source": [
    "data_path = os.path.join('/Users/GA/Documents/Dayan_lab/Data/Eran', 'Behavioral Data.mat')\n",
    "root_folder = '/Users/GA/Documents/Dayan_lab/Data/Eran/task/'\n",
    "# sub = 17\n",
    "sub = 19\n",
    "\n",
    "data      = loadmat(data_path)\n",
    "task_data = data['TSK'][0, sub]\n",
    "choices   = []\n",
    "\n",
    "# Convert squalid matlab into something humane\n",
    "for i in range(7, 12):\n",
    "    tmp = np.squeeze(task_data[0, i]['D']['choice'][0][0])\n",
    "    choices.append([i.tolist()[0] for i in tmp.tolist()])\n",
    "\n",
    "for i in range(len(choices)):\n",
    "    block = choices[i]\n",
    "    for j in range(len(block)):\n",
    "        move = block[j]\n",
    "        if len(move) == 1:\n",
    "            move[0] = convert_move(move[0])\n",
    "        else:\n",
    "            for j1 in range(len(move)):\n",
    "                move[j1] = convert_move(move[j1])\n",
    "        block[j] = move\n",
    "    choices[i] = block\n",
    "        \n",
    "            \n",
    "del data\n",
    "\n",
    "for i in range(5):\n",
    "    if i == 0:\n",
    "        this_range = 6\n",
    "    else:\n",
    "        this_range = 7\n",
    "    \n",
    "    if i in [0, 1]:\n",
    "        Q1_true, Q2_true = get_Q_true(world1, idcs1)\n",
    "    elif i in [2, 3]:\n",
    "        Q1_true, Q2_true = get_Q_true(world2, idcs1)\n",
    "    else:\n",
    "        Q1_true, Q2_true = get_Q_true(world2, idcs2)\n",
    "                \n",
    "    c = 0\n",
    "    for j in range(this_range):\n",
    "        # Prepare to load files\n",
    "        os.chdir(os.path.join(root_folder, str(sub), str(i), str(j)))\n",
    "        all_files = glob.glob('*.npz')\n",
    "        # Sort files by episode number\n",
    "        episodes = [int(''.join(c for c in f if c.isdigit())) for f in all_files]\n",
    "        idcs     = [i[0] for i in sorted(enumerate(episodes), key=lambda x:x[1])]\n",
    "        all_files_sorted = [all_files[i] for i in idcs] \n",
    "\n",
    "        for f in range(len(all_files_sorted)):\n",
    "            \n",
    "            this_file = all_files_sorted[f]\n",
    "            data      = np.load(this_file, allow_pickle=True)\n",
    "            move      = data['move']\n",
    "            if len(move) == 2:\n",
    "                act_move  = choices[i][c]\n",
    "                if np.isnan(act_move[0]):\n",
    "                    pass\n",
    "                else:\n",
    "                    s = move[0, 0]\n",
    "                    a = move[0, 1]\n",
    "                    s1 = move[1, 0]\n",
    "                    a1 = move[1, 1]\n",
    "\n",
    "                    if np.array_equal([act_move[0], act_move[1]], [a, a1]):\n",
    "                        if (a*4+a1) not in get_optimal_move(s, Q1_true):\n",
    "                            print('Block: %u, folder: %u, trial: %u'%(i,j,f), move)\n",
    "                pass\n",
    "            else:\n",
    "                s = move[0]\n",
    "                a = move[1]\n",
    "                if a == choices[i][c]:\n",
    "                    if a not in get_optimal_move(s, Q2_true):\n",
    "                        print('Block: %u, folder: %u, trial: %u'%(i,j,f), move)\n",
    "            c += 1"
   ]
  },
  {
   "cell_type": "code",
   "execution_count": null,
   "metadata": {
    "ExecuteTime": {
     "end_time": "2021-02-23T12:08:51.499068Z",
     "start_time": "2021-02-23T12:08:51.489836Z"
    }
   },
   "outputs": [],
   "source": [
    "# file     = 5\n",
    "# data     = '/Users/GA/Documents/Dayan_lab/Data/Eran/new_task/%u/1/5/move%u.npz'%(sub, file)\n",
    "# data_pre = '/Users/GA/Documents/Dayan_lab/Data/Eran/new_task/%u/1/5/move%u.npz'%(sub, file-1)\n",
    "# params   = '/Users/GA/Documents/Dayan_lab/Data/Eran/new_fits/save_params_%u/params.npy'%sub\n",
    "\n",
    "# block    = 2\n",
    "# epoch    = 6\n",
    "# file     = 4\n",
    "\n",
    "block    = 3\n",
    "epoch    = 6\n",
    "file     = 9\n",
    "data     = '/Users/GA/Documents/Dayan_lab/Data/Eran/task/%u/%u/%u/move%u.npz'%(sub, block, epoch, file)\n",
    "\n",
    "if file == 0:\n",
    "    specs = (sub, block, epoch-1, 5)\n",
    "else:\n",
    "    specs = (sub, block, epoch, file-1)\n",
    "    \n",
    "data_pre = '/Users/GA/Documents/Dayan_lab/Data/Eran/task/%u/%u/%u/move%u.npz'%specs\n",
    "params   = '/Users/GA/Documents/Dayan_lab/Data/Eran/fits/save_params_%u/params.npy'%sub\n",
    "p        = np.load(params)\n",
    "z        = np.load(data, allow_pickle=True)"
   ]
  },
  {
   "cell_type": "code",
   "execution_count": null,
   "metadata": {
    "ExecuteTime": {
     "end_time": "2021-02-23T12:08:55.018307Z",
     "start_time": "2021-02-23T12:08:55.010129Z"
    }
   },
   "outputs": [],
   "source": [
    "move = z['move']\n",
    "print(move)"
   ]
  },
  {
   "cell_type": "code",
   "execution_count": null,
   "metadata": {
    "ExecuteTime": {
     "end_time": "2021-02-23T12:08:16.949250Z",
     "start_time": "2021-02-23T12:08:16.861136Z"
    }
   },
   "outputs": [],
   "source": [
    "replays = np.zeros(32)\n",
    "replay_backups  = z['replay_backups']\n",
    "for rid in range(replay_backups.shape[0]):\n",
    "    this_replay = replay_backups[rid, :]\n",
    "    sr = int(this_replay[0])\n",
    "    ar = int(this_replay[1])\n",
    "    rr = this_replay[2]\n",
    "    s1r = this_replay[3]\n",
    "    \n",
    "    pl = int(this_replay[4])\n",
    "#     pl = 1\n",
    "    if sr != -200 and ar != -200 and pl == 1:\n",
    "        print(rid, ':', [sr, ar, rr, s1r])\n",
    "        replays[sr*4 +ar] += 1"
   ]
  },
  {
   "cell_type": "code",
   "execution_count": null,
   "metadata": {
    "ExecuteTime": {
     "end_time": "2021-02-23T12:20:22.136202Z",
     "start_time": "2021-02-23T12:20:18.572466Z"
    },
    "scrolled": false
   },
   "outputs": [],
   "source": [
    "_, Q2_true = get_Q_true(world2, idcs1)\n",
    "for s in range(8):\n",
    "    fig = plt.figure(figsize=(3, 4))\n",
    "    for a in range(4):\n",
    "        if a in get_optimal_move(s, Q2_true):\n",
    "            plt.bar(s*4+a, replays[s*4+a], facecolor='orange', align='center', width=0.5)\n",
    "        else:\n",
    "            plt.bar(s*4+a, replays[s*4+a], facecolor='b', align='center', width=0.5)\n",
    "#     plt.ylim(0, 3)\n",
    "    plt.savefig('/Users/GA/Documents/Dayan_lab/Paper/Figures_data/Figure5/Replays/capture_%u_%u.svg'%(sub, s), transparent=True, format='svg')\n",
    "# plt.xticks(range(32), range(32));\n",
    "# plt.title('Replays after move s=%u, a=%u'%(z['move'][1][0], z['move'][1][1]), fontsize=14);\n"
   ]
  },
  {
   "cell_type": "code",
   "execution_count": null,
   "metadata": {
    "ExecuteTime": {
     "end_time": "2021-02-23T12:20:25.957714Z",
     "start_time": "2021-02-23T12:20:25.615550Z"
    },
    "scrolled": true
   },
   "outputs": [],
   "source": [
    "Q = z['Q2_history']\n",
    "# Q = z['Q_history']\n",
    "Q_before = Q[0].reshape(8, -1)\n",
    "Q_after  = Q[-1].reshape(8, -1)\n",
    "\n",
    "_, Q2_true = get_Q_true(world2, idcs1)\n",
    "\n",
    "beta = p[0]\n",
    "a    = p[10]\n",
    "b    = p[11]\n",
    "d    = -(a+b)\n",
    "biases = np.array([a, b, 0, d])\n",
    "\n",
    "fig = plt.figure(figsize=(14, 3))\n",
    "for s in range(8):\n",
    "    opt = policy_improve(Q_before[s, :], Q_after[s, :], Q2_true, s, beta, biases, world2, idcs1, mode='value')\n",
    "    print('State %u, opt: %.5f'%(s, opt))\n",
    "    plt.bar(s, opt, facecolor='orange', width = 0.4)\n",
    "#     plt.axhline(0, c='k')\n",
    "plt.savefig('/Users/GA/Documents/Dayan_lab/Paper/Figures_data/Figure5/capture_%u_policy.svg'%sub, transparent=True, format='svg')\n"
   ]
  },
  {
   "cell_type": "code",
   "execution_count": null,
   "metadata": {
    "ExecuteTime": {
     "end_time": "2021-02-23T12:20:29.906934Z",
     "start_time": "2021-02-23T12:20:28.975628Z"
    },
    "scrolled": false
   },
   "outputs": [],
   "source": [
    "fig = plt.figure(figsize=(16, 4))\n",
    "max_ent = np.log2(7)\n",
    "\n",
    "T = z['T']\n",
    "for s in range(8):\n",
    "    for a in range(4):\n",
    "        ent = get_entropy(T, s, a)\n",
    "        alp = 1-(ent/max_ent)\n",
    "        if alp < 0:\n",
    "            alp = 0\n",
    "        plt.bar(s*4+a, ent, facecolor='k', width=0.5, alpha = alp)\n",
    "        print(s, a, 'alpha:', np.round(alp*100))\n",
    "plt.savefig('/Users/GA/Documents/Dayan_lab/Paper/Figures_data/Figure5/capture_%u_entropy.svg'%sub, transparent=True, format='svg')\n",
    "plt.xticks(range(32), range(32));"
   ]
  },
  {
   "cell_type": "code",
   "execution_count": null,
   "metadata": {
    "ExecuteTime": {
     "end_time": "2021-02-23T12:20:32.247941Z",
     "start_time": "2021-02-23T12:20:32.229599Z"
    }
   },
   "outputs": [],
   "source": [
    "_, Q2_true = get_Q_true(world2, idcs1)\n",
    "\n",
    "Q     = z['Q2_history'][0].reshape(8, 4)\n",
    "\n",
    "alpha = p[3]\n",
    "T     = z['T']\n",
    "tau   = p[8]\n",
    "\n",
    "rew_hist = z['rew_history'][1]\n",
    "av_rew   = np.mean(rew_hist)\n",
    "\n",
    "Q_pre    = (Q  - av_rew*(tau-1))/tau\n",
    "\n",
    "Q_before = Q_pre.copy()\n",
    "Q_before[int(move[1][0]), int(move[1][1])] = (Q_pre[int(move[1][0]), int(move[1][1])] - alpha*move[1][2])/(1-alpha)\n",
    "\n",
    "# r = 2\n",
    "# Q_pre    = (Q_before - alpha*r)/(1-alpha)"
   ]
  },
  {
   "cell_type": "code",
   "execution_count": null,
   "metadata": {
    "ExecuteTime": {
     "end_time": "2021-02-23T12:20:39.135152Z",
     "start_time": "2021-02-23T12:20:35.935786Z"
    },
    "scrolled": false
   },
   "outputs": [],
   "source": [
    "for s in range(8):\n",
    "    fig = plt.figure(figsize=(3, 4))\n",
    "    a_opt = get_optimal_move(s, Q2_true)\n",
    "    for a in range(4):\n",
    "        this_action_probas = T[s, a, :]\n",
    "        r = np.sum(world2.ravel()*this_action_probas)\n",
    "        if a in a_opt:\n",
    "            plt.bar(s*4+a, Q_pre[s, a], facecolor='orange', edgecolor='orange', align='center',width=0.3)\n",
    "            plt.bar(s*4+a+0.35, r, facecolor='pink', width=0.3)\n",
    "        else:\n",
    "            if s == int(move[1][0]) and a == int(move[1][1]):\n",
    "#             if s == int(move[0]) and a == int(move[1]):\n",
    "                plt.bar(s*4+a, Q_before[s, a], facecolor='green', edgecolor='green', align='center',width=0.3)\n",
    "                print(Q_pre[s, a], Q_before[s, a], r)\n",
    "            plt.bar(s*4+a, Q_pre[s, a], facecolor='b', edgecolor='b', align='center',width=0.3)\n",
    "            plt.bar(s*4+a+0.35, r, facecolor='pink', width=0.3)\n",
    "        plt.hlines(Q2_true[s, a], s*4+a-0.13, s*4+a+0.5)\n",
    "    plt.ylim(0, 11)\n",
    "    plt.savefig('/Users/GA/Documents/Dayan_lab/Paper/Figures_data/Figure5/Q/Q_before_%u.svg'%s, transparent=True, format='svg')\n",
    "\n",
    "# fig = plt.figure(figsize=(16, 4))\n",
    "# Q_after = Q[-1, :].reshape(8, 4)\n",
    "# for s in range(8):\n",
    "#     a_opt = get_optimal_move(s, Q2_true)\n",
    "#     for a in range(4):\n",
    "#         if a in a_opt:\n",
    "#             plt.bar(s*4+a, Q_before[s, a], facecolor='orange', width=0.5)\n",
    "#         else:\n",
    "#             plt.bar(s*4+a, Q_before[s, a], facecolor='b', width=0.5)\n",
    "#     plt.savefig('/Users/GA/Documents/Dayan_lab/Paper/Figures/Q_after.svg', transparent=True, format='svg')"
   ]
  },
  {
   "cell_type": "markdown",
   "metadata": {},
   "source": [
    "### Policy improvements"
   ]
  },
  {
   "cell_type": "code",
   "execution_count": null,
   "metadata": {
    "ExecuteTime": {
     "end_time": "2021-02-20T22:40:06.526162Z",
     "start_time": "2021-02-20T22:40:03.931002Z"
    }
   },
   "outputs": [],
   "source": [
    "root_folder   = '/Users/GA/Documents/Dayan_lab/Data/Eran/task/'\n",
    "\n",
    "opt_all = []\n",
    "\n",
    "for sub in [19]:\n",
    "    \n",
    "    opt_sub = []\n",
    "    \n",
    "    params = '/Users/GA/Documents/Dayan_lab/Data/Eran/fits/save_params_%u/params.npy'%sub\n",
    "    \n",
    "    p     = np.load(params)\n",
    "    beta  = p[0]\n",
    "    beta2 = p[1]\n",
    "    beta1 = p[2]\n",
    "    a     = p[10]\n",
    "    b     = p[11]\n",
    "    d     = -(a+b)\n",
    "    biases = np.array([a, b, 0, d])\n",
    "\n",
    "    for i in range(1, 5):\n",
    "        if i == 0:\n",
    "            this_range = 6\n",
    "        else:\n",
    "            this_range = 7\n",
    "        \n",
    "        if i in [0, 1]:\n",
    "            world = world1\n",
    "            idcs  = idcs1\n",
    "            Q1_true, Q2_true = get_Q_true(world, idcs)\n",
    "        elif i in [2, 3]:\n",
    "            world = world2\n",
    "            idcs  = idcs1\n",
    "            Q1_true, Q2_true = get_Q_true(world, idcs)\n",
    "        else:\n",
    "            world = world2\n",
    "            idcs  = idcs2\n",
    "            Q1_true, Q2_true = get_Q_true(world, idcs)\n",
    "        \n",
    "        for j in range(this_range):\n",
    "            if i > 0 and j < 2:\n",
    "                pass\n",
    "            else:\n",
    "                # Prepare to load files\n",
    "                os.chdir(os.path.join(root_folder, str(sub), str(i), str(j)))\n",
    "                all_files = glob.glob('*.npz')\n",
    "                # Sort files by episode number\n",
    "                episodes = [int(''.join(c for c in f if c.isdigit())) for f in all_files]\n",
    "                idcs_ep  = [i[0] for i in sorted(enumerate(episodes), key=lambda x:x[1])]\n",
    "                all_files_sorted = [all_files[i] for i in idcs_ep] \n",
    "\n",
    "                for f in range(len(all_files_sorted)):\n",
    "\n",
    "                    tmp_opt = []\n",
    "\n",
    "                    this_file = all_files_sorted[f]\n",
    "                    data      = np.load(this_file, allow_pickle=True)\n",
    "                    move      = data['move']\n",
    "\n",
    "                    if len(move) == 2:\n",
    "    #                     pass\n",
    "                        replay_backups = np.atleast_2d(data['replay_backups'])\n",
    "                        if replay_backups.shape[0] > 1:\n",
    "\n",
    "                            Q1 = data['Q1_history']\n",
    "                            Q2 = data['Q2_history']\n",
    "\n",
    "                            Q1_before = Q1[0, :].reshape(8, -1)\n",
    "                            Q1_after  = Q1[-1, :].reshape(8, -1)\n",
    "\n",
    "                            Q2_before = Q2[0, :].reshape(8, -1)\n",
    "                            Q2_after  = Q2[-1, :].reshape(8, -1)\n",
    "\n",
    "                            states = np.unique(replay_backups[1:, 0])\n",
    "                            states = [int(i) for i in states]\n",
    "\n",
    "                            for s in states:\n",
    "                                opt = policy_improve_2moves(Q1_before[s, :], Q1_after[s, :], Q2_before[s, :], Q2_after[s, :], Q1_true, s, beta1, beta2, biases, world, idcs, mode='value')\n",
    "                                tmp_opt    += [float(opt)]\n",
    "                            \n",
    "                            opt_sub    += [np.mean(tmp_opt)]\n",
    "\n",
    "                    else:\n",
    "                        replay_backups = np.atleast_2d(data['replay_backups'])\n",
    "                        if replay_backups.shape[0] > 1:\n",
    "\n",
    "                            Q = data['Q_history']\n",
    "\n",
    "                            Q_before = Q[0, :].reshape(8, -1)\n",
    "                            Q_after  = Q[-1, :].reshape(8, -1)\n",
    "\n",
    "                            states = np.unique(replay_backups[1:, 0])\n",
    "                            states = [int(i) for i in states]\n",
    "\n",
    "                            for s in states:\n",
    "                                opt = policy_improve(Q_before[s, :], Q_after[s, :], Q2_true, s, beta, biases, world, idcs, mode='value')\n",
    "                                tmp_opt    += [float(opt)]\n",
    "                                    \n",
    "                            opt_sub += [np.mean(tmp_opt)]\n",
    "    \n",
    "    opt_all.append(np.mean(opt_sub))"
   ]
  },
  {
   "cell_type": "code",
   "execution_count": null,
   "metadata": {
    "ExecuteTime": {
     "end_time": "2021-02-20T22:40:07.162552Z",
     "start_time": "2021-02-20T22:40:07.155992Z"
    }
   },
   "outputs": [],
   "source": [
    "opt_all = opt_sub"
   ]
  },
  {
   "cell_type": "code",
   "execution_count": null,
   "metadata": {
    "ExecuteTime": {
     "end_time": "2021-02-20T21:40:19.575838Z",
     "start_time": "2021-02-20T21:40:19.302007Z"
    }
   },
   "outputs": [],
   "source": [
    "fig = plt.figure(figsize=(2, 5))\n",
    "\n",
    "plt.bar(1, np.nanmean(opt_all), facecolor='#22CF00', alpha=0.4, width=0.1)\n",
    "plt.scatter([1]*len(opt_all), opt_all, c='#22CF00', alpha=1)\n",
    "plt.axhline(0, c='k')\n",
    "plt.xticks([1], ['Optimal'],fontsize=14)\n",
    "plt.ylabel(r'$Average \\; \\; \\Delta \\pi(a \\mid s) \\; \\; over \\; \\; states$', fontsize=14)\n",
    "# plt.ylim(-4, 4)\n",
    "# plt.savefig('/Users/GA/Documents/Dayan_lab/Paper/Figures_data/Figure5/policy_improve_prob.svg', format='svg', transparent=True)"
   ]
  },
  {
   "cell_type": "code",
   "execution_count": null,
   "metadata": {
    "ExecuteTime": {
     "end_time": "2021-02-20T22:40:09.938151Z",
     "start_time": "2021-02-20T22:40:09.923974Z"
    }
   },
   "outputs": [],
   "source": [
    "print('Opt policy change:    test statistic: %.3f,  p-value: %.3E' % scipy.stats.ttest_1samp(opt_all, 0))"
   ]
  },
  {
   "cell_type": "code",
   "execution_count": null,
   "metadata": {
    "ExecuteTime": {
     "end_time": "2021-02-20T22:40:12.671066Z",
     "start_time": "2021-02-20T22:40:12.664226Z"
    }
   },
   "outputs": [],
   "source": [
    "print('Policy change opt   :', np.nanmean(opt_all))"
   ]
  },
  {
   "cell_type": "markdown",
   "metadata": {},
   "source": [
    "### Model entropy after training"
   ]
  },
  {
   "cell_type": "code",
   "execution_count": 1,
   "metadata": {
    "ExecuteTime": {
     "end_time": "2021-03-17T17:05:19.018821Z",
     "start_time": "2021-03-17T17:05:18.780350Z"
    }
   },
   "outputs": [
    {
     "ename": "NameError",
     "evalue": "name 'get_Q_true' is not defined",
     "output_type": "error",
     "traceback": [
      "\u001b[0;31m---------------------------------------------------------------------------\u001b[0m",
      "\u001b[0;31mNameError\u001b[0m                                 Traceback (most recent call last)",
      "\u001b[0;32m<ipython-input-1-8afb47921d5e>\u001b[0m in \u001b[0;36m<module>\u001b[0;34m\u001b[0m\n\u001b[1;32m      1\u001b[0m \u001b[0mroot_folder\u001b[0m \u001b[0;34m=\u001b[0m \u001b[0;34m'/Users/GA/Documents/Dayan_lab/Data/Eran/task/'\u001b[0m\u001b[0;34m\u001b[0m\u001b[0;34m\u001b[0m\u001b[0m\n\u001b[1;32m      2\u001b[0m \u001b[0;34m\u001b[0m\u001b[0m\n\u001b[0;32m----> 3\u001b[0;31m \u001b[0m_\u001b[0m\u001b[0;34m,\u001b[0m \u001b[0mQ2_true\u001b[0m \u001b[0;34m=\u001b[0m \u001b[0mget_Q_true\u001b[0m\u001b[0;34m(\u001b[0m\u001b[0mworld1\u001b[0m\u001b[0;34m,\u001b[0m \u001b[0midcs1\u001b[0m\u001b[0;34m)\u001b[0m\u001b[0;34m\u001b[0m\u001b[0;34m\u001b[0m\u001b[0m\n\u001b[0m\u001b[1;32m      4\u001b[0m \u001b[0ments\u001b[0m \u001b[0;34m=\u001b[0m \u001b[0;34m[\u001b[0m\u001b[0;34m]\u001b[0m\u001b[0;34m\u001b[0m\u001b[0;34m\u001b[0m\u001b[0m\n\u001b[1;32m      5\u001b[0m \u001b[0;32mfor\u001b[0m \u001b[0msub\u001b[0m \u001b[0;32min\u001b[0m \u001b[0mrange\u001b[0m\u001b[0;34m(\u001b[0m\u001b[0;36m40\u001b[0m\u001b[0;34m)\u001b[0m\u001b[0;34m:\u001b[0m\u001b[0;34m\u001b[0m\u001b[0;34m\u001b[0m\u001b[0m\n",
      "\u001b[0;31mNameError\u001b[0m: name 'get_Q_true' is not defined"
     ]
    }
   ],
   "source": [
    "root_folder = '/Users/GA/Documents/Dayan_lab/Data/Eran/task/'\n",
    "\n",
    "_, Q2_true = get_Q_true(world1, idcs1)\n",
    "ents = []\n",
    "for sub in range(40):\n",
    "    sub_folder = os.path.join(root_folder, str(sub), 'training', '6')\n",
    "    z = np.load(os.path.join(sub_folder, 'move47.npz'))\n",
    "    T = z['T']\n",
    "    tmp = []\n",
    "    for s in range(8):\n",
    "        a_opt = get_optimal_move(s, Q2_true)\n",
    "        this_ent = get_entropy(T, s, a_opt)\n",
    "        if len(this_ent) > 1:\n",
    "            this_ent = np.mean(this_ent)\n",
    "        else:\n",
    "            this_ent = this_ent[0]\n",
    "        tmp.append(this_ent)\n",
    "    ents.append(np.mean(tmp))"
   ]
  },
  {
   "cell_type": "code",
   "execution_count": null,
   "metadata": {
    "ExecuteTime": {
     "end_time": "2021-01-23T11:12:33.549050Z",
     "start_time": "2021-01-23T11:12:33.054000Z"
    }
   },
   "outputs": [],
   "source": [
    "plt.figure(figsize=(6, 4))\n",
    "plt.hist(ents, bins=np.linspace(0, np.log2(7), 30));\n",
    "plt.xlim(0, np.max(ents))\n",
    "plt.ylabel('Number of subjects', fontsize=14)\n",
    "plt.xlabel('Optimal action entropy', fontsize=14)\n",
    "plt.xticks(fontsize=12);\n",
    "plt.yticks(fontsize=12);\n",
    "plt.savefig('/Users/GA/Documents/Dayan_lab/Paper/Figures_data/supp1/model_entropy.svg', transparent=True, format='svg')"
   ]
  },
  {
   "cell_type": "markdown",
   "metadata": {},
   "source": [
    "### Off-task Replay"
   ]
  },
  {
   "cell_type": "code",
   "execution_count": null,
   "metadata": {
    "ExecuteTime": {
     "end_time": "2021-01-24T16:16:18.562772Z",
     "start_time": "2021-01-24T16:16:15.966716Z"
    }
   },
   "outputs": [],
   "source": [
    "root_folder   = '/Users/GA/Documents/Dayan_lab/Data/Eran/task/'\n",
    "\n",
    "H_opt_single_all    = []\n",
    "H_opt_paired_all    = []\n",
    "H_subopt_single_all = []\n",
    "H_subopt_paired_all = []\n",
    "\n",
    "opt_all    = []\n",
    "subopt_all = []\n",
    "\n",
    "subs_who_replay = np.load(os.path.join(root_folder, 'Analysis', 'subs_who_replay.npy'))\n",
    "\n",
    "for sub in subs_who_replay:\n",
    "\n",
    "    H_opt_single    = []\n",
    "    H_opt_paired    = []\n",
    "    H_subopt_single = []\n",
    "    H_subopt_paired = []\n",
    "    opt             = []\n",
    "    subopt          = []\n",
    "\n",
    "    sub_task_folder = os.path.join(root_folder, str(sub))\n",
    "\n",
    "    for i in [1]:\n",
    "        if i == 1:\n",
    "            Q1_true, Q2_true = get_Q_true(world2, idcs1)\n",
    "        else:\n",
    "            Q1_true, Q2_true = get_Q_true(world2, idcs1)\n",
    "\n",
    "        file = os.path.join(sub_task_folder, str(i), 'offline.npz')\n",
    "\n",
    "        data      = np.load(file, allow_pickle=True)\n",
    "        T         = data['T']\n",
    "        \n",
    "        tmp_opt    = 0\n",
    "        tmp_subopt = 1\n",
    "        \n",
    "        replay_backups = np.atleast_2d(data['replay_backups'])\n",
    "        if replay_backups.shape[0] > 1:\n",
    "\n",
    "            for rid in range(1, replay_backups.shape[0]):\n",
    "\n",
    "                this_replay = replay_backups[rid, :]\n",
    "                sr = int(this_replay[0])\n",
    "                ar = int(this_replay[1])\n",
    "                pl = int(this_replay[4])\n",
    "\n",
    "                if pl == 0:\n",
    "                    paired_move_optimal = ar in get_optimal_move(sr, Q1_true)\n",
    "                    if paired_move_optimal:\n",
    "                        H_opt_paired += [get_joint_entropy(T, sr, ar//4, ar%4)]\n",
    "                        tmp_opt += 1\n",
    "                    else:\n",
    "                        H_subopt_paired += [get_joint_entropy(T, sr, ar//4, ar%4)]\n",
    "                        tmp_subopt += 1\n",
    "                else:\n",
    "                    second_single_move_optimal = ar in get_optimal_move(sr, Q2_true)\n",
    "                    if second_single_move_optimal:\n",
    "                        H_opt_single += [get_entropy(T, sr, ar)]\n",
    "                        tmp_opt += 1\n",
    "                    else:\n",
    "                        H_subopt_single += [get_entropy(T, sr, ar)]\n",
    "                        tmp_subopt += 1\n",
    "        else:\n",
    "            tmp_opt     = 0\n",
    "            tmp_subopt  = 0\n",
    "\n",
    "        opt    += [tmp_opt]\n",
    "        subopt += [tmp_subopt]\n",
    "\n",
    "    opt_all             += [np.nanmean(opt)]\n",
    "    subopt_all          += [np.nanmean(subopt)]\n",
    "    H_opt_single_all    += H_opt_single\n",
    "    H_opt_paired_all    += H_opt_paired\n",
    "    H_subopt_single_all += H_subopt_single\n",
    "    H_subopt_paired_all += H_subopt_paired"
   ]
  },
  {
   "cell_type": "code",
   "execution_count": null,
   "metadata": {
    "ExecuteTime": {
     "end_time": "2021-01-24T17:39:59.398597Z",
     "start_time": "2021-01-24T17:39:57.884317Z"
    }
   },
   "outputs": [],
   "source": [
    "root_folder   = '/Users/GA/Documents/Dayan_lab/Data/Eran/task/'\n",
    "\n",
    "subs_who_replay = np.load(os.path.join(root_folder, 'Analysis', 'subs_who_replay.npy'))\n",
    "\n",
    "r_before = []\n",
    "r_after  = []\n",
    "\n",
    "for sub in subs_who_replay:\n",
    "    \n",
    "    freq_before = np.zeros((8, 4))\n",
    "    freq_after  = np.zeros((8, 4))\n",
    "    replays     = np.zeros((8, 4))\n",
    "\n",
    "    sub_task_folder = os.path.join(root_folder, str(sub))\n",
    "\n",
    "    file = os.path.join(sub_task_folder, '3', 'offline.npz')\n",
    "\n",
    "    data      = np.load(file, allow_pickle=True)\n",
    "\n",
    "    replay_backups = np.atleast_2d(data['replay_backups'])\n",
    "    if replay_backups.shape[0] > 1:\n",
    "\n",
    "        for rid in range(1, replay_backups.shape[0]):\n",
    "\n",
    "            this_replay = replay_backups[rid, :]\n",
    "            sr = int(this_replay[0])\n",
    "            ar = int(this_replay[1])\n",
    "            s1r = int(this_replay[3])\n",
    "            pl = int(this_replay[4])\n",
    "            \n",
    "            if pl == 1:\n",
    "                replays[sr, ar] += 1\n",
    "                \n",
    "            if pl == 0:\n",
    "                \n",
    "                s = sr\n",
    "                a = ar//4\n",
    "                \n",
    "                s1 = s1r//8\n",
    "                a1 = ar%4\n",
    "                \n",
    "                replays[s, a] += 1\n",
    "                replays[s1, a1] += 1\n",
    "                \n",
    "                k = this_replay\n",
    "    \n",
    "    c = 0\n",
    "    for j in range(7):\n",
    "        # Prepare to load files\n",
    "        os.chdir(os.path.join(root_folder, str(sub), '3', str(j)))\n",
    "        all_files = glob.glob('*.npz')\n",
    "        # Sort files by episode number\n",
    "        episodes = [int(''.join(c for c in f if c.isdigit())) for f in all_files]\n",
    "        idcs_ep  = [i[0] for i in sorted(enumerate(episodes), key=lambda x:x[1])]\n",
    "        all_files_sorted = [all_files[i] for i in idcs_ep] \n",
    "\n",
    "        for f in range(len(all_files_sorted)):\n",
    "\n",
    "            this_file = all_files_sorted[f]\n",
    "            data      = np.load(this_file, allow_pickle=True)\n",
    "            move      = data['move']\n",
    "            \n",
    "            if len(move) != 2:\n",
    "                s = move[0]\n",
    "                a = move[1]\n",
    "                freq_before[s, a] += 1\n",
    "                c += 1\n",
    "            else:\n",
    "                s = move[0, 0]\n",
    "                a = move[0, 1]\n",
    "                s1 = move[1, 0]\n",
    "                a1 = move[1, 1]\n",
    "                freq_before[s, a] += 1\n",
    "                freq_before[s1, a1] += 1\n",
    "                c += 2\n",
    "    \n",
    "    freq_before /= c\n",
    "                \n",
    "    for j in range(7):\n",
    "        # Prepare to load files\n",
    "        os.chdir(os.path.join(root_folder, str(sub), '4', str(j)))\n",
    "        all_files = glob.glob('*.npz')\n",
    "        # Sort files by episode number\n",
    "        episodes = [int(''.join(c for c in f if c.isdigit())) for f in all_files]\n",
    "        idcs_ep  = [i[0] for i in sorted(enumerate(episodes), key=lambda x:x[1])]\n",
    "        all_files_sorted = [all_files[i] for i in idcs_ep] \n",
    "\n",
    "        for f in range(len(all_files_sorted)):\n",
    "\n",
    "            this_file = all_files_sorted[f]\n",
    "            data      = np.load(this_file, allow_pickle=True)\n",
    "            move      = data['move']\n",
    "            \n",
    "            if len(move) != 2:\n",
    "                s = move[0]\n",
    "                a = move[1]\n",
    "                freq_after[s, a] += 1\n",
    "            \n",
    "            else:\n",
    "                s = move[0, 0]\n",
    "                a = move[0, 1]\n",
    "                s1 = move[1, 0]\n",
    "                a1 = move[1, 1]\n",
    "                freq_after[s, a] += 1\n",
    "                freq_after[s1, a1] += 1\n",
    "                \n",
    "    freq_after /= c\n",
    "    \n",
    "    r, p   = scipy.stats.pearsonr(replays.ravel(), freq_before.ravel())\n",
    "    r_before.append(r)\n",
    "    \n",
    "    r, p   = scipy.stats.pearsonr(replays.ravel(), freq_after.ravel())\n",
    "    r_after.append(r)\n",
    "    \n",
    "#     replays = replays.flatten()\n",
    "#     freq_before = freq_before.flatten()\n",
    "#     freq_after = freq_after.flatten()\n",
    "    \n",
    "#     rp = []\n",
    "#     fr = []\n",
    "    \n",
    "#     for i in range(len(replays)):\n",
    "#         if freq_after[i] != 0:\n",
    "#             rp.append(replays[i])\n",
    "#             fr.append(freq_after[i])\n",
    "            \n",
    "#     r, p   = scipy.stats.pearsonr(rp, fr)\n",
    "#     r_after.append(r)\n",
    "    \n",
    "#     rp = []\n",
    "#     fr = []\n",
    "    \n",
    "#     for i in range(len(replays)):\n",
    "#         if freq_before[i] != 0:\n",
    "#             rp.append(replays[i])\n",
    "#             fr.append(freq_before[i])\n",
    "            \n",
    "#     r, p   = scipy.stats.pearsonr(rp, fr)\n",
    "#     r_before.append(r)"
   ]
  },
  {
   "cell_type": "code",
   "execution_count": null,
   "metadata": {
    "ExecuteTime": {
     "end_time": "2021-01-24T17:40:02.956358Z",
     "start_time": "2021-01-24T17:40:02.433867Z"
    }
   },
   "outputs": [],
   "source": [
    "t, p = permutation_test(r_before, r_after, 10000)\n",
    "print(t, p)"
   ]
  },
  {
   "cell_type": "code",
   "execution_count": null,
   "metadata": {
    "ExecuteTime": {
     "end_time": "2021-01-24T17:40:05.565942Z",
     "start_time": "2021-01-24T17:40:05.556139Z"
    }
   },
   "outputs": [],
   "source": [
    "t, p = scipy.stats.ttest_ind(r_before, r_after)\n",
    "print(t, p)"
   ]
  },
  {
   "cell_type": "markdown",
   "metadata": {},
   "source": [
    "### Re-arranged Model Entropy "
   ]
  },
  {
   "cell_type": "code",
   "execution_count": null,
   "metadata": {
    "ExecuteTime": {
     "end_time": "2021-01-23T14:41:06.208913Z",
     "start_time": "2021-01-23T14:41:05.817273Z"
    },
    "scrolled": false
   },
   "outputs": [],
   "source": [
    "task_folder   = '/Users/GA/Documents/Dayan_lab/Data/Eran/task/'\n",
    "params_folder = '/Users/GA/Documents/Dayan_lab/Data/Eran/fits/'\n",
    "\n",
    "subs_who_replay = np.load(os.path.join(task_folder, 'Analysis', 'subs_who_replay.npy'))\n",
    "\n",
    "before = []\n",
    "after  = []\n",
    "ents   = []\n",
    "\n",
    "_, Q2_true = get_Q_true(world2, idcs2)\n",
    "\n",
    "for sub in subs_who_replay:\n",
    "    \n",
    "    sub_task_folder = os.path.join(task_folder, str(sub))\n",
    "    \n",
    "    rho = np.load(os.path.join(params_folder, 'save_params_%u'%sub, 'params.npy'))[12]\n",
    "    \n",
    "    # Model entropy before re-arrangement\n",
    "    file = os.path.join(sub_task_folder, '3', '6', 'move11.npz')\n",
    "    data = np.load(file, allow_pickle=True)\n",
    "    T    = data['T']\n",
    "    T    = rho*T + (1-rho)*(1./7)\n",
    "    \n",
    "    for i in range(T.shape[0]):\n",
    "        for j in range(T.shape[1]):\n",
    "            T[i, j, i]  = 0\n",
    "\n",
    "            row = T[i, j, :]\n",
    "            tmp = np.sum(row)\n",
    "            if tmp > 0:\n",
    "                T[i, j, :] = row / tmp\n",
    "    \n",
    "    # optimal action entropy without rearrangement\n",
    "    tmp = 0\n",
    "    for s in range(8):\n",
    "        for a in range(4):\n",
    "            tmp += np.power(Q2_true[s, a]-np.sum(T[s, a, :]*world2.ravel()), 2)\n",
    "    before.append(tmp/32)\n",
    "    \n",
    "    root_folder = '/Users/GA/Documents/Dayan_lab/Data/Eran/task/'\n",
    "\n",
    "    tmp = []\n",
    "    for s in range(8):\n",
    "        a_opt = get_optimal_move(s, Q2_true)\n",
    "        this_ent = get_entropy(T, s, a_opt)\n",
    "        if len(this_ent) > 1:\n",
    "            this_ent = np.mean(this_ent)\n",
    "        else:\n",
    "            this_ent = this_ent[0]\n",
    "        tmp.append(this_ent)\n",
    "    ents.append(np.mean(tmp))\n",
    "    \n",
    "    file = os.path.join(sub_task_folder, '3', 'offline.npz')\n",
    "    data = np.load(file, allow_pickle=True)\n",
    "    T    = data['T']\n",
    "    \n",
    "    # optimal action entropy with rearrangement\n",
    "    tmp = 0\n",
    "    for s in range(8):\n",
    "        for a in range(4):\n",
    "            tmp += np.power(Q2_true[s, a]-np.sum(T[s, a, :]*world2.ravel()), 2)\n",
    "    after.append(tmp/32)"
   ]
  },
  {
   "cell_type": "code",
   "execution_count": null,
   "metadata": {
    "ExecuteTime": {
     "end_time": "2021-01-24T14:17:20.914335Z",
     "start_time": "2021-01-24T14:17:20.598921Z"
    }
   },
   "outputs": [],
   "source": [
    "x = flex_subs\n",
    "y = before\n",
    "\n",
    "model = LinearRegression()\n",
    "model.fit(x.reshape(-1, 1), y.reshape(-1, 1))\n",
    "\n",
    "r, p   = pearsonr(x, y)\n",
    "\n",
    "x_pred = np.linspace(-0.2, 1).reshape(-1, 1)\n",
    "y_pred = model.predict(x_pred)\n",
    "\n",
    "plt.scatter(x, y)\n",
    "plt.plot(x_pred, y_pred)"
   ]
  },
  {
   "cell_type": "code",
   "execution_count": null,
   "metadata": {
    "ExecuteTime": {
     "end_time": "2021-01-23T14:42:18.984499Z",
     "start_time": "2021-01-23T14:42:18.508140Z"
    }
   },
   "outputs": [],
   "source": [
    "plt.figure(figsize=(4, 5))\n",
    "\n",
    "plt.bar(1, np.mean(after), facecolor='orange', alpha=0.6, align='center')\n",
    "plt.scatter([1]*len(after), after, c='orange')\n",
    "plt.bar(2, np.mean(before), facecolor='b', alpha=0.6, align='center')\n",
    "plt.scatter([2]*len(before), before, c='b')\n",
    "plt.axhline(0, c='k')\n",
    "for i in range(len(after)):\n",
    "    plt.plot([1, 2], [after[i], before[i]], c='k')\n",
    "\n",
    "\n",
    "t, p = scipy.stats.ttest_ind(after, before)\n",
    "print('opt vs subopt: t=%.3E, p=%.3E'%(t, p))\n",
    "plt.title('W = %.3E, p = %.3E'%(t, p))\n",
    "\n",
    "plt.savefig('/Users/GA/Documents/Dayan_lab/Paper/Figures_data/supp3/rmsd_rearrangement.svg', transparent=True)"
   ]
  },
  {
   "cell_type": "code",
   "execution_count": null,
   "metadata": {
    "ExecuteTime": {
     "end_time": "2021-01-24T15:34:20.536363Z",
     "start_time": "2021-01-24T15:34:19.790422Z"
    }
   },
   "outputs": [],
   "source": [
    "permutation_test(r_after, r_before, 10000, rep=True)"
   ]
  },
  {
   "cell_type": "code",
   "execution_count": null,
   "metadata": {
    "ExecuteTime": {
     "end_time": "2021-01-23T14:41:21.008224Z",
     "start_time": "2021-01-23T14:41:20.998696Z"
    }
   },
   "outputs": [],
   "source": [
    "len(subs_who_replay)"
   ]
  },
  {
   "cell_type": "code",
   "execution_count": null,
   "metadata": {
    "ExecuteTime": {
     "end_time": "2021-01-23T10:57:37.372433Z",
     "start_time": "2021-01-23T10:57:37.361137Z"
    }
   },
   "outputs": [],
   "source": [
    "from sklearn.linear_model import LinearRegression\n",
    "from scipy.stats import pearsonr"
   ]
  },
  {
   "cell_type": "code",
   "execution_count": null,
   "metadata": {
    "ExecuteTime": {
     "end_time": "2021-01-23T14:42:22.458729Z",
     "start_time": "2021-01-23T14:42:22.037328Z"
    }
   },
   "outputs": [],
   "source": [
    "plt.figure(figsize=(8, 5))\n",
    "\n",
    "diff = np.array(before) - np.array(after)\n",
    "\n",
    "x = np.array(ents).reshape(-1, 1)\n",
    "y = np.array(diff).reshape(-1, 1)\n",
    "\n",
    "reg    = LinearRegression().fit(x, y)\n",
    "r, p   = pearsonr(ents, diff)\n",
    "\n",
    "x_pred = np.linspace(np.min(ents), np.max(ents), 50).reshape(-1, 1)\n",
    "y_pred = reg.predict(x_pred)\n",
    "plt.scatter(ents, diff, c='r')\n",
    "plt.plot(x_pred, y_pred, c='k')\n",
    "\n",
    "plt.title('R^2 = %.3E, p = %.3E'%(r**2, p))\n",
    "\n",
    "plt.savefig('/Users/GA/Documents/Dayan_lab/Paper/Figures_data/supp3/rmsd_corr.svg', transparent=True)"
   ]
  },
  {
   "cell_type": "code",
   "execution_count": null,
   "metadata": {
    "ExecuteTime": {
     "end_time": "2021-01-24T10:59:30.807360Z",
     "start_time": "2021-01-24T10:59:30.103148Z"
    }
   },
   "outputs": [],
   "source": [
    "plt.figure(figsize=(8, 5))\n",
    "\n",
    "reg    = LinearRegression().fit(np.array(ents).reshape(-1, 1), np.array(flex_subs))\n",
    "r, p   = pearsonr(ents, flex_subs)\n",
    "plt.scatter(ents, flex_subs, c='r')\n",
    "\n",
    "# x_pred = np.linspace(np.min(diff), np.max(diff), 50).reshape(-1, 1)\n",
    "# y_pred = reg.predict(x_pred)\n",
    "# plt.plot(x_pred, y_pred, c='k')\n",
    "\n",
    "# plt.title('R^2 = %.3E, p = %.3E'%(r**2, p))\n",
    "\n",
    "# plt.savefig('/Users/GA/Documents/Dayan_lab/Paper/Figures_data/supp3/rmsd_corr_if.svg', transparent=True)"
   ]
  },
  {
   "cell_type": "code",
   "execution_count": null,
   "metadata": {
    "ExecuteTime": {
     "end_time": "2021-01-24T15:26:29.843787Z",
     "start_time": "2021-01-24T15:26:29.833767Z"
    }
   },
   "outputs": [],
   "source": [
    "r_after"
   ]
  },
  {
   "cell_type": "code",
   "execution_count": null,
   "metadata": {
    "ExecuteTime": {
     "end_time": "2021-01-24T15:27:52.207141Z",
     "start_time": "2021-01-24T15:27:52.197717Z"
    }
   },
   "outputs": [],
   "source": [
    "p"
   ]
  },
  {
   "cell_type": "code",
   "execution_count": null,
   "metadata": {
    "ExecuteTime": {
     "end_time": "2021-01-24T10:59:33.888963Z",
     "start_time": "2021-01-24T10:59:33.872411Z"
    }
   },
   "outputs": [],
   "source": [
    "p"
   ]
  },
  {
   "cell_type": "code",
   "execution_count": null,
   "metadata": {
    "ExecuteTime": {
     "end_time": "2021-01-24T10:59:42.171425Z",
     "start_time": "2021-01-24T10:59:42.158432Z"
    }
   },
   "outputs": [],
   "source": [
    "r**2"
   ]
  },
  {
   "cell_type": "markdown",
   "metadata": {},
   "source": [
    "### MB/MF human subjects"
   ]
  },
  {
   "cell_type": "markdown",
   "metadata": {},
   "source": [
    "## Flexibility"
   ]
  },
  {
   "cell_type": "code",
   "execution_count": null,
   "metadata": {
    "ExecuteTime": {
     "end_time": "2021-02-18T19:33:57.603132Z",
     "start_time": "2021-02-18T19:33:50.988655Z"
    }
   },
   "outputs": [],
   "source": [
    "path = '/Users/GA/Documents/Dayan_lab/Data/Eran/TTASKK'\n",
    "\n",
    "for sub in range(40):\n",
    "    this_sub = os.path.join(path, str(sub))\n",
    "    for i in range(10):\n",
    "        r = []\n",
    "        this_inst = os.path.join(this_sub, str(i))\n",
    "        for j in range(5):\n",
    "            tmp = []\n",
    "            os.chdir(os.path.join(this_inst, str(j)))\n",
    "            all_files = glob.glob('*.npy')\n",
    "            episodes = [int(''.join(c for c in f if c.isdigit())) for f in all_files]\n",
    "            idcs_ep  = [i[0] for i in sorted(enumerate(episodes), key=lambda x:x[1])]\n",
    "            all_files_sorted = [all_files[i] for i in idcs_ep] \n",
    "            for f in all_files_sorted:\n",
    "                data = np.load(f)\n",
    "                for m in range(len(data)):\n",
    "                    if len(data[m]) == 4:\n",
    "                        tmp += [data[m][2]]\n",
    "                    else:\n",
    "                        tmp += [data[m][0][2] + data[m][1][2]]\n",
    "            r += [tmp]\n",
    "        np.save(os.path.join(this_inst, 'blocks_obt_rwd.npy'), r)"
   ]
  },
  {
   "cell_type": "code",
   "execution_count": null,
   "metadata": {
    "ExecuteTime": {
     "end_time": "2021-03-08T15:01:48.393120Z",
     "start_time": "2021-03-08T15:01:48.384245Z"
    }
   },
   "outputs": [],
   "source": [
    "x = np.array([-0.1, -0.05, 0, 0.1, 0.2, 0.2])"
   ]
  },
  {
   "cell_type": "code",
   "execution_count": null,
   "metadata": {
    "ExecuteTime": {
     "end_time": "2021-03-08T15:02:46.736316Z",
     "start_time": "2021-03-08T15:02:46.715825Z"
    }
   },
   "outputs": [],
   "source": [
    "np.argwhere(x > 0).flatten()"
   ]
  },
  {
   "cell_type": "code",
   "execution_count": null,
   "metadata": {},
   "outputs": [],
   "source": []
  }
 ],
 "metadata": {
  "kernelspec": {
   "display_name": "Python 3",
   "language": "python",
   "name": "python3"
  },
  "language_info": {
   "codemirror_mode": {
    "name": "ipython",
    "version": 3
   },
   "file_extension": ".py",
   "mimetype": "text/x-python",
   "name": "python",
   "nbconvert_exporter": "python",
   "pygments_lexer": "ipython3",
   "version": "3.7.6"
  },
  "varInspector": {
   "cols": {
    "lenName": 16,
    "lenType": 16,
    "lenVar": 40
   },
   "kernels_config": {
    "python": {
     "delete_cmd_postfix": "",
     "delete_cmd_prefix": "del ",
     "library": "var_list.py",
     "varRefreshCmd": "print(var_dic_list())"
    },
    "r": {
     "delete_cmd_postfix": ") ",
     "delete_cmd_prefix": "rm(",
     "library": "var_list.r",
     "varRefreshCmd": "cat(var_dic_list()) "
    }
   },
   "position": {
    "height": "803.85px",
    "left": "1440px",
    "right": "20px",
    "top": "120px",
    "width": "598px"
   },
   "types_to_exclude": [
    "module",
    "function",
    "builtin_function_or_method",
    "instance",
    "_Feature"
   ],
   "window_display": false
  }
 },
 "nbformat": 4,
 "nbformat_minor": 2
}
