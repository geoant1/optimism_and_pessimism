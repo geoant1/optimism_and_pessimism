{
 "cells": [
  {
   "cell_type": "code",
   "execution_count": 1,
   "id": "innocent-omega",
   "metadata": {
    "ExecuteTime": {
     "end_time": "2021-03-29T15:09:55.135831Z",
     "start_time": "2021-03-29T15:09:50.129144Z"
    }
   },
   "outputs": [],
   "source": [
    "import numpy as np\n",
    "import sys, os, glob\n",
    "import pandas as pd\n",
    "import matplotlib.pyplot as plt\n",
    "from scipy.stats import ttest_ind, ttest_1samp, pearsonr, ranksums, zscore\n",
    "from scipy.stats.mstats import zscore\n",
    "from sklearn.linear_model import LinearRegression\n",
    "from sklearn.linear_model import LinearRegression\n",
    "from sklearn.feature_selection import RFECV\n",
    "import statsmodels.api as sm\n",
    "\n",
    "sys.path.append('/Users/GA/Documents/Dayan_lab/Code/Eran_python/Fit_params')\n",
    "from misc_analysis import get_Q_true, get_optimal_move, permutation_test, get_entropy, get_joint_entropy, histogram"
   ]
  },
  {
   "cell_type": "code",
   "execution_count": 2,
   "id": "jewish-adrian",
   "metadata": {
    "ExecuteTime": {
     "end_time": "2021-03-29T15:09:55.198855Z",
     "start_time": "2021-03-29T15:09:55.183442Z"
    }
   },
   "outputs": [],
   "source": [
    "# World 1\n",
    "world1 = np.load('/Users/GA/Documents/Dayan_lab/Data/Eran/world1.npy')\n",
    "world2 = np.load('/Users/GA/Documents/Dayan_lab/Data/Eran/world2.npy')\n",
    "idcs1  = np.load('/Users/GA/Documents/Dayan_lab/Data/Eran/idcs1.npy')\n",
    "idcs2  = np.load('/Users/GA/Documents/Dayan_lab/Data/Eran/idcs2.npy')"
   ]
  },
  {
   "cell_type": "code",
   "execution_count": 3,
   "id": "broad-dallas",
   "metadata": {
    "ExecuteTime": {
     "end_time": "2021-03-29T15:09:55.247792Z",
     "start_time": "2021-03-29T15:09:55.237027Z"
    }
   },
   "outputs": [],
   "source": [
    "def bootstrap_test(X, Y, num_perm=10000):\n",
    "    \n",
    "    x_mean = np.mean(X)\n",
    "    y_mean = np.mean(Y)\n",
    "    \n",
    "    shifted_Y = Y - y_mean + x_mean\n",
    "    ny = len(shifted_Y)\n",
    "    \n",
    "    tests = []\n",
    "    for i in range(num_perm):\n",
    "        shuffY = np.random.choice(shifted_Y, size=ny, replace=True)\n",
    "        tests += [np.mean(shuffY)]\n",
    "        \n",
    "    diff_count = len(np.where(tests >= x_mean)[0])\n",
    "    p_value    = 1.0 - (float(diff_count)/float(num_perm))\n",
    "    \n",
    "    return tests, x_mean, p_value\n"
   ]
  },
  {
   "cell_type": "markdown",
   "id": "boring-sydney",
   "metadata": {},
   "source": [
    "### Generate flexibility idcs for simulated data"
   ]
  },
  {
   "cell_type": "code",
   "execution_count": null,
   "id": "northern-bracelet",
   "metadata": {
    "ExecuteTime": {
     "end_time": "2021-03-12T18:49:11.337751Z",
     "start_time": "2021-03-12T18:49:03.395604Z"
    },
    "code_folding": [
     1
    ],
    "deletable": false,
    "editable": false,
    "run_control": {
     "frozen": true
    }
   },
   "outputs": [],
   "source": [
    "k = np.zeros((40, 4))\n",
    "for sub in range(40):\n",
    "\n",
    "    root_folder = '/Users/GA/Documents/Dayan_lab/Data/Eran/task/%u'%(sub)\n",
    "    \n",
    "    opt_moves11 = 0\n",
    "    opt_moves12 = 0\n",
    "    opt_moves21 = 0\n",
    "    opt_moves22 = 0\n",
    "    \n",
    "    # iterate over 5 blocks\n",
    "    for i in range(5):\n",
    "        if i == 0:\n",
    "            this_range = 6\n",
    "        else:\n",
    "            this_range = 7\n",
    "        tmp = []\n",
    "        \n",
    "        if i in [0, 1]:\n",
    "            Q1_true, Q2_true = get_Q_true(world1, idcs1)\n",
    "        elif i in [2, 3]:\n",
    "            Q1_true, Q2_true = get_Q_true(world2, idcs1)\n",
    "        else:\n",
    "            Q1_true, Q2_true = get_Q_true(world2, idcs2)\n",
    "        \n",
    "        for j in range(this_range):\n",
    "    \n",
    "            os.chdir(os.path.join(root_folder, str(i), str(j)))\n",
    "            all_files = glob.glob('*.npz')\n",
    "\n",
    "            # Sort files by episode number\n",
    "            episodes = [int(''.join(c for c in f if c.isdigit())) for f in all_files]\n",
    "            idcs     = [i[0] for i in sorted(enumerate(episodes), key=lambda x:x[1])]\n",
    "            all_files_sorted = [all_files[i] for i in idcs] \n",
    "            \n",
    "            for f in range(len(all_files_sorted)):\n",
    "                this_file = all_files_sorted[f]\n",
    "                data      = np.load(this_file)\n",
    "                move      = data['move']\n",
    "                \n",
    "                if len(move) != 2:\n",
    "                    s = move[0]\n",
    "                    a = move[1]\n",
    "                    if a in get_optimal_move(s, Q2_true):\n",
    "                        opt_moves11 += 1\n",
    "                    elif a in get_optimal_move(s, Q1_true)//4:\n",
    "                        opt_moves12 += 1\n",
    "\n",
    "                else:\n",
    "                    s = move[0][0]\n",
    "                    a = move[0][1]\n",
    "                    if a in get_optimal_move(s, Q2_true):\n",
    "                        opt_moves21 += 1\n",
    "                    elif a in get_optimal_move(s, Q1_true)//4:\n",
    "                        opt_moves22 += 1\n",
    "    \n",
    "    k[sub, :] = [opt_moves11/(18*5), opt_moves12/(18*5), opt_moves21/(36*5), opt_moves22/(36*5)]\n",
    "    \n",
    "for sub in range(40):\n",
    "    np.save(os.path.join('/Users/GA/Documents/Dayan_lab/Data/Eran/subject_data', str(i), 'flexibility.npy'), k[sub, :])"
   ]
  },
  {
   "cell_type": "markdown",
   "id": "hidden-parking",
   "metadata": {},
   "source": [
    "### Get flexibility idcs "
   ]
  },
  {
   "cell_type": "code",
   "execution_count": null,
   "id": "terminal-going",
   "metadata": {
    "ExecuteTime": {
     "end_time": "2021-03-12T18:50:14.084301Z",
     "start_time": "2021-03-12T18:50:14.071459Z"
    },
    "code_folding": [
     0
    ],
    "deletable": false,
    "editable": false,
    "run_control": {
     "frozen": true
    }
   },
   "outputs": [],
   "source": [
    "def get_flex_idcs(sub):\n",
    "    \n",
    "    root_folder = '/Users/GA/Documents/Dayan_lab/Data/Eran/TTASKK/%u'%(sub)\n",
    "    \n",
    "    flex_idcs = []\n",
    "    for rep in range(100):\n",
    "    \n",
    "        rep_folder  = os.path.join(root_folder, str(rep))\n",
    "\n",
    "        opt_moves11 = 0\n",
    "        opt_moves12 = 0\n",
    "        opt_moves21 = 0\n",
    "        opt_moves22 = 0\n",
    "\n",
    "        # iterate over 5 blocks\n",
    "        for i in range(5):\n",
    "            if i == 0:\n",
    "                this_range = 6\n",
    "            else:\n",
    "                this_range = 7\n",
    "            tmp = []\n",
    "\n",
    "            if i in [0, 1]:\n",
    "                Q1_true, Q2_true = get_Q_true(world1, idcs1)\n",
    "            elif i in [2, 3]:\n",
    "                Q1_true, Q2_true = get_Q_true(world2, idcs1)\n",
    "            else:\n",
    "                Q1_true, Q2_true = get_Q_true(world2, idcs2)\n",
    "\n",
    "            for j in range(this_range):\n",
    "\n",
    "                moves = np.load(os.path.join(rep_folder, str(i), 'moves%u.npy'%j))\n",
    "\n",
    "                for move in moves:\n",
    "\n",
    "                    if len(move) != 2:\n",
    "                        s = move[0]\n",
    "                        a = move[1]\n",
    "                        if a in get_optimal_move(s, Q2_true):\n",
    "                            opt_moves11 += 1\n",
    "                        elif a in get_optimal_move(s, Q1_true)//4:\n",
    "                            opt_moves12 += 1\n",
    "\n",
    "                    else:\n",
    "                        s = move[0][0]\n",
    "                        a = move[0][1]\n",
    "                        if a in get_optimal_move(s, Q2_true):\n",
    "                            opt_moves21 += 1\n",
    "                        elif a in get_optimal_move(s, Q1_true)//4:\n",
    "                            opt_moves22 += 1\n",
    "\n",
    "        flex_idcs.append(opt_moves11/(18*5) - opt_moves12/(18*5) - opt_moves21/(36*5) + opt_moves22/(36*5))\n",
    "    return flex_idcs"
   ]
  },
  {
   "cell_type": "code",
   "execution_count": null,
   "id": "opposed-vaccine",
   "metadata": {
    "ExecuteTime": {
     "end_time": "2021-03-12T21:45:29.074698Z",
     "start_time": "2021-03-12T19:14:51.265395Z"
    },
    "code_folding": [],
    "deletable": false,
    "editable": false,
    "run_control": {
     "frozen": true
    },
    "scrolled": true
   },
   "outputs": [],
   "source": [
    "Y = np.zeros((100, 40))\n",
    "for i in range(40):\n",
    "    Y[:, i] = get_flex_idcs(i)\n",
    "    print('Done %u'%i)\n",
    "np.save(os.path.join('/Users/GA/Documents/Dayan_lab/Data/Eran/flexibility/all_flex.npy'), Y)"
   ]
  },
  {
   "cell_type": "markdown",
   "id": "indian-palestinian",
   "metadata": {},
   "source": [
    "### Load flexibility idcs"
   ]
  },
  {
   "cell_type": "code",
   "execution_count": 4,
   "id": "aggressive-concern",
   "metadata": {
    "ExecuteTime": {
     "end_time": "2021-03-29T15:09:55.365161Z",
     "start_time": "2021-03-29T15:09:55.291046Z"
    }
   },
   "outputs": [],
   "source": [
    "root_folder = '/Users/GA/Documents/Dayan_lab/Data/Eran/subject_data'\n",
    "\n",
    "flex_idcs_hums = np.zeros(40)\n",
    "for i in range(40):\n",
    "    tmp = np.load(os.path.join(root_folder, str(i), 'flexibility.npy'))\n",
    "    flex_idcs_hums[i] = tmp[0]-tmp[1]+tmp[3]-tmp[2]\n",
    "\n",
    "Y = np.load('/Users/GA/Documents/Dayan_lab/Data/Eran/flexibility/all_flex.npy')\n",
    "flex_idcs_ag   = np.mean(Y, axis=0)"
   ]
  },
  {
   "cell_type": "code",
   "execution_count": 5,
   "id": "blessed-dependence",
   "metadata": {
    "ExecuteTime": {
     "end_time": "2021-03-29T15:09:55.793150Z",
     "start_time": "2021-03-29T15:09:55.777730Z"
    }
   },
   "outputs": [],
   "source": [
    "subs_who_replay = np.load(os.path.join('/Users/GA/Documents/Dayan_lab/Data/Eran/task/Analysis', 'subs_who_replay.npy'))\n",
    "vals = np.load(os.path.join('/Users/GA/Documents/Dayan_lab/Data/Eran/task/Analysis', 'value_objective.npy'))"
   ]
  },
  {
   "cell_type": "markdown",
   "id": "exposed-customer",
   "metadata": {},
   "source": [
    "### Regression human IF vs simulated IF"
   ]
  },
  {
   "cell_type": "code",
   "execution_count": 11,
   "id": "heated-agent",
   "metadata": {
    "ExecuteTime": {
     "end_time": "2021-03-24T12:07:19.684473Z",
     "start_time": "2021-03-24T12:07:14.245298Z"
    }
   },
   "outputs": [
    {
     "name": "stdout",
     "output_type": "stream",
     "text": [
      "34\n",
      "38\n"
     ]
    },
    {
     "data": {
      "image/png": "[encoded data removed]",
      "text/plain": [
       "<Figure size 432x432 with 1 Axes>"
      ]
     },
     "metadata": {
      "needs_background": "light"
     },
     "output_type": "display_data"
    }
   ],
   "source": [
    "reg = LinearRegression().fit(flex_idcs_hums.reshape(-1, 1), np.array(flex_idcs_ag).reshape(-1,1))\n",
    "\n",
    "x_pred = np.linspace(-0.15, 1.2, 20)\n",
    "y_pred = reg.predict(x_pred.reshape(-1, 1))\n",
    "rr, pr = pearsonr(flex_idcs_hums, flex_idcs_ag)\n",
    "\n",
    "figure = plt.figure(figsize=(6, 6))\n",
    "\n",
    "for i in range(40):\n",
    "    if i in subs_who_replay:\n",
    "        if i in subs_who_replay[np.argwhere(vals < 0).flatten()]:\n",
    "            plt.scatter(flex_idcs_hums[i], flex_idcs_ag[i], c='green')\n",
    "            print(i)\n",
    "        else:\n",
    "            plt.scatter(flex_idcs_hums[i], flex_idcs_ag[i], c='r')\n",
    "    else:\n",
    "        plt.scatter(flex_idcs_hums[i], flex_idcs_ag[i], c='b')\n",
    "plt.plot(x_pred, y_pred, c='k')\n",
    "plt.xlabel('Human IF', fontsize=14)\n",
    "plt.ylabel('Agent IF', fontsize=14)\n",
    "plt.title(r'$R^{2}=%.2f, p=%.3E$'%(rr**2, pr));\n",
    "\n",
    "flex_subs   = np.array([flex_idcs_ag[i] for i in subs_who_replay])\n",
    "inflex_subs = np.array([flex_idcs_ag[i] for i in range(40) if i not in subs_who_replay])\n",
    "\n",
    "# plt.savefig('/Users/GA/Documents/Dayan_lab/Paper/Figures_data/supp4/flex_idx.svg', transparent=True)\n",
    "\n",
    "# d, t, p = permutation_test(inflex_subs, flex_subs, 100000, return_tests=True)\n",
    "# with open('/Users/GA/Documents/Dayan_lab/Paper/Figures_data/supp4/stats_flex_idx.txt', 'w') as f:\n",
    "#     f.write('Regression: R^2 = %.3E, p = %.3E\\n'%(rr**2, pr))\n",
    "#     f.write('Inflex vs flex: t = %.3E, p = %.3E'%(t, p))"
   ]
  },
  {
   "cell_type": "markdown",
   "id": "organic-framework",
   "metadata": {},
   "source": [
    "### Parameters IF analysis"
   ]
  },
  {
   "cell_type": "code",
   "execution_count": 6,
   "id": "lined-soviet",
   "metadata": {
    "ExecuteTime": {
     "end_time": "2021-03-29T15:10:04.773864Z",
     "start_time": "2021-03-29T15:10:04.771199Z"
    }
   },
   "outputs": [],
   "source": [
    "params_path = '/Users/GA/Documents/Dayan_lab/Data/Eran/fits'"
   ]
  },
  {
   "cell_type": "code",
   "execution_count": 10,
   "id": "sophisticated-anderson",
   "metadata": {
    "ExecuteTime": {
     "end_time": "2021-03-29T15:12:20.538298Z",
     "start_time": "2021-03-29T15:12:20.446478Z"
    }
   },
   "outputs": [
    {
     "name": "stdout",
     "output_type": "stream",
     "text": [
      "subject: 0, tau^{MB}: 0.98, tau^{MF}: 0.97\n",
      "subject: 2, tau^{MB}: 1.00, tau^{MF}: 0.80\n",
      "subject: 3, tau^{MB}: 1.00, tau^{MF}: 0.62\n",
      "subject: 5, tau^{MB}: 0.20, tau^{MF}: 0.91\n",
      "subject: 6, tau^{MB}: 0.30, tau^{MF}: 0.95\n",
      "subject: 8, tau^{MB}: 1.00, tau^{MF}: 1.00\n",
      "subject: 14, tau^{MB}: 0.96, tau^{MF}: 0.93\n",
      "subject: 16, tau^{MB}: 0.99, tau^{MF}: 0.77\n",
      "subject: 17, tau^{MB}: 0.94, tau^{MF}: 0.93\n",
      "subject: 19, tau^{MB}: 1.00, tau^{MF}: 0.76\n",
      "subject: 21, tau^{MB}: 1.00, tau^{MF}: 0.79\n",
      "subject: 24, tau^{MB}: 0.57, tau^{MF}: 0.85\n",
      "subject: 26, tau^{MB}: 0.47, tau^{MF}: 0.87\n",
      "subject: 27, tau^{MB}: 0.69, tau^{MF}: 0.93\n",
      "subject: 28, tau^{MB}: 0.23, tau^{MF}: 0.89\n",
      "subject: 29, tau^{MB}: 0.92, tau^{MF}: 0.34\n",
      "subject: 32, tau^{MB}: 1.00, tau^{MF}: 0.65\n",
      "subject: 34, tau^{MB}: 0.33, tau^{MF}: 0.93\n",
      "subject: 35, tau^{MB}: 0.94, tau^{MF}: 0.97\n",
      "subject: 37, tau^{MB}: 0.98, tau^{MF}: 0.89\n",
      "subject: 38, tau^{MB}: 0.14, tau^{MF}: 0.97\n"
     ]
    }
   ],
   "source": [
    "for i in subs_who_replay:\n",
    "    p = np.load(os.path.join(params_path, 'save_params_%u'%i, 'params.npy'))[:18]\n",
    "    print('subject: %u, tau^{MB}: %.2f, tau^{MF}: %.2f'%(i, p[8], p[9]))"
   ]
  },
  {
   "cell_type": "code",
   "execution_count": null,
   "id": "sustained-samuel",
   "metadata": {
    "ExecuteTime": {
     "end_time": "2021-03-20T13:21:28.885544Z",
     "start_time": "2021-03-20T13:21:27.346724Z"
    }
   },
   "outputs": [],
   "source": [
    "# subs = np.delete(range(40), subs_who_replay)\n",
    "subs = subs_who_replay\n",
    "\n",
    "# load params\n",
    "# MB_params = [5, 6, 7, 8, 10, 11, 12, 13, 14, 15, 16, 17]\n",
    "MB_params = [5, 10, 11, 12, 13, 14]\n",
    "\n",
    "labels = np.delete(range(18), MB_params)\n",
    "\n",
    "X = np.zeros((len(subs), 18))\n",
    "for i in range(X.shape[0]):\n",
    "    p = np.load(os.path.join(params_path, 'save_params_%u'%subs[i], 'params.npy'))[:18]\n",
    "    p[8] = (1-p[8])\n",
    "    p[9] = (1-p[9])\n",
    "    X[i, :] = p\n",
    "\n",
    "# zscore\n",
    "X = zscore(X, axis=0)\n",
    "y = zscore(np.mean(Y[:, subs], axis=0))\n",
    "\n",
    "X = pd.DataFrame(X, columns=[str(i) for i in range(18)])\n",
    "X.drop([str(i) for i in MB_params], axis=1, inplace=True)\n",
    "\n",
    "estimator = LinearRegression()\n",
    "selector  = RFECV(estimator, min_features_to_select=4, step=1, cv=5)\n",
    "selector  = selector.fit(X, y)\n",
    "\n",
    "for i in range(len(selector.ranking_)):\n",
    "    if selector.ranking_[i] != 1:\n",
    "        X.drop(str(labels[i]), axis=1, inplace=True)\n",
    "        \n",
    "est = sm.OLS(y, X)\n",
    "est2 = est.fit()\n",
    "print(est2.summary())"
   ]
  },
  {
   "cell_type": "code",
   "execution_count": null,
   "id": "acceptable-extent",
   "metadata": {
    "ExecuteTime": {
     "end_time": "2021-03-20T13:21:39.073963Z",
     "start_time": "2021-03-20T13:21:39.064146Z"
    }
   },
   "outputs": [],
   "source": [
    "coefs  = est2.params\n",
    "labels = est2.params.index.astype(int)\n",
    "\n",
    "sort_idcs  = np.argsort(np.abs(coefs))[::-1]\n",
    "\n",
    "sorted_labels  = [labels[k] for k in sort_idcs]\n",
    "sorted_coefs   = coefs[sort_idcs]\n",
    "sorted_ci      = est2.conf_int(0.05).iloc[sort_idcs]"
   ]
  },
  {
   "cell_type": "code",
   "execution_count": null,
   "id": "wooden-harrison",
   "metadata": {
    "ExecuteTime": {
     "end_time": "2021-03-20T13:21:39.965166Z",
     "start_time": "2021-03-20T13:21:39.754164Z"
    }
   },
   "outputs": [],
   "source": [
    "figure = plt.figure(figsize=(7, 4))\n",
    "\n",
    "plt.bar(range(len(sorted_labels)), sorted_coefs, width=0.7, facecolor='#4CBA64')\n",
    "for i in range(len(sorted_labels)):\n",
    "    x = [i, i]\n",
    "    y = [sorted_ci[0].iloc[i], sorted_ci[1].iloc[i]]\n",
    "    plt.plot(x, y, c='k')\n",
    "    \n",
    "plt.axhline(0, c='k')\n",
    "plt.xticks(range(len(sorted_labels)), sorted_labels, fontsize=16);\n",
    "plt.yticks(fontsize=14)\n",
    "plt.ylabel('Relation to flexibility', fontsize=16)\n",
    "# plt.ylim([-1.25, 1.25])\n",
    "\n",
    "# plt.savefig('/Users/GA/Documents/Dayan_lab/Paper/Figures_data/supp4/inflex_coef.svg', transparent=True)\n",
    "# with open('/Users/GA/Documents/Dayan_lab/Paper/Figures_data/supp4/stats_coef_inflex.txt', 'w') as f:\n",
    "#     f.write(est2.summary().as_text())"
   ]
  },
  {
   "cell_type": "markdown",
   "id": "olympic-electron",
   "metadata": {},
   "source": [
    "### Replay is sometimes bad..."
   ]
  },
  {
   "cell_type": "code",
   "execution_count": 19,
   "id": "changed-knitting",
   "metadata": {
    "ExecuteTime": {
     "end_time": "2021-03-25T16:47:41.575569Z",
     "start_time": "2021-03-25T16:47:41.527317Z"
    }
   },
   "outputs": [
    {
     "name": "stdout",
     "output_type": "stream",
     "text": [
      "                                 OLS Regression Results                                \n",
      "=======================================================================================\n",
      "Dep. Variable:                      y   R-squared (uncentered):                   0.816\n",
      "Model:                            OLS   Adj. R-squared (uncentered):              0.785\n",
      "Method:                 Least Squares   F-statistic:                              26.60\n",
      "Date:                Thu, 25 Mar 2021   Prob (F-statistic):                    7.79e-07\n",
      "Time:                        17:47:41   Log-Likelihood:                         -12.025\n",
      "No. Observations:                  21   AIC:                                      30.05\n",
      "Df Residuals:                      18   BIC:                                      33.18\n",
      "Df Model:                           3                                                  \n",
      "Covariance Type:            nonrobust                                                  \n",
      "==============================================================================\n",
      "                 coef    std err          t      P>|t|      [0.025      0.975]\n",
      "------------------------------------------------------------------------------\n",
      "8             -0.0595      0.110     -0.543      0.594      -0.290       0.171\n",
      "9              0.8916      0.115      7.762      0.000       0.650       1.133\n",
      "15            -0.0410      0.107     -0.381      0.707      -0.267       0.185\n",
      "==============================================================================\n",
      "Omnibus:                        2.213   Durbin-Watson:                   1.579\n",
      "Prob(Omnibus):                  0.331   Jarque-Bera (JB):                0.757\n",
      "Skew:                           0.260   Prob(JB):                        0.685\n",
      "Kurtosis:                       3.771   Cond. No.                         1.68\n",
      "==============================================================================\n",
      "\n",
      "Warnings:\n",
      "[1] Standard Errors assume that the covariance matrix of the errors is correctly specified.\n"
     ]
    }
   ],
   "source": [
    "subs = subs_who_replay\n",
    "\n",
    "# load params\n",
    "# MB_params = [5, 10, 11, 12, 13, 14]\n",
    "MB_params = np.delete(range(18), [8, 9, 15])\n",
    "\n",
    "labels = np.delete(range(18), MB_params)\n",
    "\n",
    "X = np.zeros((len(subs), 18))\n",
    "for i in range(X.shape[0]):\n",
    "    p = np.load(os.path.join(params_path, 'save_params_%u'%subs[i], 'params.npy'))[:18]\n",
    "    p[8] = (1-p[8])\n",
    "    p[9] = (1-p[9])\n",
    "    X[i, :] = p\n",
    "    \n",
    "# zscore\n",
    "X = zscore(X, axis=0)\n",
    "y = zscore(vals)\n",
    "\n",
    "X = pd.DataFrame(X, columns=[str(i) for i in range(18)])\n",
    "X.drop([str(i) for i in MB_params], axis=1, inplace=True)\n",
    "\n",
    "est = sm.OLS(y, X)\n",
    "est2 = est.fit()\n",
    "print(est2.summary())"
   ]
  },
  {
   "cell_type": "code",
   "execution_count": null,
   "id": "offensive-rally",
   "metadata": {
    "ExecuteTime": {
     "end_time": "2021-03-20T13:55:15.994245Z",
     "start_time": "2021-03-20T13:55:15.984421Z"
    }
   },
   "outputs": [],
   "source": [
    "coefs  = est2.params\n",
    "labels = est2.params.index.astype(int)\n",
    "\n",
    "sort_idcs  = np.argsort(np.abs(coefs))[::-1]\n",
    "\n",
    "sorted_labels  = [labels[k] for k in sort_idcs]\n",
    "sorted_coefs   = coefs[sort_idcs]\n",
    "sorted_ci      = est2.conf_int(0.05).iloc[sort_idcs]"
   ]
  },
  {
   "cell_type": "code",
   "execution_count": null,
   "id": "boolean-baking",
   "metadata": {
    "ExecuteTime": {
     "end_time": "2021-03-20T13:55:29.928073Z",
     "start_time": "2021-03-20T13:55:29.669506Z"
    }
   },
   "outputs": [],
   "source": [
    "figure = plt.figure(figsize=(7, 4))\n",
    "\n",
    "plt.bar(range(len(sorted_labels)), sorted_coefs, width=0.7, facecolor='#4CBA64')\n",
    "for i in range(len(sorted_labels)):\n",
    "    x = [i, i]\n",
    "    y = [sorted_ci[0].iloc[i], sorted_ci[1].iloc[i]]\n",
    "    plt.plot(x, y, c='k')\n",
    "    \n",
    "plt.axhline(0, c='k')\n",
    "plt.xticks(range(len(sorted_labels)), sorted_labels, fontsize=16);\n",
    "plt.yticks(fontsize=14)\n",
    "plt.ylabel('Relation to replay benefit', fontsize=16)\n",
    "\n",
    "plt.ylim([-1.3, 1.3])\n",
    "plt.savefig('/Users/GA/Documents/Dayan_lab/Paper/Figures_data/supp4/vals_coef.svg', transparent=True)\n",
    "with open('/Users/GA/Documents/Dayan_lab/Paper/Figures_data/supp4/stats_coef_vals.txt', 'w') as f:\n",
    "    f.write(est2.summary().as_text())"
   ]
  },
  {
   "cell_type": "markdown",
   "id": "female-honolulu",
   "metadata": {},
   "source": [
    "### Parameters MF and MB"
   ]
  },
  {
   "cell_type": "code",
   "execution_count": null,
   "id": "charming-idaho",
   "metadata": {
    "ExecuteTime": {
     "end_time": "2021-03-20T16:30:59.753134Z",
     "start_time": "2021-03-20T16:30:56.970402Z"
    }
   },
   "outputs": [],
   "source": [
    "# load params\n",
    "flex_tau, flex_rho, flex_xi   = [], [], []\n",
    "inflex_tau, inflex_rho, inflex_xi = [], [], []\n",
    "\n",
    "for i in range(40):\n",
    "    p = np.load(os.path.join(params_path, 'save_params_%u'%i, 'params.npy'))[:18]\n",
    "    if i in subs_who_replay:\n",
    "        flex_tau.append(1-p[9])\n",
    "        flex_rho.append(1-p[8])\n",
    "        flex_xi.append(p[15])\n",
    "    else:\n",
    "        inflex_tau.append(1-p[9])\n",
    "        inflex_rho.append(1-p[8])\n",
    "        inflex_xi.append(p[15])"
   ]
  },
  {
   "cell_type": "code",
   "execution_count": null,
   "id": "pediatric-inclusion",
   "metadata": {
    "ExecuteTime": {
     "end_time": "2021-03-20T16:31:15.453245Z",
     "start_time": "2021-03-20T16:31:14.516784Z"
    }
   },
   "outputs": [],
   "source": [
    "plt.figure(figsize=(14, 4))\n",
    "\n",
    "plt.subplot(1, 3, 1)\n",
    "plt.bar([1], np.mean(flex_tau), facecolor='r', alpha=0.5)\n",
    "plt.bar([2], np.mean(inflex_tau), facecolor='b', alpha=0.5)\n",
    "for i in range(len(flex_tau)):\n",
    "    if vals[i] < 0:\n",
    "        plt.scatter([1.1], flex_tau[i], facecolor='green')\n",
    "    else:\n",
    "        plt.scatter([0.9], flex_tau[i], facecolor='r')\n",
    "plt.scatter([2]*len(inflex_tau), inflex_tau, color='b')\n",
    "plt.ylim(0, 1)\n",
    "\n",
    "plt.subplot(1, 3, 2)\n",
    "hurt_rho    = []\n",
    "benefit_rho = []\n",
    "plt.bar([1.5], np.mean(flex_rho), facecolor='r', alpha=0.5)\n",
    "for i in range(len(flex_rho)):\n",
    "    if vals[i] < 0:\n",
    "        hurt_rho.append(flex_rho[i])\n",
    "        plt.scatter([1.6], flex_rho[i], c='green')\n",
    "    else:\n",
    "        benefit_rho.append(flex_rho[i])\n",
    "        plt.scatter([1.4], flex_rho[i], c='r')\n",
    "plt.ylim(0, 1)\n",
    "plt.xlim(0.5, 2.5)\n",
    "\n",
    "plt.subplot(1, 3, 3)\n",
    "hurt_xi    = []\n",
    "benefit_xi = []\n",
    "plt.bar([1.5], np.mean(np.log10(flex_xi)), alpha=0.5, facecolor='r')\n",
    "for i in range(len(flex_xi)):\n",
    "    if vals[i] < 0:\n",
    "        hurt_xi.append(flex_xi[i])\n",
    "        plt.scatter([1.6], np.log10(flex_xi[i]), c='green')\n",
    "    else:\n",
    "        benefit_xi.append(flex_xi[i])\n",
    "        plt.scatter([1.4], np.log10(flex_xi[i]), c='r')\n",
    "plt.xlim(0.5, 2.5)\n",
    "plt.savefig('/Users/GA/Documents/Dayan_lab/Paper/Figures_data/supp4/flex_inflex_params.svg', transparent=True)"
   ]
  },
  {
   "cell_type": "code",
   "execution_count": null,
   "id": "boring-words",
   "metadata": {
    "ExecuteTime": {
     "end_time": "2021-03-20T16:31:22.421151Z",
     "start_time": "2021-03-20T16:31:16.136803Z"
    }
   },
   "outputs": [],
   "source": [
    "t_tau, p_tau = ranksums(flex_tau, inflex_tau)\n",
    "tests_rho, t_rho, p_rho = bootstrap_test(np.array(hurt_rho), np.array(benefit_rho), 100000)\n",
    "tests_xi, t_xi,  p_xi  = bootstrap_test(np.array(hurt_xi), np.array(benefit_xi), 100000)\n",
    "with open('/Users/GA/Documents/Dayan_lab/Paper/Figures_data/supp4/stats_flex_inflex_params.txt', 'w') as f:\n",
    "    f.write('Ranksums : Inflex tau vs flex tau   : t = %.3E, p = %.3E\\n'%(t_tau, p_tau))\n",
    "    f.write('Bootstrap: Hurt rho   vs benefit rho: t = %.3E, p = %.3E\\n'%(t_rho, p_rho))\n",
    "    f.write('Bootstrap: Hurt xi    vs benefit xi : t = %.3E, p = %.3E'%(t_xi, p_xi))"
   ]
  },
  {
   "cell_type": "code",
   "execution_count": null,
   "id": "patent-gather",
   "metadata": {
    "ExecuteTime": {
     "end_time": "2021-03-17T17:33:24.798820Z",
     "start_time": "2021-03-17T17:33:24.539686Z"
    }
   },
   "outputs": [],
   "source": [
    "plt.hist(tests_rho);\n",
    "plt.axvline(t_rho, c='k')"
   ]
  },
  {
   "cell_type": "markdown",
   "id": "conditional-spyware",
   "metadata": {},
   "source": [
    "### Compare Eran's and our forgetting params"
   ]
  },
  {
   "cell_type": "code",
   "execution_count": null,
   "id": "dimensional-alexander",
   "metadata": {
    "ExecuteTime": {
     "end_time": "2021-03-20T16:31:39.578337Z",
     "start_time": "2021-03-20T16:31:39.400849Z"
    }
   },
   "outputs": [],
   "source": [
    "eran_params = '/Users/GA/Documents/Dayan_lab/Data/Eran/Parameter_fits.xlsx'\n",
    "df_eran = pd.read_excel(eran_params)\n",
    "tau_eran = df_eran.iloc[7].values[1:]\n",
    "rho_eran = df_eran.iloc[10].values[1:]"
   ]
  },
  {
   "cell_type": "code",
   "execution_count": null,
   "id": "agricultural-closer",
   "metadata": {
    "ExecuteTime": {
     "end_time": "2021-03-20T16:31:42.909226Z",
     "start_time": "2021-03-20T16:31:40.182089Z"
    }
   },
   "outputs": [],
   "source": [
    "my_params = '/Users/GA/Documents/Dayan_lab/Data/Eran/fits'\n",
    "df_my = np.zeros((40, 18))\n",
    "for i in range(df_my.shape[0]):\n",
    "    p = np.load(os.path.join(my_params, 'save_params_%u'%i, 'params.npy'))[:18]\n",
    "    df_my[i, :] = p\n",
    "    \n",
    "tau_my = (1-df_my[:, 8])\n",
    "rho_my = (1-df_my[:, 9])"
   ]
  },
  {
   "cell_type": "code",
   "execution_count": null,
   "id": "automatic-forty",
   "metadata": {
    "ExecuteTime": {
     "end_time": "2021-03-20T16:33:22.032604Z",
     "start_time": "2021-03-20T16:33:21.346679Z"
    }
   },
   "outputs": [],
   "source": [
    "plt.figure(figsize=(10, 5), dpi=100)\n",
    "\n",
    "plt.subplot(1, 2, 1)\n",
    "plt.bar([1], np.mean(tau_my), facecolor='#00D667', alpha=0.4)\n",
    "plt.scatter([1]*40, tau_my, c='#00D667')\n",
    "plt.bar([2], np.mean(tau_eran), facecolor='k', alpha=0.4)\n",
    "plt.scatter([2]*40, tau_eran, c='k')\n",
    "plt.ylim(0, 1)\n",
    "t_tau, p_tau = ttest_ind(tau_my, tau_eran)\n",
    "plt.title('tau, t=%.2f, p=%.2E'%(t_tau, p_tau), fontsize=18)\n",
    "\n",
    "plt.subplot(1, 2, 2)\n",
    "plt.bar([1], np.mean(rho_my), facecolor='#00D667', alpha=0.4)\n",
    "plt.scatter([1]*40, rho_my, c='#00D667')\n",
    "plt.bar([2], np.mean(rho_eran), facecolor='k', alpha=0.4)\n",
    "plt.scatter([2]*40, rho_eran, c='k')\n",
    "for i in range(40):\n",
    "    plt.plot([1, 2], [rho_my[i], rho_eran[i]], c='k', alpha=0.8)\n",
    "plt.ylim(0, 1)\n",
    "t_rho, p_rho = ttest_ind(rho_my, rho_eran)\n",
    "plt.title('rho, t=%.2f, p=%.2E'%(t_rho, p_rho), fontsize=18)\n",
    "\n",
    "plt.savefig('/Users/GA/Documents/Dayan_lab/Paper/Figures_data/supp7/param_diff.svg', transparent=True)\n",
    "\n",
    "diffs = []\n",
    "for i in range(40):\n",
    "    diffs.append(rho_my[i] - rho_eran[i])\n",
    "t_diff, p_diff = ttest_1samp(diffs, 0)\n",
    "\n",
    "with open('/Users/GA/Documents/Dayan_lab/Paper/Figures_data/supp7/stats_params.txt', 'w') as f:\n",
    "    f.write('tau ours vs Eran\\'s:      t = %.3E, p = %.3E\\n'%(t_tau,  p_tau))\n",
    "    f.write('rho ours vs Eran\\'s:      t = %.3E, p = %.3E\\n'%(t_rho,  p_rho))\n",
    "    f.write('diff rho ours vs Eran\\'s: t = %.3E, p = %.3E\\n'%(t_diff, p_diff))"
   ]
  },
  {
   "cell_type": "markdown",
   "id": "worst-upgrade",
   "metadata": {},
   "source": [
    "### Model entropy after training"
   ]
  },
  {
   "cell_type": "code",
   "execution_count": null,
   "id": "blind-funeral",
   "metadata": {
    "ExecuteTime": {
     "end_time": "2021-03-20T10:52:28.343252Z",
     "start_time": "2021-03-20T10:52:25.713157Z"
    }
   },
   "outputs": [],
   "source": [
    "root_folder = '/Users/GA/Documents/Dayan_lab/Data/Eran/task/'\n",
    "\n",
    "_, Q2_true  = get_Q_true(world1, idcs1)\n",
    "ents_flex   = []\n",
    "ents_inflex = []\n",
    "\n",
    "for sub in range(40):\n",
    "    sub_folder = os.path.join(root_folder, str(sub), 'training', '6')\n",
    "    z = np.load(os.path.join(sub_folder, 'move47.npz'))\n",
    "    T = z['T']\n",
    "    tmp = []\n",
    "    for s in range(8):\n",
    "        a_opt = get_optimal_move(s, Q2_true)\n",
    "        this_ent = get_entropy(T, s, a_opt)\n",
    "        if len(this_ent) > 1:\n",
    "            this_ent = np.mean(this_ent)\n",
    "        else:\n",
    "            this_ent = this_ent[0]\n",
    "        tmp.append(this_ent)\n",
    "    if sub in subs_who_replay:\n",
    "        ents_flex += [np.mean(tmp)]\n",
    "    else:\n",
    "        ents_inflex += [np.mean(tmp)]"
   ]
  },
  {
   "cell_type": "code",
   "execution_count": null,
   "id": "stock-gibraltar",
   "metadata": {
    "ExecuteTime": {
     "end_time": "2021-03-20T11:34:03.463857Z",
     "start_time": "2021-03-20T11:34:03.198344Z"
    }
   },
   "outputs": [],
   "source": [
    "plt.figure(figsize=(5, 5), dpi=100)\n",
    "\n",
    "plt.axhline(np.log2(7))\n",
    "\n",
    "plt.bar(1, np.mean(ents_flex), facecolor='r', alpha=0.5)\n",
    "plt.scatter([1]*len(ents_flex), ents_flex, c='r')\n",
    "plt.bar(2, np.mean(ents_inflex), facecolor='b', alpha=0.5)\n",
    "plt.scatter([2]*len(ents_inflex), ents_inflex, c='b')\n",
    "\n",
    "t_diff, p_diff = ttest_ind(ents_flex, ents_inflex)\n",
    "\n",
    "with open('/Users/GA/Documents/Dayan_lab/Paper/Figures_data/supp1/model_entropy.txt', 'w') as f:\n",
    "    f.write('ent MI vs ent MF: t = %.3E, p = %.3E\\n'%(t_diff,  p_diff))\n",
    "\n",
    "plt.savefig('/Users/GA/Documents/Dayan_lab/Paper/Figures_data/supp1/model_entropy.svg', transparent=True, format='svg')"
   ]
  },
  {
   "cell_type": "markdown",
   "id": "conditional-constitutional",
   "metadata": {},
   "source": [
    "### Off-task replay"
   ]
  },
  {
   "cell_type": "code",
   "execution_count": null,
   "id": "improved-practitioner",
   "metadata": {
    "ExecuteTime": {
     "end_time": "2021-03-17T17:08:11.325789Z",
     "start_time": "2021-03-17T17:08:07.951886Z"
    }
   },
   "outputs": [],
   "source": [
    "root_folder   = '/Users/GA/Documents/Dayan_lab/Data/Eran/task/'\n",
    "\n",
    "H_opt_single_all    = []\n",
    "H_opt_paired_all    = []\n",
    "H_subopt_single_all = []\n",
    "H_subopt_paired_all = []\n",
    "\n",
    "opt_all    = []\n",
    "subopt_all = []\n",
    "\n",
    "subs_who_replay = np.load(os.path.join(root_folder, 'Analysis', 'subs_who_replay.npy'))\n",
    "\n",
    "for sub in subs_who_replay:\n",
    "\n",
    "    H_opt_single    = []\n",
    "    H_opt_paired    = []\n",
    "    H_subopt_single = []\n",
    "    H_subopt_paired = []\n",
    "    opt             = []\n",
    "    subopt          = []\n",
    "\n",
    "    sub_task_folder = os.path.join(root_folder, str(sub))\n",
    "\n",
    "    for i in [1]:\n",
    "        if i == 1:\n",
    "            Q1_true, Q2_true = get_Q_true(world2, idcs1)\n",
    "        else:\n",
    "            Q1_true, Q2_true = get_Q_true(world2, idcs1)\n",
    "\n",
    "        file = os.path.join(sub_task_folder, str(i), 'offline.npz')\n",
    "\n",
    "        data      = np.load(file, allow_pickle=True)\n",
    "        T         = data['T']\n",
    "        \n",
    "        tmp_opt    = 0\n",
    "        tmp_subopt = 1\n",
    "        \n",
    "        replay_backups = np.atleast_2d(data['replay_backups'])\n",
    "        if replay_backups.shape[0] > 1:\n",
    "\n",
    "            for rid in range(1, replay_backups.shape[0]):\n",
    "\n",
    "                this_replay = replay_backups[rid, :]\n",
    "                sr = int(this_replay[0])\n",
    "                ar = int(this_replay[1])\n",
    "                pl = int(this_replay[4])\n",
    "\n",
    "                if pl == 0:\n",
    "                    paired_move_optimal = ar in get_optimal_move(sr, Q1_true)\n",
    "                    if paired_move_optimal:\n",
    "                        H_opt_paired += [get_joint_entropy(T, sr, ar//4, ar%4)]\n",
    "                        tmp_opt += 1\n",
    "                    else:\n",
    "                        H_subopt_paired += [get_joint_entropy(T, sr, ar//4, ar%4)]\n",
    "                        tmp_subopt += 1\n",
    "                else:\n",
    "                    second_single_move_optimal = ar in get_optimal_move(sr, Q2_true)\n",
    "                    if second_single_move_optimal:\n",
    "                        H_opt_single += [get_entropy(T, sr, ar)]\n",
    "                        tmp_opt += 1\n",
    "                    else:\n",
    "                        H_subopt_single += [get_entropy(T, sr, ar)]\n",
    "                        tmp_subopt += 1\n",
    "        else:\n",
    "            tmp_opt     = 0\n",
    "            tmp_subopt  = 0\n",
    "\n",
    "        opt    += [tmp_opt]\n",
    "        subopt += [tmp_subopt]\n",
    "\n",
    "    opt_all             += [np.nanmean(opt)]\n",
    "    subopt_all          += [np.nanmean(subopt)]\n",
    "    H_opt_single_all    += H_opt_single\n",
    "    H_opt_paired_all    += H_opt_paired\n",
    "    H_subopt_single_all += H_subopt_single\n",
    "    H_subopt_paired_all += H_subopt_paired"
   ]
  },
  {
   "cell_type": "code",
   "execution_count": null,
   "id": "every-wichita",
   "metadata": {
    "ExecuteTime": {
     "end_time": "2021-03-17T17:11:25.467950Z",
     "start_time": "2021-03-17T17:11:25.236645Z"
    }
   },
   "outputs": [],
   "source": [
    "plt.figure(figsize=(4, 4))\n",
    "\n",
    "plt.bar(1, np.mean(opt_all), facecolor='orange', alpha=0.6, align='center')\n",
    "plt.scatter([1]*len(opt_all), opt_all, c='orange')\n",
    "plt.bar(2, np.mean(subopt_all), facecolor='b', alpha=0.6, align='center')\n",
    "plt.scatter([2]*len(subopt_all), subopt_all, c='b')\n",
    "plt.axhline(0, c='k')\n",
    "\n",
    "t, p = ranksums(opt_all, subopt_all)\n",
    "plt.title('t=%.3E, p=%.3E'%(t, p))\n",
    "plt.savefig('/Users/GA/Documents/Dayan_lab/Paper/Figures/replay.svg', format='svg', transparent=True)"
   ]
  },
  {
   "cell_type": "code",
   "execution_count": null,
   "id": "informational-shock",
   "metadata": {},
   "outputs": [],
   "source": []
  }
 ],
 "metadata": {
  "kernelspec": {
   "display_name": "Python 3",
   "language": "python",
   "name": "python3"
  },
  "language_info": {
   "codemirror_mode": {
    "name": "ipython",
    "version": 3
   },
   "file_extension": ".py",
   "mimetype": "text/x-python",
   "name": "python",
   "nbconvert_exporter": "python",
   "pygments_lexer": "ipython3",
   "version": "3.7.6"
  },
  "varInspector": {
   "cols": {
    "lenName": 16,
    "lenType": 16,
    "lenVar": 40
   },
   "kernels_config": {
    "python": {
     "delete_cmd_postfix": "",
     "delete_cmd_prefix": "del ",
     "library": "var_list.py",
     "varRefreshCmd": "print(var_dic_list())"
    },
    "r": {
     "delete_cmd_postfix": ") ",
     "delete_cmd_prefix": "rm(",
     "library": "var_list.r",
     "varRefreshCmd": "cat(var_dic_list()) "
    }
   },
   "types_to_exclude": [
    "module",
    "function",
    "builtin_function_or_method",
    "instance",
    "_Feature"
   ],
   "window_display": false
  }
 },
 "nbformat": 4,
 "nbformat_minor": 5
}
