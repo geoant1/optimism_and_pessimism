{
 "cells": [
  {
   "cell_type": "code",
   "execution_count": 4,
   "metadata": {
    "ExecuteTime": {
     "end_time": "2021-07-02T13:26:53.865300Z",
     "start_time": "2021-07-02T13:26:53.857780Z"
    }
   },
   "outputs": [],
   "source": [
    "# Import everything maybe needed somewhere\n",
    "import matplotlib\n",
    "from scipy import stats\n",
    "import numpy as np\n",
    "import pandas as pd\n",
    "from scipy.io import loadmat\n",
    "import scipy\n",
    "from sklearn.linear_model import LinearRegression\n",
    "import matplotlib.pyplot as plt\n",
    "import seaborn as sns\n",
    "import random\n",
    "from scipy.interpolate import griddata\n",
    "import os, glob, csv, shutil, sys\n",
    "sns.set_style(\"white\")\n",
    "# %matplotlib inline\n",
    "\n",
    "sys.path.append('/Users/GA/Documents/Dayan_lab/Optimism_And_Pessimism_In_Optimised_Replay/Code/Task')\n",
    "from misc import idcs2state, state2idcs, get_new_state, get_a_opp, policy_choose, policy_choose_moves\n",
    "from misc_analysis import *"
   ]
  },
  {
   "cell_type": "code",
   "execution_count": 57,
   "metadata": {
    "ExecuteTime": {
     "end_time": "2021-07-02T15:26:53.273919Z",
     "start_time": "2021-07-02T15:26:53.268683Z"
    }
   },
   "outputs": [],
   "source": [
    "root_folder = '/Users/GA/Documents/Dayan_lab/Optimism_And_Pessimism_In_Optimised_Replay/'"
   ]
  },
  {
   "cell_type": "code",
   "execution_count": 58,
   "metadata": {
    "ExecuteTime": {
     "end_time": "2021-07-02T15:26:54.001135Z",
     "start_time": "2021-07-02T15:26:53.982781Z"
    },
    "code_folding": []
   },
   "outputs": [],
   "source": [
    "# World 1\n",
    "world1 = np.load(os.path.join(root_folder, 'Data/world1.npy'))\n",
    "world2 = np.load(os.path.join(root_folder, 'Data/world2.npy'))\n",
    "idcs1  = np.load(os.path.join(root_folder, 'Data/idcs1.npy'))\n",
    "idcs2  = np.load(os.path.join(root_folder, 'Data/idcs2.npy'))"
   ]
  },
  {
   "cell_type": "markdown",
   "metadata": {},
   "source": [
    "## Sequenceness"
   ]
  },
  {
   "cell_type": "code",
   "execution_count": 7,
   "metadata": {
    "ExecuteTime": {
     "end_time": "2021-07-02T14:44:36.790592Z",
     "start_time": "2021-07-02T14:44:36.773379Z"
    },
    "scrolled": true
   },
   "outputs": [],
   "source": [
    "data_path = os.path.join(root_folder, '/Paper/Figures_data/Figure1', 'Figure3c.mat')\n",
    "data      = loadmat(data_path)"
   ]
  },
  {
   "cell_type": "code",
   "execution_count": 8,
   "metadata": {
    "ExecuteTime": {
     "end_time": "2021-07-02T14:44:38.857902Z",
     "start_time": "2021-07-02T14:44:38.851255Z"
    }
   },
   "outputs": [],
   "source": [
    "high_seq = [data['first_of_two_moves_high_seq'], data['second_of_two_moves_high_seq'], data['one_move_high_seq']]\n",
    "low_seq = [data['first_of_two_moves_low_seq'], data['second_of_two_moves_low_seq'], data['one_move_low_seq']]"
   ]
  },
  {
   "cell_type": "code",
   "execution_count": 9,
   "metadata": {
    "ExecuteTime": {
     "end_time": "2021-07-02T14:44:43.309482Z",
     "start_time": "2021-07-02T14:44:43.120426Z"
    }
   },
   "outputs": [
    {
     "data": {
      "image/png": "[encoded data removed]",
      "text/plain": [
       "<Figure size 360x360 with 1 Axes>"
      ]
     },
     "metadata": {},
     "output_type": "display_data"
    }
   ],
   "source": [
    "fig = plt.figure(figsize=(5, 5))\n",
    "\n",
    "c = 0\n",
    "colours = ['k', 'r', 'b']\n",
    "labels  = ['first', 'second', 'one']\n",
    "for i in range(3):\n",
    "    y = low_seq[i]\n",
    "    plt.scatter(1+c, np.mean(y), marker='h', c=colours[i], s=150, label=labels[i])\n",
    "    std = np.std(y, axis=0)\n",
    "    sem = std/np.sqrt(len(y))\n",
    "    plt.plot([1+c, 1+c], [np.mean(y)-sem, np.mean(y)+sem], c=colours[i])\n",
    "    \n",
    "    y = high_seq[i]\n",
    "    plt.scatter(2+c, np.mean(y), marker='h', c=colours[i], s=150)\n",
    "    std = np.std(y, axis=0)\n",
    "    sem = std/np.sqrt(len(y))\n",
    "    plt.plot([2+c, 2+c], [np.mean(y)-sem, np.mean(y)+sem], c=colours[i])\n",
    "    c += 0.18\n",
    "\n",
    "plt.legend(prop={'size':13})\n",
    "plt.xlim(0.36, 3)\n",
    "plt.ylim(-0.06, 0.06)\n",
    "plt.yticks([-0.05, 0, 0.05], [-5, 0, 5], fontsize=16);\n",
    "plt.xticks([1.18, 2.18], ['low', 'high'], fontsize=16);\n",
    "\n",
    "# plt.savefig('/Users/GA/Documents/Dayan_lab/Paper/Optimism_And_Pessimism_In_Optimised_Replay/Figures_data/Figure1/panel_3c.svg', format='svg', transparent=True)"
   ]
  },
  {
   "cell_type": "markdown",
   "metadata": {},
   "source": [
    "### Flexibility"
   ]
  },
  {
   "cell_type": "code",
   "execution_count": 10,
   "metadata": {
    "ExecuteTime": {
     "end_time": "2021-07-02T14:45:38.406957Z",
     "start_time": "2021-07-02T14:45:22.907297Z"
    }
   },
   "outputs": [],
   "source": [
    "k = np.zeros((40, 4))\n",
    "\n",
    "for sub in range(40):\n",
    "\n",
    "    sub_folder = os.path.join(root_folder, 'Data/task/%u'%(sub))\n",
    "    \n",
    "    opt_moves11 = 0\n",
    "    opt_moves12 = 0\n",
    "    opt_moves21 = 0\n",
    "    opt_moves22 = 0\n",
    "    \n",
    "    # iterate over 5 blocks\n",
    "    for i in range(5):\n",
    "        if i == 0:\n",
    "            this_range = 6\n",
    "        else:\n",
    "            this_range = 7\n",
    "        tmp = []\n",
    "        \n",
    "        if i in [0, 1]:\n",
    "            Q1_true, Q2_true = get_Q_true(world1, idcs1)\n",
    "        elif i in [2, 3]:\n",
    "            Q1_true, Q2_true = get_Q_true(world2, idcs1)\n",
    "        else:\n",
    "            Q1_true, Q2_true = get_Q_true(world2, idcs2)\n",
    "        \n",
    "        for j in range(this_range):\n",
    "    \n",
    "            os.chdir(os.path.join(sub_folder, str(i), str(j)))\n",
    "            all_files = glob.glob('*.npz')\n",
    "\n",
    "            # Sort files by episode number\n",
    "            episodes = [int(''.join(c for c in f if c.isdigit())) for f in all_files]\n",
    "            idcs     = [i[0] for i in sorted(enumerate(episodes), key=lambda x:x[1])]\n",
    "            all_files_sorted = [all_files[i] for i in idcs] \n",
    "            \n",
    "            for f in range(len(all_files_sorted)):\n",
    "                this_file = all_files_sorted[f]\n",
    "                data      = np.load(this_file)\n",
    "                move      = data['move']\n",
    "                \n",
    "                if len(move) != 2:\n",
    "                    s = move[0]\n",
    "                    a = move[1]\n",
    "                    if a in get_optimal_move(s, Q2_true):\n",
    "                        opt_moves11 += 1\n",
    "                    elif a in get_optimal_move(s, Q1_true)//4:\n",
    "                        opt_moves12 += 1\n",
    "\n",
    "                else:\n",
    "                    s = move[0][0]\n",
    "                    a = move[0][1]\n",
    "                    if a in get_optimal_move(s, Q2_true):\n",
    "                        opt_moves21 += 1\n",
    "                    elif a in get_optimal_move(s, Q1_true)//4:\n",
    "                        opt_moves22 += 1\n",
    "    \n",
    "    k[sub, :] = [opt_moves11/(18*5), opt_moves12/(18*5), opt_moves21/(36*5), opt_moves22/(36*5)]"
   ]
  },
  {
   "cell_type": "code",
   "execution_count": 11,
   "metadata": {
    "ExecuteTime": {
     "end_time": "2021-07-02T14:45:42.830288Z",
     "start_time": "2021-07-02T14:45:41.754657Z"
    }
   },
   "outputs": [
    {
     "data": {
      "text/plain": [
       "Text(0.5, 1.0, 'Agent')"
      ]
     },
     "execution_count": 11,
     "metadata": {},
     "output_type": "execute_result"
    },
    {
     "data": {
      "image/png": "[encoded data removed]",
      "text/plain": [
       "<Figure size 1008x432 with 2 Axes>"
      ]
     },
     "metadata": {},
     "output_type": "display_data"
    }
   ],
   "source": [
    "path = os.path.join(root_folder, '/Data/PerformanceSummaries.mat')\n",
    "data = loadmat(path)\n",
    "\n",
    "figure = plt.figure(figsize=(14, 6))\n",
    "plt.subplot(1, 2, 1)\n",
    "\n",
    "flex_idcs_hums = []\n",
    "for i in range(40):\n",
    "    tmp = np.mean(data['Fig1d'][i, :, :], axis=1)\n",
    "    flex_idcs_hums.append(tmp[0]-tmp[1]+tmp[3]-tmp[2])\n",
    "    plt.scatter([1, 2, 3, 4], tmp)\n",
    "    plt.plot([1, 2], [tmp[0], tmp[1]])\n",
    "    plt.plot([3, 4], [tmp[2], tmp[3]])\n",
    "plt.axhline(0.33, c='k', linestyle='--')\n",
    "plt.ylim([0,1])\n",
    "plt.title('Humans', fontsize=14)\n",
    "del data\n",
    "\n",
    "plt.subplot(1, 2, 2)\n",
    "\n",
    "flex_idcs_ag = []\n",
    "for i in range(40):\n",
    "    flex_idcs_ag.append(k[i, 0]-k[i, 1]+k[i, 3]-k[i, 2])\n",
    "    plt.scatter([1, 2, 3, 4], k[i, :])\n",
    "    plt.plot([1, 2], [k[i, 0], k[i, 1]])\n",
    "    plt.plot([3, 4], [k[i, 2], k[i, 3]])\n",
    "plt.axhline(0.33, c='k', linestyle='--')\n",
    "plt.ylim([0,1])\n",
    "plt.title('Agent', fontsize=14)"
   ]
  },
  {
   "cell_type": "code",
   "execution_count": 12,
   "metadata": {
    "ExecuteTime": {
     "end_time": "2021-07-02T14:45:57.739766Z",
     "start_time": "2021-07-02T14:45:57.082467Z"
    }
   },
   "outputs": [
    {
     "data": {
      "image/png": "[encoded data removed]",
      "text/plain": [
       "<Figure size 432x432 with 1 Axes>"
      ]
     },
     "metadata": {},
     "output_type": "display_data"
    }
   ],
   "source": [
    "figure = plt.figure(figsize=(6, 6))\n",
    "\n",
    "reg = LinearRegression().fit(np.array(flex_idcs_hums).reshape(-1, 1), np.array(flex_idcs_ag).reshape(-1,1))\n",
    "\n",
    "x_pred = np.linspace(-0.15, 1.2, 20)\n",
    "y_pred = reg.predict(x_pred.reshape(-1, 1))\n",
    "r, p = scipy.stats.pearsonr(flex_idcs_hums, flex_idcs_ag)\n",
    "\n",
    "plt.scatter(flex_idcs_hums, flex_idcs_ag, c='k')\n",
    "plt.plot(x_pred, y_pred, c='r')\n",
    "plt.xlabel('Human IF', fontsize=14)\n",
    "plt.ylabel('Agent IF', fontsize=14)\n",
    "plt.title(r'$R^{2}=%.2f, p=%.3E$'%(r**2, p));"
   ]
  },
  {
   "cell_type": "markdown",
   "metadata": {},
   "source": [
    "### Save params"
   ]
  },
  {
   "cell_type": "code",
   "execution_count": 16,
   "metadata": {
    "ExecuteTime": {
     "end_time": "2021-07-02T14:48:15.355510Z",
     "start_time": "2021-07-02T14:48:15.343843Z"
    }
   },
   "outputs": [],
   "source": [
    "root = '/Users/GA/Documents/Dayan_lab/Optimism_And_Pessimism_In_Optimised_Replay/Data/fits/'"
   ]
  },
  {
   "cell_type": "code",
   "execution_count": 17,
   "metadata": {
    "ExecuteTime": {
     "end_time": "2021-07-02T14:48:16.551108Z",
     "start_time": "2021-07-02T14:48:16.071109Z"
    }
   },
   "outputs": [],
   "source": [
    "e = []\n",
    "for i in range(40):\n",
    "    df = pd.read_csv(os.path.join(root, 'save_params_%u'%i, 'backup.txt'), header=None, sep='\\t', index_col=False, skiprows=1)\n",
    "    np.save(os.path.join(root, 'save_params_%u'%i, 'params.npy'), df.iloc[-1].values[:18])\n",
    "    e.append(df.iloc[-1].values[18])"
   ]
  },
  {
   "cell_type": "code",
   "execution_count": 20,
   "metadata": {
    "ExecuteTime": {
     "end_time": "2021-07-02T14:53:33.391462Z",
     "start_time": "2021-07-02T14:53:32.968574Z"
    }
   },
   "outputs": [
    {
     "data": {
      "image/png": "[encoded data removed]",
      "text/plain": [
       "<Figure size 432x288 with 1 Axes>"
      ]
     },
     "metadata": {},
     "output_type": "display_data"
    }
   ],
   "source": [
    "plt.hist(e, bins=15);\n",
    "plt.savefig(os.path.join(root_folder, 'Paper/Figures_data/supp9/', 'final_errors.svg'), transparent=True)\n",
    "np.save(os.path.join(root_folder, 'Paper/Figures_data/supp9/', 'fit_errs.npy'), e)"
   ]
  },
  {
   "cell_type": "markdown",
   "metadata": {},
   "source": [
    "### Analyse replays of just-taken transitions"
   ]
  },
  {
   "cell_type": "code",
   "execution_count": 48,
   "metadata": {
    "ExecuteTime": {
     "end_time": "2021-07-02T15:24:53.862375Z",
     "start_time": "2021-07-02T15:24:53.106935Z"
    },
    "scrolled": true
   },
   "outputs": [],
   "source": [
    "sub_task_folder = os.path.join(root_folder, 'Data/task/16')\n",
    "opt, subopt, H_opt_single, H_subopt_single, H_opt_paired, H_subopt_paired = analyse_recent_replays(sub_task_folder)"
   ]
  },
  {
   "cell_type": "code",
   "execution_count": 50,
   "metadata": {
    "ExecuteTime": {
     "end_time": "2021-07-02T15:25:12.315685Z",
     "start_time": "2021-07-02T15:25:11.037997Z"
    },
    "scrolled": false
   },
   "outputs": [
    {
     "data": {
      "image/png": "[encoded data removed]",
      "text/plain": [
       "<Figure size 1008x288 with 2 Axes>"
      ]
     },
     "metadata": {},
     "output_type": "display_data"
    }
   ],
   "source": [
    "plt.figure(figsize=(14, 4))\n",
    "\n",
    "# Replays\n",
    "plt.subplot(1, 2, 1)\n",
    "bins = np.linspace(0, 100, 40)\n",
    "subopt_h, subopt_b, subopt_w = histogram(subopt, bins)\n",
    "plt.bar(subopt_b, subopt_h, width=subopt_w, facecolor='b')\n",
    "opt_h, opt_b, subopt_w = histogram(opt, bins)\n",
    "plt.bar(opt_b, opt_h, width=subopt_w, facecolor='orange', alpha=0.8)\n",
    "plt.xlabel('Number of replays per trial', fontsize=14)\n",
    "plt.xlim(0-subopt_w/2, 100)\n",
    "# plt.xticks(np.arange(0, 40, 5), np.arange(0, 40, 5), fontsize=10)\n",
    "t, p = scipy.stats.ranksums(opt, subopt)\n",
    "# t, p = permutation_test(opt, subopt, 100000)\n",
    "plt.title(r'$t=%.3E, p=%.3E$'%(t, p));\n",
    "plt.ylim(0, 0.9)\n",
    "\n",
    "# Single entropy\n",
    "plt.subplot(1, 2, 2)\n",
    "bins=np.linspace(0, np.log2(7)+np.log2(6), 40)\n",
    "H_subopt_h, H_subopt_b, H_subopt_w = histogram(H_subopt_single, bins)\n",
    "plt.bar(H_subopt_b, H_subopt_h, width=H_subopt_w, facecolor='b')\n",
    "H_opt_h, H_opt_b, _ = histogram(H_opt_single, bins)\n",
    "plt.bar(H_opt_b, H_opt_h, width=H_subopt_w, facecolor='orange', alpha=0.8)\n",
    "plt.xlim(0-H_subopt_w/2, np.log2(7)+np.log2(6)-H_subopt_w/2)\n",
    "\n",
    "# Paired entropy\n",
    "H_subopt_h, H_subopt_b, _ = histogram(H_subopt_paired, bins)\n",
    "plt.bar(H_subopt_b, -H_subopt_h, width=H_subopt_w, facecolor='b')\n",
    "H_opt_h, H_opt_b, _ = histogram(H_opt_paired, bins)\n",
    "plt.bar(H_opt_b, -H_opt_h, width=H_subopt_w, facecolor='orange', alpha=0.8)\n",
    "# plt.axvline(np.log2(7)+H_subopt_w/4)\n",
    "\n",
    "plt.ylim(-0.35, 0.35)\n",
    "plt.axhline(0, c='k')\n",
    "plt.xlabel('Action entropy', fontsize=14)\n",
    "ts, ps = scipy.stats.ranksums(H_opt_single, H_subopt_single)\n",
    "tp, pp = scipy.stats.ranksums(H_opt_paired, H_subopt_paired)\n",
    "# ts, ps = permutation_test(H_opt_single, H_subopt_single, 100000)\n",
    "# tp, pp = permutation_test(H_opt_paired, H_subopt_paired, 100000)\n",
    "plt.title(r'$tp=%.3E, pp=%.3E, ts=%.3E, ps=%.3E$'%(tp, pp, ts, ps));\n",
    "plt.tight_layout()\n",
    "# \n",
    "# plt.savefig('/Users/GA/Documents/Dayan_lab/Optimism_And_Pessimism_In_Optimised_Replay/Paper/Figures_data/Figure5/recent_replays.svg', format='svg', transparent=True)"
   ]
  },
  {
   "cell_type": "code",
   "execution_count": 51,
   "metadata": {
    "ExecuteTime": {
     "end_time": "2021-07-02T15:25:26.314124Z",
     "start_time": "2021-07-02T15:25:26.307966Z"
    }
   },
   "outputs": [],
   "source": [
    "H_opt_paired_exp    = H_opt_paired.copy()\n",
    "H_subopt_paired_exp = H_subopt_paired.copy()\n",
    "H_opt_single_exp    = H_opt_single.copy()\n",
    "H_subopt_single_exp = H_subopt_single.copy()\n",
    "\n",
    "opt_all_exp    = opt.copy()\n",
    "subopt_all_exp = subopt.copy()"
   ]
  },
  {
   "cell_type": "markdown",
   "metadata": {},
   "source": [
    "### Analyse replays of other transitions"
   ]
  },
  {
   "cell_type": "code",
   "execution_count": 52,
   "metadata": {
    "ExecuteTime": {
     "end_time": "2021-07-02T15:25:34.348795Z",
     "start_time": "2021-07-02T15:25:28.809159Z"
    }
   },
   "outputs": [],
   "source": [
    "sub_task_folder = os.path.join(root_folder, 'Data/task/16')\n",
    "opt, subopt, H_opt_single, H_subopt_single, H_opt_paired, H_subopt_paired = analyse_other_replays(sub_task_folder)"
   ]
  },
  {
   "cell_type": "code",
   "execution_count": 53,
   "metadata": {
    "ExecuteTime": {
     "end_time": "2021-07-02T15:25:37.844219Z",
     "start_time": "2021-07-02T15:25:36.710839Z"
    }
   },
   "outputs": [
    {
     "data": {
      "text/plain": [
       "(0, 5.39231742277876)"
      ]
     },
     "execution_count": 53,
     "metadata": {},
     "output_type": "execute_result"
    },
    {
     "data": {
      "image/png": "[encoded data removed]",
      "text/plain": [
       "<Figure size 1008x288 with 2 Axes>"
      ]
     },
     "metadata": {},
     "output_type": "display_data"
    }
   ],
   "source": [
    "plt.figure(figsize=(14, 4))\n",
    "\n",
    "plt.subplot(1, 2, 1)\n",
    "bins = np.linspace(0, 100, 40)\n",
    "subopt_h, subopt_b, subopt_w = histogram(subopt, bins)\n",
    "plt.bar(subopt_b, subopt_h, width=subopt_w, facecolor='b')\n",
    "opt_h, opt_b, subopt_w = histogram(opt, bins)\n",
    "plt.bar(opt_b, opt_h, width=subopt_w, facecolor='orange', alpha=0.8)\n",
    "plt.xlabel('Number of replays per trial', fontsize=14)\n",
    "plt.xlim(0-subopt_w/2, 100)\n",
    "# plt.xticks(np.arange(0, 40, 5), np.arange(0, 40, 5), fontsize=10)\n",
    "t, p = scipy.stats.ranksums(opt, subopt)\n",
    "# t, p = permutation_test(opt, subopt, 100000)\n",
    "plt.title(r'$t=%.3E, p=%.3E$'%(t, p));\n",
    "plt.ylim(0, 0.9)\n",
    "\n",
    "# Single entropy\n",
    "plt.subplot(1, 2, 2)\n",
    "bins=np.linspace(0, np.log2(7)+np.log2(6), 40)\n",
    "H_subopt_h, H_subopt_b, H_subopt_w = histogram(H_subopt_single, bins)\n",
    "plt.bar(H_subopt_b, H_subopt_h, width=H_subopt_w, facecolor='b')\n",
    "H_opt_h, H_opt_b, _ = histogram(H_opt_single, bins)\n",
    "plt.bar(H_opt_b, H_opt_h, width=H_subopt_w, facecolor='orange', alpha=0.8)\n",
    "plt.xlim(0-H_subopt_w/2, np.log2(7)+np.log2(6)+H_subopt_w/2)\n",
    "\n",
    "# Paired entropy\n",
    "H_subopt_h, H_subopt_b, _ = histogram(H_subopt_paired, bins)\n",
    "plt.bar(H_subopt_b, -H_subopt_h, width=H_subopt_w, facecolor='b')\n",
    "H_opt_h, H_opt_b, _ = histogram(H_opt_paired, bins)\n",
    "plt.bar(H_opt_b, -H_opt_h, width=H_subopt_w, facecolor='orange', alpha=0.8)\n",
    "\n",
    "plt.ylim(-0.35, 0.35)\n",
    "plt.axhline(0, c='k')\n",
    "plt.xlabel('Action entropy', fontsize=14)\n",
    "ts, ps = scipy.stats.ranksums(H_opt_single, H_subopt_single)\n",
    "tp, pp = scipy.stats.ranksums(H_opt_paired, H_subopt_paired)\n",
    "plt.title(r'$tp=%.3E, pp=%.3E, ts=%.3E, ps=%.3E$'%(tp, pp, ts, ps));\n",
    "plt.tight_layout()\n",
    "\n",
    "plt.xlim([0, np.log2(7)+np.log2(6)])\n",
    "\n",
    "# plt.savefig('/Users/GA/Documents/Dayan_lab/Optimism_And_Pessimism_In_Optimised_Replay/Paper/Figures_data/Figure5/other_replays.svg', format='svg', transparent=True)"
   ]
  },
  {
   "cell_type": "code",
   "execution_count": 54,
   "metadata": {
    "ExecuteTime": {
     "end_time": "2021-07-02T15:25:43.516543Z",
     "start_time": "2021-07-02T15:25:43.488314Z"
    }
   },
   "outputs": [
    {
     "name": "stdout",
     "output_type": "stream",
     "text": [
      "H_opt_paired_exp vs H_opt_paired:       t = -4.130E+00, p = 3.633E-05\n",
      "H_opt_single_exp vs H_opt_single:       t = -1.192E+01, p = 8.901E-33\n",
      "H_subopt_paired_exp vs H_subopt_paired: t = -1.512E+01, p = 1.123E-51\n",
      "H_subopt_single_exp vs H_subopt_single: t = -9.559E+00, p = 1.186E-21\n",
      "subopt_all_exp vs subopt_all: t = -1.412E+01, p = 2.990E-45\n",
      "opt_all_exp vs opt_all:       t = -1.619E+01, p = 5.827E-59\n"
     ]
    }
   ],
   "source": [
    "t, p_ent_opt = scipy.stats.ranksums(H_opt_paired_exp, H_opt_paired)\n",
    "print('H_opt_paired_exp vs H_opt_paired:       t = %.3E, p = %.3E'%(t, p_ent_opt))\n",
    "t, p_ent_opt = scipy.stats.ranksums(H_opt_single_exp, H_opt_single)\n",
    "print('H_opt_single_exp vs H_opt_single:       t = %.3E, p = %.3E'%(t, p_ent_opt))\n",
    "t, p_ent_subopt = scipy.stats.ranksums(H_subopt_paired_exp, H_subopt_paired)\n",
    "print('H_subopt_paired_exp vs H_subopt_paired: t = %.3E, p = %.3E'%(t, p_ent_subopt))\n",
    "t, p_ent_subopt = scipy.stats.ranksums(H_subopt_single_exp, H_subopt_single)\n",
    "print('H_subopt_single_exp vs H_subopt_single: t = %.3E, p = %.3E'%(t, p_ent_subopt))\n",
    "\n",
    "t, p_subopt = scipy.stats.ranksums(subopt_all_exp, subopt)\n",
    "print('subopt_all_exp vs subopt_all: t = %.3E, p = %.3E'%(t, p_subopt))\n",
    "\n",
    "t, p_opt = scipy.stats.ranksums(opt_all_exp, opt)\n",
    "print('opt_all_exp vs opt_all:       t = %.3E, p = %.3E'%(t, p_opt))"
   ]
  },
  {
   "cell_type": "markdown",
   "metadata": {},
   "source": [
    "### Capture behaviour"
   ]
  },
  {
   "cell_type": "code",
   "execution_count": 71,
   "metadata": {
    "ExecuteTime": {
     "end_time": "2021-07-02T15:33:39.115418Z",
     "start_time": "2021-07-02T15:33:38.801766Z"
    },
    "scrolled": true
   },
   "outputs": [
    {
     "name": "stdout",
     "output_type": "stream",
     "text": [
      "Block: 1, folder: 0, trial: 2 [ 3  0 10  7]\n",
      "Block: 2, folder: 4, trial: 0 [[2 3 9 3]\n",
      " [3 0 2 7]]\n",
      "Block: 4, folder: 6, trial: 7 [[0 3 9 3]\n",
      " [3 0 0 2]]\n"
     ]
    }
   ],
   "source": [
    "sub        = 16\n",
    "sub_folder = os.path.join(root_folder, 'Data/task/', str(sub))\n",
    "\n",
    "for i in range(5):\n",
    "    if i == 0:\n",
    "        this_range = 6\n",
    "    else:\n",
    "        this_range = 7\n",
    "    \n",
    "    if i in [0, 1]:\n",
    "        Q1_true, Q2_true = get_Q_true(world1, idcs1)\n",
    "    elif i in [2, 3]:\n",
    "        Q1_true, Q2_true = get_Q_true(world2, idcs1)\n",
    "    else:\n",
    "        Q1_true, Q2_true = get_Q_true(world2, idcs2)\n",
    "                \n",
    "    c = 0\n",
    "    for j in range(this_range):\n",
    "        # Prepare to load files\n",
    "        os.chdir(os.path.join(sub_folder, str(i), str(j)))\n",
    "        all_files = glob.glob('*.npz')\n",
    "        # Sort files by episode number\n",
    "        episodes = [int(''.join(c for c in f if c.isdigit())) for f in all_files]\n",
    "        idcs     = [i[0] for i in sorted(enumerate(episodes), key=lambda x:x[1])]\n",
    "        all_files_sorted = [all_files[i] for i in idcs] \n",
    "\n",
    "        for f in range(len(all_files_sorted)):\n",
    "            \n",
    "            this_file = all_files_sorted[f]\n",
    "            data      = np.load(this_file, allow_pickle=True)\n",
    "            move      = data['move']\n",
    "            if move.shape[0] == 4:\n",
    "                s = move[0]\n",
    "                a = move[1]\n",
    "                if s == 3 and a == 0:\n",
    "#                 if a not in get_optimal_move(s, Q2_true):\n",
    "                    print('Block: %u, folder: %u, trial: %u'%(i,j,f), move)\n",
    "            else:\n",
    "                s1 = move[0, 0]\n",
    "                a1 = move[0, 1]\n",
    "                \n",
    "                s2 = move[1, 0]\n",
    "                a2 = move[1, 1]\n",
    "                \n",
    "                if s2 == 3 and a2 == 0:\n",
    "                    print('Block: %u, folder: %u, trial: %u'%(i,j,f), move)\n",
    "            c += 1"
   ]
  },
  {
   "cell_type": "code",
   "execution_count": 66,
   "metadata": {
    "ExecuteTime": {
     "end_time": "2021-07-02T15:31:25.257021Z",
     "start_time": "2021-07-02T15:31:25.240996Z"
    }
   },
   "outputs": [],
   "source": [
    "# file     = 5\n",
    "# data     = '/Users/GA/Documents/Dayan_lab/Data/Eran/new_task/%u/1/5/move%u.npz'%(sub, file)\n",
    "# data_pre = '/Users/GA/Documents/Dayan_lab/Data/Eran/new_task/%u/1/5/move%u.npz'%(sub, file-1)\n",
    "# params   = '/Users/GA/Documents/Dayan_lab/Data/Eran/new_fits/save_params_%u/params.npy'%sub\n",
    "\n",
    "# block    = 2\n",
    "# epoch    = 6\n",
    "# file     = 4\n",
    "\n",
    "# block    = 3\n",
    "# epoch    = 6\n",
    "# file     = 9\n",
    "data     = os.path.join(root_folder, 'Data/task/%u/%u/%u/move%u.npz'%(sub, block, epoch, file))\n",
    "\n",
    "if file == 0:\n",
    "    specs = (sub, block, epoch-1, 5)\n",
    "else:\n",
    "    specs = (sub, block, epoch, file-1)\n",
    "    \n",
    "data_pre = os.path.join(root_folder, 'Data/task/%u/%u/%u/move%u.npz'%specs)\n",
    "params   = os.path.join(root_folder, 'Data/fits/save_params_%u/params.npy'%sub)\n",
    "p        = np.load(params)\n",
    "z        = np.load(data, allow_pickle=True)"
   ]
  },
  {
   "cell_type": "code",
   "execution_count": 67,
   "metadata": {
    "ExecuteTime": {
     "end_time": "2021-07-02T15:31:26.031994Z",
     "start_time": "2021-07-02T15:31:26.022299Z"
    }
   },
   "outputs": [
    {
     "name": "stdout",
     "output_type": "stream",
     "text": [
      "[[3 0 2 7]\n",
      " [7 2 8 6]]\n"
     ]
    }
   ],
   "source": [
    "move = z['move']\n",
    "print(move)"
   ]
  },
  {
   "cell_type": "code",
   "execution_count": 68,
   "metadata": {
    "ExecuteTime": {
     "end_time": "2021-07-02T15:31:30.021190Z",
     "start_time": "2021-07-02T15:31:29.999897Z"
    }
   },
   "outputs": [
    {
     "name": "stdout",
     "output_type": "stream",
     "text": [
      "1 : [4, 3, 8.355661791318042, 5.0]\n",
      "2 : [6, 2, 8.286730215472549, 5.0]\n",
      "4 : [1, 1, 7.756907801731156, 5.0]\n",
      "5 : [2, 3, 7.736702142652376, 3.0]\n",
      "7 : [6, 2, 8.286730215472549, 5.0]\n",
      "8 : [4, 3, 8.355661791318042, 5.0]\n",
      "13 : [2, 3, 7.736702142652376, 3.0]\n",
      "14 : [3, 1, 3.0638362410793984, 7.0]\n",
      "15 : [3, 2, 1.7952887470029215, 2.0]\n",
      "16 : [1, 1, 7.756907801731156, 5.0]\n",
      "17 : [0, 2, 7.293203322492918, 3.0]\n",
      "19 : [5, 0, 2.7504940674908744, 1.0]\n",
      "22 : [6, 2, 8.286730215472549, 5.0]\n",
      "23 : [2, 3, 7.736702142652376, 3.0]\n",
      "24 : [0, 2, 7.293203322492918, 3.0]\n",
      "25 : [4, 3, 8.355661791318042, 5.0]\n",
      "27 : [1, 1, 7.756907801731156, 5.0]\n",
      "29 : [5, 1, 3.7169704524390714, 1.0]\n",
      "34 : [0, 2, 7.293203322492918, 3.0]\n",
      "37 : [2, 3, 7.736702142652376, 3.0]\n",
      "38 : [3, 1, 3.0638362410793984, 7.0]\n",
      "39 : [1, 1, 7.756907801731156, 5.0]\n",
      "41 : [5, 2, 4.619205748418332, 4.0]\n",
      "42 : [6, 2, 8.286730215472549, 5.0]\n",
      "45 : [4, 3, 8.355661791318042, 5.0]\n",
      "46 : [0, 2, 7.293203322492918, 3.0]\n",
      "48 : [2, 3, 7.736702142652376, 3.0]\n",
      "50 : [1, 1, 7.756907801731156, 5.0]\n",
      "51 : [0, 3, 4.030318852200752, 1.0]\n",
      "52 : [3, 2, 1.7952887470029215, 2.0]\n",
      "53 : [5, 1, 3.7169704524390714, 1.0]\n",
      "54 : [5, 0, 2.7504940674908744, 1.0]\n",
      "55 : [5, 2, 4.619205748418332, 4.0]\n",
      "59 : [0, 2, 7.293203322492918, 3.0]\n",
      "60 : [6, 2, 8.286730215472549, 5.0]\n",
      "62 : [2, 3, 7.736702142652376, 3.0]\n",
      "63 : [4, 3, 8.355661791318042, 5.0]\n",
      "64 : [3, 1, 3.0638362410793984, 7.0]\n",
      "66 : [1, 1, 7.756907801731156, 5.0]\n",
      "68 : [0, 2, 7.293203322492918, 3.0]\n",
      "69 : [5, 2, 4.619205748418332, 4.0]\n",
      "70 : [2, 3, 7.736702142652376, 3.0]\n",
      "71 : [6, 3, 2.730589519346656, 7.0]\n",
      "72 : [5, 1, 3.7169704524390714, 1.0]\n",
      "73 : [1, 1, 7.756907801731156, 5.0]\n",
      "74 : [4, 3, 8.355661791318042, 5.0]\n",
      "75 : [0, 2, 7.293203322492918, 3.0]\n",
      "78 : [2, 3, 7.736702142652376, 3.0]\n",
      "79 : [0, 0, 5.0, 4.0]\n",
      "80 : [6, 2, 8.286730215472549, 5.0]\n",
      "81 : [5, 2, 4.619205748418332, 4.0]\n",
      "82 : [0, 1, 5.0, 4.0]\n",
      "85 : [3, 1, 3.0638362410793984, 7.0]\n",
      "87 : [5, 0, 2.7504940674908744, 1.0]\n",
      "88 : [1, 1, 7.756907801731156, 5.0]\n",
      "90 : [0, 3, 4.030318852200752, 1.0]\n",
      "92 : [4, 2, 3.607602625122726, 7.0]\n",
      "95 : [3, 2, 1.7952887470029215, 2.0]\n",
      "96 : [2, 3, 7.736702142652376, 3.0]\n",
      "99 : [4, 1, 3.77652307736372, 0.0]\n",
      "104 : [0, 2, 7.293203322492918, 3.0]\n",
      "105 : [6, 1, 4.266393148073418, 2.0]\n",
      "106 : [6, 0, 4.285714285714285, 0.0]\n",
      "107 : [5, 2, 4.619205748418332, 4.0]\n",
      "108 : [5, 1, 3.7169704524390714, 1.0]\n",
      "109 : [7, 3, 5.074410400399503, 4.0]\n",
      "110 : [2, 2, 4.767291356071215, 1.0]\n",
      "111 : [1, 1, 7.756907801731156, 5.0]\n",
      "113 : [0, 0, 5.0, 4.0]\n",
      "116 : [0, 1, 5.0, 4.0]\n",
      "118 : [3, 0, 2.838232394473473, 7.0]\n"
     ]
    }
   ],
   "source": [
    "replays = np.zeros(32)\n",
    "replay_backups  = z['replay_backups']\n",
    "for rid in range(replay_backups.shape[0]):\n",
    "    this_replay = replay_backups[rid, :]\n",
    "    sr = int(this_replay[0])\n",
    "    ar = int(this_replay[1])\n",
    "    rr = this_replay[2]\n",
    "    s1r = this_replay[3]\n",
    "    \n",
    "    pl = int(this_replay[4])\n",
    "#     pl = 1\n",
    "    if sr != -200 and ar != -200 and pl == 1:\n",
    "        print(rid, ':', [sr, ar, rr, s1r])\n",
    "        replays[sr*4 +ar] += 1"
   ]
  },
  {
   "cell_type": "code",
   "execution_count": 69,
   "metadata": {
    "ExecuteTime": {
     "end_time": "2021-07-02T15:31:53.475479Z",
     "start_time": "2021-07-02T15:31:51.440170Z"
    },
    "scrolled": false
   },
   "outputs": [
    {
     "data": {
      "image/png": "[encoded data removed]",
      "text/plain": [
       "<Figure size 216x288 with 1 Axes>"
      ]
     },
     "metadata": {},
     "output_type": "display_data"
    },
    {
     "data": {
      "image/png": "[encoded data removed]",
      "text/plain": [
       "<Figure size 216x288 with 1 Axes>"
      ]
     },
     "metadata": {},
     "output_type": "display_data"
    },
    {
     "data": {
      "image/png": "[encoded data removed]",
      "text/plain": [
       "<Figure size 216x288 with 1 Axes>"
      ]
     },
     "metadata": {},
     "output_type": "display_data"
    },
    {
     "data": {
      "image/png": "[encoded data removed]",
      "text/plain": [
       "<Figure size 216x288 with 1 Axes>"
      ]
     },
     "metadata": {},
     "output_type": "display_data"
    },
    {
     "data": {
      "image/png": "[encoded data removed]",
      "text/plain": [
       "<Figure size 216x288 with 1 Axes>"
      ]
     },
     "metadata": {},
     "output_type": "display_data"
    },
    {
     "data": {
      "image/png": "[encoded data removed]",
      "text/plain": [
       "<Figure size 216x288 with 1 Axes>"
      ]
     },
     "metadata": {},
     "output_type": "display_data"
    },
    {
     "data": {
      "image/png": "[encoded data removed]",
      "text/plain": [
       "<Figure size 216x288 with 1 Axes>"
      ]
     },
     "metadata": {},
     "output_type": "display_data"
    },
    {
     "data": {
      "image/png": "[encoded data removed]",
      "text/plain": [
       "<Figure size 216x288 with 1 Axes>"
      ]
     },
     "metadata": {},
     "output_type": "display_data"
    }
   ],
   "source": [
    "_, Q2_true = get_Q_true(world2, idcs1)\n",
    "for s in range(8):\n",
    "    fig = plt.figure(figsize=(3, 4))\n",
    "    for a in range(4):\n",
    "        if a in get_optimal_move(s, Q2_true):\n",
    "            plt.bar(s*4+a, replays[s*4+a], facecolor='orange', align='center', width=0.5)\n",
    "        else:\n",
    "            plt.bar(s*4+a, replays[s*4+a], facecolor='b', align='center', width=0.5)\n",
    "#     plt.ylim(0, 3)\n",
    "#     plt.savefig('/Users/GA/Documents/Dayan_lab/Paper/Figures_data/Figure5/Replays/capture_%u_%u.svg'%(sub, s), transparent=True, format='svg')\n",
    "# plt.xticks(range(32), range(32));\n",
    "# plt.title('Replays after move s=%u, a=%u'%(z['move'][1][0], z['move'][1][1]), fontsize=14);\n"
   ]
  },
  {
   "cell_type": "code",
   "execution_count": null,
   "metadata": {
    "ExecuteTime": {
     "end_time": "2021-02-23T12:20:25.957714Z",
     "start_time": "2021-02-23T12:20:25.615550Z"
    },
    "scrolled": true
   },
   "outputs": [],
   "source": [
    "Q = z['Q2_history']\n",
    "# Q = z['Q_history']\n",
    "Q_before = Q[0].reshape(8, -1)\n",
    "Q_after  = Q[-1].reshape(8, -1)\n",
    "\n",
    "_, Q2_true = get_Q_true(world2, idcs1)\n",
    "\n",
    "beta = p[0]\n",
    "a    = p[10]\n",
    "b    = p[11]\n",
    "d    = -(a+b)\n",
    "biases = np.array([a, b, 0, d])\n",
    "\n",
    "fig = plt.figure(figsize=(14, 3))\n",
    "for s in range(8):\n",
    "    opt = policy_improve(Q_before[s, :], Q_after[s, :], Q2_true, s, beta, biases, world2, idcs1, mode='value')\n",
    "    print('State %u, opt: %.5f'%(s, opt))\n",
    "    plt.bar(s, opt, facecolor='orange', width = 0.4)\n",
    "#     plt.axhline(0, c='k')\n",
    "plt.savefig('/Users/GA/Documents/Dayan_lab/Paper/Figures_data/Figure5/capture_%u_policy.svg'%sub, transparent=True, format='svg')\n"
   ]
  },
  {
   "cell_type": "code",
   "execution_count": null,
   "metadata": {
    "ExecuteTime": {
     "end_time": "2021-02-23T12:20:29.906934Z",
     "start_time": "2021-02-23T12:20:28.975628Z"
    },
    "scrolled": false
   },
   "outputs": [],
   "source": [
    "fig = plt.figure(figsize=(16, 4))\n",
    "max_ent = np.log2(7)\n",
    "\n",
    "T = z['T']\n",
    "for s in range(8):\n",
    "    for a in range(4):\n",
    "        ent = get_entropy(T, s, a)\n",
    "        alp = 1-(ent/max_ent)\n",
    "        if alp < 0:\n",
    "            alp = 0\n",
    "        plt.bar(s*4+a, ent, facecolor='k', width=0.5, alpha = alp)\n",
    "        print(s, a, 'alpha:', np.round(alp*100))\n",
    "plt.savefig('/Users/GA/Documents/Dayan_lab/Paper/Figures_data/Figure5/capture_%u_entropy.svg'%sub, transparent=True, format='svg')\n",
    "plt.xticks(range(32), range(32));"
   ]
  },
  {
   "cell_type": "code",
   "execution_count": null,
   "metadata": {
    "ExecuteTime": {
     "end_time": "2021-02-23T12:20:32.247941Z",
     "start_time": "2021-02-23T12:20:32.229599Z"
    }
   },
   "outputs": [],
   "source": [
    "_, Q2_true = get_Q_true(world2, idcs1)\n",
    "\n",
    "Q     = z['Q2_history'][0].reshape(8, 4)\n",
    "\n",
    "alpha = p[3]\n",
    "T     = z['T']\n",
    "tau   = p[8]\n",
    "\n",
    "rew_hist = z['rew_history'][1]\n",
    "av_rew   = np.mean(rew_hist)\n",
    "\n",
    "Q_pre    = (Q  - av_rew*(tau-1))/tau\n",
    "\n",
    "Q_before = Q_pre.copy()\n",
    "Q_before[int(move[1][0]), int(move[1][1])] = (Q_pre[int(move[1][0]), int(move[1][1])] - alpha*move[1][2])/(1-alpha)\n",
    "\n",
    "# r = 2\n",
    "# Q_pre    = (Q_before - alpha*r)/(1-alpha)"
   ]
  },
  {
   "cell_type": "code",
   "execution_count": null,
   "metadata": {
    "ExecuteTime": {
     "end_time": "2021-02-23T12:20:39.135152Z",
     "start_time": "2021-02-23T12:20:35.935786Z"
    },
    "scrolled": false
   },
   "outputs": [],
   "source": [
    "for s in range(8):\n",
    "    fig = plt.figure(figsize=(3, 4))\n",
    "    a_opt = get_optimal_move(s, Q2_true)\n",
    "    for a in range(4):\n",
    "        this_action_probas = T[s, a, :]\n",
    "        r = np.sum(world2.ravel()*this_action_probas)\n",
    "        if a in a_opt:\n",
    "            plt.bar(s*4+a, Q_pre[s, a], facecolor='orange', edgecolor='orange', align='center',width=0.3)\n",
    "            plt.bar(s*4+a+0.35, r, facecolor='pink', width=0.3)\n",
    "        else:\n",
    "            if s == int(move[1][0]) and a == int(move[1][1]):\n",
    "#             if s == int(move[0]) and a == int(move[1]):\n",
    "                plt.bar(s*4+a, Q_before[s, a], facecolor='green', edgecolor='green', align='center',width=0.3)\n",
    "                print(Q_pre[s, a], Q_before[s, a], r)\n",
    "            plt.bar(s*4+a, Q_pre[s, a], facecolor='b', edgecolor='b', align='center',width=0.3)\n",
    "            plt.bar(s*4+a+0.35, r, facecolor='pink', width=0.3)\n",
    "        plt.hlines(Q2_true[s, a], s*4+a-0.13, s*4+a+0.5)\n",
    "    plt.ylim(0, 11)\n",
    "    plt.savefig('/Users/GA/Documents/Dayan_lab/Paper/Figures_data/Figure5/Q/Q_before_%u.svg'%s, transparent=True, format='svg')\n",
    "\n",
    "# fig = plt.figure(figsize=(16, 4))\n",
    "# Q_after = Q[-1, :].reshape(8, 4)\n",
    "# for s in range(8):\n",
    "#     a_opt = get_optimal_move(s, Q2_true)\n",
    "#     for a in range(4):\n",
    "#         if a in a_opt:\n",
    "#             plt.bar(s*4+a, Q_before[s, a], facecolor='orange', width=0.5)\n",
    "#         else:\n",
    "#             plt.bar(s*4+a, Q_before[s, a], facecolor='b', width=0.5)\n",
    "#     plt.savefig('/Users/GA/Documents/Dayan_lab/Paper/Figures/Q_after.svg', transparent=True, format='svg')"
   ]
  },
  {
   "cell_type": "markdown",
   "metadata": {},
   "source": [
    "### Policy improvements"
   ]
  },
  {
   "cell_type": "code",
   "execution_count": null,
   "metadata": {
    "ExecuteTime": {
     "end_time": "2021-02-20T22:40:06.526162Z",
     "start_time": "2021-02-20T22:40:03.931002Z"
    }
   },
   "outputs": [],
   "source": [
    "root_folder   = '/Users/GA/Documents/Dayan_lab/Data/Eran/task/'\n",
    "\n",
    "opt_all = []\n",
    "\n",
    "for sub in [19]:\n",
    "    \n",
    "    opt_sub = []\n",
    "    \n",
    "    params = '/Users/GA/Documents/Dayan_lab/Data/Eran/fits/save_params_%u/params.npy'%sub\n",
    "    \n",
    "    p     = np.load(params)\n",
    "    beta  = p[0]\n",
    "    beta2 = p[1]\n",
    "    beta1 = p[2]\n",
    "    a     = p[10]\n",
    "    b     = p[11]\n",
    "    d     = -(a+b)\n",
    "    biases = np.array([a, b, 0, d])\n",
    "\n",
    "    for i in range(1, 5):\n",
    "        if i == 0:\n",
    "            this_range = 6\n",
    "        else:\n",
    "            this_range = 7\n",
    "        \n",
    "        if i in [0, 1]:\n",
    "            world = world1\n",
    "            idcs  = idcs1\n",
    "            Q1_true, Q2_true = get_Q_true(world, idcs)\n",
    "        elif i in [2, 3]:\n",
    "            world = world2\n",
    "            idcs  = idcs1\n",
    "            Q1_true, Q2_true = get_Q_true(world, idcs)\n",
    "        else:\n",
    "            world = world2\n",
    "            idcs  = idcs2\n",
    "            Q1_true, Q2_true = get_Q_true(world, idcs)\n",
    "        \n",
    "        for j in range(this_range):\n",
    "            if i > 0 and j < 2:\n",
    "                pass\n",
    "            else:\n",
    "                # Prepare to load files\n",
    "                os.chdir(os.path.join(root_folder, str(sub), str(i), str(j)))\n",
    "                all_files = glob.glob('*.npz')\n",
    "                # Sort files by episode number\n",
    "                episodes = [int(''.join(c for c in f if c.isdigit())) for f in all_files]\n",
    "                idcs_ep  = [i[0] for i in sorted(enumerate(episodes), key=lambda x:x[1])]\n",
    "                all_files_sorted = [all_files[i] for i in idcs_ep] \n",
    "\n",
    "                for f in range(len(all_files_sorted)):\n",
    "\n",
    "                    tmp_opt = []\n",
    "\n",
    "                    this_file = all_files_sorted[f]\n",
    "                    data      = np.load(this_file, allow_pickle=True)\n",
    "                    move      = data['move']\n",
    "\n",
    "                    if len(move) == 2:\n",
    "    #                     pass\n",
    "                        replay_backups = np.atleast_2d(data['replay_backups'])\n",
    "                        if replay_backups.shape[0] > 1:\n",
    "\n",
    "                            Q1 = data['Q1_history']\n",
    "                            Q2 = data['Q2_history']\n",
    "\n",
    "                            Q1_before = Q1[0, :].reshape(8, -1)\n",
    "                            Q1_after  = Q1[-1, :].reshape(8, -1)\n",
    "\n",
    "                            Q2_before = Q2[0, :].reshape(8, -1)\n",
    "                            Q2_after  = Q2[-1, :].reshape(8, -1)\n",
    "\n",
    "                            states = np.unique(replay_backups[1:, 0])\n",
    "                            states = [int(i) for i in states]\n",
    "\n",
    "                            for s in states:\n",
    "                                opt = policy_improve_2moves(Q1_before[s, :], Q1_after[s, :], Q2_before[s, :], Q2_after[s, :], Q1_true, s, beta1, beta2, biases, world, idcs, mode='value')\n",
    "                                tmp_opt    += [float(opt)]\n",
    "                            \n",
    "                            opt_sub    += [np.mean(tmp_opt)]\n",
    "\n",
    "                    else:\n",
    "                        replay_backups = np.atleast_2d(data['replay_backups'])\n",
    "                        if replay_backups.shape[0] > 1:\n",
    "\n",
    "                            Q = data['Q_history']\n",
    "\n",
    "                            Q_before = Q[0, :].reshape(8, -1)\n",
    "                            Q_after  = Q[-1, :].reshape(8, -1)\n",
    "\n",
    "                            states = np.unique(replay_backups[1:, 0])\n",
    "                            states = [int(i) for i in states]\n",
    "\n",
    "                            for s in states:\n",
    "                                opt = policy_improve(Q_before[s, :], Q_after[s, :], Q2_true, s, beta, biases, world, idcs, mode='value')\n",
    "                                tmp_opt    += [float(opt)]\n",
    "                                    \n",
    "                            opt_sub += [np.mean(tmp_opt)]\n",
    "    \n",
    "    opt_all.append(np.mean(opt_sub))"
   ]
  },
  {
   "cell_type": "code",
   "execution_count": null,
   "metadata": {
    "ExecuteTime": {
     "end_time": "2021-02-20T22:40:07.162552Z",
     "start_time": "2021-02-20T22:40:07.155992Z"
    }
   },
   "outputs": [],
   "source": [
    "opt_all = opt_sub"
   ]
  },
  {
   "cell_type": "code",
   "execution_count": null,
   "metadata": {
    "ExecuteTime": {
     "end_time": "2021-02-20T21:40:19.575838Z",
     "start_time": "2021-02-20T21:40:19.302007Z"
    }
   },
   "outputs": [],
   "source": [
    "fig = plt.figure(figsize=(2, 5))\n",
    "\n",
    "plt.bar(1, np.nanmean(opt_all), facecolor='#22CF00', alpha=0.4, width=0.1)\n",
    "plt.scatter([1]*len(opt_all), opt_all, c='#22CF00', alpha=1)\n",
    "plt.axhline(0, c='k')\n",
    "plt.xticks([1], ['Optimal'],fontsize=14)\n",
    "plt.ylabel(r'$Average \\; \\; \\Delta \\pi(a \\mid s) \\; \\; over \\; \\; states$', fontsize=14)\n",
    "# plt.ylim(-4, 4)\n",
    "# plt.savefig('/Users/GA/Documents/Dayan_lab/Paper/Figures_data/Figure5/policy_improve_prob.svg', format='svg', transparent=True)"
   ]
  },
  {
   "cell_type": "code",
   "execution_count": null,
   "metadata": {
    "ExecuteTime": {
     "end_time": "2021-02-20T22:40:09.938151Z",
     "start_time": "2021-02-20T22:40:09.923974Z"
    }
   },
   "outputs": [],
   "source": [
    "print('Opt policy change:    test statistic: %.3f,  p-value: %.3E' % scipy.stats.ttest_1samp(opt_all, 0))"
   ]
  },
  {
   "cell_type": "code",
   "execution_count": null,
   "metadata": {
    "ExecuteTime": {
     "end_time": "2021-02-20T22:40:12.671066Z",
     "start_time": "2021-02-20T22:40:12.664226Z"
    }
   },
   "outputs": [],
   "source": [
    "print('Policy change opt   :', np.nanmean(opt_all))"
   ]
  },
  {
   "cell_type": "markdown",
   "metadata": {},
   "source": [
    "### Re-arranged Model Entropy "
   ]
  },
  {
   "cell_type": "code",
   "execution_count": null,
   "metadata": {
    "ExecuteTime": {
     "end_time": "2021-01-23T14:41:06.208913Z",
     "start_time": "2021-01-23T14:41:05.817273Z"
    },
    "scrolled": false
   },
   "outputs": [],
   "source": [
    "task_folder   = '/Users/GA/Documents/Dayan_lab/Data/Eran/task/'\n",
    "params_folder = '/Users/GA/Documents/Dayan_lab/Data/Eran/fits/'\n",
    "\n",
    "subs_who_replay = np.load(os.path.join(task_folder, 'Analysis', 'subs_who_replay.npy'))\n",
    "\n",
    "before = []\n",
    "after  = []\n",
    "ents   = []\n",
    "\n",
    "_, Q2_true = get_Q_true(world2, idcs2)\n",
    "\n",
    "for sub in subs_who_replay:\n",
    "    \n",
    "    sub_task_folder = os.path.join(task_folder, str(sub))\n",
    "    \n",
    "    rho = np.load(os.path.join(params_folder, 'save_params_%u'%sub, 'params.npy'))[12]\n",
    "    \n",
    "    # Model entropy before re-arrangement\n",
    "    file = os.path.join(sub_task_folder, '3', '6', 'move11.npz')\n",
    "    data = np.load(file, allow_pickle=True)\n",
    "    T    = data['T']\n",
    "    T    = rho*T + (1-rho)*(1./7)\n",
    "    \n",
    "    for i in range(T.shape[0]):\n",
    "        for j in range(T.shape[1]):\n",
    "            T[i, j, i]  = 0\n",
    "\n",
    "            row = T[i, j, :]\n",
    "            tmp = np.sum(row)\n",
    "            if tmp > 0:\n",
    "                T[i, j, :] = row / tmp\n",
    "    \n",
    "    # optimal action entropy without rearrangement\n",
    "    tmp = 0\n",
    "    for s in range(8):\n",
    "        for a in range(4):\n",
    "            tmp += np.power(Q2_true[s, a]-np.sum(T[s, a, :]*world2.ravel()), 2)\n",
    "    before.append(tmp/32)\n",
    "    \n",
    "    root_folder = '/Users/GA/Documents/Dayan_lab/Data/Eran/task/'\n",
    "\n",
    "    tmp = []\n",
    "    for s in range(8):\n",
    "        a_opt = get_optimal_move(s, Q2_true)\n",
    "        this_ent = get_entropy(T, s, a_opt)\n",
    "        if len(this_ent) > 1:\n",
    "            this_ent = np.mean(this_ent)\n",
    "        else:\n",
    "            this_ent = this_ent[0]\n",
    "        tmp.append(this_ent)\n",
    "    ents.append(np.mean(tmp))\n",
    "    \n",
    "    file = os.path.join(sub_task_folder, '3', 'offline.npz')\n",
    "    data = np.load(file, allow_pickle=True)\n",
    "    T    = data['T']\n",
    "    \n",
    "    # optimal action entropy with rearrangement\n",
    "    tmp = 0\n",
    "    for s in range(8):\n",
    "        for a in range(4):\n",
    "            tmp += np.power(Q2_true[s, a]-np.sum(T[s, a, :]*world2.ravel()), 2)\n",
    "    after.append(tmp/32)"
   ]
  },
  {
   "cell_type": "code",
   "execution_count": null,
   "metadata": {
    "ExecuteTime": {
     "end_time": "2021-01-24T14:17:20.914335Z",
     "start_time": "2021-01-24T14:17:20.598921Z"
    }
   },
   "outputs": [],
   "source": [
    "x = flex_subs\n",
    "y = before\n",
    "\n",
    "model = LinearRegression()\n",
    "model.fit(x.reshape(-1, 1), y.reshape(-1, 1))\n",
    "\n",
    "r, p   = pearsonr(x, y)\n",
    "\n",
    "x_pred = np.linspace(-0.2, 1).reshape(-1, 1)\n",
    "y_pred = model.predict(x_pred)\n",
    "\n",
    "plt.scatter(x, y)\n",
    "plt.plot(x_pred, y_pred)"
   ]
  },
  {
   "cell_type": "code",
   "execution_count": null,
   "metadata": {
    "ExecuteTime": {
     "end_time": "2021-01-23T14:42:18.984499Z",
     "start_time": "2021-01-23T14:42:18.508140Z"
    }
   },
   "outputs": [],
   "source": [
    "plt.figure(figsize=(4, 5))\n",
    "\n",
    "plt.bar(1, np.mean(after), facecolor='orange', alpha=0.6, align='center')\n",
    "plt.scatter([1]*len(after), after, c='orange')\n",
    "plt.bar(2, np.mean(before), facecolor='b', alpha=0.6, align='center')\n",
    "plt.scatter([2]*len(before), before, c='b')\n",
    "plt.axhline(0, c='k')\n",
    "for i in range(len(after)):\n",
    "    plt.plot([1, 2], [after[i], before[i]], c='k')\n",
    "\n",
    "\n",
    "t, p = scipy.stats.ttest_ind(after, before)\n",
    "print('opt vs subopt: t=%.3E, p=%.3E'%(t, p))\n",
    "plt.title('W = %.3E, p = %.3E'%(t, p))\n",
    "\n",
    "plt.savefig('/Users/GA/Documents/Dayan_lab/Paper/Figures_data/supp3/rmsd_rearrangement.svg', transparent=True)"
   ]
  },
  {
   "cell_type": "code",
   "execution_count": null,
   "metadata": {
    "ExecuteTime": {
     "end_time": "2021-01-24T15:34:20.536363Z",
     "start_time": "2021-01-24T15:34:19.790422Z"
    }
   },
   "outputs": [],
   "source": [
    "permutation_test(r_after, r_before, 10000, rep=True)"
   ]
  },
  {
   "cell_type": "code",
   "execution_count": null,
   "metadata": {
    "ExecuteTime": {
     "end_time": "2021-01-23T14:41:21.008224Z",
     "start_time": "2021-01-23T14:41:20.998696Z"
    }
   },
   "outputs": [],
   "source": [
    "len(subs_who_replay)"
   ]
  },
  {
   "cell_type": "code",
   "execution_count": null,
   "metadata": {
    "ExecuteTime": {
     "end_time": "2021-01-23T10:57:37.372433Z",
     "start_time": "2021-01-23T10:57:37.361137Z"
    }
   },
   "outputs": [],
   "source": [
    "from sklearn.linear_model import LinearRegression\n",
    "from scipy.stats import pearsonr"
   ]
  },
  {
   "cell_type": "code",
   "execution_count": null,
   "metadata": {
    "ExecuteTime": {
     "end_time": "2021-01-23T14:42:22.458729Z",
     "start_time": "2021-01-23T14:42:22.037328Z"
    }
   },
   "outputs": [],
   "source": [
    "plt.figure(figsize=(8, 5))\n",
    "\n",
    "diff = np.array(before) - np.array(after)\n",
    "\n",
    "x = np.array(ents).reshape(-1, 1)\n",
    "y = np.array(diff).reshape(-1, 1)\n",
    "\n",
    "reg    = LinearRegression().fit(x, y)\n",
    "r, p   = pearsonr(ents, diff)\n",
    "\n",
    "x_pred = np.linspace(np.min(ents), np.max(ents), 50).reshape(-1, 1)\n",
    "y_pred = reg.predict(x_pred)\n",
    "plt.scatter(ents, diff, c='r')\n",
    "plt.plot(x_pred, y_pred, c='k')\n",
    "\n",
    "plt.title('R^2 = %.3E, p = %.3E'%(r**2, p))\n",
    "\n",
    "plt.savefig('/Users/GA/Documents/Dayan_lab/Paper/Figures_data/supp3/rmsd_corr.svg', transparent=True)"
   ]
  },
  {
   "cell_type": "code",
   "execution_count": null,
   "metadata": {
    "ExecuteTime": {
     "end_time": "2021-01-24T10:59:30.807360Z",
     "start_time": "2021-01-24T10:59:30.103148Z"
    }
   },
   "outputs": [],
   "source": [
    "plt.figure(figsize=(8, 5))\n",
    "\n",
    "reg    = LinearRegression().fit(np.array(ents).reshape(-1, 1), np.array(flex_subs))\n",
    "r, p   = pearsonr(ents, flex_subs)\n",
    "plt.scatter(ents, flex_subs, c='r')\n",
    "\n",
    "# x_pred = np.linspace(np.min(diff), np.max(diff), 50).reshape(-1, 1)\n",
    "# y_pred = reg.predict(x_pred)\n",
    "# plt.plot(x_pred, y_pred, c='k')\n",
    "\n",
    "# plt.title('R^2 = %.3E, p = %.3E'%(r**2, p))\n",
    "\n",
    "# plt.savefig('/Users/GA/Documents/Dayan_lab/Paper/Figures_data/supp3/rmsd_corr_if.svg', transparent=True)"
   ]
  },
  {
   "cell_type": "code",
   "execution_count": null,
   "metadata": {
    "ExecuteTime": {
     "end_time": "2021-01-24T15:26:29.843787Z",
     "start_time": "2021-01-24T15:26:29.833767Z"
    }
   },
   "outputs": [],
   "source": [
    "r_after"
   ]
  },
  {
   "cell_type": "code",
   "execution_count": null,
   "metadata": {
    "ExecuteTime": {
     "end_time": "2021-01-24T15:27:52.207141Z",
     "start_time": "2021-01-24T15:27:52.197717Z"
    }
   },
   "outputs": [],
   "source": [
    "p"
   ]
  },
  {
   "cell_type": "code",
   "execution_count": null,
   "metadata": {
    "ExecuteTime": {
     "end_time": "2021-01-24T10:59:33.888963Z",
     "start_time": "2021-01-24T10:59:33.872411Z"
    }
   },
   "outputs": [],
   "source": [
    "p"
   ]
  },
  {
   "cell_type": "code",
   "execution_count": null,
   "metadata": {
    "ExecuteTime": {
     "end_time": "2021-01-24T10:59:42.171425Z",
     "start_time": "2021-01-24T10:59:42.158432Z"
    }
   },
   "outputs": [],
   "source": [
    "r**2"
   ]
  },
  {
   "cell_type": "markdown",
   "metadata": {},
   "source": [
    "### MB/MF human subjects"
   ]
  },
  {
   "cell_type": "markdown",
   "metadata": {},
   "source": [
    "## Flexibility"
   ]
  },
  {
   "cell_type": "code",
   "execution_count": null,
   "metadata": {
    "ExecuteTime": {
     "end_time": "2021-02-18T19:33:57.603132Z",
     "start_time": "2021-02-18T19:33:50.988655Z"
    }
   },
   "outputs": [],
   "source": [
    "path = '/Users/GA/Documents/Dayan_lab/Data/Eran/TTASKK'\n",
    "\n",
    "for sub in range(40):\n",
    "    this_sub = os.path.join(path, str(sub))\n",
    "    for i in range(10):\n",
    "        r = []\n",
    "        this_inst = os.path.join(this_sub, str(i))\n",
    "        for j in range(5):\n",
    "            tmp = []\n",
    "            os.chdir(os.path.join(this_inst, str(j)))\n",
    "            all_files = glob.glob('*.npy')\n",
    "            episodes = [int(''.join(c for c in f if c.isdigit())) for f in all_files]\n",
    "            idcs_ep  = [i[0] for i in sorted(enumerate(episodes), key=lambda x:x[1])]\n",
    "            all_files_sorted = [all_files[i] for i in idcs_ep] \n",
    "            for f in all_files_sorted:\n",
    "                data = np.load(f)\n",
    "                for m in range(len(data)):\n",
    "                    if len(data[m]) == 4:\n",
    "                        tmp += [data[m][2]]\n",
    "                    else:\n",
    "                        tmp += [data[m][0][2] + data[m][1][2]]\n",
    "            r += [tmp]\n",
    "        np.save(os.path.join(this_inst, 'blocks_obt_rwd.npy'), r)"
   ]
  },
  {
   "cell_type": "code",
   "execution_count": null,
   "metadata": {
    "ExecuteTime": {
     "end_time": "2021-03-08T15:01:48.393120Z",
     "start_time": "2021-03-08T15:01:48.384245Z"
    }
   },
   "outputs": [],
   "source": [
    "x = np.array([-0.1, -0.05, 0, 0.1, 0.2, 0.2])"
   ]
  },
  {
   "cell_type": "code",
   "execution_count": null,
   "metadata": {
    "ExecuteTime": {
     "end_time": "2021-03-08T15:02:46.736316Z",
     "start_time": "2021-03-08T15:02:46.715825Z"
    }
   },
   "outputs": [],
   "source": [
    "np.argwhere(x > 0).flatten()"
   ]
  },
  {
   "cell_type": "code",
   "execution_count": null,
   "metadata": {},
   "outputs": [],
   "source": []
  }
 ],
 "metadata": {
  "kernelspec": {
   "display_name": "Python 3",
   "language": "python",
   "name": "python3"
  },
  "language_info": {
   "codemirror_mode": {
    "name": "ipython",
    "version": 3
   },
   "file_extension": ".py",
   "mimetype": "text/x-python",
   "name": "python",
   "nbconvert_exporter": "python",
   "pygments_lexer": "ipython3",
   "version": "3.7.6"
  },
  "varInspector": {
   "cols": {
    "lenName": 16,
    "lenType": 16,
    "lenVar": 40
   },
   "kernels_config": {
    "python": {
     "delete_cmd_postfix": "",
     "delete_cmd_prefix": "del ",
     "library": "var_list.py",
     "varRefreshCmd": "print(var_dic_list())"
    },
    "r": {
     "delete_cmd_postfix": ") ",
     "delete_cmd_prefix": "rm(",
     "library": "var_list.r",
     "varRefreshCmd": "cat(var_dic_list()) "
    }
   },
   "position": {
    "height": "803.85px",
    "left": "1440px",
    "right": "20px",
    "top": "120px",
    "width": "598px"
   },
   "types_to_exclude": [
    "module",
    "function",
    "builtin_function_or_method",
    "instance",
    "_Feature"
   ],
   "window_display": false
  }
 },
 "nbformat": 4,
 "nbformat_minor": 2
}
