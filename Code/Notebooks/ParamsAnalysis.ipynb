{
 "cells": [
  {
   "cell_type": "code",
   "execution_count": 87,
   "id": "dedicated-ukraine",
   "metadata": {
    "ExecuteTime": {
     "end_time": "2021-07-02T17:16:08.639671Z",
     "start_time": "2021-07-02T17:16:08.630529Z"
    }
   },
   "outputs": [],
   "source": [
    "import numpy as np\n",
    "import sys, os, glob\n",
    "import pandas as pd\n",
    "import matplotlib.pyplot as plt\n",
    "from scipy.stats import ttest_ind, ttest_1samp, pearsonr, ranksums, zscore\n",
    "from scipy.stats.mstats import zscore\n",
    "from sklearn.linear_model import LinearRegression\n",
    "from sklearn.linear_model import LinearRegression\n",
    "from sklearn.feature_selection import RFECV\n",
    "import statsmodels.api as sm\n",
    "\n",
    "code_path = '/Users/GA/Documents/Dayan_lab/Optimism_And_Pessimism_In_Optimised_Replay/Code/Task'\n",
    "\n",
    "sys.path.append(code_path)\n",
    "from misc_analysis import get_Q_true, get_optimal_move, permutation_test, get_entropy, get_joint_entropy, histogram, get_sorted_files"
   ]
  },
  {
   "cell_type": "code",
   "execution_count": 88,
   "id": "regulation-mercury",
   "metadata": {
    "ExecuteTime": {
     "end_time": "2021-07-02T17:16:09.249504Z",
     "start_time": "2021-07-02T17:16:09.224707Z"
    }
   },
   "outputs": [],
   "source": [
    "root_folder = '/Users/GA/Documents/Dayan_lab/Optimism_And_Pessimism_In_Optimised_Replay'\n",
    "\n",
    "# Worlds & idcs\n",
    "world1 = np.load(os.path.join(root_folder, 'Data/world1.npy'))\n",
    "world2 = np.load(os.path.join(root_folder, 'Data/world2.npy'))\n",
    "idcs1  = np.load(os.path.join(root_folder, 'Data/idcs1.npy'))\n",
    "idcs2  = np.load(os.path.join(root_folder, 'Data/idcs2.npy'))"
   ]
  },
  {
   "cell_type": "markdown",
   "id": "extraordinary-greeting",
   "metadata": {},
   "source": [
    "### Generate flexibility idcs for simulated data"
   ]
  },
  {
   "cell_type": "code",
   "execution_count": null,
   "id": "durable-forty",
   "metadata": {
    "ExecuteTime": {
     "end_time": "2021-03-12T18:49:11.337751Z",
     "start_time": "2021-03-12T18:49:03.395604Z"
    },
    "code_folding": [
     3
    ],
    "deletable": false,
    "editable": false,
    "run_control": {
     "frozen": true
    }
   },
   "outputs": [],
   "source": [
    "task_folder = os.path.join(root_path, 'Data/task')\n",
    "\n",
    "k = np.zeros((40, 4))\n",
    "for sub in range(40):\n",
    "\n",
    "    sub_task_folder = os.path.join(task_folder, str(sub))\n",
    "    \n",
    "    opt_moves11 = 0\n",
    "    opt_moves12 = 0\n",
    "    opt_moves21 = 0\n",
    "    opt_moves22 = 0\n",
    "    \n",
    "    # iterate over 5 blocks\n",
    "    for i in range(5):\n",
    "        if i == 0:\n",
    "            this_range = 6\n",
    "        else:\n",
    "            this_range = 7\n",
    "        tmp = []\n",
    "        \n",
    "        if i in [0, 1]:\n",
    "            Q1_true, Q2_true = get_Q_true(world1, idcs1)\n",
    "        elif i in [2, 3]:\n",
    "            Q1_true, Q2_true = get_Q_true(world2, idcs1)\n",
    "        else:\n",
    "            Q1_true, Q2_true = get_Q_true(world2, idcs2)\n",
    "        \n",
    "        for j in range(this_range):\n",
    "    \n",
    "            epoch_folder = os.path.join(sub_task_folder, str(i), str(j))\n",
    "            all_files_sorted = get_sorted_files(epoch_folder)\n",
    "            \n",
    "            for f in range(len(all_files_sorted)):\n",
    "                this_file = all_files_sorted[f]\n",
    "                data      = np.load(this_file)\n",
    "                move      = data['move']\n",
    "                \n",
    "                if len(move) != 2:\n",
    "                    s = move[0]\n",
    "                    a = move[1]\n",
    "                    if a in get_optimal_move(s, Q2_true):\n",
    "                        opt_moves11 += 1\n",
    "                    elif a in get_optimal_move(s, Q1_true)//4:\n",
    "                        opt_moves12 += 1\n",
    "\n",
    "                else:\n",
    "                    s = move[0][0]\n",
    "                    a = move[0][1]\n",
    "                    if a in get_optimal_move(s, Q2_true):\n",
    "                        opt_moves21 += 1\n",
    "                    elif a in get_optimal_move(s, Q1_true)//4:\n",
    "                        opt_moves22 += 1\n",
    "    \n",
    "    k[sub, :] = [opt_moves11/(18*5), opt_moves12/(18*5), opt_moves21/(36*5), opt_moves22/(36*5)]\n",
    "    \n",
    "for sub in range(40):\n",
    "    np.save(os.path.join(root_path, 'Data/subject_data', str(i), 'flexibility.npy'), k[sub, :])"
   ]
  },
  {
   "cell_type": "markdown",
   "id": "responsible-campaign",
   "metadata": {},
   "source": [
    "### Get flexibility idcs "
   ]
  },
  {
   "cell_type": "code",
   "execution_count": null,
   "id": "limited-gardening",
   "metadata": {
    "ExecuteTime": {
     "end_time": "2021-03-12T18:50:14.084301Z",
     "start_time": "2021-03-12T18:50:14.071459Z"
    },
    "code_folding": [
     0
    ],
    "deletable": false,
    "editable": false,
    "run_control": {
     "frozen": true
    }
   },
   "outputs": [],
   "source": [
    "def get_flex_idcs(sub):\n",
    "    \n",
    "    root_folder = os.path.join(root_path, 'Data/task_flex/%u'%(sub))\n",
    "    \n",
    "    flex_idcs = []\n",
    "    for rep in range(100):\n",
    "    \n",
    "        rep_folder  = os.path.join(root_folder, str(rep))\n",
    "\n",
    "        opt_moves11 = 0\n",
    "        opt_moves12 = 0\n",
    "        opt_moves21 = 0\n",
    "        opt_moves22 = 0\n",
    "\n",
    "        # iterate over 5 blocks\n",
    "        for i in range(5):\n",
    "            if i == 0:\n",
    "                this_range = 6\n",
    "            else:\n",
    "                this_range = 7\n",
    "            tmp = []\n",
    "\n",
    "            if i in [0, 1]:\n",
    "                Q1_true, Q2_true = get_Q_true(world1, idcs1)\n",
    "            elif i in [2, 3]:\n",
    "                Q1_true, Q2_true = get_Q_true(world2, idcs1)\n",
    "            else:\n",
    "                Q1_true, Q2_true = get_Q_true(world2, idcs2)\n",
    "\n",
    "            for j in range(this_range):\n",
    "\n",
    "                moves = np.load(os.path.join(rep_folder, str(i), 'moves%u.npy'%j))\n",
    "\n",
    "                for move in moves:\n",
    "\n",
    "                    if len(move) != 2:\n",
    "                        s = move[0]\n",
    "                        a = move[1]\n",
    "                        if a in get_optimal_move(s, Q2_true):\n",
    "                            opt_moves11 += 1\n",
    "                        elif a in get_optimal_move(s, Q1_true)//4:\n",
    "                            opt_moves12 += 1\n",
    "\n",
    "                    else:\n",
    "                        s = move[0][0]\n",
    "                        a = move[0][1]\n",
    "                        if a in get_optimal_move(s, Q2_true):\n",
    "                            opt_moves21 += 1\n",
    "                        elif a in get_optimal_move(s, Q1_true)//4:\n",
    "                            opt_moves22 += 1\n",
    "\n",
    "        flex_idcs.append(opt_moves11/(18*5) - opt_moves12/(18*5) - opt_moves21/(36*5) + opt_moves22/(36*5))\n",
    "    return flex_idcs"
   ]
  },
  {
   "cell_type": "code",
   "execution_count": null,
   "id": "spiritual-announcement",
   "metadata": {
    "ExecuteTime": {
     "end_time": "2021-03-12T21:45:29.074698Z",
     "start_time": "2021-03-12T19:14:51.265395Z"
    },
    "code_folding": [],
    "deletable": false,
    "editable": false,
    "run_control": {
     "frozen": true
    },
    "scrolled": true
   },
   "outputs": [],
   "source": [
    "Y = np.zeros((100, 40))\n",
    "for i in range(40):\n",
    "    Y[:, i] = get_flex_idcs(i)\n",
    "    print('Done %u'%i)\n",
    "np.save(os.path.join(root_path, 'Data/flexibility_data/all_flex.npy'), Y)"
   ]
  },
  {
   "cell_type": "markdown",
   "id": "choice-battlefield",
   "metadata": {},
   "source": [
    "### Load flexibility idcs"
   ]
  },
  {
   "cell_type": "code",
   "execution_count": 89,
   "id": "smaller-worship",
   "metadata": {
    "ExecuteTime": {
     "end_time": "2021-07-02T17:16:12.638727Z",
     "start_time": "2021-07-02T17:16:12.558272Z"
    }
   },
   "outputs": [],
   "source": [
    "flex_idcs_hums = np.zeros(40)\n",
    "for i in range(40):\n",
    "    tmp = np.load(os.path.join(root_folder, 'Data/subject_data/', str(i), 'flexibility.npy'))\n",
    "    flex_idcs_hums[i] = tmp[0]-tmp[1]+tmp[3]-tmp[2]\n",
    "\n",
    "Y = np.load(os.path.join(root_folder, 'Data/flexibility_data/all_flex.npy'))\n",
    "flex_idcs_ag   = np.mean(Y, axis=0)"
   ]
  },
  {
   "cell_type": "code",
   "execution_count": 90,
   "id": "accompanied-framework",
   "metadata": {
    "ExecuteTime": {
     "end_time": "2021-07-02T17:16:12.993921Z",
     "start_time": "2021-07-02T17:16:12.982900Z"
    }
   },
   "outputs": [],
   "source": [
    "subs_who_replay = np.load(os.path.join(root_folder, 'Data/task/Analysis', 'subs_who_replay.npy'))\n",
    "vals = np.load(os.path.join(root_folder, 'Data/task/Analysis', 'policy_improve_value_objective.npy'))"
   ]
  },
  {
   "cell_type": "markdown",
   "id": "photographic-handbook",
   "metadata": {},
   "source": [
    "### Regression human IF vs simulated IF"
   ]
  },
  {
   "cell_type": "code",
   "execution_count": 92,
   "id": "failing-needle",
   "metadata": {
    "ExecuteTime": {
     "end_time": "2021-07-02T17:20:18.638550Z",
     "start_time": "2021-07-02T17:20:13.009042Z"
    }
   },
   "outputs": [
    {
     "name": "stdout",
     "output_type": "stream",
     "text": [
      "34\n",
      "38\n"
     ]
    },
    {
     "data": {
      "image/png": "[encoded data removed]",
      "text/plain": [
       "<Figure size 432x432 with 1 Axes>"
      ]
     },
     "metadata": {
      "needs_background": "light"
     },
     "output_type": "display_data"
    }
   ],
   "source": [
    "reg = LinearRegression().fit(flex_idcs_hums.reshape(-1, 1), np.array(flex_idcs_ag).reshape(-1,1))\n",
    "\n",
    "x_pred = np.linspace(-0.15, 1.2, 20)\n",
    "y_pred = reg.predict(x_pred.reshape(-1, 1))\n",
    "rr, pr = pearsonr(flex_idcs_hums, flex_idcs_ag)\n",
    "\n",
    "figure = plt.figure(figsize=(6, 6))\n",
    "\n",
    "nb = np.zeros(40)\n",
    "for i in range(40):\n",
    "    if i in subs_who_replay:\n",
    "        if i in subs_who_replay[np.argwhere(vals < 0).flatten()]:\n",
    "            plt.scatter(flex_idcs_hums[i], flex_idcs_ag[i], c='green')\n",
    "            nb[i] = 2\n",
    "            print(i)\n",
    "        else:\n",
    "            nb[i] = 1\n",
    "            plt.scatter(flex_idcs_hums[i], flex_idcs_ag[i], c='r')\n",
    "    else:\n",
    "        plt.scatter(flex_idcs_hums[i], flex_idcs_ag[i], c='b')\n",
    "plt.plot(x_pred, y_pred, c='k')\n",
    "plt.xlabel('Human IF', fontsize=14)\n",
    "plt.ylabel('Agent IF', fontsize=14)\n",
    "plt.title(r'$R^{2}=%.2f, p=%.3E$'%(rr**2, pr));\n",
    "\n",
    "flex_subs   = np.array([flex_idcs_ag[i] for i in subs_who_replay])\n",
    "inflex_subs = np.array([flex_idcs_ag[i] for i in range(40) if i not in subs_who_replay])\n",
    "\n",
    "plt.savefig(os.path.join(root_folder, 'Paper/Figures_data/supp3/a/plot.svg'), transparent=True)\n",
    "np.save(os.path.join(root_folder, 'Paper/Figures_data/supp3/a/human_flex.npy'), flex_idcs_hums)\n",
    "np.save(os.path.join(root_folder, 'Paper/Figures_data/supp3/a/agent_flex.npy'), flex_idcs_ag)\n",
    "np.save(os.path.join(root_folder, 'Paper/Figures_data/supp3/a/sub_meta.npy'), nb)\n",
    "\n",
    "\n",
    "d, t, p = permutation_test(inflex_subs, flex_subs, 100000, return_tests=True)\n",
    "with open(os.path.join(root_folder, 'Paper/Figures_data/supp3/a/stats.txt'), 'w') as f:\n",
    "    f.write('Regression: R^2 = %.3E, p = %.3E\\n'%(rr**2, pr))\n",
    "    f.write('MF vs MI: t = %.3E, p = %.3E'%(t, p))\n",
    "    \n",
    "with open(os.path.join(root_folder, 'Paper/Figures_data/supp3/a/meta.txt'), 'w') as f:\n",
    "    f.write('File `sub_meta.npy` contains 40 entries for each subject.\\n0 = MF subject; 1 = MI subject; 2 = MI subject who hurt himself')"
   ]
  },
  {
   "cell_type": "markdown",
   "id": "downtown-interim",
   "metadata": {},
   "source": [
    "### Parameters IF analysis"
   ]
  },
  {
   "cell_type": "code",
   "execution_count": 52,
   "id": "novel-protection",
   "metadata": {
    "ExecuteTime": {
     "end_time": "2021-07-02T16:50:50.090741Z",
     "start_time": "2021-07-02T16:50:50.085182Z"
    }
   },
   "outputs": [],
   "source": [
    "params_path = os.path.join(root_folder, 'Data/fits')"
   ]
  },
  {
   "cell_type": "code",
   "execution_count": 53,
   "id": "sporting-upset",
   "metadata": {
    "ExecuteTime": {
     "end_time": "2021-07-02T16:50:50.675263Z",
     "start_time": "2021-07-02T16:50:50.596891Z"
    }
   },
   "outputs": [
    {
     "name": "stdout",
     "output_type": "stream",
     "text": [
      "subject: 0, phi^{MB}: 0.98, phi^{MF}: 0.97\n",
      "subject: 2, phi^{MB}: 1.00, phi^{MF}: 0.80\n",
      "subject: 3, phi^{MB}: 1.00, phi^{MF}: 0.62\n",
      "subject: 5, phi^{MB}: 0.20, phi^{MF}: 0.91\n",
      "subject: 6, phi^{MB}: 0.30, phi^{MF}: 0.95\n",
      "subject: 8, phi^{MB}: 1.00, phi^{MF}: 1.00\n",
      "subject: 14, phi^{MB}: 0.96, phi^{MF}: 0.93\n",
      "subject: 16, phi^{MB}: 0.99, phi^{MF}: 0.77\n",
      "subject: 17, phi^{MB}: 0.94, phi^{MF}: 0.93\n",
      "subject: 19, phi^{MB}: 1.00, phi^{MF}: 0.76\n",
      "subject: 21, phi^{MB}: 1.00, phi^{MF}: 0.79\n",
      "subject: 24, phi^{MB}: 0.57, phi^{MF}: 0.85\n",
      "subject: 26, phi^{MB}: 0.47, phi^{MF}: 0.87\n",
      "subject: 27, phi^{MB}: 0.69, phi^{MF}: 0.93\n",
      "subject: 28, phi^{MB}: 0.23, phi^{MF}: 0.89\n",
      "subject: 29, phi^{MB}: 0.92, phi^{MF}: 0.34\n",
      "subject: 32, phi^{MB}: 1.00, phi^{MF}: 0.65\n",
      "subject: 34, phi^{MB}: 0.33, phi^{MF}: 0.93\n",
      "subject: 35, phi^{MB}: 0.94, phi^{MF}: 0.97\n",
      "subject: 37, phi^{MB}: 0.98, phi^{MF}: 0.89\n",
      "subject: 38, phi^{MB}: 0.14, phi^{MF}: 0.97\n"
     ]
    }
   ],
   "source": [
    "for i in subs_who_replay:\n",
    "    p = np.load(os.path.join(params_path, 'save_params_%u'%i, 'params.npy'))[:18]\n",
    "    print('subject: %u, phi^{MB}: %.2f, phi^{MF}: %.2f'%(i, p[8], p[9]))"
   ]
  },
  {
   "cell_type": "code",
   "execution_count": 57,
   "id": "turkish-perception",
   "metadata": {
    "ExecuteTime": {
     "end_time": "2021-07-02T16:51:40.871420Z",
     "start_time": "2021-07-02T16:51:40.730984Z"
    }
   },
   "outputs": [
    {
     "name": "stdout",
     "output_type": "stream",
     "text": [
      "                                 OLS Regression Results                                \n",
      "=======================================================================================\n",
      "Dep. Variable:                      y   R-squared (uncentered):                   0.926\n",
      "Model:                            OLS   Adj. R-squared (uncentered):              0.871\n",
      "Method:                 Least Squares   F-statistic:                              16.80\n",
      "Date:                Fri, 02 Jul 2021   Prob (F-statistic):                    1.70e-05\n",
      "Time:                        18:51:40   Log-Likelihood:                         -2.3934\n",
      "No. Observations:                  21   AIC:                                      22.79\n",
      "Df Residuals:                      12   BIC:                                      32.19\n",
      "Df Model:                           9                                                  \n",
      "Covariance Type:            nonrobust                                                  \n",
      "==============================================================================\n",
      "                 coef    std err          t      P>|t|      [0.025      0.975]\n",
      "------------------------------------------------------------------------------\n",
      "0             -0.3672      0.127     -2.902      0.013      -0.643      -0.091\n",
      "1             -0.5468      0.099     -5.501      0.000      -0.763      -0.330\n",
      "2              0.7688      0.107      7.188      0.000       0.536       1.002\n",
      "4             -0.2188      0.088     -2.479      0.029      -0.411      -0.027\n",
      "8             -0.6456      0.115     -5.634      0.000      -0.895      -0.396\n",
      "9             -0.8177      0.170     -4.812      0.000      -1.188      -0.447\n",
      "15             0.6466      0.146      4.417      0.001       0.328       0.966\n",
      "16             0.1450      0.094      1.535      0.151      -0.061       0.351\n",
      "17            -0.1386      0.094     -1.475      0.166      -0.343       0.066\n",
      "==============================================================================\n",
      "Omnibus:                        2.632   Durbin-Watson:                   1.975\n",
      "Prob(Omnibus):                  0.268   Jarque-Bera (JB):                1.784\n",
      "Skew:                          -0.712   Prob(JB):                        0.410\n",
      "Kurtosis:                       2.899   Cond. No.                         4.89\n",
      "==============================================================================\n",
      "\n",
      "Warnings:\n",
      "[1] Standard Errors assume that the covariance matrix of the errors is correctly specified.\n"
     ]
    }
   ],
   "source": [
    "# subs = np.delete(range(40), subs_who_replay)\n",
    "subs = subs_who_replay\n",
    "\n",
    "# load params\n",
    "# MB_params = [5, 6, 7, 8, 10, 11, 12, 13, 14, 15, 16, 17]\n",
    "MB_params = [5, 10, 11, 12, 13, 14]\n",
    "\n",
    "labels = np.delete(range(18), MB_params)\n",
    "\n",
    "X = np.zeros((len(subs), 18))\n",
    "for i in range(X.shape[0]):\n",
    "    p = np.load(os.path.join(params_path, 'save_params_%u'%subs[i], 'params.npy'))[:18]\n",
    "    p[8] = (1-p[8])\n",
    "    p[9] = (1-p[9])\n",
    "    X[i, :] = p\n",
    "\n",
    "# zscore\n",
    "X = zscore(X, axis=0)\n",
    "y = zscore(np.mean(Y[:, subs], axis=0))\n",
    "\n",
    "X = pd.DataFrame(X, columns=[str(i) for i in range(18)])\n",
    "X.drop([str(i) for i in MB_params], axis=1, inplace=True)\n",
    "\n",
    "estimator = LinearRegression()\n",
    "selector  = RFECV(estimator, min_features_to_select=4, step=1, cv=5)\n",
    "selector  = selector.fit(X, y)\n",
    "\n",
    "for i in range(len(selector.ranking_)):\n",
    "    if selector.ranking_[i] != 1:\n",
    "        X.drop(str(labels[i]), axis=1, inplace=True)\n",
    "        \n",
    "est = sm.OLS(y, X)\n",
    "est2 = est.fit()\n",
    "print(est2.summary())"
   ]
  },
  {
   "cell_type": "code",
   "execution_count": 58,
   "id": "personal-richards",
   "metadata": {
    "ExecuteTime": {
     "end_time": "2021-07-02T16:51:42.837586Z",
     "start_time": "2021-07-02T16:51:42.825192Z"
    }
   },
   "outputs": [],
   "source": [
    "coefs  = est2.params\n",
    "labels = est2.params.index.astype(int)\n",
    "\n",
    "sort_idcs  = np.argsort(np.abs(coefs))[::-1]\n",
    "\n",
    "sorted_labels  = [labels[k] for k in sort_idcs]\n",
    "sorted_coefs   = coefs[sort_idcs]\n",
    "sorted_ci      = est2.conf_int(0.05).iloc[sort_idcs]"
   ]
  },
  {
   "cell_type": "code",
   "execution_count": 59,
   "id": "enormous-property",
   "metadata": {
    "ExecuteTime": {
     "end_time": "2021-07-02T16:51:50.243418Z",
     "start_time": "2021-07-02T16:51:49.985062Z"
    }
   },
   "outputs": [
    {
     "data": {
      "image/png": "[encoded data removed]",
      "text/plain": [
       "<Figure size 504x288 with 1 Axes>"
      ]
     },
     "metadata": {
      "needs_background": "light"
     },
     "output_type": "display_data"
    }
   ],
   "source": [
    "figure = plt.figure(figsize=(7, 4))\n",
    "\n",
    "plt.bar(range(len(sorted_labels)), sorted_coefs, width=0.7, facecolor='#4CBA64')\n",
    "for i in range(len(sorted_labels)):\n",
    "    x = [i, i]\n",
    "    y = [sorted_ci[0].iloc[i], sorted_ci[1].iloc[i]]\n",
    "    plt.plot(x, y, c='k')\n",
    "    \n",
    "plt.axhline(0, c='k')\n",
    "plt.xticks(range(len(sorted_labels)), sorted_labels, fontsize=16);\n",
    "plt.yticks(fontsize=14)\n",
    "plt.ylabel('Relation to flexibility', fontsize=16)\n",
    "# plt.ylim([-1.25, 1.25])\n",
    "\n",
    "plt.savefig(os.path.join(root_folder, 'Paper/Figures_data/supp3/b', 'MI_coef.svg'), transparent=True)\n",
    "with open(os.path.join(root_folder, 'Paper/Figures_data/supp3/b', 'stats_MI.txt'), 'w') as f:\n",
    "    f.write(est2.summary().as_text())\n",
    "est2.save(os.path.join(root_folder, 'Paper/Figures_data/supp3/b/results_MI.pickle'))"
   ]
  },
  {
   "cell_type": "markdown",
   "id": "following-lender",
   "metadata": {},
   "source": [
    "### Replay is sometimes bad..."
   ]
  },
  {
   "cell_type": "code",
   "execution_count": 60,
   "id": "warming-vietnamese",
   "metadata": {
    "ExecuteTime": {
     "end_time": "2021-07-02T16:52:17.811324Z",
     "start_time": "2021-07-02T16:52:17.758069Z"
    }
   },
   "outputs": [
    {
     "name": "stdout",
     "output_type": "stream",
     "text": [
      "                                 OLS Regression Results                                \n",
      "=======================================================================================\n",
      "Dep. Variable:                      y   R-squared (uncentered):                   0.816\n",
      "Model:                            OLS   Adj. R-squared (uncentered):              0.785\n",
      "Method:                 Least Squares   F-statistic:                              26.60\n",
      "Date:                Fri, 02 Jul 2021   Prob (F-statistic):                    7.79e-07\n",
      "Time:                        18:52:17   Log-Likelihood:                         -12.025\n",
      "No. Observations:                  21   AIC:                                      30.05\n",
      "Df Residuals:                      18   BIC:                                      33.18\n",
      "Df Model:                           3                                                  \n",
      "Covariance Type:            nonrobust                                                  \n",
      "==============================================================================\n",
      "                 coef    std err          t      P>|t|      [0.025      0.975]\n",
      "------------------------------------------------------------------------------\n",
      "8             -0.0595      0.110     -0.543      0.594      -0.290       0.171\n",
      "9              0.8916      0.115      7.762      0.000       0.650       1.133\n",
      "15            -0.0410      0.107     -0.381      0.707      -0.267       0.185\n",
      "==============================================================================\n",
      "Omnibus:                        2.213   Durbin-Watson:                   1.579\n",
      "Prob(Omnibus):                  0.331   Jarque-Bera (JB):                0.757\n",
      "Skew:                           0.260   Prob(JB):                        0.685\n",
      "Kurtosis:                       3.771   Cond. No.                         1.68\n",
      "==============================================================================\n",
      "\n",
      "Warnings:\n",
      "[1] Standard Errors assume that the covariance matrix of the errors is correctly specified.\n"
     ]
    }
   ],
   "source": [
    "subs = subs_who_replay\n",
    "\n",
    "# load params\n",
    "# MB_params = [5, 10, 11, 12, 13, 14]\n",
    "MB_params = np.delete(range(18), [8, 9, 15])\n",
    "\n",
    "labels = np.delete(range(18), MB_params)\n",
    "\n",
    "X = np.zeros((len(subs), 18))\n",
    "for i in range(X.shape[0]):\n",
    "    p = np.load(os.path.join(params_path, 'save_params_%u'%subs[i], 'params.npy'))[:18]\n",
    "    p[8] = (1-p[8])\n",
    "    p[9] = (1-p[9])\n",
    "    X[i, :] = p\n",
    "    \n",
    "# zscore\n",
    "X = zscore(X, axis=0)\n",
    "y = zscore(vals)\n",
    "\n",
    "X = pd.DataFrame(X, columns=[str(i) for i in range(18)])\n",
    "X.drop([str(i) for i in MB_params], axis=1, inplace=True)\n",
    "\n",
    "est = sm.OLS(y, X)\n",
    "est2 = est.fit()\n",
    "print(est2.summary())"
   ]
  },
  {
   "cell_type": "code",
   "execution_count": 61,
   "id": "advanced-platinum",
   "metadata": {
    "ExecuteTime": {
     "end_time": "2021-07-02T16:52:20.131245Z",
     "start_time": "2021-07-02T16:52:20.121072Z"
    }
   },
   "outputs": [],
   "source": [
    "coefs  = est2.params\n",
    "labels = est2.params.index.astype(int)\n",
    "\n",
    "sort_idcs  = np.argsort(np.abs(coefs))[::-1]\n",
    "\n",
    "sorted_labels  = [labels[k] for k in sort_idcs]\n",
    "sorted_coefs   = coefs[sort_idcs]\n",
    "sorted_ci      = est2.conf_int(0.05).iloc[sort_idcs]"
   ]
  },
  {
   "cell_type": "code",
   "execution_count": 62,
   "id": "biblical-oxide",
   "metadata": {
    "ExecuteTime": {
     "end_time": "2021-07-02T16:53:53.000714Z",
     "start_time": "2021-07-02T16:53:52.784269Z"
    }
   },
   "outputs": [
    {
     "data": {
      "image/png": "[encoded data removed]",
      "text/plain": [
       "<Figure size 360x288 with 1 Axes>"
      ]
     },
     "metadata": {
      "needs_background": "light"
     },
     "output_type": "display_data"
    }
   ],
   "source": [
    "figure = plt.figure(figsize=(5, 4))\n",
    "\n",
    "plt.bar(range(len(sorted_labels)), sorted_coefs, width=0.7, facecolor='#4CBA64')\n",
    "for i in range(len(sorted_labels)):\n",
    "    x = [i, i]\n",
    "    y = [sorted_ci[0].iloc[i], sorted_ci[1].iloc[i]]\n",
    "    plt.plot(x, y, c='k')\n",
    "    \n",
    "plt.axhline(0, c='k')\n",
    "plt.xticks(range(len(sorted_labels)), sorted_labels, fontsize=16);\n",
    "plt.yticks(fontsize=14)\n",
    "plt.ylabel('Relation to replay benefit', fontsize=16)\n",
    "\n",
    "plt.ylim([-1.3, 1.3])\n",
    "plt.savefig(os.path.join(root_folder, 'Paper/Figures_data/supp3/f', 'coef.svg'), transparent=True)\n",
    "with open(os.path.join(root_folder, 'Paper/Figures_data/supp3/f', 'stats_coef.txt'), 'w') as f:\n",
    "    f.write(est2.summary().as_text())\n",
    "est2.save(os.path.join(root_folder, 'Paper/Figures_data/supp3/f/results_coef.pickle'))"
   ]
  },
  {
   "cell_type": "markdown",
   "id": "simplified-requirement",
   "metadata": {},
   "source": [
    "### Parameters MF and MB"
   ]
  },
  {
   "cell_type": "code",
   "execution_count": 68,
   "id": "champion-mexico",
   "metadata": {
    "ExecuteTime": {
     "end_time": "2021-07-02T16:55:14.736355Z",
     "start_time": "2021-07-02T16:55:14.650674Z"
    }
   },
   "outputs": [],
   "source": [
    "# load params\n",
    "flex_tau, flex_rho, flex_xi   = [], [], []\n",
    "inflex_tau, inflex_rho, inflex_xi = [], [], []\n",
    "\n",
    "for i in range(40):\n",
    "    p = np.load(os.path.join(params_path, 'save_params_%u'%i, 'params.npy'))[:18]\n",
    "    if i in subs_who_replay:\n",
    "        flex_tau.append(1-p[9])\n",
    "        flex_rho.append(1-p[8])\n",
    "        flex_xi.append(p[15])\n",
    "    else:\n",
    "        inflex_tau.append(1-p[9])\n",
    "        inflex_rho.append(1-p[8])\n",
    "        inflex_xi.append(p[15])"
   ]
  },
  {
   "cell_type": "code",
   "execution_count": 69,
   "id": "veterinary-tribune",
   "metadata": {
    "ExecuteTime": {
     "end_time": "2021-07-02T16:58:01.135224Z",
     "start_time": "2021-07-02T16:58:00.722384Z"
    }
   },
   "outputs": [
    {
     "data": {
      "image/png": "[encoded data removed]",
      "text/plain": [
       "<Figure size 288x288 with 1 Axes>"
      ]
     },
     "metadata": {
      "needs_background": "light"
     },
     "output_type": "display_data"
    }
   ],
   "source": [
    "plt.figure(figsize=(4, 4))\n",
    "\n",
    "plt.bar([1], np.mean(flex_tau), facecolor='r', alpha=0.5)\n",
    "plt.bar([2], np.mean(inflex_tau), facecolor='b', alpha=0.5)\n",
    "hurt = []\n",
    "for i in range(len(flex_tau)):\n",
    "    if vals[i] < 0:\n",
    "        plt.scatter([1.1], flex_tau[i], facecolor='green')\n",
    "    else:\n",
    "        plt.scatter([0.9], flex_tau[i], facecolor='r')\n",
    "plt.scatter([2]*len(inflex_tau), inflex_tau, color='b')\n",
    "plt.ylabel(r'$\\phi^{MF}$', fontsize=14)\n",
    "plt.ylim(0, 1)\n",
    "\n",
    "plt.savefig(os.path.join(root_folder, 'Paper/Figures_data/supp3/c', 'phi_mf.svg'), transparent=True)\n",
    "np.save(os.path.join(root_folder, 'Paper/Figures_data/supp3/c', 'MI_phi_mf.npy'), flex_tau)\n",
    "np.save(os.path.join(root_folder, 'Paper/Figures_data/supp3/c', 'MF_phi_mf.npy'), inflex_tau)"
   ]
  },
  {
   "cell_type": "code",
   "execution_count": 70,
   "id": "silver-howard",
   "metadata": {
    "ExecuteTime": {
     "end_time": "2021-07-02T16:58:54.584375Z",
     "start_time": "2021-07-02T16:58:54.279542Z"
    }
   },
   "outputs": [
    {
     "data": {
      "image/png": "[encoded data removed]",
      "text/plain": [
       "<Figure size 288x288 with 1 Axes>"
      ]
     },
     "metadata": {
      "needs_background": "light"
     },
     "output_type": "display_data"
    }
   ],
   "source": [
    "plt.figure(figsize=(4, 4))\n",
    "\n",
    "hurt_rho    = []\n",
    "benefit_rho = []\n",
    "plt.bar([1.5], np.mean(flex_rho), facecolor='r', alpha=0.5)\n",
    "for i in range(len(flex_rho)):\n",
    "    if vals[i] < 0:\n",
    "        hurt_rho.append(flex_rho[i])\n",
    "        plt.scatter([1.6], flex_rho[i], c='green')\n",
    "    else:\n",
    "        benefit_rho.append(flex_rho[i])\n",
    "        plt.scatter([1.4], flex_rho[i], c='r')\n",
    "plt.ylabel(r'$\\phi^{MB}$', fontsize=14)\n",
    "plt.ylim(0, 1)\n",
    "plt.xlim(0.5, 2.5)\n",
    "\n",
    "plt.savefig(os.path.join(root_folder, 'Paper/Figures_data/supp3/d', 'phi_mb.svg'), transparent=True)\n",
    "np.save(os.path.join(root_folder, 'Paper/Figures_data/supp3/d', 'MI_phi_mb.npy'), flex_rho)\n",
    "np.save(os.path.join(root_folder, 'Paper/Figures_data/supp3/d', 'MF_phi_mb.npy'), inflex_rho)"
   ]
  },
  {
   "cell_type": "code",
   "execution_count": 71,
   "id": "ecological-services",
   "metadata": {
    "ExecuteTime": {
     "end_time": "2021-07-02T16:59:36.835337Z",
     "start_time": "2021-07-02T16:59:36.477294Z"
    }
   },
   "outputs": [
    {
     "data": {
      "image/png": "[encoded data removed]",
      "text/plain": [
       "<Figure size 288x288 with 1 Axes>"
      ]
     },
     "metadata": {
      "needs_background": "light"
     },
     "output_type": "display_data"
    }
   ],
   "source": [
    "plt.figure(figsize=(4, 4))\n",
    "\n",
    "hurt_xi    = []\n",
    "benefit_xi = []\n",
    "plt.bar([1.5], np.mean(np.log10(flex_xi)), alpha=0.5, facecolor='r')\n",
    "for i in range(len(flex_xi)):\n",
    "    if vals[i] < 0:\n",
    "        hurt_xi.append(flex_xi[i])\n",
    "        plt.scatter([1.6], np.log10(flex_xi[i]), c='green')\n",
    "    else:\n",
    "        benefit_xi.append(flex_xi[i])\n",
    "        plt.scatter([1.4], np.log10(flex_xi[i]), c='r')\n",
    "plt.xlim(0.5, 2.5)\n",
    "plt.ylabel(r'$\\xi$', fontsize=14)\n",
    "\n",
    "plt.savefig(os.path.join(root_folder, 'Paper/Figures_data/supp3/e', 'xi.svg'), transparent=True)\n",
    "np.save(os.path.join(root_folder, 'Paper/Figures_data/supp3/e', 'MI_xi.npy'), flex_xi)\n",
    "np.save(os.path.join(root_folder, 'Paper/Figures_data/supp3/e', 'MF_xi.npy'), inflex_xi)"
   ]
  },
  {
   "cell_type": "code",
   "execution_count": 73,
   "id": "contemporary-rwanda",
   "metadata": {
    "ExecuteTime": {
     "end_time": "2021-07-02T17:01:18.788997Z",
     "start_time": "2021-07-02T17:01:18.779601Z"
    }
   },
   "outputs": [],
   "source": [
    "t_tau, p_tau = ranksums(flex_tau, inflex_tau)\n",
    "# tests_rho, t_rho, p_rho = bootstrap_test(np.array(hurt_rho), np.array(benefit_rho), 100000)\n",
    "# tests_xi, t_xi,  p_xi  = bootstrap_test(np.array(hurt_xi), np.array(benefit_xi), 100000)\n",
    "with open(os.path.join(root_folder, 'Paper/Figures_data/supp3/c', 'stats.txt'), 'w') as f:\n",
    "    f.write('Ranksums : MF phi vs MI phi   : t = %.3E, p = %.3E\\n'%(t_tau, p_tau))\n",
    "#     f.write('Bootstrap: Hurt rho   vs benefit rho: t = %.3E, p = %.3E\\n'%(t_rho, p_rho))\n",
    "#     f.write('Bootstrap: Hurt xi    vs benefit xi : t = %.3E, p = %.3E'%(t_xi, p_xi))"
   ]
  },
  {
   "cell_type": "markdown",
   "id": "commercial-manitoba",
   "metadata": {},
   "source": [
    "### Compare Eran's and our forgetting params"
   ]
  },
  {
   "cell_type": "code",
   "execution_count": 74,
   "id": "essential-movement",
   "metadata": {
    "ExecuteTime": {
     "end_time": "2021-07-02T17:01:40.757101Z",
     "start_time": "2021-07-02T17:01:40.670610Z"
    }
   },
   "outputs": [],
   "source": [
    "eran_params = os.path.join(root_folder, 'Data/Parameter_fits.xlsx')\n",
    "df_eran  = pd.read_excel(eran_params)\n",
    "tau_eran = df_eran.iloc[7].values[1:]\n",
    "rho_eran = df_eran.iloc[10].values[1:]"
   ]
  },
  {
   "cell_type": "code",
   "execution_count": 75,
   "id": "great-boating",
   "metadata": {
    "ExecuteTime": {
     "end_time": "2021-07-02T17:02:03.688050Z",
     "start_time": "2021-07-02T17:02:03.605686Z"
    }
   },
   "outputs": [],
   "source": [
    "my_params = os.path.join(root_path, 'Data/fits')\n",
    "df_my = np.zeros((40, 18))\n",
    "for i in range(df_my.shape[0]):\n",
    "    p = np.load(os.path.join(my_params, 'save_params_%u'%i, 'params.npy'))[:18]\n",
    "    df_my[i, :] = p\n",
    "    \n",
    "tau_my = (1-df_my[:, 8])\n",
    "rho_my = (1-df_my[:, 9])"
   ]
  },
  {
   "cell_type": "code",
   "execution_count": 81,
   "id": "drawn-beijing",
   "metadata": {
    "ExecuteTime": {
     "end_time": "2021-07-02T17:08:12.790219Z",
     "start_time": "2021-07-02T17:08:12.544268Z"
    }
   },
   "outputs": [
    {
     "data": {
      "image/png": "[encoded data removed]",
      "text/plain": [
       "<Figure size 400x400 with 1 Axes>"
      ]
     },
     "metadata": {
      "needs_background": "light"
     },
     "output_type": "display_data"
    }
   ],
   "source": [
    "plt.figure(figsize=(4, 4), dpi=100)\n",
    "\n",
    "plt.bar([1], np.mean(tau_my), facecolor='#00D667', alpha=0.4)\n",
    "plt.scatter([1]*40, tau_my, c='#00D667')\n",
    "plt.bar([2], np.mean(tau_eran), facecolor='k', alpha=0.4)\n",
    "plt.scatter([2]*40, tau_eran, c='k')\n",
    "plt.ylim(0, 1)\n",
    "plt.ylabel(r'$\\phi^{MF}$', fontsize=14)\n",
    "t_tau, p_tau = ttest_ind(tau_my, tau_eran)\n",
    "\n",
    "plt.savefig(os.path.join(root_folder, 'Paper/Figures_data/supp2/a', 'phi_mf.svg'), transparent=True)\n",
    "np.save(os.path.join(root_folder, 'Paper/Figures_data/supp2/a', 'ours.npy'), tau_my)\n",
    "np.save(os.path.join(root_folder, 'Paper/Figures_data/supp2/a', 'erans.npy'), tau_eran)\n",
    "\n",
    "with open(os.path.join(root_folder, 'Paper/Figures_data/supp2/a', 'stats.txt'), 'w') as f:\n",
    "    f.write('phi ours vs Eran\\'s:      t = %.3E, p = %.3E\\n'%(t_tau,  p_tau))"
   ]
  },
  {
   "cell_type": "code",
   "execution_count": 83,
   "id": "cardiovascular-concentrate",
   "metadata": {
    "ExecuteTime": {
     "end_time": "2021-07-02T17:08:50.879263Z",
     "start_time": "2021-07-02T17:08:50.608821Z"
    }
   },
   "outputs": [
    {
     "data": {
      "image/png": "[encoded data removed]",
      "text/plain": [
       "<Figure size 400x400 with 1 Axes>"
      ]
     },
     "metadata": {
      "needs_background": "light"
     },
     "output_type": "display_data"
    }
   ],
   "source": [
    "plt.figure(figsize=(4, 4), dpi=100)\n",
    "\n",
    "plt.bar([1], np.mean(rho_my), facecolor='#00D667', alpha=0.4)\n",
    "plt.scatter([1]*40, rho_my, c='#00D667')\n",
    "plt.bar([2], np.mean(rho_eran), facecolor='k', alpha=0.4)\n",
    "plt.scatter([2]*40, rho_eran, c='k')\n",
    "for i in range(40):\n",
    "    plt.plot([1, 2], [rho_my[i], rho_eran[i]], c='k', alpha=0.8)\n",
    "plt.ylim(0, 1)\n",
    "plt.ylabel(r'$\\phi^{MB}$', fontsize=14)\n",
    "t_rho, p_rho = ttest_ind(rho_my, rho_eran)\n",
    "\n",
    "plt.savefig(os.path.join(root_folder, 'Paper/Figures_data/supp2/b', 'phi_mb.svg'), transparent=True)\n",
    "np.save(os.path.join(root_folder, 'Paper/Figures_data/supp2/b', 'ours.npy'), rho_my)\n",
    "np.save(os.path.join(root_folder, 'Paper/Figures_data/supp2/b', 'erans.npy'), rho_eran)\n",
    "\n",
    "with open(os.path.join(root_folder, 'Paper/Figures_data/supp2/b', 'stats.txt'), 'w') as f:\n",
    "    f.write('phi ours vs Eran\\'s:      t = %.3E, p = %.3E\\n'%(t_rho,  p_rho))"
   ]
  },
  {
   "cell_type": "markdown",
   "id": "moral-madrid",
   "metadata": {},
   "source": [
    "### Model entropy after training"
   ]
  },
  {
   "cell_type": "code",
   "execution_count": 84,
   "id": "positive-cocktail",
   "metadata": {
    "ExecuteTime": {
     "end_time": "2021-07-02T17:09:27.623905Z",
     "start_time": "2021-07-02T17:09:27.444612Z"
    }
   },
   "outputs": [],
   "source": [
    "task_folder = os.path.join(root_folder, 'Data/task/')\n",
    "\n",
    "_, Q2_true  = get_Q_true(world1, idcs1)\n",
    "ents_flex   = []\n",
    "ents_inflex = []\n",
    "\n",
    "for sub in range(40):\n",
    "    sub_folder = os.path.join(task_folder, str(sub), 'training', '6')\n",
    "    z = np.load(os.path.join(sub_folder, 'move47.npz'))\n",
    "    T = z['T']\n",
    "    tmp = []\n",
    "    for s in range(8):\n",
    "        a_opt = get_optimal_move(s, Q2_true)\n",
    "        this_ent = get_entropy(T, s, a_opt)\n",
    "        if len(this_ent) > 1:\n",
    "            this_ent = np.mean(this_ent)\n",
    "        else:\n",
    "            this_ent = this_ent[0]\n",
    "        tmp.append(this_ent)\n",
    "    if sub in subs_who_replay:\n",
    "        ents_flex += [np.mean(tmp)]\n",
    "    else:\n",
    "        ents_inflex += [np.mean(tmp)]"
   ]
  },
  {
   "cell_type": "code",
   "execution_count": 86,
   "id": "temporal-regression",
   "metadata": {
    "ExecuteTime": {
     "end_time": "2021-07-02T17:11:40.287998Z",
     "start_time": "2021-07-02T17:11:40.060780Z"
    }
   },
   "outputs": [
    {
     "data": {
      "image/png": "[encoded data removed]",
      "text/plain": [
       "<Figure size 400x400 with 1 Axes>"
      ]
     },
     "metadata": {
      "needs_background": "light"
     },
     "output_type": "display_data"
    }
   ],
   "source": [
    "plt.figure(figsize=(4, 4), dpi=100)\n",
    "\n",
    "plt.axhline(np.log2(7))\n",
    "\n",
    "plt.bar(1, np.mean(ents_flex), facecolor='r', alpha=0.5)\n",
    "plt.scatter([1]*len(ents_flex), ents_flex, c='r')\n",
    "plt.bar(2, np.mean(ents_inflex), facecolor='b', alpha=0.5)\n",
    "plt.scatter([2]*len(ents_inflex), ents_inflex, c='b')\n",
    "\n",
    "t_diff, p_diff = ttest_ind(ents_flex, ents_inflex)\n",
    "\n",
    "with open(os.path.join(root_folder, 'Paper/Figures_data/supp8', 'stats.txt'), 'w') as f:\n",
    "    f.write('ent MI vs ent MF: t = %.3E, p = %.3E\\n'%(t_diff,  p_diff))\n",
    "\n",
    "plt.savefig(os.path.join(root_folder, 'Paper/Figures_data/supp8', 'model_entropy.svg'), transparent=True, format='svg')\n",
    "np.save(os.path.join(root_folder, 'Paper/Figures_data/supp8', 'MI_ent.npy'), ents_flex)\n",
    "np.save(os.path.join(root_folder, 'Paper/Figures_data/supp8', 'MF_ent.npy'), ents_inflex)"
   ]
  },
  {
   "cell_type": "markdown",
   "id": "introductory-weight",
   "metadata": {},
   "source": [
    "## Re-arranged Model "
   ]
  },
  {
   "cell_type": "code",
   "execution_count": 93,
   "id": "further-drunk",
   "metadata": {
    "ExecuteTime": {
     "end_time": "2021-07-02T17:23:50.433197Z",
     "start_time": "2021-07-02T17:23:50.149482Z"
    }
   },
   "outputs": [],
   "source": [
    "task_folder   = os.path.join(root_folder, 'Data/task/')\n",
    "params_folder = os.path.join(root_folder, 'Data/fits/')\n",
    "\n",
    "subs_who_replay = np.load(os.path.join(task_folder, 'Analysis', 'subs_who_replay.npy'))\n",
    "\n",
    "before = []\n",
    "after  = []\n",
    "ents   = []\n",
    "\n",
    "_, Q2_true = get_Q_true(world2, idcs2)\n",
    "\n",
    "for sub in subs_who_replay:\n",
    "    \n",
    "    sub_task_folder = os.path.join(task_folder, str(sub))\n",
    "    \n",
    "    rho = np.load(os.path.join(params_folder, 'save_params_%u'%sub, 'params.npy'))[12]\n",
    "    \n",
    "    # Model entropy before re-arrangement\n",
    "    file = os.path.join(sub_task_folder, '3', '6', 'move11.npz')\n",
    "    data = np.load(file, allow_pickle=True)\n",
    "    T    = data['T']\n",
    "    T    = rho*T + (1-rho)*(1./7)\n",
    "    \n",
    "    for i in range(T.shape[0]):\n",
    "        for j in range(T.shape[1]):\n",
    "            T[i, j, i]  = 0\n",
    "\n",
    "            row = T[i, j, :]\n",
    "            tmp = np.sum(row)\n",
    "            if tmp > 0:\n",
    "                T[i, j, :] = row / tmp\n",
    "    \n",
    "    # optimal action entropy without rearrangement\n",
    "    tmp = 0\n",
    "    for s in range(8):\n",
    "        for a in range(4):\n",
    "            tmp += np.power(Q2_true[s, a]-np.sum(T[s, a, :]*world2.ravel()), 2)\n",
    "    before.append(tmp/32)\n",
    "\n",
    "    tmp = []\n",
    "    for s in range(8):\n",
    "        a_opt = get_optimal_move(s, Q2_true)\n",
    "        this_ent = get_entropy(T, s, a_opt)\n",
    "        if len(this_ent) > 1:\n",
    "            this_ent = np.mean(this_ent)\n",
    "        else:\n",
    "            this_ent = this_ent[0]\n",
    "        tmp.append(this_ent)\n",
    "    ents.append(np.mean(tmp))\n",
    "    \n",
    "    file = os.path.join(sub_task_folder, '3', 'offline.npz')\n",
    "    data = np.load(file, allow_pickle=True)\n",
    "    T    = data['T']\n",
    "    \n",
    "    # optimal action entropy with rearrangement\n",
    "    tmp = 0\n",
    "    for s in range(8):\n",
    "        for a in range(4):\n",
    "            tmp += np.power(Q2_true[s, a]-np.sum(T[s, a, :]*world2.ravel()), 2)\n",
    "    after.append(tmp/32)"
   ]
  },
  {
   "cell_type": "code",
   "execution_count": 105,
   "id": "broken-cosmetic",
   "metadata": {
    "ExecuteTime": {
     "end_time": "2021-07-02T18:06:08.417628Z",
     "start_time": "2021-07-02T18:06:08.121409Z"
    }
   },
   "outputs": [
    {
     "data": {
      "image/png": "[encoded data removed]",
      "text/plain": [
       "<Figure size 288x360 with 1 Axes>"
      ]
     },
     "metadata": {
      "needs_background": "light"
     },
     "output_type": "display_data"
    }
   ],
   "source": [
    "plt.figure(figsize=(4, 5))\n",
    "\n",
    "plt.bar(2, np.mean(after), facecolor='orange', alpha=0.6, align='center')\n",
    "plt.scatter([2]*len(after), after, c='orange')\n",
    "plt.bar(1, np.mean(before), facecolor='b', alpha=0.6, align='center')\n",
    "plt.scatter([1]*len(before), before, c='b')\n",
    "plt.axhline(0, c='k')\n",
    "for i in range(len(after)):\n",
    "    plt.plot([2, 1], [after[i], before[i]], c='k')\n",
    "\n",
    "\n",
    "t, p = ttest_ind(after, before)\n",
    "\n",
    "plt.savefig(os.path.join(root_folder, 'Paper/Figures_data/supp6/a', 'rmsd_rearrangement.svg'), transparent=True, format='svg')\n",
    "np.save(os.path.join(root_folder, 'Paper/Figures_data/supp6/a', 'after.npy'), after)\n",
    "np.save(os.path.join(root_folder, 'Paper/Figures_data/supp6/a', 'before.npy'), before)\n",
    "with open(os.path.join(root_folder, 'Paper/Figures_data/supp6/a', 'stats.txt'), 'w') as f:\n",
    "    f.write('after vs before: t=%.3E, p=%.3E'%(t, p))\n"
   ]
  },
  {
   "cell_type": "code",
   "execution_count": 106,
   "id": "educational-concrete",
   "metadata": {
    "ExecuteTime": {
     "end_time": "2021-07-02T18:07:43.095135Z",
     "start_time": "2021-07-02T18:07:42.872879Z"
    }
   },
   "outputs": [
    {
     "data": {
      "image/png": "[encoded data removed]",
      "text/plain": [
       "<Figure size 576x360 with 1 Axes>"
      ]
     },
     "metadata": {
      "needs_background": "light"
     },
     "output_type": "display_data"
    }
   ],
   "source": [
    "plt.figure(figsize=(8, 5))\n",
    "\n",
    "diff = np.array(before) - np.array(after)\n",
    "\n",
    "x = np.array(ents).reshape(-1, 1)\n",
    "y = np.array(diff).reshape(-1, 1)\n",
    "\n",
    "reg    = LinearRegression().fit(x, y)\n",
    "\n",
    "x_pred = np.linspace(np.min(ents), np.max(ents), 50).reshape(-1, 1)\n",
    "y_pred = reg.predict(x_pred)\n",
    "plt.scatter(ents, diff, c='orange')\n",
    "plt.plot(x_pred, y_pred, c='k')\n",
    "\n",
    "r, p   = pearsonr(ents, diff)\n",
    "\n",
    "plt.savefig(os.path.join(root_folder, 'Paper/Figures_data/supp6/b', 'rmsd_corr.svg'), transparent=True, format='svg')\n",
    "np.save(os.path.join(root_folder, 'Paper/Figures_data/supp6/b', 'rmsd_diff.npy'), diff)\n",
    "np.save(os.path.join(root_folder, 'Paper/Figures_data/supp6/b', 'entropies.npy'), ents)\n",
    "with open(os.path.join(root_folder, 'Paper/Figures_data/supp6/b', 'stats.txt'), 'w') as f:\n",
    "    f.write('R^2 = %.3E, p = %.3E'%(r**2, p))\n",
    "\n",
    "# plt.savefig('/Users/GA/Documents/Dayan_lab/Paper/Figures_data/supp3/rmsd_corr.svg', transparent=True)"
   ]
  },
  {
   "cell_type": "code",
   "execution_count": 107,
   "id": "strange-grass",
   "metadata": {
    "ExecuteTime": {
     "end_time": "2021-07-02T18:08:43.037387Z",
     "start_time": "2021-07-02T18:08:42.749633Z"
    }
   },
   "outputs": [
    {
     "data": {
      "image/png": "[encoded data removed]",
      "text/plain": [
       "<Figure size 576x360 with 1 Axes>"
      ]
     },
     "metadata": {
      "needs_background": "light"
     },
     "output_type": "display_data"
    }
   ],
   "source": [
    "plt.figure(figsize=(8, 5))\n",
    "\n",
    "reg    = LinearRegression().fit(np.array(diff).reshape(-1, 1), np.array(flex_subs))\n",
    "r, p   = pearsonr(diff, flex_subs)\n",
    "plt.scatter(diff, flex_subs, c='r')\n",
    "\n",
    "x_pred = np.linspace(np.min(diff), np.max(diff), 50).reshape(-1, 1)\n",
    "y_pred = reg.predict(x_pred)\n",
    "plt.plot(x_pred, y_pred, c='k')\n",
    "\n",
    "plt.savefig(os.path.join(root_folder, 'Paper/Figures_data/supp6/c', 'rmsd_corr_flex.svg'), transparent=True, format='svg')\n",
    "np.save(os.path.join(root_folder, 'Paper/Figures_data/supp6/c', 'rmsd_diff.npy'), diff)\n",
    "np.save(os.path.join(root_folder, 'Paper/Figures_data/supp6/c', 'MI_flex.npy'), flex_subs)\n",
    "with open(os.path.join(root_folder, 'Paper/Figures_data/supp6/c', 'stats.txt'), 'w') as f:\n",
    "    f.write('R^2 = %.3E, p = %.3E'%(r**2, p))\n",
    "\n",
    "# plt.savefig('/Users/GA/Documents/Dayan_lab/Paper/Figures_data/supp3/rmsd_corr_if.svg', transparent=True)"
   ]
  },
  {
   "cell_type": "code",
   "execution_count": null,
   "id": "current-excellence",
   "metadata": {},
   "outputs": [],
   "source": []
  }
 ],
 "metadata": {
  "kernelspec": {
   "display_name": "Python 3",
   "language": "python",
   "name": "python3"
  },
  "language_info": {
   "codemirror_mode": {
    "name": "ipython",
    "version": 3
   },
   "file_extension": ".py",
   "mimetype": "text/x-python",
   "name": "python",
   "nbconvert_exporter": "python",
   "pygments_lexer": "ipython3",
   "version": "3.7.6"
  },
  "varInspector": {
   "cols": {
    "lenName": 16,
    "lenType": 16,
    "lenVar": 40
   },
   "kernels_config": {
    "python": {
     "delete_cmd_postfix": "",
     "delete_cmd_prefix": "del ",
     "library": "var_list.py",
     "varRefreshCmd": "print(var_dic_list())"
    },
    "r": {
     "delete_cmd_postfix": ") ",
     "delete_cmd_prefix": "rm(",
     "library": "var_list.r",
     "varRefreshCmd": "cat(var_dic_list()) "
    }
   },
   "types_to_exclude": [
    "module",
    "function",
    "builtin_function_or_method",
    "instance",
    "_Feature"
   ],
   "window_display": false
  }
 },
 "nbformat": 4,
 "nbformat_minor": 5
}
