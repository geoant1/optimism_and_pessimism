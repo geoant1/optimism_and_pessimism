{
 "cells": [
  {
   "cell_type": "code",
   "execution_count": 3,
   "id": "dedicated-ukraine",
   "metadata": {
    "ExecuteTime": {
     "end_time": "2021-09-08T08:41:16.070855Z",
     "start_time": "2021-09-08T08:41:16.054896Z"
    }
   },
   "outputs": [],
   "source": [
    "import numpy as np\n",
    "import sys, os, glob\n",
    "import pandas as pd\n",
    "import matplotlib.pyplot as plt\n",
    "from scipy.io import loadmat\n",
    "from scipy.stats import ttest_ind, ttest_1samp, pearsonr, ranksums, zscore\n",
    "from scipy.stats.mstats import zscore\n",
    "from sklearn.linear_model import LinearRegression\n",
    "from sklearn.linear_model import LinearRegression\n",
    "from sklearn.feature_selection import RFECV\n",
    "import statsmodels.api as sm\n",
    "%matplotlib inline\n",
    "\n",
    "code_path = '/Users/GA/Documents/Dayan_lab/Optimism_And_Pessimism_In_Optimised_Replay/Code/Task'\n",
    "sys.path.append(code_path)\n",
    "from misc_analysis import get_Q_true, get_optimal_move, permutation_test, get_entropy, get_joint_entropy, histogram, get_sorted_files"
   ]
  },
  {
   "cell_type": "code",
   "execution_count": 2,
   "id": "regulation-mercury",
   "metadata": {
    "ExecuteTime": {
     "end_time": "2021-09-08T08:41:15.329966Z",
     "start_time": "2021-09-08T08:41:15.315051Z"
    }
   },
   "outputs": [],
   "source": [
    "root_folder = '/Users/GA/Documents/Dayan_lab/Optimism_And_Pessimism_In_Optimised_Replay'\n",
    "\n",
    "# Worlds & idcs\n",
    "world1 = np.load(os.path.join(root_folder, 'Data/world1.npy'))\n",
    "world2 = np.load(os.path.join(root_folder, 'Data/world2.npy'))\n",
    "idcs1  = np.load(os.path.join(root_folder, 'Data/idcs1.npy'))\n",
    "idcs2  = np.load(os.path.join(root_folder, 'Data/idcs2.npy'))"
   ]
  },
  {
   "cell_type": "markdown",
   "id": "34c7d0fc",
   "metadata": {},
   "source": [
    "### Fitting errors"
   ]
  },
  {
   "cell_type": "code",
   "execution_count": 4,
   "id": "716a5fa1",
   "metadata": {
    "ExecuteTime": {
     "end_time": "2021-09-08T08:41:25.565833Z",
     "start_time": "2021-09-08T08:41:25.334190Z"
    }
   },
   "outputs": [],
   "source": [
    "e = []\n",
    "for i in range(40):\n",
    "    df = pd.read_csv(os.path.join(root_folder, 'Data', 'new_new_fits', 'save_params_%u'%i, 'backup.txt'), header=None, sep='\\t', index_col=False, skiprows=1)\n",
    "    np.save(os.path.join(root_folder, 'Data', 'new_new_fits', 'save_params_%u'%i, 'params.npy'), df.iloc[-1].values[:18])\n",
    "    e.append(df.iloc[-1].values[18])"
   ]
  },
  {
   "cell_type": "code",
   "execution_count": 5,
   "id": "cf105dd5",
   "metadata": {
    "ExecuteTime": {
     "end_time": "2021-09-08T08:41:45.861100Z",
     "start_time": "2021-09-08T08:41:45.610531Z"
    }
   },
   "outputs": [
    {
     "data": {
      "image/png": "[encoded data removed]",
      "text/plain": [
       "<Figure size 432x288 with 1 Axes>"
      ]
     },
     "metadata": {
      "needs_background": "light"
     },
     "output_type": "display_data"
    }
   ],
   "source": [
    "plt.hist(e, bins=15, edgecolor='k');\n",
    "plt.savefig(os.path.join(root_folder, 'new_figures_data', 'supp9.svg'), transparent=True)\n",
    "np.save(os.path.join(root_folder, 'new_figures_data', 'supp9', 'fit_errs.npy'), e)"
   ]
  },
  {
   "cell_type": "markdown",
   "id": "responsible-campaign",
   "metadata": {},
   "source": [
    "### Get flexibility idcs for simulated data"
   ]
  },
  {
   "cell_type": "code",
   "execution_count": 11,
   "id": "limited-gardening",
   "metadata": {
    "ExecuteTime": {
     "end_time": "2021-09-07T08:48:58.702131Z",
     "start_time": "2021-09-07T08:48:58.685764Z"
    },
    "code_folding": [
     0
    ]
   },
   "outputs": [],
   "source": [
    "def get_flex_idcs(sub):\n",
    "    \n",
    "    this_root_folder = os.path.join(root_folder, 'Data/tmp_flex/%u'%(sub))\n",
    "    \n",
    "    flex_idcs = []\n",
    "    for rep in range(100):\n",
    "    \n",
    "        rep_folder  = os.path.join(this_root_folder, str(rep))\n",
    "\n",
    "        opt_moves11 = 0\n",
    "        opt_moves12 = 0\n",
    "        opt_moves21 = 0\n",
    "        opt_moves22 = 0\n",
    "\n",
    "        # iterate over 5 blocks\n",
    "        for i in range(5):\n",
    "            if i == 0:\n",
    "                this_range = 6\n",
    "            else:\n",
    "                this_range = 7\n",
    "            tmp = []\n",
    "\n",
    "            if i in [0, 1]:\n",
    "                Q1_true, Q2_true = get_Q_true(world1, idcs1)\n",
    "            elif i in [2, 3]:\n",
    "                Q1_true, Q2_true = get_Q_true(world2, idcs1)\n",
    "            else:\n",
    "                Q1_true, Q2_true = get_Q_true(world2, idcs2)\n",
    "\n",
    "            for j in range(this_range):\n",
    "\n",
    "                moves = np.load(os.path.join(rep_folder, str(i), 'moves%u.npy'%j))\n",
    "\n",
    "                for move in moves:\n",
    "\n",
    "                    if len(move) != 2:\n",
    "                        s = move[0]\n",
    "                        a = move[1]\n",
    "                        if a in get_optimal_move(s, Q2_true):\n",
    "                            opt_moves11 += 1\n",
    "                        elif a in get_optimal_move(s, Q1_true)//4:\n",
    "                            opt_moves12 += 1\n",
    "\n",
    "                    else:\n",
    "                        s = move[0][0]\n",
    "                        a = move[0][1]\n",
    "                        if a in get_optimal_move(s, Q2_true):\n",
    "                            opt_moves21 += 1\n",
    "                        elif a in get_optimal_move(s, Q1_true)//4:\n",
    "                            opt_moves22 += 1\n",
    "\n",
    "        flex_idcs.append(opt_moves11/(18*5) - opt_moves12/(18*5) - opt_moves21/(36*5) + opt_moves22/(36*5))\n",
    "    return flex_idcs"
   ]
  },
  {
   "cell_type": "code",
   "execution_count": 12,
   "id": "spiritual-announcement",
   "metadata": {
    "ExecuteTime": {
     "end_time": "2021-09-07T08:52:36.431577Z",
     "start_time": "2021-09-07T08:49:01.593063Z"
    },
    "code_folding": [],
    "scrolled": true
   },
   "outputs": [
    {
     "name": "stdout",
     "output_type": "stream",
     "text": [
      "Done 0\n",
      "Done 1\n",
      "Done 2\n",
      "Done 3\n",
      "Done 4\n",
      "Done 5\n",
      "Done 6\n",
      "Done 7\n",
      "Done 8\n",
      "Done 9\n",
      "Done 10\n",
      "Done 11\n",
      "Done 12\n",
      "Done 13\n",
      "Done 14\n",
      "Done 15\n",
      "Done 16\n",
      "Done 17\n",
      "Done 18\n",
      "Done 19\n",
      "Done 20\n",
      "Done 21\n",
      "Done 22\n",
      "Done 23\n",
      "Done 24\n",
      "Done 25\n",
      "Done 26\n",
      "Done 27\n",
      "Done 28\n",
      "Done 29\n",
      "Done 30\n",
      "Done 31\n",
      "Done 32\n",
      "Done 33\n",
      "Done 34\n",
      "Done 35\n",
      "Done 36\n",
      "Done 37\n",
      "Done 38\n",
      "Done 39\n"
     ]
    }
   ],
   "source": [
    "Y = np.zeros((100, 40))\n",
    "for i in range(40):\n",
    "    Y[:, i] = get_flex_idcs(i)\n",
    "    print('Done %u'%i)\n",
    "np.save(os.path.join(root_folder, 'Data/tmp_subject_data/all_flex.npy'), Y)"
   ]
  },
  {
   "cell_type": "markdown",
   "id": "choice-battlefield",
   "metadata": {},
   "source": [
    "### Load flexibility idcs"
   ]
  },
  {
   "cell_type": "code",
   "execution_count": 6,
   "id": "smaller-worship",
   "metadata": {
    "ExecuteTime": {
     "end_time": "2021-09-08T08:42:32.430714Z",
     "start_time": "2021-09-08T08:42:32.342417Z"
    }
   },
   "outputs": [],
   "source": [
    "flex_idcs_hums = np.zeros(40)\n",
    "for i in range(40):\n",
    "    tmp = np.load(os.path.join(root_folder, 'Data/subject_data/', str(i), 'flexibility.npy'))\n",
    "    flex_idcs_hums[i] = tmp[0]-tmp[1]+tmp[3]-tmp[2]\n",
    "    \n",
    "path = os.path.join(root_folder, 'Data', 'subject_data', 'PerformanceSummaries.mat')\n",
    "data = loadmat(path)\n",
    "\n",
    "flex_idcs_hums = np.empty(0)\n",
    "for i in range(40):\n",
    "    tmp = np.mean(data['Fig1d'][i, :, :], axis=1)\n",
    "    flex_idcs_hums = np.append(flex_idcs_hums, (tmp[0]-tmp[1]+tmp[3]-tmp[2]))\n",
    "\n",
    "Y = np.load(os.path.join(root_folder, 'Data/tmp_subject_data/all_flex.npy'))\n",
    "flex_idcs_ag   = np.mean(Y, axis=0)"
   ]
  },
  {
   "cell_type": "code",
   "execution_count": 7,
   "id": "accompanied-framework",
   "metadata": {
    "ExecuteTime": {
     "end_time": "2021-09-08T08:42:37.602630Z",
     "start_time": "2021-09-08T08:42:37.589591Z"
    }
   },
   "outputs": [],
   "source": [
    "subs_who_replay = np.load(os.path.join(root_folder, 'Data/tmp/Analysis', 'subs_who_replay.npy'))\n",
    "vals = np.load(os.path.join(root_folder, 'Data/tmp/Analysis', 'policy_improve_value_objective.npy'))"
   ]
  },
  {
   "cell_type": "markdown",
   "id": "photographic-handbook",
   "metadata": {},
   "source": [
    "### Regression human IF vs simulated IF"
   ]
  },
  {
   "cell_type": "code",
   "execution_count": 8,
   "id": "failing-needle",
   "metadata": {
    "ExecuteTime": {
     "end_time": "2021-09-08T08:42:44.619262Z",
     "start_time": "2021-09-08T08:42:44.195109Z"
    }
   },
   "outputs": [
    {
     "name": "stdout",
     "output_type": "stream",
     "text": [
      "34\n",
      "38\n"
     ]
    },
    {
     "data": {
      "image/png": "[encoded data removed]",
      "text/plain": [
       "<Figure size 432x432 with 1 Axes>"
      ]
     },
     "metadata": {
      "needs_background": "light"
     },
     "output_type": "display_data"
    }
   ],
   "source": [
    "reg = LinearRegression().fit(flex_idcs_hums.reshape(-1, 1), np.array(flex_idcs_ag).reshape(-1,1))\n",
    "\n",
    "x_pred = np.linspace(-0.15, 1.1, 20)\n",
    "y_pred = reg.predict(x_pred.reshape(-1, 1))\n",
    "rr, pr = pearsonr(flex_idcs_hums, flex_idcs_ag)\n",
    "\n",
    "figure = plt.figure(figsize=(6, 6))\n",
    "\n",
    "nb = np.zeros(40)\n",
    "for i in range(40):\n",
    "    if i in subs_who_replay:\n",
    "        if i in subs_who_replay[np.argwhere(vals < 0).flatten()]:\n",
    "            nb[i] = 2\n",
    "            print(i)\n",
    "        else:\n",
    "            nb[i] = 1\n",
    "            \n",
    "plt.scatter(flex_idcs_hums[np.argwhere(nb == 0).flatten()], flex_idcs_ag[np.argwhere(nb == 0).flatten()], c='b')\n",
    "plt.scatter(flex_idcs_hums[np.argwhere(nb == 1).flatten()], flex_idcs_ag[np.argwhere(nb == 1).flatten()], c='r')\n",
    "plt.scatter(flex_idcs_hums[np.argwhere(nb == 2).flatten()], flex_idcs_ag[np.argwhere(nb == 2).flatten()], c='g')\n",
    "            \n",
    "plt.plot(x_pred, y_pred, c='k')\n",
    "plt.ylim(-0.30,1.2)\n",
    "plt.xlim(-0.30,1.2)\n",
    "plt.xlabel('Human IF', fontsize=14)\n",
    "plt.ylabel('Agent IF', fontsize=14)\n",
    "plt.title(r'$R^{2}=%.2f, p=%.3E$'%(rr**2, pr));\n",
    "\n",
    "flex_subs   = np.array([flex_idcs_ag[i] for i in subs_who_replay])\n",
    "inflex_subs = np.array([flex_idcs_ag[i] for i in range(40) if i not in subs_who_replay])\n",
    "\n",
    "# plt.savefig(os.path.join(root_folder, 'new_figures_data/supp3/a/plot.svg'), transparent=True)\n",
    "# np.save(os.path.join(root_folder, 'new_figures_data/supp3/a/human_flex.npy'), flex_idcs_hums)\n",
    "# np.save(os.path.join(root_folder, 'new_figures_data/supp3/a/agent_flex.npy'), flex_idcs_ag)\n",
    "# np.save(os.path.join(root_folder, 'new_figures_data/supp3/a/sub_meta.npy'), nb)\n",
    "\n",
    "\n",
    "# d, t, p = permutation_test(inflex_subs, flex_subs, 10000, return_tests=True)\n",
    "# with open(os.path.join(root_folder, 'new_figures_data/supp3/a/stats.txt'), 'w') as f:\n",
    "#     f.write('Regression: R^2 = %.3E, p = %.3E\\n'%(rr**2, pr))\n",
    "#     f.write('MF vs MI: t = %.3E, p = %.3E'%(t, p))\n",
    "    \n",
    "# with open(os.path.join(root_folder, 'new_figures_data/supp3/a/meta.txt'), 'w') as f:\n",
    "#     f.write('File `sub_meta.npy` contains 40 entries for each subject.\\n0 = MF subject; 1 = MI subject; 2 = MI subject who hurt himself')"
   ]
  },
  {
   "cell_type": "code",
   "execution_count": 9,
   "id": "3d550630",
   "metadata": {
    "ExecuteTime": {
     "end_time": "2021-09-08T08:42:52.943161Z",
     "start_time": "2021-09-08T08:42:52.688987Z"
    }
   },
   "outputs": [
    {
     "data": {
      "text/plain": [
       "(-0.3, 1.2)"
      ]
     },
     "execution_count": 9,
     "metadata": {},
     "output_type": "execute_result"
    },
    {
     "data": {
      "image/png": "[encoded data removed]",
      "text/plain": [
       "<Figure size 432x288 with 1 Axes>"
      ]
     },
     "metadata": {
      "needs_background": "light"
     },
     "output_type": "display_data"
    }
   ],
   "source": [
    "opt_h, opt_b, opt_w = histogram(flex_subs, bins=17, normalise=False)\n",
    "subopt_h, subopt_b, _ = histogram(inflex_subs, bins=opt_b, normalise=False)\n",
    "plt.bar(subopt_b, subopt_h, width=opt_w, facecolor='b', edgecolor='k', align='edge')\n",
    "plt.bar(opt_b, opt_h, width=opt_w, facecolor='r', edgecolor='k', alpha=0.8, align='edge')\n",
    "plt.xlabel('IF', fontsize=14)\n",
    "plt.ylabel('Number of subjects', fontsize=14)\n",
    "plt.xlim(-0.3, 1.2)\n",
    "\n",
    "# permutation_test(inflex_subs, flex_subs, 10000)\n",
    "# plt.savefig(os.path.join(root_folder, 'new_figures_data/supp3/a/hist.svg'), transparent=True)\n",
    "\n",
    "# t, p = permutation_test(inflex_subs, flex_subs, 10000)\n",
    "# with open(os.path.join(root_folder, 'new_figures_data/supp3/a/stats_hist.txt'), 'w') as f:\n",
    "#     f.write('MF vs MI: t = %.3E, p = %.3E'%(t, p))"
   ]
  },
  {
   "cell_type": "markdown",
   "id": "downtown-interim",
   "metadata": {},
   "source": [
    "### Parameters IF analysis"
   ]
  },
  {
   "cell_type": "code",
   "execution_count": 10,
   "id": "novel-protection",
   "metadata": {
    "ExecuteTime": {
     "end_time": "2021-09-08T08:42:59.298230Z",
     "start_time": "2021-09-08T08:42:59.282576Z"
    }
   },
   "outputs": [],
   "source": [
    "params_path = os.path.join(root_folder, 'Data/new_new_fits')"
   ]
  },
  {
   "cell_type": "code",
   "execution_count": 11,
   "id": "sporting-upset",
   "metadata": {
    "ExecuteTime": {
     "end_time": "2021-09-08T08:43:02.332656Z",
     "start_time": "2021-09-08T08:43:02.263326Z"
    }
   },
   "outputs": [
    {
     "name": "stdout",
     "output_type": "stream",
     "text": [
      "subject: 0, phi^{MB}: 0.99, phi^{MF}: 0.80\n",
      "subject: 2, phi^{MB}: 1.00, phi^{MF}: 0.93\n",
      "subject: 3, phi^{MB}: 1.00, phi^{MF}: 0.57\n",
      "subject: 6, phi^{MB}: 0.45, phi^{MF}: 0.91\n",
      "subject: 8, phi^{MB}: 1.00, phi^{MF}: 0.99\n",
      "subject: 9, phi^{MB}: 0.79, phi^{MF}: 0.54\n",
      "subject: 11, phi^{MB}: 0.94, phi^{MF}: 0.69\n",
      "subject: 12, phi^{MB}: 0.15, phi^{MF}: 0.96\n",
      "subject: 14, phi^{MB}: 0.95, phi^{MF}: 0.93\n",
      "subject: 15, phi^{MB}: 0.19, phi^{MF}: 0.94\n",
      "subject: 16, phi^{MB}: 0.95, phi^{MF}: 0.58\n",
      "subject: 17, phi^{MB}: 0.84, phi^{MF}: 0.97\n",
      "subject: 19, phi^{MB}: 1.00, phi^{MF}: 0.66\n",
      "subject: 21, phi^{MB}: 1.00, phi^{MF}: 0.79\n",
      "subject: 27, phi^{MB}: 0.12, phi^{MF}: 0.92\n",
      "subject: 29, phi^{MB}: 0.87, phi^{MF}: 0.36\n",
      "subject: 32, phi^{MB}: 1.00, phi^{MF}: 0.43\n",
      "subject: 34, phi^{MB}: 0.15, phi^{MF}: 0.98\n",
      "subject: 35, phi^{MB}: 0.92, phi^{MF}: 0.95\n",
      "subject: 38, phi^{MB}: 0.15, phi^{MF}: 0.98\n"
     ]
    }
   ],
   "source": [
    "for i in subs_who_replay:\n",
    "    p = np.load(os.path.join(params_path, 'save_params_%u'%i, 'params.npy'))[:18]\n",
    "    print('subject: %u, phi^{MB}: %.2f, phi^{MF}: %.2f'%(i, p[8], p[9]))"
   ]
  },
  {
   "cell_type": "code",
   "execution_count": 44,
   "id": "turkish-perception",
   "metadata": {
    "ExecuteTime": {
     "end_time": "2021-09-08T09:16:48.908492Z",
     "start_time": "2021-09-08T09:16:48.820957Z"
    }
   },
   "outputs": [
    {
     "name": "stdout",
     "output_type": "stream",
     "text": [
      "                                 OLS Regression Results                                \n",
      "=======================================================================================\n",
      "Dep. Variable:                      y   R-squared (uncentered):                   0.540\n",
      "Model:                            OLS   Adj. R-squared (uncentered):              0.293\n",
      "Method:                 Least Squares   F-statistic:                              2.183\n",
      "Date:                Wed, 08 Sep 2021   Prob (F-statistic):                       0.106\n",
      "Time:                        11:16:48   Log-Likelihood:                         -20.607\n",
      "No. Observations:                  20   AIC:                                      55.21\n",
      "Df Residuals:                      13   BIC:                                      62.18\n",
      "Df Model:                           7                                                  \n",
      "Covariance Type:            nonrobust                                                  \n",
      "==============================================================================\n",
      "                 coef    std err          t      P>|t|      [0.025      0.975]\n",
      "------------------------------------------------------------------------------\n",
      "0              0.4619      0.226      2.039      0.062      -0.027       0.951\n",
      "1             -0.3990      0.240     -1.665      0.120      -0.917       0.119\n",
      "2              0.0303      0.249      0.122      0.905      -0.508       0.569\n",
      "3              0.2748      0.200      1.376      0.192      -0.157       0.706\n",
      "4              0.1806      0.231      0.782      0.448      -0.318       0.680\n",
      "9              0.2293      0.261      0.878      0.396      -0.335       0.793\n",
      "14             0.0478      0.235      0.203      0.842      -0.461       0.557\n",
      "==============================================================================\n",
      "Omnibus:                        0.151   Durbin-Watson:                   1.282\n",
      "Prob(Omnibus):                  0.927   Jarque-Bera (JB):                0.369\n",
      "Skew:                           0.011   Prob(JB):                        0.832\n",
      "Kurtosis:                       2.335   Cond. No.                         2.86\n",
      "==============================================================================\n",
      "\n",
      "Warnings:\n",
      "[1] Standard Errors assume that the covariance matrix of the errors is correctly specified.\n"
     ]
    }
   ],
   "source": [
    "# subs = np.delete(range(40), subs_who_replay)\n",
    "subs = subs_who_replay\n",
    "\n",
    "# load params\n",
    "MB_params = [5, 6, 7, 8, 10, 11, 12, 13, 15, 16, 17]\n",
    "# MB_params = [5, 10, 11]\n",
    "\n",
    "labels = np.delete(range(18), MB_params)\n",
    "\n",
    "X = np.zeros((len(subs), 18))\n",
    "for i in range(X.shape[0]):\n",
    "    p = np.load(os.path.join(params_path, 'save_params_%u'%subs[i], 'params.npy'))[:18]\n",
    "    p[8] = (1-p[8])\n",
    "    p[9] = (1-p[9])\n",
    "    X[i, :] = p\n",
    "\n",
    "# zscore\n",
    "X = zscore(X, axis=0)\n",
    "y = zscore(np.mean(Y[:, subs], axis=0))\n",
    "\n",
    "X = pd.DataFrame(X, columns=[str(i) for i in range(18)])\n",
    "X.drop([str(i) for i in MB_params], axis=1, inplace=True)\n",
    "\n",
    "estimator = LinearRegression()\n",
    "selector  = RFECV(estimator, min_features_to_select=5, step=1, cv=5)\n",
    "selector  = selector.fit(X, y)\n",
    "\n",
    "for i in range(len(selector.ranking_)):\n",
    "    if selector.ranking_[i] != 1:\n",
    "        X.drop(str(labels[i]), axis=1, inplace=True)\n",
    "        \n",
    "est = sm.OLS(y, X)\n",
    "est2 = est.fit()\n",
    "print(est2.summary())"
   ]
  },
  {
   "cell_type": "code",
   "execution_count": 39,
   "id": "personal-richards",
   "metadata": {
    "ExecuteTime": {
     "end_time": "2021-09-08T08:48:59.071142Z",
     "start_time": "2021-09-08T08:48:59.060511Z"
    }
   },
   "outputs": [],
   "source": [
    "coefs  = est2.params\n",
    "labels = est2.params.index.astype(int)\n",
    "\n",
    "sort_idcs  = np.argsort(np.abs(coefs))[::-1]\n",
    "\n",
    "sorted_labels  = [labels[k] for k in sort_idcs]\n",
    "sorted_coefs   = coefs[sort_idcs]\n",
    "sorted_ci      = est2.conf_int(0.05).iloc[sort_idcs]"
   ]
  },
  {
   "cell_type": "code",
   "execution_count": 40,
   "id": "enormous-property",
   "metadata": {
    "ExecuteTime": {
     "end_time": "2021-09-08T08:49:07.564642Z",
     "start_time": "2021-09-08T08:49:07.310216Z"
    }
   },
   "outputs": [
    {
     "data": {
      "image/png": "[encoded data removed]",
      "text/plain": [
       "<Figure size 504x288 with 1 Axes>"
      ]
     },
     "metadata": {
      "needs_background": "light"
     },
     "output_type": "display_data"
    }
   ],
   "source": [
    "figure = plt.figure(figsize=(7, 4))\n",
    "\n",
    "plt.bar(range(len(sorted_labels)), sorted_coefs, width=0.7, facecolor='#4CBA64')\n",
    "for i in range(len(sorted_labels)):\n",
    "    x = [i, i]\n",
    "    y = [sorted_ci[0].iloc[i], sorted_ci[1].iloc[i]]\n",
    "    plt.plot(x, y, c='k')\n",
    "    \n",
    "plt.axhline(0, c='k')\n",
    "plt.xticks(range(len(sorted_labels)), sorted_labels, fontsize=16);\n",
    "plt.yticks(fontsize=14)\n",
    "plt.ylabel('Relation to flexibility', fontsize=16)\n",
    "plt.ylim([-1.0, 1.0])\n",
    "\n",
    "plt.savefig(os.path.join(root_folder, 'new_figures_data/supp3/b', 'MI_coef.svg'), transparent=True)\n",
    "with open(os.path.join(root_folder, 'new_figures_data/supp3/b', 'stats_MI.txt'), 'w') as f:\n",
    "    f.write(est2.summary().as_text())\n",
    "est2.save(os.path.join(root_folder, 'new_figures_data/supp3/b/results_MI.pickle'))"
   ]
  },
  {
   "cell_type": "markdown",
   "id": "following-lender",
   "metadata": {},
   "source": [
    "### Replay is sometimes bad..."
   ]
  },
  {
   "cell_type": "code",
   "execution_count": 45,
   "id": "warming-vietnamese",
   "metadata": {
    "ExecuteTime": {
     "end_time": "2021-09-08T09:17:00.240031Z",
     "start_time": "2021-09-08T09:17:00.194077Z"
    }
   },
   "outputs": [
    {
     "name": "stdout",
     "output_type": "stream",
     "text": [
      "                                 OLS Regression Results                                \n",
      "=======================================================================================\n",
      "Dep. Variable:                      y   R-squared (uncentered):                   0.955\n",
      "Model:                            OLS   Adj. R-squared (uncentered):              0.819\n",
      "Method:                 Least Squares   F-statistic:                              7.018\n",
      "Date:                Wed, 08 Sep 2021   Prob (F-statistic):                      0.0207\n",
      "Time:                        11:17:00   Log-Likelihood:                          2.5565\n",
      "No. Observations:                  20   AIC:                                      24.89\n",
      "Df Residuals:                       5   BIC:                                      39.82\n",
      "Df Model:                          15                                                  \n",
      "Covariance Type:            nonrobust                                                  \n",
      "==============================================================================\n",
      "                 coef    std err          t      P>|t|      [0.025      0.975]\n",
      "------------------------------------------------------------------------------\n",
      "0             -0.1960      0.203     -0.966      0.378      -0.717       0.325\n",
      "1              0.1993      0.168      1.188      0.288      -0.232       0.630\n",
      "2             -0.1553      0.158     -0.984      0.370      -0.561       0.251\n",
      "3              0.3564      0.283      1.258      0.264      -0.372       1.085\n",
      "4              0.2820      0.223      1.264      0.262      -0.291       0.855\n",
      "6              0.4804      0.391      1.228      0.274      -0.525       1.486\n",
      "7              0.3988      0.250      1.598      0.171      -0.243       1.040\n",
      "8             -0.0626      0.186     -0.337      0.749      -0.539       0.414\n",
      "9              0.7514      0.169      4.454      0.007       0.318       1.185\n",
      "12            -0.2014      0.181     -1.111      0.317      -0.667       0.264\n",
      "13            -0.6106      0.447     -1.367      0.230      -1.759       0.538\n",
      "14            -0.1862      0.206     -0.906      0.407      -0.715       0.342\n",
      "15             0.2979      0.203      1.469      0.202      -0.223       0.819\n",
      "16             0.0773      0.141      0.549      0.607      -0.285       0.439\n",
      "17            -0.0272      0.195     -0.140      0.894      -0.528       0.474\n",
      "==============================================================================\n",
      "Omnibus:                        6.216   Durbin-Watson:                   1.404\n",
      "Prob(Omnibus):                  0.045   Jarque-Bera (JB):                3.894\n",
      "Skew:                          -1.011   Prob(JB):                        0.143\n",
      "Kurtosis:                       3.766   Cond. No.                         13.7\n",
      "==============================================================================\n",
      "\n",
      "Warnings:\n",
      "[1] Standard Errors assume that the covariance matrix of the errors is correctly specified.\n"
     ]
    }
   ],
   "source": [
    "subs = subs_who_replay\n",
    "\n",
    "# load params\n",
    "MB_params = [5, 10, 11]\n",
    "labels    = np.delete(range(18), MB_params)\n",
    "\n",
    "X = np.zeros((len(subs), 18))\n",
    "for i in range(X.shape[0]):\n",
    "    p = np.load(os.path.join(params_path, 'save_params_%u'%subs[i], 'params.npy'))[:18]\n",
    "    p[8] = (1-p[8])\n",
    "    p[9] = (1-p[9])\n",
    "    X[i, :] = p\n",
    "    \n",
    "# zscore\n",
    "X = zscore(X, axis=0)\n",
    "y = zscore(vals)\n",
    "\n",
    "X = pd.DataFrame(X, columns=[str(i) for i in range(18)])\n",
    "X.drop([str(i) for i in MB_params], axis=1, inplace=True)\n",
    "\n",
    "estimator = LinearRegression()\n",
    "selector  = RFECV(estimator, min_features_to_select=5, step=1, cv=5)\n",
    "selector  = selector.fit(X, y)\n",
    "\n",
    "for i in range(len(selector.ranking_)):\n",
    "    if selector.ranking_[i] != 1:\n",
    "        X.drop(str(labels[i]), axis=1, inplace=True)\n",
    "\n",
    "est = sm.OLS(y, X)\n",
    "est2 = est.fit()\n",
    "print(est2.summary())"
   ]
  },
  {
   "cell_type": "code",
   "execution_count": 33,
   "id": "advanced-platinum",
   "metadata": {
    "ExecuteTime": {
     "end_time": "2021-09-08T08:48:29.657295Z",
     "start_time": "2021-09-08T08:48:29.645173Z"
    }
   },
   "outputs": [],
   "source": [
    "coefs  = est2.params\n",
    "labels = est2.params.index.astype(int)\n",
    "\n",
    "sort_idcs  = np.argsort(np.abs(coefs))[::-1]\n",
    "\n",
    "sorted_labels  = [labels[k] for k in sort_idcs]\n",
    "sorted_coefs   = coefs[sort_idcs]\n",
    "sorted_ci      = est2.conf_int(0.05).iloc[sort_idcs]"
   ]
  },
  {
   "cell_type": "code",
   "execution_count": 34,
   "id": "biblical-oxide",
   "metadata": {
    "ExecuteTime": {
     "end_time": "2021-09-08T08:48:32.808808Z",
     "start_time": "2021-09-08T08:48:32.603133Z"
    }
   },
   "outputs": [
    {
     "data": {
      "image/png": "[encoded data removed]",
      "text/plain": [
       "<Figure size 360x288 with 1 Axes>"
      ]
     },
     "metadata": {
      "needs_background": "light"
     },
     "output_type": "display_data"
    }
   ],
   "source": [
    "figure = plt.figure(figsize=(5, 4))\n",
    "\n",
    "plt.bar(range(len(sorted_labels)), sorted_coefs, width=0.7, facecolor='#4CBA64')\n",
    "for i in range(len(sorted_labels)):\n",
    "    x = [i, i]\n",
    "    y = [sorted_ci[0].iloc[i], sorted_ci[1].iloc[i]]\n",
    "    plt.plot(x, y, c='k')\n",
    "    \n",
    "plt.axhline(0, c='k')\n",
    "plt.xticks(range(len(sorted_labels)), sorted_labels, fontsize=16);\n",
    "plt.yticks(fontsize=14)\n",
    "plt.ylabel('Relation to replay benefit', fontsize=16)\n",
    "\n",
    "plt.ylim([-1.2, 1.2])\n",
    "plt.savefig(os.path.join(root_folder, 'new_figures_data/supp3/f', 'coef.svg'), transparent=True)\n",
    "with open(os.path.join(root_folder, 'new_figures_data/supp3/f', 'stats_coef.txt'), 'w') as f:\n",
    "    f.write(est2.summary().as_text())\n",
    "est2.save(os.path.join(root_folder, 'new_figures_data/supp3/f/results_coef.pickle'))"
   ]
  },
  {
   "cell_type": "markdown",
   "id": "simplified-requirement",
   "metadata": {},
   "source": [
    "### Parameters MF and MB"
   ]
  },
  {
   "cell_type": "code",
   "execution_count": 62,
   "id": "champion-mexico",
   "metadata": {
    "ExecuteTime": {
     "end_time": "2021-09-07T09:07:16.560962Z",
     "start_time": "2021-09-07T09:07:16.492450Z"
    }
   },
   "outputs": [],
   "source": [
    "# load params\n",
    "flex_tau, flex_rho, flex_xi   = [], [], []\n",
    "inflex_tau, inflex_rho, inflex_xi = [], [], []\n",
    "\n",
    "for i in range(40):\n",
    "    p = np.load(os.path.join(params_path, 'save_params_%u'%i, 'params.npy'))[:18]\n",
    "    if i in subs_who_replay:\n",
    "        flex_tau.append(1-p[9])\n",
    "        flex_rho.append(1-p[8])\n",
    "        flex_xi.append(p[15])\n",
    "    else:\n",
    "        inflex_tau.append(1-p[9])\n",
    "        inflex_rho.append(1-p[8])\n",
    "        inflex_xi.append(p[15])"
   ]
  },
  {
   "cell_type": "code",
   "execution_count": 63,
   "id": "veterinary-tribune",
   "metadata": {
    "ExecuteTime": {
     "end_time": "2021-09-07T09:07:19.155350Z",
     "start_time": "2021-09-07T09:07:18.678718Z"
    }
   },
   "outputs": [
    {
     "name": "stdout",
     "output_type": "stream",
     "text": [
      "0.023028269999999962\n",
      "0.02042301999999996\n"
     ]
    },
    {
     "data": {
      "image/png": "[encoded data removed]",
      "text/plain": [
       "<Figure size 288x288 with 1 Axes>"
      ]
     },
     "metadata": {
      "needs_background": "light"
     },
     "output_type": "display_data"
    }
   ],
   "source": [
    "plt.figure(figsize=(4, 4))\n",
    "\n",
    "plt.bar([1], np.mean(flex_tau), facecolor='r', alpha=0.5)\n",
    "plt.bar([2], np.mean(inflex_tau), facecolor='b', alpha=0.5)\n",
    "hurt = []\n",
    "for i in range(len(flex_tau)):\n",
    "    if vals[i] < 0:\n",
    "        print(flex_tau[i])\n",
    "        plt.scatter([1.1], flex_tau[i], facecolor='green')\n",
    "    else:\n",
    "        plt.scatter([0.9], flex_tau[i], facecolor='r')\n",
    "plt.scatter([2]*len(inflex_tau), inflex_tau, color='b')\n",
    "plt.ylabel(r'$\\phi^{MF}$', fontsize=14)\n",
    "plt.ylim(0, 1)\n",
    "\n",
    "plt.savefig(os.path.join(root_folder, 'new_figures_data/supp3/c', 'phi_mf.svg'), transparent=True)\n",
    "np.save(os.path.join(root_folder, 'new_figures_data/supp3/c', 'MI_phi_mf.npy'), flex_tau)\n",
    "np.save(os.path.join(root_folder, 'new_figures_data/supp3/c', 'MF_phi_mf.npy'), inflex_tau)"
   ]
  },
  {
   "cell_type": "code",
   "execution_count": 64,
   "id": "silver-howard",
   "metadata": {
    "ExecuteTime": {
     "end_time": "2021-09-07T09:07:29.036824Z",
     "start_time": "2021-09-07T09:07:28.249520Z"
    }
   },
   "outputs": [
    {
     "data": {
      "image/png": "[encoded data removed]",
      "text/plain": [
       "<Figure size 288x288 with 1 Axes>"
      ]
     },
     "metadata": {
      "needs_background": "light"
     },
     "output_type": "display_data"
    }
   ],
   "source": [
    "plt.figure(figsize=(4, 4))\n",
    "\n",
    "hurt_rho    = []\n",
    "benefit_rho = []\n",
    "plt.bar([1.5], np.mean(flex_rho), facecolor='r', alpha=0.5)\n",
    "for i in range(len(flex_rho)):\n",
    "    if vals[i] < 0:\n",
    "        hurt_rho.append(flex_rho[i])\n",
    "        plt.scatter([1.6], flex_rho[i], c='green')\n",
    "    else:\n",
    "        benefit_rho.append(flex_rho[i])\n",
    "        plt.scatter([1.4], flex_rho[i], c='r')\n",
    "plt.ylabel(r'$\\phi^{MB}$', fontsize=14)\n",
    "plt.ylim(0, 1)\n",
    "plt.xlim(0.5, 2.5)\n",
    "\n",
    "plt.savefig(os.path.join(root_folder, 'new_figures_data/supp3/d', 'phi_mb.svg'), transparent=True)\n",
    "np.save(os.path.join(root_folder, 'new_figures_data/supp3/d', 'MI_phi_mb.npy'), flex_rho)\n",
    "np.save(os.path.join(root_folder, 'new_figures_data/supp3/d', 'MF_phi_mb.npy'), inflex_rho)"
   ]
  },
  {
   "cell_type": "code",
   "execution_count": 65,
   "id": "ecological-services",
   "metadata": {
    "ExecuteTime": {
     "end_time": "2021-09-07T09:07:35.663355Z",
     "start_time": "2021-09-07T09:07:35.190106Z"
    }
   },
   "outputs": [
    {
     "data": {
      "image/png": "[encoded data removed]",
      "text/plain": [
       "<Figure size 288x288 with 1 Axes>"
      ]
     },
     "metadata": {
      "needs_background": "light"
     },
     "output_type": "display_data"
    }
   ],
   "source": [
    "plt.figure(figsize=(4, 4))\n",
    "\n",
    "hurt_xi    = []\n",
    "benefit_xi = []\n",
    "plt.bar([1.5], np.mean(np.log10(flex_xi)), alpha=0.5, facecolor='r')\n",
    "for i in range(len(flex_xi)):\n",
    "    if vals[i] < 0:\n",
    "        hurt_xi.append(flex_xi[i])\n",
    "        plt.scatter([1.6], np.log10(flex_xi[i]), c='green')\n",
    "    else:\n",
    "        benefit_xi.append(flex_xi[i])\n",
    "        plt.scatter([1.4], np.log10(flex_xi[i]), c='r')\n",
    "plt.xlim(0.5, 2.5)\n",
    "plt.ylabel(r'$\\xi$', fontsize=14)\n",
    "\n",
    "plt.savefig(os.path.join(root_folder, 'new_figures_data/supp3/e', 'xi.svg'), transparent=True)\n",
    "np.save(os.path.join(root_folder, 'new_figures_data/supp3/e', 'MI_xi.npy'), flex_xi)\n",
    "np.save(os.path.join(root_folder, 'new_figures_data/supp3/e', 'MF_xi.npy'), inflex_xi)"
   ]
  },
  {
   "cell_type": "code",
   "execution_count": 66,
   "id": "contemporary-rwanda",
   "metadata": {
    "ExecuteTime": {
     "end_time": "2021-09-07T09:07:38.465349Z",
     "start_time": "2021-09-07T09:07:38.453060Z"
    }
   },
   "outputs": [],
   "source": [
    "t_tau, p_tau = ranksums(flex_tau, inflex_tau)\n",
    "# tests_rho, t_rho, p_rho = bootstrap_test(np.array(hurt_rho), np.array(benefit_rho), 100000)\n",
    "# tests_xi, t_xi,  p_xi  = bootstrap_test(np.array(hurt_xi), np.array(benefit_xi), 100000)\n",
    "with open(os.path.join(root_folder, 'new_figures_data/supp3/c', 'stats.txt'), 'w') as f:\n",
    "    f.write('Ranksums : MF phi vs MI phi   : t = %.3E, p = %.3E\\n'%(t_tau, p_tau))\n",
    "#     f.write('Bootstrap: Hurt rho   vs benefit rho: t = %.3E, p = %.3E\\n'%(t_rho, p_rho))\n",
    "#     f.write('Bootstrap: Hurt xi    vs benefit xi : t = %.3E, p = %.3E'%(t_xi, p_xi))"
   ]
  },
  {
   "cell_type": "markdown",
   "id": "commercial-manitoba",
   "metadata": {},
   "source": [
    "### Compare Eran's and our forgetting params"
   ]
  },
  {
   "cell_type": "code",
   "execution_count": 67,
   "id": "essential-movement",
   "metadata": {
    "ExecuteTime": {
     "end_time": "2021-09-07T09:07:41.025177Z",
     "start_time": "2021-09-07T09:07:40.932782Z"
    }
   },
   "outputs": [],
   "source": [
    "eran_params = os.path.join(root_folder, 'Data/subject_data/Parameter_fits.xls')\n",
    "df_eran  = pd.read_excel(eran_params)\n",
    "tau_eran = df_eran.iloc[7].values[1:]\n",
    "rho_eran = df_eran.iloc[10].values[1:]"
   ]
  },
  {
   "cell_type": "code",
   "execution_count": 68,
   "id": "great-boating",
   "metadata": {
    "ExecuteTime": {
     "end_time": "2021-09-07T09:07:42.685388Z",
     "start_time": "2021-09-07T09:07:42.610427Z"
    }
   },
   "outputs": [],
   "source": [
    "my_params = os.path.join(root_folder, 'Data/new_new_fits')\n",
    "df_my = np.zeros((40, 18))\n",
    "for i in range(df_my.shape[0]):\n",
    "    p = np.load(os.path.join(my_params, 'save_params_%u'%i, 'params.npy'))[:18]\n",
    "    df_my[i, :] = p\n",
    "    \n",
    "tau_my = (1-df_my[:, 8])\n",
    "rho_my = (1-df_my[:, 9])"
   ]
  },
  {
   "cell_type": "code",
   "execution_count": 69,
   "id": "drawn-beijing",
   "metadata": {
    "ExecuteTime": {
     "end_time": "2021-09-07T09:07:45.689403Z",
     "start_time": "2021-09-07T09:07:45.422453Z"
    }
   },
   "outputs": [
    {
     "data": {
      "image/png": "[encoded data removed]",
      "text/plain": [
       "<Figure size 400x400 with 1 Axes>"
      ]
     },
     "metadata": {
      "needs_background": "light"
     },
     "output_type": "display_data"
    }
   ],
   "source": [
    "plt.figure(figsize=(4, 4), dpi=100)\n",
    "\n",
    "plt.bar([1], np.mean(tau_my), facecolor='#00D667', alpha=0.4)\n",
    "plt.scatter([1]*40, tau_my, c='#00D667')\n",
    "plt.bar([2], np.mean(tau_eran), facecolor='k', alpha=0.4)\n",
    "plt.scatter([2]*40, tau_eran, c='k')\n",
    "plt.ylim(0, 1)\n",
    "plt.ylabel(r'$\\phi^{MF}$', fontsize=14)\n",
    "t_tau, p_tau = ttest_ind(tau_my, tau_eran)\n",
    "\n",
    "plt.savefig(os.path.join(root_folder, 'new_figures_data/supp2/a', 'phi_mf.svg'), transparent=True)\n",
    "np.save(os.path.join(root_folder, 'new_figures_data/supp2/a', 'ours.npy'), tau_my)\n",
    "np.save(os.path.join(root_folder, 'new_figures_data/supp2/a', 'erans.npy'), tau_eran)\n",
    "\n",
    "with open(os.path.join(root_folder, 'new_figures_data/supp2/a', 'stats.txt'), 'w') as f:\n",
    "    f.write('phi ours vs Eran\\'s:      t = %.3E, p = %.3E\\n'%(t_tau,  p_tau))"
   ]
  },
  {
   "cell_type": "code",
   "execution_count": 70,
   "id": "cardiovascular-concentrate",
   "metadata": {
    "ExecuteTime": {
     "end_time": "2021-09-07T09:07:48.381977Z",
     "start_time": "2021-09-07T09:07:48.130589Z"
    }
   },
   "outputs": [
    {
     "data": {
      "image/png": "[encoded data removed]",
      "text/plain": [
       "<Figure size 400x400 with 1 Axes>"
      ]
     },
     "metadata": {
      "needs_background": "light"
     },
     "output_type": "display_data"
    }
   ],
   "source": [
    "plt.figure(figsize=(4, 4), dpi=100)\n",
    "\n",
    "plt.bar([1], np.mean(rho_my), facecolor='#00D667', alpha=0.4)\n",
    "plt.scatter([1]*40, rho_my, c='#00D667')\n",
    "plt.bar([2], np.mean(rho_eran), facecolor='k', alpha=0.4)\n",
    "plt.scatter([2]*40, rho_eran, c='k')\n",
    "for i in range(40):\n",
    "    plt.plot([1, 2], [rho_my[i], rho_eran[i]], c='k', alpha=0.8)\n",
    "plt.ylim(0, 1)\n",
    "plt.ylabel(r'$\\phi^{MB}$', fontsize=14)\n",
    "t_rho, p_rho = ttest_ind(rho_my, rho_eran)\n",
    "\n",
    "plt.savefig(os.path.join(root_folder, 'new_figures_data/supp2/b', 'phi_mb.svg'), transparent=True)\n",
    "np.save(os.path.join(root_folder, 'new_figures_data/supp2/b', 'ours.npy'), rho_my)\n",
    "np.save(os.path.join(root_folder, 'new_figures_data/supp2/b', 'erans.npy'), rho_eran)\n",
    "\n",
    "with open(os.path.join(root_folder, 'new_figures_data/supp2/b', 'stats.txt'), 'w') as f:\n",
    "    f.write('phi ours vs Eran\\'s:      t = %.3E, p = %.3E\\n'%(t_rho,  p_rho))"
   ]
  },
  {
   "cell_type": "markdown",
   "id": "moral-madrid",
   "metadata": {},
   "source": [
    "### Model entropy after training"
   ]
  },
  {
   "cell_type": "code",
   "execution_count": 71,
   "id": "positive-cocktail",
   "metadata": {
    "ExecuteTime": {
     "end_time": "2021-09-07T09:07:52.610828Z",
     "start_time": "2021-09-07T09:07:52.391690Z"
    }
   },
   "outputs": [],
   "source": [
    "task_folder = os.path.join(root_folder, 'Data/tmp/')\n",
    "\n",
    "_, Q2_true  = get_Q_true(world1, idcs1)\n",
    "ents_flex   = []\n",
    "ents_inflex = []\n",
    "\n",
    "for sub in range(40):\n",
    "    sub_folder = os.path.join(task_folder, str(sub), 'training', '6')\n",
    "    z = np.load(os.path.join(sub_folder, 'move47.npz'))\n",
    "    T = z['T']\n",
    "    tmp = []\n",
    "    for s in range(8):\n",
    "        a_opt = get_optimal_move(s, Q2_true)\n",
    "        this_ent = get_entropy(T, s, a_opt)\n",
    "        if len(this_ent) > 1:\n",
    "            this_ent = np.mean(this_ent)\n",
    "        else:\n",
    "            this_ent = this_ent[0]\n",
    "        tmp.append(this_ent)\n",
    "    if sub in subs_who_replay:\n",
    "        ents_flex += [np.mean(tmp)]\n",
    "    else:\n",
    "        ents_inflex += [np.mean(tmp)]"
   ]
  },
  {
   "cell_type": "code",
   "execution_count": 72,
   "id": "temporal-regression",
   "metadata": {
    "ExecuteTime": {
     "end_time": "2021-09-07T09:07:54.551736Z",
     "start_time": "2021-09-07T09:07:54.387337Z"
    }
   },
   "outputs": [
    {
     "data": {
      "image/png": "[encoded data removed]",
      "text/plain": [
       "<Figure size 400x400 with 1 Axes>"
      ]
     },
     "metadata": {
      "needs_background": "light"
     },
     "output_type": "display_data"
    }
   ],
   "source": [
    "plt.figure(figsize=(4, 4), dpi=100)\n",
    "\n",
    "plt.axhline(np.log2(7))\n",
    "\n",
    "plt.bar(1, np.mean(ents_flex), facecolor='r', alpha=0.5)\n",
    "plt.scatter([1]*len(ents_flex), ents_flex, c='r')\n",
    "plt.bar(2, np.mean(ents_inflex), facecolor='b', alpha=0.5)\n",
    "plt.scatter([2]*len(ents_inflex), ents_inflex, c='b')\n",
    "\n",
    "t_diff, p_diff = ttest_ind(ents_flex, ents_inflex)\n",
    "\n",
    "with open(os.path.join(root_folder, 'new_figures_data/supp8', 'stats.txt'), 'w') as f:\n",
    "    f.write('ent MI vs ent MF: t = %.3E, p = %.3E\\n'%(t_diff,  p_diff))\n",
    "\n",
    "plt.savefig(os.path.join(root_folder, 'new_figures_data/supp8', 'model_entropy.svg'), transparent=True, format='svg')\n",
    "np.save(os.path.join(root_folder, 'new_figures_data/supp8', 'MI_ent.npy'), ents_flex)\n",
    "np.save(os.path.join(root_folder, 'new_figures_data/supp8', 'MF_ent.npy'), ents_inflex)"
   ]
  },
  {
   "cell_type": "markdown",
   "id": "introductory-weight",
   "metadata": {},
   "source": [
    "## Re-arranged Model "
   ]
  },
  {
   "cell_type": "code",
   "execution_count": 64,
   "id": "further-drunk",
   "metadata": {
    "ExecuteTime": {
     "end_time": "2021-09-08T11:52:15.398411Z",
     "start_time": "2021-09-08T11:52:15.201957Z"
    }
   },
   "outputs": [],
   "source": [
    "task_folder   = os.path.join(root_folder, 'Data/tmp/')\n",
    "params_folder = os.path.join(root_folder, 'Data/new_new_fits/')\n",
    "\n",
    "subs_who_replay = np.load(os.path.join(task_folder, 'Analysis', 'subs_who_replay.npy'))\n",
    "\n",
    "before = []\n",
    "after  = []\n",
    "ents   = []\n",
    "\n",
    "_, Q2_true = get_Q_true(world2, idcs2)\n",
    "\n",
    "for sub in subs_who_replay:\n",
    "    \n",
    "    sub_task_folder = os.path.join(task_folder, str(sub))\n",
    "    \n",
    "    rho = np.load(os.path.join(params_folder, 'save_params_%u'%sub, 'params.npy'))[12]\n",
    "    \n",
    "    # Model entropy before re-arrangement\n",
    "    file = os.path.join(sub_task_folder, '3', '6', 'move11.npz')\n",
    "    data = np.load(file, allow_pickle=True)\n",
    "    T    = data['T']\n",
    "    T    = rho*T + (1-rho)*(1./7)\n",
    "    \n",
    "    for i in range(T.shape[0]):\n",
    "        for j in range(T.shape[1]):\n",
    "            T[i, j, i]  = 0\n",
    "\n",
    "            row = T[i, j, :]\n",
    "            tmp = np.sum(row)\n",
    "            if tmp > 0:\n",
    "                T[i, j, :] = row / tmp\n",
    "    \n",
    "    # optimal action entropy without rearrangement\n",
    "    tmp = 0\n",
    "    for s in range(8):\n",
    "        for a in range(4):\n",
    "            tmp += np.power(Q2_true[s, a]-np.sum(T[s, a, :]*world2.ravel()), 2)\n",
    "    before.append(tmp/32)\n",
    "\n",
    "    tmp = []\n",
    "    for s in range(8):\n",
    "        a_opt = get_optimal_move(s, Q2_true)\n",
    "        this_ent = get_entropy(T, s, a_opt)\n",
    "        if len(this_ent) > 1:\n",
    "            this_ent = np.mean(this_ent)\n",
    "        else:\n",
    "            this_ent = this_ent[0]\n",
    "        tmp.append(this_ent)\n",
    "    ents.append(np.mean(tmp))\n",
    "    \n",
    "    file = os.path.join(sub_task_folder, '3', 'offline.npz')\n",
    "    data = np.load(file, allow_pickle=True)\n",
    "    T    = data['T']\n",
    "    \n",
    "    # optimal action entropy with rearrangement\n",
    "    tmp = 0\n",
    "    for s in range(8):\n",
    "        for a in range(4):\n",
    "            tmp += np.power(Q2_true[s, a]-np.sum(T[s, a, :]*world2.ravel()), 2)\n",
    "    after.append(tmp/32)"
   ]
  },
  {
   "cell_type": "code",
   "execution_count": 65,
   "id": "broken-cosmetic",
   "metadata": {
    "ExecuteTime": {
     "end_time": "2021-09-08T11:52:19.779245Z",
     "start_time": "2021-09-08T11:52:19.488382Z"
    }
   },
   "outputs": [
    {
     "data": {
      "image/png": "[encoded data removed]",
      "text/plain": [
       "<Figure size 288x360 with 1 Axes>"
      ]
     },
     "metadata": {
      "needs_background": "light"
     },
     "output_type": "display_data"
    }
   ],
   "source": [
    "plt.figure(figsize=(4, 5))\n",
    "\n",
    "plt.bar(2, np.mean(after), facecolor='orange', alpha=0.6, align='center')\n",
    "plt.scatter([2]*len(after), after, c='orange')\n",
    "plt.bar(1, np.mean(before), facecolor='b', alpha=0.6, align='center')\n",
    "plt.scatter([1]*len(before), before, c='b')\n",
    "plt.axhline(0, c='k')\n",
    "for i in range(len(after)):\n",
    "    plt.plot([2, 1], [after[i], before[i]], c='k')\n",
    "\n",
    "\n",
    "t, p = ttest_ind(after, before)\n",
    "\n",
    "# plt.savefig(os.path.join(root_folder, 'new_figures_data/supp6/a', 'rmsd_rearrangement.svg'), transparent=True, format='svg')\n",
    "# np.save(os.path.join(root_folder, 'new_figures_data/supp6/a', 'after.npy'), after)\n",
    "# np.save(os.path.join(root_folder, 'new_figures_data/supp6/a', 'before.npy'), before)\n",
    "# with open(os.path.join(root_folder, 'new_figures_data/supp6/a', 'stats.txt'), 'w') as f:\n",
    "#     f.write('after vs before: t=%.3E, p=%.3E'%(t, p))\n"
   ]
  },
  {
   "cell_type": "code",
   "execution_count": 66,
   "id": "educational-concrete",
   "metadata": {
    "ExecuteTime": {
     "end_time": "2021-09-08T11:52:24.172954Z",
     "start_time": "2021-09-08T11:52:23.913529Z"
    }
   },
   "outputs": [
    {
     "data": {
      "image/png": "[encoded data removed]",
      "text/plain": [
       "<Figure size 576x360 with 1 Axes>"
      ]
     },
     "metadata": {
      "needs_background": "light"
     },
     "output_type": "display_data"
    }
   ],
   "source": [
    "plt.figure(figsize=(8, 5))\n",
    "\n",
    "diff = np.array(before) - np.array(after)\n",
    "\n",
    "x = np.array(ents).reshape(-1, 1)\n",
    "y = np.array(diff).reshape(-1, 1)\n",
    "\n",
    "reg    = LinearRegression().fit(x, y)\n",
    "\n",
    "x_pred = np.linspace(np.min(ents), np.max(ents), 50).reshape(-1, 1)\n",
    "y_pred = reg.predict(x_pred)\n",
    "plt.scatter(ents, diff, c='orange')\n",
    "plt.plot(x_pred, y_pred, c='k')\n",
    "\n",
    "r, p   = pearsonr(ents, diff)\n",
    "\n",
    "# plt.savefig(os.path.join(root_folder, 'new_figures_data/supp6/b', 'rmsd_corr.svg'), transparent=True, format='svg')\n",
    "# np.save(os.path.join(root_folder, 'new_figures_data/supp6/b', 'rmsd_diff.npy'), diff)\n",
    "# np.save(os.path.join(root_folder, 'new_figures_data/supp6/b', 'entropies.npy'), ents)\n",
    "# with open(os.path.join(root_folder, 'new_figures_data/supp6/b', 'stats.txt'), 'w') as f:\n",
    "#     f.write('R^2 = %.3E, p = %.3E'%(r**2, p))\n",
    "\n",
    "# plt.savefig(os.path.join(root_folder, 'new_figures_data/supp6/b/rmsd_corr.svg'), transparent=True)"
   ]
  },
  {
   "cell_type": "code",
   "execution_count": 67,
   "id": "strange-grass",
   "metadata": {
    "ExecuteTime": {
     "end_time": "2021-09-08T11:52:27.900451Z",
     "start_time": "2021-09-08T11:52:27.630205Z"
    }
   },
   "outputs": [
    {
     "data": {
      "text/plain": [
       "[<matplotlib.lines.Line2D at 0x7fcf35933e50>]"
      ]
     },
     "execution_count": 67,
     "metadata": {},
     "output_type": "execute_result"
    },
    {
     "data": {
      "image/png": "[encoded data removed]",
      "text/plain": [
       "<Figure size 576x360 with 1 Axes>"
      ]
     },
     "metadata": {
      "needs_background": "light"
     },
     "output_type": "display_data"
    }
   ],
   "source": [
    "plt.figure(figsize=(8, 5))\n",
    "\n",
    "reg    = LinearRegression().fit(np.array(diff).reshape(-1, 1), np.array(flex_subs))\n",
    "r, p   = pearsonr(diff, flex_subs)\n",
    "plt.scatter(diff, flex_subs, c='r')\n",
    "\n",
    "x_pred = np.linspace(np.min(diff), np.max(diff), 50).reshape(-1, 1)\n",
    "y_pred = reg.predict(x_pred)\n",
    "plt.plot(x_pred, y_pred, c='k')\n",
    "\n",
    "# plt.savefig(os.path.join(root_folder, 'new_figures_data/supp6/c', 'rmsd_corr_flex.svg'), transparent=True, format='svg')\n",
    "# np.save(os.path.join(root_folder, 'new_figures_data/supp6/c', 'rmsd_diff.npy'), diff)\n",
    "# np.save(os.path.join(root_folder, 'new_figures_data/supp6/c', 'MI_flex.npy'), flex_subs)\n",
    "# with open(os.path.join(root_folder, 'new_figures_data/supp6/c', 'stats.txt'), 'w') as f:\n",
    "#     f.write('R^2 = %.3E, p = %.3E'%(r**2, p))\n",
    "\n",
    "# plt.savefig(os.path.join(root_folder, 'new_figures_data/supp6/c/rmsd_corr_if.svg'), transparent=True)"
   ]
  },
  {
   "cell_type": "code",
   "execution_count": 73,
   "id": "244cb1e9",
   "metadata": {
    "ExecuteTime": {
     "end_time": "2021-09-08T11:54:16.994058Z",
     "start_time": "2021-09-08T11:54:16.715351Z"
    }
   },
   "outputs": [
    {
     "data": {
      "image/png": "[encoded data removed]",
      "text/plain": [
       "<Figure size 576x360 with 1 Axes>"
      ]
     },
     "metadata": {
      "needs_background": "light"
     },
     "output_type": "display_data"
    }
   ],
   "source": [
    "plt.figure(figsize=(8, 5))\n",
    "\n",
    "x = np.array(ents).reshape(-1, 1)\n",
    "y = np.mean(Y[:, subs_who_replay], axis=0).reshape(-1, 1)\n",
    "\n",
    "reg    = LinearRegression().fit(x, y)\n",
    "\n",
    "x_pred = np.linspace(np.min(x), np.max(x), 50).reshape(-1, 1)\n",
    "y_pred = reg.predict(x_pred)\n",
    "plt.scatter(x, y, c='orange')\n",
    "plt.plot(x_pred, y_pred, c='k')\n",
    "\n",
    "r, p   = pearsonr(x.flatten(), y.flatten())\n",
    "\n",
    "plt.savefig(os.path.join(root_folder, 'new_figures_data/supp3/', 'ent_flex.svg'), transparent=True, format='svg')\n",
    "with open(os.path.join(root_folder, 'new_figures_data/supp3/', 'stats_ent_flex.txt'), 'w') as f:\n",
    "    f.write('R^2 = %.3E, p = %.3E'%(r**2, p))\n",
    "\n",
    "plt.savefig(os.path.join(root_folder, 'new_figures_data/supp3/ent_flex.svg'), transparent=True)"
   ]
  },
  {
   "cell_type": "code",
   "execution_count": null,
   "id": "1544517d",
   "metadata": {},
   "outputs": [],
   "source": []
  }
 ],
 "metadata": {
  "kernelspec": {
   "display_name": "Python 3",
   "language": "python",
   "name": "python3"
  },
  "language_info": {
   "codemirror_mode": {
    "name": "ipython",
    "version": 3
   },
   "file_extension": ".py",
   "mimetype": "text/x-python",
   "name": "python",
   "nbconvert_exporter": "python",
   "pygments_lexer": "ipython3",
   "version": "3.7.6"
  },
  "varInspector": {
   "cols": {
    "lenName": 16,
    "lenType": 16,
    "lenVar": 40
   },
   "kernels_config": {
    "python": {
     "delete_cmd_postfix": "",
     "delete_cmd_prefix": "del ",
     "library": "var_list.py",
     "varRefreshCmd": "print(var_dic_list())"
    },
    "r": {
     "delete_cmd_postfix": ") ",
     "delete_cmd_prefix": "rm(",
     "library": "var_list.r",
     "varRefreshCmd": "cat(var_dic_list()) "
    }
   },
   "types_to_exclude": [
    "module",
    "function",
    "builtin_function_or_method",
    "instance",
    "_Feature"
   ],
   "window_display": false
  }
 },
 "nbformat": 4,
 "nbformat_minor": 5
}
