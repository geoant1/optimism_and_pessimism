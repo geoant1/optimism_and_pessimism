{
 "cells": [
  {
   "cell_type": "code",
   "execution_count": 1,
   "id": "current-drill",
   "metadata": {
    "ExecuteTime": {
     "end_time": "2021-09-07T12:11:19.829676Z",
     "start_time": "2021-09-07T12:11:18.053651Z"
    }
   },
   "outputs": [],
   "source": [
    "import numpy as np\n",
    "import sys, os, glob\n",
    "import scipy.stats\n",
    "import matplotlib.pyplot as plt\n",
    "%matplotlib inline\n",
    "\n",
    "code_path = '/Users/GA/Documents/Dayan_lab/Optimism_And_Pessimism_In_Optimised_Replay/Code/Task'\n",
    "\n",
    "sys.path.append(code_path)\n",
    "from misc_analysis import histogram, get_Q_true, analyse_recent_replays, analyse_other_replays, get_optimal_move, permutation_test, policy_improve, get_entropy, get_sorted_files\n",
    "from misc import policy_choose, get_a_opp, compute_gain"
   ]
  },
  {
   "cell_type": "code",
   "execution_count": 2,
   "id": "classical-dollar",
   "metadata": {
    "ExecuteTime": {
     "end_time": "2021-09-07T12:11:19.883777Z",
     "start_time": "2021-09-07T12:11:19.860402Z"
    }
   },
   "outputs": [],
   "source": [
    "root_folder = '/Users/GA/Documents/Dayan_lab/Optimism_And_Pessimism_In_Optimised_Replay'\n",
    "\n",
    "# Worlds & idcs\n",
    "world1 = np.load(os.path.join(root_folder, 'Data/world1.npy'))\n",
    "world2 = np.load(os.path.join(root_folder, 'Data/world2.npy'))\n",
    "idcs1  = np.load(os.path.join(root_folder, 'Data/idcs1.npy'))\n",
    "idcs2  = np.load(os.path.join(root_folder, 'Data/idcs2.npy'))"
   ]
  },
  {
   "cell_type": "code",
   "execution_count": 3,
   "id": "forward-dating",
   "metadata": {
    "ExecuteTime": {
     "end_time": "2021-09-07T12:11:20.672922Z",
     "start_time": "2021-09-07T12:11:20.656285Z"
    },
    "code_folding": [
     0,
     13,
     32,
     52
    ]
   },
   "outputs": [],
   "source": [
    "def convert_move(a):\n",
    "    if np.isnan(a):\n",
    "        pass\n",
    "    elif a == 1:\n",
    "        a = 2\n",
    "    elif a == 2:\n",
    "        a = 3\n",
    "    elif a == 3:\n",
    "        a = 0\n",
    "    else:\n",
    "        a = 1\n",
    "    return a\n",
    "\n",
    "def check_for_replays(z):\n",
    "\n",
    "    move = z['move']\n",
    "    s = move[0]\n",
    "    a = move[1]\n",
    "    \n",
    "    check = False\n",
    "    \n",
    "    replay_backups  = np.atleast_2d(z['replay_backups'])\n",
    "    for rid in range(replay_backups.shape[0]):\n",
    "        this_replay = replay_backups[rid, :]\n",
    "        sr = int(this_replay[0])\n",
    "        ar = int(this_replay[1])\n",
    "\n",
    "        if sr != -200 and ar != -200:\n",
    "            if (sr == s) and (ar == a):\n",
    "                check = True\n",
    "    return check\n",
    "\n",
    "def check_for_replays_2moves(z):\n",
    "    \n",
    "    move = z['move']\n",
    "    s = move[0, 3]\n",
    "    a = move[1, 1]\n",
    "    \n",
    "    check = False\n",
    "    \n",
    "    replay_backups  = np.atleast_2d(z['replay_backups'])\n",
    "    for rid in range(replay_backups.shape[0]):\n",
    "        this_replay = replay_backups[rid, :]\n",
    "        sr = int(this_replay[0])\n",
    "        ar = int(this_replay[1])\n",
    "\n",
    "        pl = int(this_replay[4])\n",
    "        if sr != -200 and ar != -200 and pl == 1:\n",
    "            if (sr == s) and (ar == a):\n",
    "                check = True\n",
    "    return check\n",
    "\n",
    "def check_for_any_replays(z):\n",
    "    \n",
    "    move = z['move']\n",
    "    s = move[0]\n",
    "    a = move[1]\n",
    "    \n",
    "    check = False\n",
    "    \n",
    "    replay_backups  = np.atleast_2d(z['replay_backups'])\n",
    "    for rid in range(replay_backups.shape[0]):\n",
    "        this_replay = replay_backups[rid, :]\n",
    "        sr = int(this_replay[0])\n",
    "        ar = int(this_replay[1])\n",
    "\n",
    "        if sr != -200 and ar != -200:\n",
    "            if (sr == s):\n",
    "                check = True\n",
    "    return check"
   ]
  },
  {
   "cell_type": "markdown",
   "id": "fossil-split",
   "metadata": {},
   "source": [
    "### Check subjects' params before choosing"
   ]
  },
  {
   "cell_type": "code",
   "execution_count": 4,
   "id": "talented-refund",
   "metadata": {
    "ExecuteTime": {
     "end_time": "2021-09-07T12:11:21.235799Z",
     "start_time": "2021-09-07T12:11:21.222567Z"
    }
   },
   "outputs": [],
   "source": [
    "params_path     = os.path.join(root_folder, 'Data/new_new_fits')\n",
    "subs_who_replay = np.load(os.path.join(root_folder, 'Data/tmp/Analysis', 'subs_who_replay.npy'))"
   ]
  },
  {
   "cell_type": "code",
   "execution_count": 5,
   "id": "sudden-terry",
   "metadata": {
    "ExecuteTime": {
     "end_time": "2021-09-07T12:11:22.714816Z",
     "start_time": "2021-09-07T12:11:22.666104Z"
    }
   },
   "outputs": [
    {
     "name": "stdout",
     "output_type": "stream",
     "text": [
      "subject:  0, phi^{MB}: 0.99, phi^{MF}: 0.80, xi: 6.1615E-04\n",
      "subject:  2, phi^{MB}: 1.00, phi^{MF}: 0.93, xi: 4.6660E-05\n",
      "subject:  3, phi^{MB}: 1.00, phi^{MF}: 0.57, xi: 3.8372E-03\n",
      "subject:  6, phi^{MB}: 0.45, phi^{MF}: 0.91, xi: 1.3270E-04\n",
      "subject:  8, phi^{MB}: 1.00, phi^{MF}: 0.99, xi: 2.8122E-03\n",
      "subject:  9, phi^{MB}: 0.79, phi^{MF}: 0.54, xi: 4.7780E-04\n",
      "subject: 11, phi^{MB}: 0.94, phi^{MF}: 0.69, xi: 1.1753E-02\n",
      "subject: 12, phi^{MB}: 0.15, phi^{MF}: 0.96, xi: 1.8635E-04\n",
      "subject: 14, phi^{MB}: 0.95, phi^{MF}: 0.93, xi: 1.5382E-03\n",
      "subject: 15, phi^{MB}: 0.19, phi^{MF}: 0.94, xi: 2.3405E-03\n",
      "subject: 16, phi^{MB}: 0.95, phi^{MF}: 0.58, xi: 4.6570E-05\n",
      "subject: 19, phi^{MB}: 1.00, phi^{MF}: 0.66, xi: 2.1507E-04\n",
      "subject: 21, phi^{MB}: 1.00, phi^{MF}: 0.79, xi: 6.5930E-05\n",
      "subject: 27, phi^{MB}: 0.12, phi^{MF}: 0.92, xi: 1.6069E-04\n",
      "subject: 28, phi^{MB}: 0.02, phi^{MF}: 0.87, xi: 3.9813E-03\n",
      "subject: 29, phi^{MB}: 0.87, phi^{MF}: 0.36, xi: 5.4702E-03\n",
      "subject: 32, phi^{MB}: 1.00, phi^{MF}: 0.43, xi: 2.9674E-04\n",
      "subject: 34, phi^{MB}: 0.15, phi^{MF}: 0.98, xi: 5.0580E-05\n",
      "subject: 35, phi^{MB}: 0.92, phi^{MF}: 0.95, xi: 1.5969E-04\n",
      "subject: 38, phi^{MB}: 0.15, phi^{MF}: 0.98, xi: 2.4741E-03\n"
     ]
    }
   ],
   "source": [
    "for i in subs_who_replay:\n",
    "    p = np.load(os.path.join(params_path, 'save_params_%u'%i, 'params.npy'))[:18]\n",
    "    if len(str(i)) == 1:\n",
    "        print('subject:  %u, phi^{MB}: %.2f, phi^{MF}: %.2f, xi: %.4E'%(i, p[8], p[9], p[15]))\n",
    "    else:\n",
    "        print('subject: %u, phi^{MB}: %.2f, phi^{MF}: %.2f, xi: %.4E'%(i, p[8], p[9], p[15]))"
   ]
  },
  {
   "cell_type": "markdown",
   "id": "polished-richardson",
   "metadata": {},
   "source": [
    "### Get the moves to look at"
   ]
  },
  {
   "cell_type": "code",
   "execution_count": 197,
   "id": "motivated-momentum",
   "metadata": {
    "ExecuteTime": {
     "end_time": "2021-09-07T16:18:44.887856Z",
     "start_time": "2021-09-07T16:18:44.586621Z"
    }
   },
   "outputs": [
    {
     "name": "stdout",
     "output_type": "stream",
     "text": [
      "Block: 0, folder: 2, trial: 0 [1 0 2 5]\n",
      "Block: 2, folder: 3, trial: 3 [3 1 2 7]\n",
      "Block: 2, folder: 5, trial: 3 [7 2 8 6]\n"
     ]
    }
   ],
   "source": [
    "task_folder = os.path.join(root_folder, 'Data/tmp/')\n",
    "\n",
    "sub      = 2\n",
    "fig_name = 'supp4'\n",
    "\n",
    "sub_task_folder = os.path.join(task_folder, str(sub))\n",
    "\n",
    "for i in range(5):\n",
    "    if i == 0:\n",
    "        this_range = 6\n",
    "    else:\n",
    "        this_range = 7\n",
    "    \n",
    "    if i in [0, 1]:\n",
    "        Q1_true, Q2_true = get_Q_true(world1, idcs1)\n",
    "    elif i in [2, 3]:\n",
    "        Q1_true, Q2_true = get_Q_true(world2, idcs1)\n",
    "    else:\n",
    "        Q1_true, Q2_true = get_Q_true(world2, idcs2)\n",
    "                \n",
    "    for j in range(this_range):\n",
    "        # Prepare to load files\n",
    "        epoch_folder = os.path.join(sub_task_folder, str(i), str(j))\n",
    "        all_files_sorted = get_sorted_files(epoch_folder)\n",
    "\n",
    "        for f in range(len(all_files_sorted)):\n",
    "            \n",
    "            this_file = all_files_sorted[f]\n",
    "            data      = np.load(this_file, allow_pickle=True)\n",
    "            move      = data['move']\n",
    "            if len(move) == 2:\n",
    "                pass\n",
    "            else:\n",
    "                s = move[0]\n",
    "                a = move[1]\n",
    "                if a not in get_optimal_move(s, Q2_true):\n",
    "                    if check_for_replays(data):\n",
    "#                     if check_for_any_replays(data):\n",
    "                        print('Block: %u, folder: %u, trial: %u'%(i,j,f), move)"
   ]
  },
  {
   "cell_type": "markdown",
   "id": "rolled-entrepreneur",
   "metadata": {},
   "source": [
    "### Choose the move"
   ]
  },
  {
   "cell_type": "code",
   "execution_count": 214,
   "id": "liberal-pierre",
   "metadata": {
    "ExecuteTime": {
     "end_time": "2021-09-07T16:41:35.150511Z",
     "start_time": "2021-09-07T16:41:35.130116Z"
    }
   },
   "outputs": [],
   "source": [
    "# Objective benefit\n",
    "# Same move as human\n",
    "# Sub 19\n",
    "# block    = 2\n",
    "# epoch    = 5\n",
    "# file     = 3\n",
    "\n",
    "# Sub 3\n",
    "# block    = 4\n",
    "# epoch    = 5\n",
    "# file     = 5\n",
    "\n",
    "# Sub 16\n",
    "# block    = 2\n",
    "# epoch    = 4\n",
    "# file     = 0\n",
    "\n",
    "# Subjective benefit\n",
    "# Same move as human\n",
    "# Sub 3\n",
    "block = 0\n",
    "epoch = 2\n",
    "file  = 0\n",
    "\n",
    "if block >= 2:\n",
    "    world = world2\n",
    "else:\n",
    "    world = world1\n",
    "\n",
    "if block == 4:\n",
    "    idcs = idcs2\n",
    "else:\n",
    "    idcs = idcs1\n",
    "\n",
    "data  = os.path.join(task_folder, '%u/%u/%u/move%u.npz'%(sub, block, epoch, file))\n",
    "\n",
    "if file == 0:\n",
    "    if epoch == 0:\n",
    "        specs = (sub, block-1, 5, 11)\n",
    "    else:\n",
    "        specs = (sub, block, epoch-1, 5)\n",
    "else:\n",
    "    specs = (sub, block, epoch, file-1)\n",
    "    \n",
    "data_pre = os.path.join(task_folder, '%u/%u/%u/move%u.npz'%specs)\n",
    "params   = os.path.join(root_folder, 'Data/new_new_fits/save_params_%u/params.npy'%sub)\n",
    "p        = np.load(params)\n",
    "z        = np.load(data, allow_pickle=True)\n",
    "\n",
    "if len(z['move']) == 2:\n",
    "    num_moves = 2\n",
    "else:\n",
    "    num_moves = 1"
   ]
  },
  {
   "cell_type": "code",
   "execution_count": 215,
   "id": "promising-speed",
   "metadata": {
    "ExecuteTime": {
     "end_time": "2021-09-07T16:41:35.347947Z",
     "start_time": "2021-09-07T16:41:35.336432Z"
    }
   },
   "outputs": [
    {
     "name": "stdout",
     "output_type": "stream",
     "text": [
      "[1 0 2 5]\n"
     ]
    }
   ],
   "source": [
    "print(z['move'])"
   ]
  },
  {
   "cell_type": "code",
   "execution_count": 216,
   "id": "pleased-prince",
   "metadata": {
    "ExecuteTime": {
     "end_time": "2021-09-07T16:41:35.601894Z",
     "start_time": "2021-09-07T16:41:35.574142Z"
    },
    "scrolled": true
   },
   "outputs": [
    {
     "name": "stdout",
     "output_type": "stream",
     "text": [
      "1  : [1, 0, 2.6043, 5.0]\n",
      "2  : [1, 0, 2.6043, 5.0]\n",
      "3  : [1, 1, 2.2019, 5.0]\n",
      "4  : [1, 0, 2.6043, 5.0]\n",
      "5  : [1, 1, 2.2019, 5.0]\n",
      "6  : [1, 0, 2.6043, 5.0]\n",
      "7  : [1, 1, 2.2019, 5.0]\n",
      "8  : [1, 0, 2.6043, 5.0]\n",
      "9  : [5, 0, 8.6653, 1.0]\n",
      "10 : [1, 1, 2.2019, 5.0]\n",
      "11 : [1, 0, 2.6043, 5.0]\n",
      "12 : [5, 0, 8.6653, 1.0]\n",
      "13 : [1, 0, 2.6043, 5.0]\n",
      "14 : [1, 1, 2.2019, 5.0]\n",
      "15 : [5, 0, 8.6653, 1.0]\n",
      "16 : [1, 2, 0.3028, 0.0]\n",
      "17 : [1, 0, 2.6043, 5.0]\n",
      "18 : [1, 1, 2.2019, 5.0]\n",
      "19 : [5, 0, 8.6653, 1.0]\n",
      "20 : [1, 0, 2.6043, 5.0]\n",
      "21 : [1, 1, 2.2019, 5.0]\n",
      "22 : [5, 0, 8.6653, 1.0]\n",
      "23 : [6, 0, 5.2857, 0.0]\n",
      "24 : [6, 1, 5.2857, 0.0]\n",
      "25 : [0, 3, 8.76, 1.0]\n",
      "26 : [1, 2, 0.3028, 0.0]\n",
      "27 : [1, 0, 2.6043, 5.0]\n",
      "28 : [1, 1, 2.2019, 5.0]\n"
     ]
    }
   ],
   "source": [
    "replays = np.zeros(32)\n",
    "replay_backups  = z['replay_backups']\n",
    "for rid in range(replay_backups.shape[0]):\n",
    "    this_replay = replay_backups[rid, :]\n",
    "    sr = int(this_replay[0])\n",
    "    ar = int(this_replay[1])\n",
    "    rr = this_replay[2]\n",
    "    s1r = this_replay[3]\n",
    "    \n",
    "    if num_moves == 2:\n",
    "        pl = int(this_replay[4])\n",
    "        if sr != -200 and ar != -200 and pl == 1:\n",
    "            if len(str(rid)) == 2:\n",
    "                print(rid, ':', [sr, ar, np.round(rr, 4), s1r])\n",
    "            else:\n",
    "                print(rid, ' :', [sr, ar, np.round(rr, 4), s1r])\n",
    "            replays[sr*4 +ar] += 1\n",
    "    else:\n",
    "        if sr != -200 and ar != -200:\n",
    "            if len(str(rid)) == 2:\n",
    "                print(rid, ':', [sr, ar, np.round(rr, 4), s1r])\n",
    "            else:\n",
    "                print(rid, ' :', [sr, ar, np.round(rr, 4), s1r])\n",
    "            replays[sr*4 +ar] += 1"
   ]
  },
  {
   "cell_type": "markdown",
   "id": "ultimate-certification",
   "metadata": {},
   "source": [
    "### Replays after that move"
   ]
  },
  {
   "cell_type": "code",
   "execution_count": 217,
   "id": "covered-controversy",
   "metadata": {
    "ExecuteTime": {
     "end_time": "2021-09-07T16:41:38.406537Z",
     "start_time": "2021-09-07T16:41:36.957447Z"
    },
    "scrolled": false
   },
   "outputs": [
    {
     "data": {
      "image/png": "[encoded data removed]",
      "text/plain": [
       "<Figure size 216x288 with 1 Axes>"
      ]
     },
     "metadata": {
      "needs_background": "light"
     },
     "output_type": "display_data"
    },
    {
     "data": {
      "image/png": "[encoded data removed]",
      "text/plain": [
       "<Figure size 216x288 with 1 Axes>"
      ]
     },
     "metadata": {
      "needs_background": "light"
     },
     "output_type": "display_data"
    },
    {
     "data": {
      "image/png": "[encoded data removed]",
      "text/plain": [
       "<Figure size 216x288 with 1 Axes>"
      ]
     },
     "metadata": {
      "needs_background": "light"
     },
     "output_type": "display_data"
    },
    {
     "data": {
      "image/png": "[encoded data removed]",
      "text/plain": [
       "<Figure size 216x288 with 1 Axes>"
      ]
     },
     "metadata": {
      "needs_background": "light"
     },
     "output_type": "display_data"
    },
    {
     "data": {
      "image/png": "[encoded data removed]",
      "text/plain": [
       "<Figure size 216x288 with 1 Axes>"
      ]
     },
     "metadata": {
      "needs_background": "light"
     },
     "output_type": "display_data"
    },
    {
     "data": {
      "image/png": "[encoded data removed]",
      "text/plain": [
       "<Figure size 216x288 with 1 Axes>"
      ]
     },
     "metadata": {
      "needs_background": "light"
     },
     "output_type": "display_data"
    },
    {
     "data": {
      "image/png": "[encoded data removed]",
      "text/plain": [
       "<Figure size 216x288 with 1 Axes>"
      ]
     },
     "metadata": {
      "needs_background": "light"
     },
     "output_type": "display_data"
    },
    {
     "data": {
      "image/png": "[encoded data removed]",
      "text/plain": [
       "<Figure size 216x288 with 1 Axes>"
      ]
     },
     "metadata": {
      "needs_background": "light"
     },
     "output_type": "display_data"
    }
   ],
   "source": [
    "_, Q2_true = get_Q_true(world, idcs)\n",
    "for s in range(8):\n",
    "    fig = plt.figure(figsize=(3, 4))\n",
    "    for a in range(4):\n",
    "        if a in get_optimal_move(s, Q2_true):\n",
    "            plt.bar(s*4+a, replays[s*4+a], facecolor='orange', align='center', width=0.5)\n",
    "        else:\n",
    "            plt.bar(s*4+a, replays[s*4+a], facecolor='b', align='center', width=0.5)\n",
    "    plt.savefig(os.path.join(root_folder, 'new_figures_data/%s/d/replays_%u_%u.svg'%(fig_name, sub, s)), transparent=True, format='svg')\n",
    "np.save(os.path.join(root_folder, 'new_figures_data/%s/d/replays_data.npy'%fig_name), replays)"
   ]
  },
  {
   "cell_type": "markdown",
   "id": "missing-prince",
   "metadata": {},
   "source": [
    "### Objective policy change due to those replays"
   ]
  },
  {
   "cell_type": "code",
   "execution_count": 218,
   "id": "starting-leone",
   "metadata": {
    "ExecuteTime": {
     "end_time": "2021-09-07T16:41:40.843762Z",
     "start_time": "2021-09-07T16:41:40.600859Z"
    }
   },
   "outputs": [
    {
     "name": "stdout",
     "output_type": "stream",
     "text": [
      "State 0, opt: 0.00023\n",
      "State 1, opt: 0.30195\n",
      "State 2, opt: 0.00000\n",
      "State 3, opt: 0.00000\n",
      "State 4, opt: 0.00000\n",
      "State 5, opt: 0.00024\n",
      "State 6, opt: 0.00316\n",
      "State 7, opt: 0.00000\n"
     ]
    },
    {
     "data": {
      "image/png": "[encoded data removed]",
      "text/plain": [
       "<Figure size 1008x216 with 1 Axes>"
      ]
     },
     "metadata": {
      "needs_background": "light"
     },
     "output_type": "display_data"
    }
   ],
   "source": [
    "if num_moves == 2:\n",
    "    Q = z['Q2_history']\n",
    "else:\n",
    "    Q = z['Q_history']\n",
    "Q_before = Q[0].reshape(8, -1)\n",
    "Q_after  = Q[-1].reshape(8, -1)\n",
    "\n",
    "_, Q2_true = get_Q_true(world, idcs)\n",
    "\n",
    "beta = p[0]\n",
    "a    = p[10]\n",
    "b    = p[11]\n",
    "d    = -(a+b)\n",
    "biases = np.array([a, b, 0, d])\n",
    "\n",
    "opt_save = []\n",
    "fig = plt.figure(figsize=(14, 3))\n",
    "for s in range(8):\n",
    "    opt = policy_improve(Q_before[s, :], Q_after[s, :], Q2_true, s, beta, biases, world, idcs, mode='value', benefit='objective')\n",
    "    print('State %u, opt: %.5f'%(s, opt))\n",
    "    plt.bar(s, opt, facecolor='orange', width = 0.4)\n",
    "    opt_save += [opt]\n",
    "plt.savefig(os.path.join(root_folder, 'new_figures_data/%s/e/'%fig_name, '%u_policy_objective.svg'%sub), transparent=True, format='svg')\n",
    "np.save(os.path.join(root_folder, 'new_figures_data/%s/e/policy_data_objective.npy'%fig_name), opt_save)\n"
   ]
  },
  {
   "cell_type": "markdown",
   "id": "conventional-doctrine",
   "metadata": {},
   "source": [
    "### Action entropy values "
   ]
  },
  {
   "cell_type": "code",
   "execution_count": 203,
   "id": "plain-description",
   "metadata": {
    "ExecuteTime": {
     "end_time": "2021-09-07T16:19:22.616465Z",
     "start_time": "2021-09-07T16:19:22.153296Z"
    },
    "scrolled": false
   },
   "outputs": [
    {
     "name": "stdout",
     "output_type": "stream",
     "text": [
      "0 0 alpha: 0\n",
      "0 1 alpha: 15.0\n",
      "0 2 alpha: 0\n",
      "0 3 alpha: 83.0\n",
      "1 0 alpha: 49.0\n",
      "1 1 alpha: 78.0\n",
      "1 2 alpha: 82.0\n",
      "1 3 alpha: 88.0\n",
      "2 0 alpha: 0\n",
      "2 1 alpha: 0\n",
      "2 2 alpha: 88.0\n",
      "2 3 alpha: 51.0\n",
      "3 0 alpha: 80.0\n",
      "3 1 alpha: 0\n",
      "3 2 alpha: 48.0\n",
      "3 3 alpha: 0\n",
      "4 0 alpha: 17.0\n",
      "4 1 alpha: 0\n",
      "4 2 alpha: 84.0\n",
      "4 3 alpha: 17.0\n",
      "5 0 alpha: 80.0\n",
      "5 1 alpha: 48.0\n",
      "5 2 alpha: 15.0\n",
      "5 3 alpha: 15.0\n",
      "6 0 alpha: 0\n",
      "6 1 alpha: 0\n",
      "6 2 alpha: 17.0\n",
      "6 3 alpha: 17.0\n",
      "7 0 alpha: 0\n",
      "7 1 alpha: 78.0\n",
      "7 2 alpha: 15.0\n",
      "7 3 alpha: 85.0\n"
     ]
    },
    {
     "data": {
      "image/png": "[encoded data removed]",
      "text/plain": [
       "<Figure size 1152x288 with 1 Axes>"
      ]
     },
     "metadata": {
      "needs_background": "light"
     },
     "output_type": "display_data"
    }
   ],
   "source": [
    "fig = plt.figure(figsize=(16, 4))\n",
    "max_ent = np.log2(7)\n",
    "\n",
    "opt    = []\n",
    "subopt = []\n",
    "\n",
    "T = z['T']\n",
    "for s in range(8):\n",
    "    for a in range(4):\n",
    "        ent = get_entropy(T, s, a)\n",
    "        \n",
    "        if a in get_optimal_move(s, Q2_true):\n",
    "            opt += [ent]\n",
    "        else:\n",
    "            subopt += [ent]\n",
    "        \n",
    "        alp = 1-(ent/max_ent)\n",
    "        if alp <= 0:\n",
    "            alp = 0\n",
    "        plt.bar(s*4+a, ent, facecolor='k', width=0.5, alpha = alp)\n",
    "        print(s, a, 'alpha:', np.round(alp*100))\n",
    "plt.savefig(os.path.join(root_folder, 'new_figures_data/%s/b'%fig_name, '%u_entropy.svg'%sub), transparent=True, format='svg')\n",
    "np.save(os.path.join(root_folder, 'new_figures_data/%s/b/entropy_data.npy'%fig_name), opt_save)\n",
    "plt.xticks(range(32), range(32));"
   ]
  },
  {
   "cell_type": "code",
   "execution_count": 204,
   "id": "62684d9a",
   "metadata": {
    "ExecuteTime": {
     "end_time": "2021-09-07T16:19:27.832341Z",
     "start_time": "2021-09-07T16:19:27.601575Z"
    }
   },
   "outputs": [
    {
     "data": {
      "image/png": "[encoded data removed]",
      "text/plain": [
       "<Figure size 432x288 with 1 Axes>"
      ]
     },
     "metadata": {
      "needs_background": "light"
     },
     "output_type": "display_data"
    }
   ],
   "source": [
    "plt.bar([1], np.mean(opt), facecolor='orange')\n",
    "plt.bar([2], np.mean(subopt), facecolor='b')\n",
    "\n",
    "plt.ylim(0, np.log2(7))\n",
    "plt.savefig(os.path.join(root_folder, 'new_figures_data/%s/b'%fig_name, '%u_entropy_av.svg'%sub), transparent=True, format='svg')\n",
    "np.savez(os.path.join(root_folder, 'new_figures_data/%s/b/entropy_av_data.npz'%fig_name), opt=opt, subopt=subopt)"
   ]
  },
  {
   "cell_type": "markdown",
   "id": "greater-major",
   "metadata": {},
   "source": [
    "### Agent's state of knowledge"
   ]
  },
  {
   "cell_type": "code",
   "execution_count": 205,
   "id": "valued-berlin",
   "metadata": {
    "ExecuteTime": {
     "end_time": "2021-09-07T16:19:30.098117Z",
     "start_time": "2021-09-07T16:19:30.079179Z"
    }
   },
   "outputs": [],
   "source": [
    "_, Q2_true = get_Q_true(world, idcs)\n",
    "\n",
    "move  = z['move']\n",
    "alpha = p[3]\n",
    "T     = z['T']\n",
    "tau   = p[9]\n",
    "\n",
    "if num_moves == 2:\n",
    "    Q        = z['Q2_history'][0].reshape(8, 4)\n",
    "    rew_hist = z['rew_history'][1]\n",
    "    s = int(move[0][3])\n",
    "    a = int(move[1][1])\n",
    "    r = move[1][2]\n",
    "    \n",
    "    av_rew   = np.mean(rew_hist)\n",
    "\n",
    "    Q_pre    = (Q  - av_rew*(1-tau))/tau\n",
    "\n",
    "    Q_before = (Q_pre[s, a] - alpha*r)/(1-alpha)\n",
    "\n",
    "else:\n",
    "    Q        = z['Q_history'][0].reshape(8, 4)\n",
    "    rew_hist = z['rew_history']\n",
    "    s = int(move[0])\n",
    "    a = int(move[1])\n",
    "    r = move[2]\n",
    "    \n",
    "#     av_rew   = np.mean(rew_hist)\n",
    "    \n",
    "#     Q_pre    = (Q  - av_rew*(1-tau))/tau\n",
    "    Q_pre    = Q.copy()\n",
    "    Q_before = (Q_pre[s, a] - alpha*r)/(1-alpha)"
   ]
  },
  {
   "cell_type": "code",
   "execution_count": 206,
   "id": "important-midwest",
   "metadata": {
    "ExecuteTime": {
     "end_time": "2021-09-07T16:19:36.100881Z",
     "start_time": "2021-09-07T16:19:34.412130Z"
    },
    "scrolled": false
   },
   "outputs": [
    {
     "name": "stdout",
     "output_type": "stream",
     "text": [
      "State 1, action 0\n",
      "Before on-line: 6.005093794092967\n",
      "After on-line: 3.2261578630240444\n",
      "Q^{MB}: 2.6042675886084763\n"
     ]
    },
    {
     "data": {
      "image/png": "[encoded data removed]",
      "text/plain": [
       "<Figure size 216x288 with 1 Axes>"
      ]
     },
     "metadata": {
      "needs_background": "light"
     },
     "output_type": "display_data"
    },
    {
     "data": {
      "image/png": "[encoded data removed]",
      "text/plain": [
       "<Figure size 216x288 with 1 Axes>"
      ]
     },
     "metadata": {
      "needs_background": "light"
     },
     "output_type": "display_data"
    },
    {
     "data": {
      "image/png": "[encoded data removed]",
      "text/plain": [
       "<Figure size 216x288 with 1 Axes>"
      ]
     },
     "metadata": {
      "needs_background": "light"
     },
     "output_type": "display_data"
    },
    {
     "data": {
      "image/png": "[encoded data removed]",
      "text/plain": [
       "<Figure size 216x288 with 1 Axes>"
      ]
     },
     "metadata": {
      "needs_background": "light"
     },
     "output_type": "display_data"
    },
    {
     "data": {
      "image/png": "[encoded data removed]",
      "text/plain": [
       "<Figure size 216x288 with 1 Axes>"
      ]
     },
     "metadata": {
      "needs_background": "light"
     },
     "output_type": "display_data"
    },
    {
     "data": {
      "image/png": "[encoded data removed]",
      "text/plain": [
       "<Figure size 216x288 with 1 Axes>"
      ]
     },
     "metadata": {
      "needs_background": "light"
     },
     "output_type": "display_data"
    },
    {
     "data": {
      "image/png": "[encoded data removed]",
      "text/plain": [
       "<Figure size 216x288 with 1 Axes>"
      ]
     },
     "metadata": {
      "needs_background": "light"
     },
     "output_type": "display_data"
    },
    {
     "data": {
      "image/png": "[encoded data removed]",
      "text/plain": [
       "<Figure size 216x288 with 1 Axes>"
      ]
     },
     "metadata": {
      "needs_background": "light"
     },
     "output_type": "display_data"
    }
   ],
   "source": [
    "for si in range(8):\n",
    "    fig = plt.figure(figsize=(3, 4))\n",
    "    a_opt = get_optimal_move(si, Q2_true)\n",
    "    q_mb = []\n",
    "    for ai in range(4):\n",
    "        this_action_probas = T[si, ai, :]\n",
    "        r = np.sum(world.ravel()*this_action_probas)\n",
    "        q_mb += [r]\n",
    "        if ai in a_opt:\n",
    "            plt.bar(si*4+ai, Q_pre[si, ai], facecolor='orange', edgecolor='orange', align='center',width=0.3)\n",
    "        else:\n",
    "            if si == s and ai == a:\n",
    "                if Q_before < Q_pre[si, ai]:\n",
    "                    plt.bar(si*4+ai, Q_pre[si, ai], facecolor='green', edgecolor='green', align='center',width=0.3)\n",
    "                    plt.bar(si*4+ai, Q_before, facecolor='b', edgecolor='b', align='center',width=0.3)\n",
    "                else:\n",
    "                    plt.bar(si*4+ai, Q_before, facecolor='b', edgecolor='b', align='center',width=0.3)\n",
    "                    plt.bar(si*4+ai, Q_pre[si, ai], facecolor='green', edgecolor='green', align='center',width=0.3)\n",
    "                print('State %u, action %u'%(s, a))\n",
    "                print('Before on-line:', Q_before)\n",
    "                print('After on-line:', Q_pre[si, ai])\n",
    "                print('Q^{MB}:', r)\n",
    "            else:\n",
    "                plt.bar(si*4+ai, Q_pre[si, ai], facecolor='b', edgecolor='b', align='center',width=0.3)\n",
    "        plt.bar(si*4+ai+0.35, r, facecolor='pink', width=0.3)\n",
    "        plt.hlines(Q2_true[si, ai], si*4+ai-0.13, si*4+ai+0.5, color='k')\n",
    "    plt.ylim(0, 11)\n",
    "    plt.savefig(os.path.join(root_folder, 'new_figures_data/%s/c'%fig_name, 'Q_before_%u.svg'%si), transparent=True, format='svg')\n",
    "    if si != s:\n",
    "        np.savez(os.path.join(root_folder, 'new_figures_data/%s/c'%fig_name, 'Q_%u.npz'%si), q_mf=Q_pre[si, :], q_mb=q_mb)\n",
    "    else:\n",
    "        np.savez(os.path.join(root_folder, 'new_figures_data/%s/c'%fig_name, 'Q_%u.npz'%si), q_mf=Q_pre[si, :], q_mf_before=Q_before, q_mb=q_mb)\n"
   ]
  },
  {
   "cell_type": "markdown",
   "id": "4a721a86",
   "metadata": {},
   "source": [
    "### Replays / entropy"
   ]
  },
  {
   "cell_type": "code",
   "execution_count": 219,
   "id": "d61c8205",
   "metadata": {
    "ExecuteTime": {
     "end_time": "2021-09-07T16:50:38.767359Z",
     "start_time": "2021-09-07T16:50:37.762404Z"
    }
   },
   "outputs": [],
   "source": [
    "sub_task_folder = os.path.join(root_folder, 'Data/tmp/%u'%sub)\n",
    "opt, subopt, H_opt_single, H_subopt_single, H_opt_paired, H_subopt_paired = analyse_recent_replays(sub_task_folder)"
   ]
  },
  {
   "cell_type": "code",
   "execution_count": 220,
   "id": "e4073f8d",
   "metadata": {
    "ExecuteTime": {
     "end_time": "2021-09-07T16:50:40.245736Z",
     "start_time": "2021-09-07T16:50:38.870283Z"
    }
   },
   "outputs": [
    {
     "data": {
      "image/png": "[encoded data removed]",
      "text/plain": [
       "<Figure size 1008x288 with 2 Axes>"
      ]
     },
     "metadata": {
      "needs_background": "light"
     },
     "output_type": "display_data"
    }
   ],
   "source": [
    "plt.figure(figsize=(14, 4))\n",
    "\n",
    "# Replays\n",
    "plt.subplot(1, 2, 1)\n",
    "max_bins = 80\n",
    "bins = np.linspace(0, max_bins, 25)\n",
    "subopt_h, subopt_b, subopt_w = histogram(subopt, bins)\n",
    "plt.bar(subopt_b, subopt_h, width=subopt_w, facecolor='b')\n",
    "opt_h, opt_b, subopt_w = histogram(opt, bins)\n",
    "plt.bar(opt_b, opt_h, width=subopt_w, facecolor='orange', alpha=0.8)\n",
    "plt.xlabel('Number of replays per trial', fontsize=14)\n",
    "plt.xlim(0-subopt_w/2, max_bins)\n",
    "# plt.xticks(np.arange(0, 40, 5), np.arange(0, 40, 5), fontsize=10)\n",
    "t, p = scipy.stats.ranksums(opt, subopt)\n",
    "# t, p = permutation_test(opt, subopt, 100000)\n",
    "plt.title(r'$t=%.3E, p=%.3E$'%(t, p));\n",
    "plt.ylim(0, 0.9)\n",
    "\n",
    "# Single entropy\n",
    "plt.subplot(1, 2, 2)\n",
    "bins=np.linspace(0, np.log2(7)+np.log2(6), 40)\n",
    "H_subopt_h, H_subopt_b, H_subopt_w = histogram(H_subopt_single, bins)\n",
    "plt.bar(H_subopt_b, H_subopt_h, width=H_subopt_w, facecolor='b')\n",
    "H_opt_h, H_opt_b, _ = histogram(H_opt_single, bins)\n",
    "plt.bar(H_opt_b, H_opt_h, width=H_subopt_w, facecolor='orange', alpha=0.8)\n",
    "plt.xlim(0-H_subopt_w/2, np.log2(7)+np.log2(6)-H_subopt_w/2)\n",
    "\n",
    "# Paired entropy\n",
    "H_subopt_h, H_subopt_b, _ = histogram(H_subopt_paired, bins)\n",
    "plt.bar(H_subopt_b, -H_subopt_h, width=H_subopt_w, facecolor='b')\n",
    "H_opt_h, H_opt_b, _ = histogram(H_opt_paired, bins)\n",
    "plt.bar(H_opt_b, -H_opt_h, width=H_subopt_w, facecolor='orange', alpha=0.8)\n",
    "# plt.axvline(np.log2(7)+H_subopt_w/4)\n",
    "\n",
    "plt.ylim(-0.3, 0.3)\n",
    "plt.axhline(0, c='k')\n",
    "plt.xlabel('Action entropy', fontsize=14)\n",
    "ts, ps = scipy.stats.ranksums(H_opt_single, H_subopt_single)\n",
    "tp, pp = scipy.stats.ranksums(H_opt_paired, H_subopt_paired)\n",
    "# ts, ps = permutation_test(H_opt_single, H_subopt_single, 100000)\n",
    "# tp, pp = permutation_test(H_opt_paired, H_subopt_paired, 100000)\n",
    "plt.title(r'$tp=%.3E, pp=%.3E, ts=%.3E, ps=%.3E$'%(tp, pp, ts, ps));\n",
    "plt.tight_layout()\n",
    "# \n",
    "plt.savefig(os.path.join(root_folder, 'new_figures_data/%s/g/recent_replays.svg'%fig_name), format='svg', transparent=True)"
   ]
  },
  {
   "cell_type": "code",
   "execution_count": 221,
   "id": "01019224",
   "metadata": {
    "ExecuteTime": {
     "end_time": "2021-09-07T16:50:55.455236Z",
     "start_time": "2021-09-07T16:50:55.435604Z"
    }
   },
   "outputs": [],
   "source": [
    "H_opt_paired_exp    = H_opt_paired.copy()\n",
    "H_subopt_paired_exp = H_subopt_paired.copy()\n",
    "H_opt_single_exp    = H_opt_single.copy()\n",
    "H_subopt_single_exp = H_subopt_single.copy()\n",
    "\n",
    "opt_all_exp    = opt.copy()\n",
    "subopt_all_exp = subopt.copy()"
   ]
  },
  {
   "cell_type": "code",
   "execution_count": 222,
   "id": "90e897df",
   "metadata": {
    "ExecuteTime": {
     "end_time": "2021-09-07T16:50:58.211231Z",
     "start_time": "2021-09-07T16:50:55.654304Z"
    }
   },
   "outputs": [],
   "source": [
    "sub_task_folder = os.path.join(root_folder, 'Data/tmp/%u'%sub)\n",
    "opt, subopt, H_opt_single, H_subopt_single, H_opt_paired, H_subopt_paired = analyse_other_replays(sub_task_folder)"
   ]
  },
  {
   "cell_type": "code",
   "execution_count": 223,
   "id": "4a7204c4",
   "metadata": {
    "ExecuteTime": {
     "end_time": "2021-09-07T16:51:01.669648Z",
     "start_time": "2021-09-07T16:51:00.336461Z"
    }
   },
   "outputs": [
    {
     "data": {
      "image/png": "[encoded data removed]",
      "text/plain": [
       "<Figure size 1008x288 with 2 Axes>"
      ]
     },
     "metadata": {
      "needs_background": "light"
     },
     "output_type": "display_data"
    }
   ],
   "source": [
    "plt.figure(figsize=(14, 4))\n",
    "\n",
    "plt.subplot(1, 2, 1)\n",
    "max_bins = 80\n",
    "bins = np.linspace(0, max_bins, 25)\n",
    "subopt_h, subopt_b, subopt_w = histogram(subopt, bins)\n",
    "plt.bar(subopt_b, subopt_h, width=subopt_w, facecolor='b')\n",
    "opt_h, opt_b, subopt_w = histogram(opt, bins)\n",
    "plt.bar(opt_b, opt_h, width=subopt_w, facecolor='orange', alpha=0.8)\n",
    "plt.xlabel('Number of replays per trial', fontsize=14)\n",
    "plt.xlim(0-subopt_w/2, max_bins)\n",
    "# plt.xticks(np.arange(0, 40, 5), np.arange(0, 40, 5), fontsize=10)\n",
    "t, p = scipy.stats.ranksums(opt, subopt)\n",
    "# t, p = permutation_test(opt, subopt, 100000)\n",
    "plt.title(r'$t=%.3E, p=%.3E$'%(t, p));\n",
    "plt.ylim(0, 0.9)\n",
    "\n",
    "# Single entropy\n",
    "plt.subplot(1, 2, 2)\n",
    "bins=np.linspace(0, np.log2(7)+np.log2(6), 40)\n",
    "H_subopt_h, H_subopt_b, H_subopt_w = histogram(H_subopt_single, bins)\n",
    "plt.bar(H_subopt_b, H_subopt_h, width=H_subopt_w, facecolor='b')\n",
    "H_opt_h, H_opt_b, _ = histogram(H_opt_single, bins)\n",
    "plt.bar(H_opt_b, H_opt_h, width=H_subopt_w, facecolor='orange', alpha=0.8)\n",
    "plt.xlim(0-H_subopt_w/2, np.log2(7)+np.log2(6)+H_subopt_w/2)\n",
    "\n",
    "# Paired entropy\n",
    "H_subopt_h, H_subopt_b, _ = histogram(H_subopt_paired, bins)\n",
    "plt.bar(H_subopt_b, -H_subopt_h, width=H_subopt_w, facecolor='b')\n",
    "H_opt_h, H_opt_b, _ = histogram(H_opt_paired, bins)\n",
    "plt.bar(H_opt_b, -H_opt_h, width=H_subopt_w, facecolor='orange', alpha=0.8)\n",
    "\n",
    "plt.ylim(-0.3, 0.3)\n",
    "plt.axhline(0, c='k')\n",
    "plt.xlabel('Action entropy', fontsize=14)\n",
    "ts, ps = scipy.stats.ranksums(H_opt_single, H_subopt_single)\n",
    "tp, pp = scipy.stats.ranksums(H_opt_paired, H_subopt_paired)\n",
    "plt.title(r'$tp=%.3E, pp=%.3E, ts=%.3E, ps=%.3E$'%(tp, pp, ts, ps));\n",
    "plt.tight_layout()\n",
    "\n",
    "plt.xlim([0, np.log2(7)+np.log2(6)])\n",
    "\n",
    "plt.savefig(os.path.join(root_folder, 'new_figures_data/%s/h/other_replays.svg'%fig_name), format='svg', transparent=True)"
   ]
  },
  {
   "cell_type": "code",
   "execution_count": 224,
   "id": "2303a844",
   "metadata": {
    "ExecuteTime": {
     "end_time": "2021-09-07T16:51:07.078375Z",
     "start_time": "2021-09-07T16:51:07.055144Z"
    }
   },
   "outputs": [],
   "source": [
    "with open(os.path.join(root_folder, 'new_figures_data/%s'%fig_name, 'replay_stats.txt'), 'w') as f:\n",
    "    t, p_ent_opt = scipy.stats.ranksums(H_opt_paired_exp, H_opt_paired)\n",
    "    f.write('H_opt_paired_exp vs H_opt_paired:       t = %.3E, p = %.3E\\n'%(t, p_ent_opt))\n",
    "    t, p_ent_opt = scipy.stats.ranksums(H_opt_single_exp, H_opt_single)\n",
    "    f.write('H_opt_single_exp vs H_opt_single:       t = %.3E, p = %.3E\\n'%(t, p_ent_opt))\n",
    "    t, p_ent_subopt = scipy.stats.ranksums(H_subopt_paired_exp, H_subopt_paired)\n",
    "    f.write('H_subopt_paired_exp vs H_subopt_paired: t = %.3E, p = %.3E\\n'%(t, p_ent_subopt))\n",
    "    t, p_ent_subopt = scipy.stats.ranksums(H_subopt_single_exp, H_subopt_single)\n",
    "    f.write('H_subopt_single_exp vs H_subopt_single: t = %.3E, p = %.3E\\n'%(t, p_ent_subopt))\n",
    "\n",
    "    t, p_subopt = scipy.stats.ranksums(subopt_all_exp, subopt)\n",
    "    f.write('subopt_all_exp vs subopt_all: t = %.3E, p = %.3E\\n'%(t, p_subopt))\n",
    "\n",
    "    t, p_opt = scipy.stats.ranksums(opt_all_exp, opt)\n",
    "    f.write('opt_all_exp vs opt_all:       t = %.3E, p = %.3E\\n'%(t, p_opt))"
   ]
  },
  {
   "cell_type": "code",
   "execution_count": null,
   "id": "83ea6140",
   "metadata": {},
   "outputs": [],
   "source": []
  }
 ],
 "metadata": {
  "kernelspec": {
   "display_name": "Python 3",
   "language": "python",
   "name": "python3"
  },
  "language_info": {
   "codemirror_mode": {
    "name": "ipython",
    "version": 3
   },
   "file_extension": ".py",
   "mimetype": "text/x-python",
   "name": "python",
   "nbconvert_exporter": "python",
   "pygments_lexer": "ipython3",
   "version": "3.7.6"
  },
  "varInspector": {
   "cols": {
    "lenName": 16,
    "lenType": 16,
    "lenVar": 40
   },
   "kernels_config": {
    "python": {
     "delete_cmd_postfix": "",
     "delete_cmd_prefix": "del ",
     "library": "var_list.py",
     "varRefreshCmd": "print(var_dic_list())"
    },
    "r": {
     "delete_cmd_postfix": ") ",
     "delete_cmd_prefix": "rm(",
     "library": "var_list.r",
     "varRefreshCmd": "cat(var_dic_list()) "
    }
   },
   "types_to_exclude": [
    "module",
    "function",
    "builtin_function_or_method",
    "instance",
    "_Feature"
   ],
   "window_display": false
  }
 },
 "nbformat": 4,
 "nbformat_minor": 5
}
