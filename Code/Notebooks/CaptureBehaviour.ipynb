{
 "cells": [
  {
   "cell_type": "code",
   "execution_count": 2,
   "id": "current-drill",
   "metadata": {
    "ExecuteTime": {
     "end_time": "2021-07-02T15:38:10.297926Z",
     "start_time": "2021-07-02T15:38:09.412860Z"
    }
   },
   "outputs": [],
   "source": [
    "import numpy as np\n",
    "import sys, os, glob\n",
    "from scipy.io import loadmat\n",
    "import matplotlib.pyplot as plt\n",
    "\n",
    "code_path = '/Users/GA/Documents/Dayan_lab/Optimism_And_Pessimism_In_Optimised_Replay/Code/Task'\n",
    "\n",
    "sys.path.append(code_path)\n",
    "from misc_analysis import get_Q_true, get_optimal_move, permutation_test, policy_improve, get_entropy, get_sorted_files\n",
    "from misc import policy_choose, get_a_opp, compute_gain"
   ]
  },
  {
   "cell_type": "code",
   "execution_count": 3,
   "id": "classical-dollar",
   "metadata": {
    "ExecuteTime": {
     "end_time": "2021-07-02T15:38:10.347922Z",
     "start_time": "2021-07-02T15:38:10.331331Z"
    }
   },
   "outputs": [],
   "source": [
    "root_folder = '/Users/GA/Documents/Dayan_lab/Optimism_And_Pessimism_In_Optimised_Replay'\n",
    "\n",
    "# Worlds & idcs\n",
    "world1 = np.load(os.path.join(root_folder, 'Data/world1.npy'))\n",
    "world2 = np.load(os.path.join(root_folder, 'Data/world2.npy'))\n",
    "idcs1  = np.load(os.path.join(root_folder, 'Data/idcs1.npy'))\n",
    "idcs2  = np.load(os.path.join(root_folder, 'Data/idcs2.npy'))"
   ]
  },
  {
   "cell_type": "code",
   "execution_count": 4,
   "id": "forward-dating",
   "metadata": {
    "ExecuteTime": {
     "end_time": "2021-07-02T15:38:20.660560Z",
     "start_time": "2021-07-02T15:38:20.645059Z"
    }
   },
   "outputs": [],
   "source": [
    "def convert_move(a):\n",
    "    if np.isnan(a):\n",
    "        pass\n",
    "    elif a == 1:\n",
    "        a = 2\n",
    "    elif a == 2:\n",
    "        a = 3\n",
    "    elif a == 3:\n",
    "        a = 0\n",
    "    else:\n",
    "        a = 1\n",
    "    return a\n",
    "\n",
    "def check_for_replays(z):\n",
    "\n",
    "    move = z['move']\n",
    "    s = move[0]\n",
    "    a = move[1]\n",
    "    \n",
    "    check = False\n",
    "    \n",
    "    replay_backups  = np.atleast_2d(z['replay_backups'])\n",
    "    for rid in range(replay_backups.shape[0]):\n",
    "        this_replay = replay_backups[rid, :]\n",
    "        sr = int(this_replay[0])\n",
    "        ar = int(this_replay[1])\n",
    "\n",
    "        if sr != -200 and ar != -200:\n",
    "            if (sr == s) and (ar == a):\n",
    "                check = True\n",
    "    return check\n",
    "\n",
    "def check_for_replays_2moves(z):\n",
    "    \n",
    "    move = z['move']\n",
    "    s = move[1, 0]\n",
    "    a = move[1, 1]\n",
    "    \n",
    "    check = False\n",
    "    \n",
    "    replay_backups  = np.atleast_2d(z['replay_backups'])\n",
    "    for rid in range(replay_backups.shape[0]):\n",
    "        this_replay = replay_backups[rid, :]\n",
    "        sr = int(this_replay[0])\n",
    "        ar = int(this_replay[1])\n",
    "\n",
    "        pl = int(this_replay[4])\n",
    "        if sr != -200 and ar != -200 and pl == 1:\n",
    "            if (sr == s) and (ar == a):\n",
    "                check = True\n",
    "    return check"
   ]
  },
  {
   "cell_type": "markdown",
   "id": "fossil-split",
   "metadata": {},
   "source": [
    "### Check subjects' params before choosing"
   ]
  },
  {
   "cell_type": "code",
   "execution_count": 5,
   "id": "talented-refund",
   "metadata": {
    "ExecuteTime": {
     "end_time": "2021-07-02T15:38:31.998501Z",
     "start_time": "2021-07-02T15:38:31.963509Z"
    }
   },
   "outputs": [],
   "source": [
    "params_path     = os.path.join(root_folder, 'Data/fits')\n",
    "subs_who_replay = np.load(os.path.join(root_folder, 'Data/task/Analysis', 'subs_who_replay.npy'))"
   ]
  },
  {
   "cell_type": "code",
   "execution_count": 6,
   "id": "sudden-terry",
   "metadata": {
    "ExecuteTime": {
     "end_time": "2021-07-02T15:38:33.186194Z",
     "start_time": "2021-07-02T15:38:33.123423Z"
    }
   },
   "outputs": [
    {
     "name": "stdout",
     "output_type": "stream",
     "text": [
      "subject: 0, phi^{MB}: 0.98, phi^{MF}: 0.97, xi: 2.4568E-04\n",
      "subject: 2, phi^{MB}: 1.00, phi^{MF}: 0.80, xi: 4.2340E-05\n",
      "subject: 3, phi^{MB}: 1.00, phi^{MF}: 0.62, xi: 8.9577E-03\n",
      "subject: 5, phi^{MB}: 0.20, phi^{MF}: 0.91, xi: 8.7073E-04\n",
      "subject: 6, phi^{MB}: 0.30, phi^{MF}: 0.95, xi: 1.0241E-03\n",
      "subject: 8, phi^{MB}: 1.00, phi^{MF}: 1.00, xi: 5.4587E-03\n",
      "subject: 14, phi^{MB}: 0.96, phi^{MF}: 0.93, xi: 1.0854E-03\n",
      "subject: 16, phi^{MB}: 0.99, phi^{MF}: 0.77, xi: 7.6422E-04\n",
      "subject: 17, phi^{MB}: 0.94, phi^{MF}: 0.93, xi: 9.4520E-04\n",
      "subject: 19, phi^{MB}: 1.00, phi^{MF}: 0.76, xi: 2.4715E-04\n",
      "subject: 21, phi^{MB}: 1.00, phi^{MF}: 0.79, xi: 2.6280E-05\n",
      "subject: 24, phi^{MB}: 0.57, phi^{MF}: 0.85, xi: 1.6915E-02\n",
      "subject: 26, phi^{MB}: 0.47, phi^{MF}: 0.87, xi: 1.9528E-03\n",
      "subject: 27, phi^{MB}: 0.69, phi^{MF}: 0.93, xi: 1.4400E-04\n",
      "subject: 28, phi^{MB}: 0.23, phi^{MF}: 0.89, xi: 2.7130E-03\n",
      "subject: 29, phi^{MB}: 0.92, phi^{MF}: 0.34, xi: 6.7067E-03\n",
      "subject: 32, phi^{MB}: 1.00, phi^{MF}: 0.65, xi: 9.2718E-04\n",
      "subject: 34, phi^{MB}: 0.33, phi^{MF}: 0.93, xi: 7.4460E-05\n",
      "subject: 35, phi^{MB}: 0.94, phi^{MF}: 0.97, xi: 2.5673E-04\n",
      "subject: 37, phi^{MB}: 0.98, phi^{MF}: 0.89, xi: 6.6762E-04\n",
      "subject: 38, phi^{MB}: 0.14, phi^{MF}: 0.97, xi: 1.8850E-03\n"
     ]
    }
   ],
   "source": [
    "for i in subs_who_replay:\n",
    "    p = np.load(os.path.join(params_path, 'save_params_%u'%i, 'params.npy'))[:18]\n",
    "    print('subject: %u, phi^{MB}: %.2f, phi^{MF}: %.2f, xi: %.4E'%(i, p[8], p[9], p[15]))"
   ]
  },
  {
   "cell_type": "markdown",
   "id": "polished-richardson",
   "metadata": {},
   "source": [
    "### Get the moves to look at"
   ]
  },
  {
   "cell_type": "code",
   "execution_count": 45,
   "id": "motivated-momentum",
   "metadata": {
    "ExecuteTime": {
     "end_time": "2021-07-02T16:03:46.604162Z",
     "start_time": "2021-07-02T16:03:46.114218Z"
    }
   },
   "outputs": [
    {
     "name": "stdout",
     "output_type": "stream",
     "text": [
      "Block: 1, folder: 3, trial: 5 [7 0 5 3]\n",
      "Block: 4, folder: 5, trial: 0 [5 1 5 4]\n"
     ]
    }
   ],
   "source": [
    "task_folder = os.path.join(root_folder, 'Data/task/')\n",
    "\n",
    "sub      = 38\n",
    "fig_name = 'supp5'\n",
    "\n",
    "sub_task_folder = os.path.join(task_folder, str(sub))\n",
    "\n",
    "for i in range(5):\n",
    "    if i == 0:\n",
    "        this_range = 6\n",
    "    else:\n",
    "        this_range = 7\n",
    "    \n",
    "    if i in [0, 1]:\n",
    "        Q1_true, Q2_true = get_Q_true(world1, idcs1)\n",
    "    elif i in [2, 3]:\n",
    "        Q1_true, Q2_true = get_Q_true(world2, idcs1)\n",
    "    else:\n",
    "        Q1_true, Q2_true = get_Q_true(world2, idcs2)\n",
    "                \n",
    "    c = 0\n",
    "    for j in range(this_range):\n",
    "        # Prepare to load files\n",
    "        epoch_folder = os.path.join(sub_task_folder, str(i), str(j))\n",
    "        all_files_sorted = get_sorted_files(epoch_folder)\n",
    "\n",
    "        for f in range(len(all_files_sorted)):\n",
    "            \n",
    "            this_file = all_files_sorted[f]\n",
    "            data      = np.load(this_file, allow_pickle=True)\n",
    "            move      = data['move']\n",
    "            if len(move) == 2:\n",
    "                s  = move[0, 0]\n",
    "                a  = move[0, 1]\n",
    "                s1 = move[1, 0]\n",
    "                a1 = move[1, 1]\n",
    "\n",
    "                if a not in get_optimal_move(s, Q1_true) and a1 not in get_optimal_move(s, Q1_true, a=a):\n",
    "                    if check_for_replays_2moves(data):\n",
    "                        print('Block: %u, folder: %u, trial: %u'%(i,j,f), move)\n",
    "            else:\n",
    "                s = move[0]\n",
    "                a = move[1]\n",
    "                if a not in get_optimal_move(s, Q2_true):\n",
    "                    if check_for_replays(data):\n",
    "                        print('Block: %u, folder: %u, trial: %u'%(i,j,f), move)\n",
    "            c += 1"
   ]
  },
  {
   "cell_type": "markdown",
   "id": "rolled-entrepreneur",
   "metadata": {},
   "source": [
    "### Choose the move"
   ]
  },
  {
   "cell_type": "code",
   "execution_count": 46,
   "id": "liberal-pierre",
   "metadata": {
    "ExecuteTime": {
     "end_time": "2021-07-02T16:03:54.923664Z",
     "start_time": "2021-07-02T16:03:54.904465Z"
    }
   },
   "outputs": [],
   "source": [
    "# Objective benefit\n",
    "# Same move as human\n",
    "# Sub 19\n",
    "# block    = 2\n",
    "# epoch    = 5\n",
    "# file     = 3\n",
    "\n",
    "# Sub 3\n",
    "# block    = 4\n",
    "# epoch    = 5\n",
    "# file     = 5\n",
    "\n",
    "# Sub 16\n",
    "# block    = 2\n",
    "# epoch    = 4\n",
    "# file     = 0\n",
    "\n",
    "# Subjective benefit\n",
    "# Same move as human\n",
    "# Sub 38\n",
    "block = 2\n",
    "epoch = 5\n",
    "file  = 1\n",
    "\n",
    "world = world2\n",
    "idcs  = idcs1\n",
    "\n",
    "data  = os.path.join(task_folder, '%u/%u/%u/move%u.npz'%(sub, block, epoch, file))\n",
    "\n",
    "if file == 0:\n",
    "    specs = (sub, block, epoch-1, 5)\n",
    "else:\n",
    "    specs = (sub, block, epoch, file-1)\n",
    "    \n",
    "data_pre = os.path.join(task_folder, '%u/%u/%u/move%u.npz'%specs)\n",
    "params   = os.path.join(root_folder, 'Data/fits/save_params_%u/params.npy'%sub)\n",
    "p        = np.load(params)\n",
    "z        = np.load(data, allow_pickle=True)\n",
    "\n",
    "if len(z['move']) == 2:\n",
    "    num_moves = 2\n",
    "else:\n",
    "    num_moves = 1"
   ]
  },
  {
   "cell_type": "code",
   "execution_count": 47,
   "id": "promising-speed",
   "metadata": {
    "ExecuteTime": {
     "end_time": "2021-07-02T16:03:55.578333Z",
     "start_time": "2021-07-02T16:03:55.571360Z"
    }
   },
   "outputs": [
    {
     "name": "stdout",
     "output_type": "stream",
     "text": [
      "[5 0 1 1]\n"
     ]
    }
   ],
   "source": [
    "print(z['move'])"
   ]
  },
  {
   "cell_type": "code",
   "execution_count": 48,
   "id": "pleased-prince",
   "metadata": {
    "ExecuteTime": {
     "end_time": "2021-07-02T16:04:32.400247Z",
     "start_time": "2021-07-02T16:04:32.383263Z"
    },
    "scrolled": true
   },
   "outputs": [
    {
     "name": "stdout",
     "output_type": "stream",
     "text": [
      "1 : [5, 3, 4.004331994799934, 6.0]\n"
     ]
    }
   ],
   "source": [
    "replays = np.zeros(32)\n",
    "replay_backups  = z['replay_backups']\n",
    "for rid in range(replay_backups.shape[0]):\n",
    "    this_replay = replay_backups[rid, :]\n",
    "    sr = int(this_replay[0])\n",
    "    ar = int(this_replay[1])\n",
    "    rr = this_replay[2]\n",
    "    s1r = this_replay[3]\n",
    "    \n",
    "    if num_moves == 2:\n",
    "        pl = int(this_replay[4])\n",
    "        if sr != -200 and ar != -200 and pl == 1:\n",
    "            print(rid, ':', [sr, ar, rr, s1r])\n",
    "            replays[sr*4 +ar] += 1\n",
    "    else:\n",
    "        if sr != -200 and ar != -200:\n",
    "            print(rid, ':', [sr, ar, rr, s1r])\n",
    "            replays[sr*4 +ar] += 1"
   ]
  },
  {
   "cell_type": "markdown",
   "id": "ultimate-certification",
   "metadata": {},
   "source": [
    "### Replays after that move"
   ]
  },
  {
   "cell_type": "code",
   "execution_count": 49,
   "id": "covered-controversy",
   "metadata": {
    "ExecuteTime": {
     "end_time": "2021-07-02T16:04:48.478343Z",
     "start_time": "2021-07-02T16:04:45.131061Z"
    }
   },
   "outputs": [
    {
     "data": {
      "image/png": "[encoded data removed]",
      "text/plain": [
       "<Figure size 216x288 with 1 Axes>"
      ]
     },
     "metadata": {
      "needs_background": "light"
     },
     "output_type": "display_data"
    },
    {
     "data": {
      "image/png": "[encoded data removed]",
      "text/plain": [
       "<Figure size 216x288 with 1 Axes>"
      ]
     },
     "metadata": {
      "needs_background": "light"
     },
     "output_type": "display_data"
    },
    {
     "data": {
      "image/png": "[encoded data removed]",
      "text/plain": [
       "<Figure size 216x288 with 1 Axes>"
      ]
     },
     "metadata": {
      "needs_background": "light"
     },
     "output_type": "display_data"
    },
    {
     "data": {
      "image/png": "[encoded data removed]",
      "text/plain": [
       "<Figure size 216x288 with 1 Axes>"
      ]
     },
     "metadata": {
      "needs_background": "light"
     },
     "output_type": "display_data"
    },
    {
     "data": {
      "image/png": "[encoded data removed]",
      "text/plain": [
       "<Figure size 216x288 with 1 Axes>"
      ]
     },
     "metadata": {
      "needs_background": "light"
     },
     "output_type": "display_data"
    },
    {
     "data": {
      "image/png": "[encoded data removed]",
      "text/plain": [
       "<Figure size 216x288 with 1 Axes>"
      ]
     },
     "metadata": {
      "needs_background": "light"
     },
     "output_type": "display_data"
    },
    {
     "data": {
      "image/png": "[encoded data removed]",
      "text/plain": [
       "<Figure size 216x288 with 1 Axes>"
      ]
     },
     "metadata": {
      "needs_background": "light"
     },
     "output_type": "display_data"
    },
    {
     "data": {
      "image/png": "[encoded data removed]",
      "text/plain": [
       "<Figure size 216x288 with 1 Axes>"
      ]
     },
     "metadata": {
      "needs_background": "light"
     },
     "output_type": "display_data"
    }
   ],
   "source": [
    "_, Q2_true = get_Q_true(world, idcs)\n",
    "for s in range(8):\n",
    "    fig = plt.figure(figsize=(3, 4))\n",
    "    for a in range(4):\n",
    "        if a in get_optimal_move(s, Q2_true):\n",
    "            plt.bar(s*4+a, replays[s*4+a], facecolor='orange', align='center', width=0.5)\n",
    "        else:\n",
    "            plt.bar(s*4+a, replays[s*4+a], facecolor='b', align='center', width=0.5)\n",
    "    plt.savefig(os.path.join(root_folder, 'Paper/Figures_data/%s/Replays/capture_%u_%u.svg'%(fig_name, sub, s)), transparent=True, format='svg')\n",
    "np.save(os.path.join(root_folder, 'Paper/Figures_data/%s/Replays/replays_data.npy'%fig_name), replays)"
   ]
  },
  {
   "cell_type": "markdown",
   "id": "missing-prince",
   "metadata": {},
   "source": [
    "### Objective policy change due to those replays"
   ]
  },
  {
   "cell_type": "code",
   "execution_count": 50,
   "id": "daily-russell",
   "metadata": {
    "ExecuteTime": {
     "end_time": "2021-07-02T16:04:51.629467Z",
     "start_time": "2021-07-02T16:04:51.621084Z"
    }
   },
   "outputs": [
    {
     "data": {
      "text/plain": [
       "'/Users/GA/Documents/Dayan_lab/Optimism_And_Pessimism_In_Optimised_Replay'"
      ]
     },
     "execution_count": 50,
     "metadata": {},
     "output_type": "execute_result"
    }
   ],
   "source": [
    "root_folder"
   ]
  },
  {
   "cell_type": "code",
   "execution_count": 52,
   "id": "starting-leone",
   "metadata": {
    "ExecuteTime": {
     "end_time": "2021-07-02T16:05:17.159024Z",
     "start_time": "2021-07-02T16:05:16.878152Z"
    }
   },
   "outputs": [
    {
     "name": "stdout",
     "output_type": "stream",
     "text": [
      "State 0, opt: 0.000\n",
      "State 1, opt: 0.000\n",
      "State 2, opt: 0.000\n",
      "State 3, opt: 0.000\n",
      "State 4, opt: 0.000\n",
      "State 5, opt: 0.017\n",
      "State 6, opt: 0.000\n",
      "State 7, opt: 0.000\n"
     ]
    },
    {
     "data": {
      "image/png": "[encoded data removed]",
      "text/plain": [
       "<Figure size 1008x216 with 1 Axes>"
      ]
     },
     "metadata": {
      "needs_background": "light"
     },
     "output_type": "display_data"
    }
   ],
   "source": [
    "if num_moves == 2:\n",
    "    Q = z['Q2_history']\n",
    "else:\n",
    "    Q = z['Q_history']\n",
    "Q_before = Q[0].reshape(8, -1)\n",
    "Q_after  = Q[-1].reshape(8, -1)\n",
    "\n",
    "_, Q2_true = get_Q_true(world, idcs)\n",
    "\n",
    "beta = p[0]\n",
    "a    = p[10]\n",
    "b    = p[11]\n",
    "d    = -(a+b)\n",
    "biases = np.array([a, b, 0, d])\n",
    "\n",
    "opt_save = []\n",
    "fig = plt.figure(figsize=(14, 3))\n",
    "for s in range(8):\n",
    "    opt = policy_improve(Q_before[s, :], Q_after[s, :], Q2_true, s, beta, biases, world, idcs, mode='value', benefit='subjective')\n",
    "    print('State %u, opt: %.3f'%(s, opt))\n",
    "    plt.bar(s, opt, facecolor='orange', width = 0.4)\n",
    "    opt_save += [opt]\n",
    "plt.savefig(os.path.join(root_folder, 'Paper/Figures_data/%s/Policy/'%fig_name, 'capture_%u_policy_subjective.svg'%sub), transparent=True, format='svg')\n",
    "np.save(os.path.join(root_folder, 'Paper/Figures_data/%s/Policy/policy_data_subjective.npy'%fig_name), opt_save)\n"
   ]
  },
  {
   "cell_type": "markdown",
   "id": "conventional-doctrine",
   "metadata": {},
   "source": [
    "### Action entropy values "
   ]
  },
  {
   "cell_type": "code",
   "execution_count": 53,
   "id": "plain-description",
   "metadata": {
    "ExecuteTime": {
     "end_time": "2021-07-02T16:05:59.302155Z",
     "start_time": "2021-07-02T16:05:58.679140Z"
    },
    "scrolled": true
   },
   "outputs": [
    {
     "name": "stdout",
     "output_type": "stream",
     "text": [
      "0 0 alpha: 0.0\n",
      "0 1 alpha: 0\n",
      "0 2 alpha: 0.0\n",
      "0 3 alpha: 0.0\n",
      "1 0 alpha: 0.0\n",
      "1 1 alpha: 0.0\n",
      "1 2 alpha: 0.0\n",
      "1 3 alpha: 0.0\n",
      "2 0 alpha: 0.0\n",
      "2 1 alpha: 0.0\n",
      "2 2 alpha: 0.0\n",
      "2 3 alpha: 0.0\n",
      "3 0 alpha: 0.0\n",
      "3 1 alpha: 0.0\n",
      "3 2 alpha: 0\n",
      "3 3 alpha: 0.0\n",
      "4 0 alpha: 0.0\n",
      "4 1 alpha: 0.0\n",
      "4 2 alpha: 0.0\n",
      "4 3 alpha: 0.0\n",
      "5 0 alpha: 4.0\n",
      "5 1 alpha: 0.0\n",
      "5 2 alpha: 0.0\n",
      "5 3 alpha: 0.0\n",
      "6 0 alpha: 0.0\n",
      "6 1 alpha: 0.0\n",
      "6 2 alpha: 0.0\n",
      "6 3 alpha: 0.0\n",
      "7 0 alpha: 0.0\n",
      "7 1 alpha: 0.0\n",
      "7 2 alpha: 0.0\n",
      "7 3 alpha: 0.0\n"
     ]
    },
    {
     "data": {
      "image/png": "[encoded data removed]",
      "text/plain": [
       "<Figure size 1152x288 with 1 Axes>"
      ]
     },
     "metadata": {
      "needs_background": "light"
     },
     "output_type": "display_data"
    }
   ],
   "source": [
    "fig = plt.figure(figsize=(16, 4))\n",
    "max_ent = np.log2(7)\n",
    "\n",
    "T = z['T']\n",
    "for s in range(8):\n",
    "    for a in range(4):\n",
    "        ent = get_entropy(T, s, a)\n",
    "        alp = 1-(ent/max_ent)\n",
    "        if alp < 0:\n",
    "            alp = 0\n",
    "        plt.bar(s*4+a, ent, facecolor='k', width=0.5, alpha = alp)\n",
    "        print(s, a, 'alpha:', np.round(alp*100))\n",
    "plt.savefig(os.path.join(root_folder, 'Paper/Figures_data/%s/Entropy'%fig_name, 'capture_%u_entropy.svg'%sub), transparent=True, format='svg')\n",
    "np.save(os.path.join(root_folder, 'Paper/Figures_data/%s/Entropy/entropy_data.npy'%fig_name), opt_save)\n",
    "plt.xticks(range(32), range(32));"
   ]
  },
  {
   "cell_type": "markdown",
   "id": "greater-major",
   "metadata": {},
   "source": [
    "### Agent's state of knowledge"
   ]
  },
  {
   "cell_type": "code",
   "execution_count": 54,
   "id": "valued-berlin",
   "metadata": {
    "ExecuteTime": {
     "end_time": "2021-07-02T16:06:05.297335Z",
     "start_time": "2021-07-02T16:06:05.276066Z"
    }
   },
   "outputs": [],
   "source": [
    "_, Q2_true = get_Q_true(world, idcs)\n",
    "\n",
    "move  = z['move']\n",
    "alpha = p[3]\n",
    "T     = z['T']\n",
    "tau   = p[9]\n",
    "\n",
    "if num_moves == 2:\n",
    "    Q        = z['Q2_history'][0].reshape(8, 4)\n",
    "    rew_hist = z['rew_history'][1]\n",
    "    s = int(move[1][0])\n",
    "    a = int(move[1][1])\n",
    "    r = move[1][2]\n",
    "    \n",
    "    av_rew   = np.mean(rew_hist)\n",
    "\n",
    "    Q_pre    = (Q  - av_rew*(1-tau))/tau\n",
    "\n",
    "    Q_before = (Q_pre[s, a] - alpha*r)/(1-alpha)\n",
    "\n",
    "else:\n",
    "    Q        = z['Q_history'][0].reshape(8, 4)\n",
    "    rew_hist = z['rew_history']\n",
    "    s = int(move[0])\n",
    "    a = int(move[1])\n",
    "    r = move[2]\n",
    "    \n",
    "    Q_pre    = Q.copy()\n",
    "    Q_before = (Q_pre[s, a] - alpha*r)/(1-alpha)"
   ]
  },
  {
   "cell_type": "code",
   "execution_count": 55,
   "id": "important-midwest",
   "metadata": {
    "ExecuteTime": {
     "end_time": "2021-07-02T16:06:10.875492Z",
     "start_time": "2021-07-02T16:06:08.780922Z"
    },
    "scrolled": true
   },
   "outputs": [
    {
     "name": "stdout",
     "output_type": "stream",
     "text": [
      "State 5, action 0\n",
      "Before on-line: 2.681007203304325\n",
      "After on-line: 1.16446515562163\n"
     ]
    },
    {
     "data": {
      "image/png": "[encoded data removed]",
      "text/plain": [
       "<Figure size 216x288 with 1 Axes>"
      ]
     },
     "metadata": {
      "needs_background": "light"
     },
     "output_type": "display_data"
    },
    {
     "data": {
      "image/png": "[encoded data removed]",
      "text/plain": [
       "<Figure size 216x288 with 1 Axes>"
      ]
     },
     "metadata": {
      "needs_background": "light"
     },
     "output_type": "display_data"
    },
    {
     "data": {
      "image/png": "[encoded data removed]",
      "text/plain": [
       "<Figure size 216x288 with 1 Axes>"
      ]
     },
     "metadata": {
      "needs_background": "light"
     },
     "output_type": "display_data"
    },
    {
     "data": {
      "image/png": "[encoded data removed]",
      "text/plain": [
       "<Figure size 216x288 with 1 Axes>"
      ]
     },
     "metadata": {
      "needs_background": "light"
     },
     "output_type": "display_data"
    },
    {
     "data": {
      "image/png": "[encoded data removed]",
      "text/plain": [
       "<Figure size 216x288 with 1 Axes>"
      ]
     },
     "metadata": {
      "needs_background": "light"
     },
     "output_type": "display_data"
    },
    {
     "data": {
      "image/png": "[encoded data removed]",
      "text/plain": [
       "<Figure size 216x288 with 1 Axes>"
      ]
     },
     "metadata": {
      "needs_background": "light"
     },
     "output_type": "display_data"
    },
    {
     "data": {
      "image/png": "[encoded data removed]",
      "text/plain": [
       "<Figure size 216x288 with 1 Axes>"
      ]
     },
     "metadata": {
      "needs_background": "light"
     },
     "output_type": "display_data"
    },
    {
     "data": {
      "image/png": "[encoded data removed]",
      "text/plain": [
       "<Figure size 216x288 with 1 Axes>"
      ]
     },
     "metadata": {
      "needs_background": "light"
     },
     "output_type": "display_data"
    }
   ],
   "source": [
    "for si in range(8):\n",
    "    fig = plt.figure(figsize=(3, 4))\n",
    "    a_opt = get_optimal_move(si, Q2_true)\n",
    "    q_mb = []\n",
    "    for ai in range(4):\n",
    "        this_action_probas = T[si, ai, :]\n",
    "        r = np.sum(world.ravel()*this_action_probas)\n",
    "        q_mb += [r]\n",
    "        if ai in a_opt:\n",
    "            plt.bar(si*4+ai, Q_pre[si, ai], facecolor='orange', edgecolor='orange', align='center',width=0.3)\n",
    "            plt.bar(si*4+ai+0.35, r, facecolor='pink', width=0.3)\n",
    "        else:\n",
    "            if si == s and ai == a:\n",
    "#             if s == int(move[0]) and a == int(move[1]):\n",
    "                plt.bar(si*4+ai, Q_before, facecolor='green', edgecolor='green', align='center',width=0.3)\n",
    "                print('State %u, action %u'%(s, a))\n",
    "                print('Before on-line:', Q_before)\n",
    "                print('After on-line:', Q_pre[si, ai])\n",
    "            plt.bar(si*4+ai, Q_pre[si, ai], facecolor='b', edgecolor='b', align='center',width=0.3)\n",
    "            plt.bar(si*4+ai+0.35, r, facecolor='pink', width=0.3)\n",
    "        plt.hlines(Q2_true[si, ai], si*4+ai-0.13, si*4+ai+0.5)\n",
    "    plt.ylim(0, 11)\n",
    "    plt.savefig(os.path.join(root_folder, 'Paper/Figures_data/%s/Q'%fig_name, 'Q_before_%u.svg'%si), transparent=True, format='svg')\n",
    "    if si != s:\n",
    "        np.savez(os.path.join(root_folder, 'Paper/Figures_data/%s/Q'%fig_name, 'Q_%u.npz'%si), q_mf=Q_pre[si, :], q_mb=q_mb)\n",
    "    else:\n",
    "        np.savez(os.path.join(root_folder, 'Paper/Figures_data/%s/Q'%fig_name, 'Q_%u.npz'%si), q_mf=Q_pre[si, :], q_mf_before=Q_before, q_mb=q_mb)\n"
   ]
  },
  {
   "cell_type": "code",
   "execution_count": null,
   "id": "economic-dragon",
   "metadata": {},
   "outputs": [],
   "source": []
  }
 ],
 "metadata": {
  "kernelspec": {
   "display_name": "Python 3",
   "language": "python",
   "name": "python3"
  },
  "language_info": {
   "codemirror_mode": {
    "name": "ipython",
    "version": 3
   },
   "file_extension": ".py",
   "mimetype": "text/x-python",
   "name": "python",
   "nbconvert_exporter": "python",
   "pygments_lexer": "ipython3",
   "version": "3.7.6"
  },
  "varInspector": {
   "cols": {
    "lenName": 16,
    "lenType": 16,
    "lenVar": 40
   },
   "kernels_config": {
    "python": {
     "delete_cmd_postfix": "",
     "delete_cmd_prefix": "del ",
     "library": "var_list.py",
     "varRefreshCmd": "print(var_dic_list())"
    },
    "r": {
     "delete_cmd_postfix": ") ",
     "delete_cmd_prefix": "rm(",
     "library": "var_list.r",
     "varRefreshCmd": "cat(var_dic_list()) "
    }
   },
   "types_to_exclude": [
    "module",
    "function",
    "builtin_function_or_method",
    "instance",
    "_Feature"
   ],
   "window_display": false
  }
 },
 "nbformat": 4,
 "nbformat_minor": 5
}
